{
 "cells": [
  {
   "cell_type": "code",
   "execution_count": 1,
   "id": "fb2f0b67-c455-4cc1-a17e-55eef3ffbc85",
   "metadata": {
    "tags": []
   },
   "outputs": [],
   "source": [
    "import numpy as np\n",
    "import pandas as pd\n",
    "from ipywidgets import widgets\n",
    "from sklearn import preprocessing\n",
    "import sklearn\n",
    "from datetime import time\n",
    "from sklearn.model_selection import train_test_split\n",
    "from pathlib import Path\n",
    "import pickle\n",
    "from scipy.ndimage.filters import gaussian_filter\n",
    "import plotly.graph_objects as go\n",
    "from collections import Counter\n",
    "import random"
   ]
  },
  {
   "cell_type": "code",
   "execution_count": 2,
   "id": "37b6f479-0fbf-4ed4-bd24-1067d842a99d",
   "metadata": {},
   "outputs": [],
   "source": [
    "nDrives = 150\n",
    "random.seed(1)"
   ]
  },
  {
   "cell_type": "code",
   "execution_count": 3,
   "id": "984d86a6-b456-48b5-aa88-2a8d2dad685e",
   "metadata": {},
   "outputs": [],
   "source": [
    "drivePaths = random.sample([str(path) for path in Path(\".\").rglob(\"outputs/withNewFeatures/dataByLocation*.csv\")], nDrives)\n",
    "drivesUsed = []"
   ]
  },
  {
   "cell_type": "code",
   "execution_count": 4,
   "id": "021bf100-c762-476f-81a1-80ab331a2f5d",
   "metadata": {},
   "outputs": [
    {
     "name": "stdout",
     "output_type": "stream",
     "text": [
      "Found 128 drives that meet specifications\n"
     ]
    }
   ],
   "source": [
    "subsamplingPeriod = 1\n",
    "\n",
    "drivesWithLocation = []\n",
    "drivesWithoutLocation = []\n",
    "driveIDs = []\n",
    "for drivePath in drivePaths:\n",
    "    drive = pd.read_csv(drivePath)\n",
    "    if len(drive) > 1200 and \"dataByLocation_2021-06-03-19-38-35_2T3Y1RFV8KC014025.csv\" not in drivePath:\n",
    "        driveIDs.append(\"_\".join(drivePath.split(\"/\")[-1].split(\"_\")[1:-1]))\n",
    "        drivesUsed.append(drivePath)\n",
    "        drive = drive.iloc[::subsamplingPeriod]\n",
    "        driveWithoutLocation = drive.drop(columns=[\"Time\",\"Longitude\", \"Latitude\"])\n",
    "#         driveWithoutLocation = driveWithoutLocation.drop(columns=[\"ZAcceleration\", \"LongAcceleration\", \"LatAcceleration\"])\n",
    "        drivesWithLocation.append(drive)\n",
    "        drivesWithoutLocation.append(driveWithoutLocation)\n",
    "print(\"Found\", len(drivesWithoutLocation), \"drives that meet specifications\")"
   ]
  },
  {
   "cell_type": "markdown",
   "id": "8f7f3aaa-b965-408e-a79b-6f59749a43e7",
   "metadata": {},
   "source": [
    "## Normalize Data"
   ]
  },
  {
   "cell_type": "code",
   "execution_count": 5,
   "id": "b69042a5-2b17-442e-b4ff-5850b92bab12",
   "metadata": {},
   "outputs": [],
   "source": [
    "normalizedDrives = []\n",
    "combinedDrivesForScalerFitting = pd.concat(drivesWithoutLocation).reset_index().drop(columns=[\"index\"])\n",
    "standard_scaler = preprocessing.StandardScaler()\n",
    "standard_scaler.fit(combinedDrivesForScalerFitting)\n",
    "\n",
    "for drive in drivesWithoutLocation:\n",
    "    drive = drive.values[:]\n",
    "    data_normalized = standard_scaler.transform(drive)\n",
    "    data_normalized = pd.DataFrame(data_normalized)\n",
    "    data_normalized[0] = drive[:,0]\n",
    "    normalizedDrives.append(data_normalized)\n",
    "    \n",
    "scalerFile = open('otherLargeFiles/scalerUsedForTrainingInputs.pkl', 'ab')\n",
    "pickle.dump(standard_scaler, scalerFile)                     \n",
    "scalerFile.close()"
   ]
  },
  {
   "cell_type": "markdown",
   "id": "6e2306a9-da8f-4e0f-a91c-cdfe6cadaf63",
   "metadata": {},
   "source": [
    "## Generate Labels"
   ]
  },
  {
   "cell_type": "code",
   "execution_count": null,
   "id": "836be91d-3ccb-415d-a408-6916ce3239f1",
   "metadata": {
    "scrolled": true,
    "tags": []
   },
   "outputs": [],
   "source": [
    "# Faster\n",
    "sequenceLength = 10\n",
    "datasetLength = sum([len(drive) for drive in normalizedDrives]) - ((sequenceLength + 1)*len(normalizedDrives))\n",
    "dataset = {\"samples\":np.full((datasetLength, sequenceLength, len(normalizedDrives[0].columns)), -1.),\"labels\":np.full((datasetLength, 2), -1.)}\n",
    "datasetIndex = 0\n",
    "\n",
    "for k,drive in enumerate(normalizedDrives):\n",
    "    print(\"on drive\",k)\n",
    "    for i,sample in drive.iterrows():\n",
    "        if i < len(drive) - sequenceLength - 1:\n",
    "            thisDriveWithLocation = drivesWithLocation[k]\n",
    "            thisSampleWithLocation = thisDriveWithLocation.iloc[i]\n",
    "            thisLong = thisSampleWithLocation.Longitude\n",
    "            thisLat = thisSampleWithLocation.Latitude\n",
    "            nextSample = thisDriveWithLocation.iloc[i+sequenceLength]\n",
    "            nextLong = nextSample.Longitude\n",
    "            nextLat = nextSample.Latitude\n",
    "            deltaLong = nextLong - thisLong\n",
    "            deltaLat = nextLat - thisLat\n",
    "            deltas = [deltaLong, deltaLat]\n",
    "            dataset[\"samples\"][datasetIndex] = [drive.iloc[i+n].to_numpy() for n in range(sequenceLength)]\n",
    "            dataset[\"labels\"][datasetIndex] = deltas\n",
    "            datasetIndex+=1"
   ]
  },
  {
   "cell_type": "markdown",
   "id": "89c306ef-a968-4bc5-9399-3960552ad461",
   "metadata": {},
   "source": [
    "### Normalize labels"
   ]
  },
  {
   "cell_type": "code",
   "execution_count": 20,
   "id": "e868fe8a-cbeb-4d35-a442-fc52407caa88",
   "metadata": {},
   "outputs": [],
   "source": [
    "originalLabels = dataset[\"labels\"]\n",
    "\n",
    "scaler = preprocessing.StandardScaler()\n",
    "labels_normalized = scaler.fit_transform(originalLabels)\n",
    "dataset[\"labels\"] = labels_normalized\n",
    "\n",
    "scalerFile = open('otherLargeFiles/scalerUsedForTrainingLabels.pkl', 'ab')\n",
    "pickle.dump(scaler, scalerFile)                     \n",
    "scalerFile.close()"
   ]
  },
  {
   "cell_type": "markdown",
   "id": "957bf055-b8b8-4c92-806f-7933dcf4707e",
   "metadata": {
    "tags": []
   },
   "source": [
    "### Pickle"
   ]
  },
  {
   "cell_type": "code",
   "execution_count": 21,
   "id": "ca2ec317-746d-4a01-94eb-868b656c748d",
   "metadata": {
    "tags": []
   },
   "outputs": [],
   "source": [
    "dbfile = open('otherLargeFiles/CNN-dataset.pkl', 'ab')\n",
    "\n",
    "pickle.dump(dataset, dbfile)                     \n",
    "dbfile.close()"
   ]
  },
  {
   "cell_type": "code",
   "execution_count": 46,
   "id": "a13adfde-9922-4396-8326-2ba115ae7fe6",
   "metadata": {},
   "outputs": [],
   "source": [
    "dbfile = open('otherLargeFiles/drives-used.pkl', 'ab')\n",
    "\n",
    "pickle.dump(drivesUsed, dbfile)                     \n",
    "dbfile.close()"
   ]
  }
 ],
 "metadata": {
  "kernelspec": {
   "display_name": "Python 3",
   "language": "python",
   "name": "python3"
  },
  "language_info": {
   "codemirror_mode": {
    "name": "ipython",
    "version": 3
   },
   "file_extension": ".py",
   "mimetype": "text/x-python",
   "name": "python",
   "nbconvert_exporter": "python",
   "pygments_lexer": "ipython3",
   "version": "3.8.10"
  }
 },
 "nbformat": 4,
 "nbformat_minor": 5
}
