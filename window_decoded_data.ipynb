{
 "cells": [
  {
   "cell_type": "code",
   "execution_count": 10,
   "id": "c8b7ad45-25f6-4266-9890-5a00c7d06e64",
   "metadata": {},
   "outputs": [],
   "source": [
    "import tensorflow as tf\n",
    "import os\n",
    "import pandas as pd\n",
    "import strym\n",
    "from strym import strymread\n",
    "import matplotlib.pyplot as plt\n",
    "from pylab import rcParams\n",
    "import strym.DBC_Read_Tools as dbc\n",
    "import numpy as np\n",
    "from strym import strymmap\n",
    "import keras\n",
    "from keras import layers, Model, Sequential"
   ]
  },
  {
   "cell_type": "code",
   "execution_count": 11,
   "id": "bfcb35cd-1494-4382-b369-8f979cff9990",
   "metadata": {},
   "outputs": [],
   "source": [
    "data_path = '../dataByLocation_2020-11-21-16-00-26_5FNYF6H05HB089022.csv'"
   ]
  },
  {
   "cell_type": "code",
   "execution_count": 12,
   "id": "ea131b41-223a-4e07-ab45-3855c1191ce6",
   "metadata": {},
   "outputs": [],
   "source": [
    "r = pd.read_csv(data_path)"
   ]
  },
  {
   "cell_type": "code",
   "execution_count": 13,
   "id": "63e43626-8e35-43ca-93c0-2b775e7b9032",
   "metadata": {},
   "outputs": [],
   "source": [
    "debug_num_samples = 100\n",
    "r_dataframe = r[:debug_num_samples]\n",
    "\n",
    "features = ['Time',\n",
    "            'Longitude',\n",
    "            'Latitude',\n",
    "            'Speed','LatAcceleration',\n",
    "            'LongAcceleration',\n",
    "            'SteerTorque',\n",
    "            'SteerRate',\n",
    "            'SteerAngle',\n",
    "            'FLWheelSpeed',\n",
    "            'FRWheelSpeed',\n",
    "            'RRWheelSpeed',\n",
    "            'RLWheelSpeed']\n",
    "data_df = r_dataframe[features][:]"
   ]
  },
  {
   "cell_type": "code",
   "execution_count": 14,
   "id": "a1ae34ab-2119-4c97-8260-d202dc41eac6",
   "metadata": {},
   "outputs": [],
   "source": [
    "sequenceLength = 5\n",
    "stackedData, stackedLabels = np.array([]), np.array([])\n",
    "\n",
    "curData = np.zeros((debug_num_samples-sequenceLength, sequenceLength, len(features))) # 3D because can_data is 2D\n",
    "\n",
    "# split can_data into subsampled sequences\n",
    "for i in range(debug_num_samples-sequenceLength):\n",
    "    curData[i, :] = data_df[i:i+sequenceLength]\n",
    "    \n",
    "    #stack the data\n",
    "    stackedData = np.concatenate((stackedData, curData), axis=0) if stackedData.size > 0 else curData  "
   ]
  },
  {
   "cell_type": "code",
   "execution_count": 15,
   "id": "db42fc51-c03f-47cc-9e4f-16cc7505ca63",
   "metadata": {},
   "outputs": [
    {
     "name": "stdout",
     "output_type": "stream",
     "text": [
      "(9025, 5, 13)\n"
     ]
    }
   ],
   "source": [
    "print(stackedData.shape)"
   ]
  },
  {
   "cell_type": "code",
   "execution_count": null,
   "id": "914e551f-f118-45bc-808d-7da2130db4fd",
   "metadata": {},
   "outputs": [],
   "source": []
  }
 ],
 "metadata": {
  "kernelspec": {
   "display_name": "Python 3",
   "language": "python",
   "name": "python3"
  },
  "language_info": {
   "codemirror_mode": {
    "name": "ipython",
    "version": 3
   },
   "file_extension": ".py",
   "mimetype": "text/x-python",
   "name": "python",
   "nbconvert_exporter": "python",
   "pygments_lexer": "ipython3",
   "version": "3.7.5"
  }
 },
 "nbformat": 4,
 "nbformat_minor": 5
}
