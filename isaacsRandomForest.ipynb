{
 "cells": [
  {
   "cell_type": "code",
   "execution_count": 47,
   "id": "36c8a025-7cfb-4edc-8548-e869502b5cd5",
   "metadata": {},
   "outputs": [],
   "source": [
    "import numpy as np\n",
    "import pandas as pd\n",
    "import pickle\n",
    "from sklearn.ensemble import RandomForestRegressor\n",
    "from sklearn.model_selection import train_test_split\n",
    "from sklearn.model_selection import KFold\n",
    "from numpy import asarray\n",
    "from numpy import mean\n",
    "from numpy import std\n",
    "from xgboost import XGBRegressor\n",
    "import xgboost\n",
    "from pathlib import Path\n",
    "import time"
   ]
  },
  {
   "cell_type": "markdown",
   "id": "82f02717-dd2d-4664-b1c3-d729c9f74697",
   "metadata": {},
   "source": [
    "0.7821003944033458 => sequenceLength:10, nTrees: 64, max_depth: 50\n",
    "\n",
    "0.7944474821071543 => sequenceLength:10, nTrees: 64, max_depth: None\n",
    "\n",
    "0.7905605781030345 => sequenceLength:10, nTrees: 64, max_depth: None, labels MinMax scaled\n",
    "\n",
    "0.7893843537936445 => sequenceLength:10, nTrees: 64, max_depth: None, labels standard scaled\n",
    "\n",
    "0.8101881801103619 => sequenceLength:20, nTrees: 64, max_depth: None, labels standard scaled\n",
    "\n",
    "### XGBoost (double model)\n",
    "* 0.7740843741300616, 0.6670367841427146 => sequenceLength:20, nTrees: 64, max_depth: default, labels standard scaled\n",
    "* 0.7339056408411957, 0.6153000034595998 => sequenceLength:20, nTrees: 64, max_depth: default, labels standard scaled, gpu_hist\n",
    "* 0.8160022012880737, 0.7179601372210322 => sequenceLength:20, nTrees: 64, max_depth: 10, labels standard scaled, gpu_hist\n",
    "* 0.84167863251325, 0.7641087580768761 => sequenceLength:20, nTrees: 64, max_depth: 20, labels standard scaled, gpu_hist\n",
    "\n",
    "### RandomForest (double model)\n",
    "* 0.83827540937785, 0.7663303903141425 => sequenceLength:20, nTrees: 32, max_depth: 50, labels standard scaled\n",
    "* 0.8433744923454447,0.7731579198827838 => sequenceLength:20, nTrees: 64, max_depth: 50, labels standard scaled\n",
    "* 0.8430462022005601, 0.7724669773855409 => sequenceLength:20, nTrees: 64, max_depth: 50, labels standard scaled, bootstrap=True\n",
    "#### After Introducing trajectory() features\n",
    "##### RF\n",
    "* 0.9832796800593451, 0.9871431958518339 => sequenceLength:20, nTrees: 64, max_depth: 50, labels standard scaled, bootstrap=True\n",
    "##### XG\n",
    "* 0.9782034741965696, 0.9856036857164658 => sequenceLength:20, nTrees: 64, max_depth: 20, labels standard scaled, bootstrap=True\n",
    "* 0.9801315191585513, 0.9866471744961971 => sequenceLength:20, nTrees: 64, max_depth: 20, labels standard scaled, bootstrap=True, learning_rate=0.2\n",
    "* 0.9818559205025458, 0.9871650521809248 => sequenceLength:20, nTrees: 64, max_depth: 20, labels standard scaled, bootstrap=True, learning_rate=0.1"
   ]
  },
  {
   "cell_type": "markdown",
   "id": "f69dec9f-761e-4df3-8778-13b6035525c2",
   "metadata": {},
   "source": [
    "## Load Data"
   ]
  },
  {
   "cell_type": "code",
   "execution_count": 3,
   "id": "72248c62-eba1-4964-85b2-83f2b4e38951",
   "metadata": {},
   "outputs": [],
   "source": [
    "use_windows = True\n",
    "if use_windows:\n",
    "    dbfile = open('otherLargeFiles/CNN-dataset.pkl', 'rb')     \n",
    "else:\n",
    "    dbfile = open('otherLargeFiles/CNN-dataset-no-window.pkl', 'rb')     \n",
    "dataset = pickle.load(dbfile)\n",
    "dbfile.close()\n",
    "\n",
    "dataset[\"samples\"] = dataset[\"samples\"][:,:,(0,1,2,5,7,9,10,11,12,13,14,15,16)]\n",
    "if len(dataset[\"samples\"].shape) == 3:\n",
    "    dataset[\"samples\"] = dataset[\"samples\"].reshape(dataset[\"samples\"].shape[0],dataset[\"samples\"].shape[1]*dataset[\"samples\"].shape[2])\n",
    "    \n",
    "    \n",
    "testDriveFile = open('otherLargeFiles/test-drive-0.pkl', 'rb')\n",
    "testDrive = pickle.load(testDriveFile)\n",
    "testDriveFile.close()\n",
    "testDrive[\"samples\"] = testDrive[\"samples\"][:,:,(0,1,2,5,7,9,10,11,12,13,14,15,16)]\n",
    "if len(testDrive[\"samples\"].shape) == 3:\n",
    "    testDrive[\"samples\"] = testDrive[\"samples\"].reshape(testDrive[\"samples\"].shape[0],testDrive[\"samples\"].shape[1]*testDrive[\"samples\"].shape[2])"
   ]
  },
  {
   "cell_type": "markdown",
   "id": "f916199a-8fd4-4b9e-aede-ac6b33ca8295",
   "metadata": {},
   "source": [
    "## Split into training/validation"
   ]
  },
  {
   "cell_type": "code",
   "execution_count": 4,
   "id": "274ddb79-602e-4bf2-9b40-38a3c704aa0a",
   "metadata": {},
   "outputs": [],
   "source": [
    "trainInputs, testInputs, trainLabels, testLabels = train_test_split(dataset[\"samples\"], dataset[\"labels\"], test_size=0.5, shuffle=True)"
   ]
  },
  {
   "cell_type": "markdown",
   "id": "9a054806-5297-42bf-b339-cb6452396f01",
   "metadata": {},
   "source": [
    "# The Model"
   ]
  },
  {
   "cell_type": "code",
   "execution_count": 66,
   "id": "ca585dda-644f-46e3-9273-d041b94837e8",
   "metadata": {
    "jupyter": {
     "source_hidden": true
    },
    "tags": []
   },
   "outputs": [
    {
     "data": {
      "text/plain": [
       "(272419, 130)"
      ]
     },
     "execution_count": 66,
     "metadata": {},
     "output_type": "execute_result"
    }
   ],
   "source": [
    "trainInputs.shape"
   ]
  },
  {
   "cell_type": "code",
   "execution_count": 118,
   "id": "c622e652-3094-4e84-ba89-a5e42a088a05",
   "metadata": {
    "collapsed": true,
    "jupyter": {
     "outputs_hidden": true,
     "source_hidden": true
    },
    "scrolled": true,
    "tags": []
   },
   "outputs": [
    {
     "name": "stdout",
     "output_type": "stream",
     "text": [
      "[Parallel(n_jobs=-1)]: Using backend ThreadingBackend with 8 concurrent workers.\n",
      "building tree 1 of 64building tree 2 of 64\n",
      "building tree 3 of 64\n",
      "building tree 4 of 64\n",
      "building tree 5 of 64\n",
      "building tree 6 of 64\n",
      "\n",
      "building tree 7 of 64\n",
      "building tree 8 of 64\n",
      "building tree 9 of 64[Parallel(n_jobs=-1)]: Done   1 tasks      | elapsed:  1.1min\n",
      "\n",
      "building tree 10 of 64[Parallel(n_jobs=-1)]: Done   2 tasks      | elapsed:  1.1min\n",
      "\n",
      "building tree 11 of 64[Parallel(n_jobs=-1)]: Done   3 tasks      | elapsed:  1.1min\n",
      "\n",
      "building tree 12 of 64[Parallel(n_jobs=-1)]: Done   4 tasks      | elapsed:  1.1min\n",
      "\n",
      "building tree 13 of 64[Parallel(n_jobs=-1)]: Done   5 tasks      | elapsed:  1.2min\n",
      "\n",
      "building tree 14 of 64[Parallel(n_jobs=-1)]: Done   6 tasks      | elapsed:  1.2min\n",
      "\n",
      "building tree 15 of 64[Parallel(n_jobs=-1)]: Done   7 tasks      | elapsed:  1.2min\n",
      "\n",
      "building tree 16 of 64[Parallel(n_jobs=-1)]: Done   8 tasks      | elapsed:  1.2min\n",
      "\n",
      "building tree 17 of 64[Parallel(n_jobs=-1)]: Done   9 tasks      | elapsed:  2.0min\n",
      "\n",
      "building tree 18 of 64[Parallel(n_jobs=-1)]: Done  10 tasks      | elapsed:  2.1min\n",
      "\n",
      "building tree 19 of 64[Parallel(n_jobs=-1)]: Done  11 tasks      | elapsed:  2.2min\n",
      "\n",
      "building tree 20 of 64[Parallel(n_jobs=-1)]: Done  12 tasks      | elapsed:  2.2min\n",
      "\n",
      "building tree 21 of 64[Parallel(n_jobs=-1)]: Done  13 tasks      | elapsed:  2.3min\n",
      "\n",
      "building tree 22 of 64[Parallel(n_jobs=-1)]: Done  14 tasks      | elapsed:  2.3min\n",
      "\n",
      "building tree 23 of 64[Parallel(n_jobs=-1)]: Done  15 tasks      | elapsed:  2.3min\n",
      "\n",
      "building tree 24 of 64[Parallel(n_jobs=-1)]: Done  16 tasks      | elapsed:  2.3min\n",
      "\n",
      "building tree 25 of 64[Parallel(n_jobs=-1)]: Done  17 tasks      | elapsed:  3.1min\n",
      "\n",
      "building tree 26 of 64[Parallel(n_jobs=-1)]: Done  18 tasks      | elapsed:  3.2min\n",
      "\n",
      "building tree 27 of 64[Parallel(n_jobs=-1)]: Done  19 tasks      | elapsed:  3.3min\n",
      "\n",
      "building tree 28 of 64[Parallel(n_jobs=-1)]: Done  20 tasks      | elapsed:  3.3min\n",
      "\n",
      "building tree 29 of 64[Parallel(n_jobs=-1)]: Done  21 tasks      | elapsed:  3.4min\n",
      "\n",
      "building tree 30 of 64[Parallel(n_jobs=-1)]: Done  22 tasks      | elapsed:  3.4min\n",
      "\n",
      "building tree 31 of 64[Parallel(n_jobs=-1)]: Done  23 tasks      | elapsed:  3.4min\n",
      "\n",
      "building tree 32 of 64[Parallel(n_jobs=-1)]: Done  24 tasks      | elapsed:  3.4min\n",
      "\n",
      "building tree 33 of 64[Parallel(n_jobs=-1)]: Done  25 tasks      | elapsed:  4.0min\n",
      "\n",
      "building tree 34 of 64[Parallel(n_jobs=-1)]: Done  26 tasks      | elapsed:  4.1min\n",
      "\n",
      "building tree 35 of 64[Parallel(n_jobs=-1)]: Done  27 tasks      | elapsed:  4.3min\n",
      "\n",
      "building tree 36 of 64[Parallel(n_jobs=-1)]: Done  28 tasks      | elapsed:  4.4min\n",
      "\n",
      "building tree 37 of 64[Parallel(n_jobs=-1)]: Done  29 tasks      | elapsed:  4.4min\n",
      "\n",
      "building tree 38 of 64[Parallel(n_jobs=-1)]: Done  30 tasks      | elapsed:  4.4min\n",
      "\n",
      "building tree 39 of 64[Parallel(n_jobs=-1)]: Done  31 tasks      | elapsed:  4.5min\n",
      "\n",
      "building tree 40 of 64[Parallel(n_jobs=-1)]: Done  32 tasks      | elapsed:  4.5min\n",
      "\n",
      "building tree 41 of 64[Parallel(n_jobs=-1)]: Done  33 tasks      | elapsed:  5.0min\n",
      "\n",
      "building tree 42 of 64[Parallel(n_jobs=-1)]: Done  34 tasks      | elapsed:  5.1min\n",
      "\n",
      "building tree 43 of 64[Parallel(n_jobs=-1)]: Done  35 tasks      | elapsed:  5.3min\n",
      "\n",
      "building tree 44 of 64[Parallel(n_jobs=-1)]: Done  36 tasks      | elapsed:  5.4min\n",
      "\n",
      "building tree 45 of 64[Parallel(n_jobs=-1)]: Done  37 tasks      | elapsed:  5.5min\n",
      "\n",
      "building tree 46 of 64[Parallel(n_jobs=-1)]: Done  38 tasks      | elapsed:  5.5min\n",
      "\n",
      "building tree 47 of 64[Parallel(n_jobs=-1)]: Done  39 tasks      | elapsed:  5.5min\n",
      "\n",
      "building tree 48 of 64[Parallel(n_jobs=-1)]: Done  40 tasks      | elapsed:  5.5min\n",
      "\n",
      "building tree 49 of 64[Parallel(n_jobs=-1)]: Done  41 tasks      | elapsed:  6.0min\n",
      "\n",
      "building tree 50 of 64[Parallel(n_jobs=-1)]: Done  42 tasks      | elapsed:  6.1min\n",
      "\n",
      "building tree 51 of 64[Parallel(n_jobs=-1)]: Done  43 tasks      | elapsed:  6.4min\n",
      "\n",
      "building tree 52 of 64[Parallel(n_jobs=-1)]: Done  44 tasks      | elapsed:  6.5min\n",
      "\n",
      "building tree 53 of 64[Parallel(n_jobs=-1)]: Done  45 tasks      | elapsed:  6.5min\n",
      "\n",
      "building tree 54 of 64[Parallel(n_jobs=-1)]: Done  46 tasks      | elapsed:  6.5min\n",
      "\n",
      "building tree 55 of 64[Parallel(n_jobs=-1)]: Done  47 tasks      | elapsed:  6.6min\n",
      "\n",
      "building tree 56 of 64[Parallel(n_jobs=-1)]: Done  48 tasks      | elapsed:  6.6min\n",
      "\n",
      "building tree 57 of 64[Parallel(n_jobs=-1)]: Done  49 tasks      | elapsed:  7.0min\n",
      "\n",
      "building tree 58 of 64[Parallel(n_jobs=-1)]: Done  50 out of  64 | elapsed:  7.1min remaining:  2.0min\n",
      "\n",
      "building tree 59 of 64[Parallel(n_jobs=-1)]: Done  51 out of  64 | elapsed:  7.4min remaining:  1.9min\n",
      "\n",
      "building tree 60 of 64[Parallel(n_jobs=-1)]: Done  52 out of  64 | elapsed:  7.6min remaining:  1.7min\n",
      "\n",
      "building tree 61 of 64[Parallel(n_jobs=-1)]: Done  53 out of  64 | elapsed:  7.6min remaining:  1.6min\n",
      "\n",
      "building tree 62 of 64[Parallel(n_jobs=-1)]: Done  54 out of  64 | elapsed:  7.6min remaining:  1.4min\n",
      "\n",
      "building tree 63 of 64[Parallel(n_jobs=-1)]: Done  55 out of  64 | elapsed:  7.6min remaining:  1.3min\n",
      "\n",
      "[Parallel(n_jobs=-1)]: Done  56 out of  64 | elapsed:  7.7min remaining:  1.1min\n",
      "building tree 64 of 64\n",
      "[Parallel(n_jobs=-1)]: Done  57 out of  64 | elapsed:  8.0min remaining:   59.2s\n",
      "[Parallel(n_jobs=-1)]: Done  58 out of  64 | elapsed:  8.1min remaining:   50.3s\n",
      "[Parallel(n_jobs=-1)]: Done  59 out of  64 | elapsed:  8.3min remaining:   42.3s\n",
      "[Parallel(n_jobs=-1)]: Done  60 out of  64 | elapsed:  8.4min remaining:   33.5s\n",
      "[Parallel(n_jobs=-1)]: Done  61 out of  64 | elapsed:  8.5min remaining:   25.0s\n",
      "[Parallel(n_jobs=-1)]: Done  62 out of  64 | elapsed:  8.5min remaining:   16.4s\n",
      "[Parallel(n_jobs=-1)]: Done  64 out of  64 | elapsed:  8.6min remaining:    0.0s\n",
      "[Parallel(n_jobs=-1)]: Done  64 out of  64 | elapsed:  8.6min finished\n",
      "[Parallel(n_jobs=-1)]: Using backend ThreadingBackend with 8 concurrent workers.\n",
      "building tree 1 of 64building tree 2 of 64\n",
      "building tree 3 of 64\n",
      "building tree 4 of 64\n",
      "building tree 5 of 64\n",
      "building tree 6 of 64\n",
      "\n",
      "building tree 7 of 64\n",
      "building tree 8 of 64\n",
      "building tree 9 of 64[Parallel(n_jobs=-1)]: Done   1 tasks      | elapsed:   52.6s\n",
      "\n",
      "building tree 10 of 64[Parallel(n_jobs=-1)]: Done   2 tasks      | elapsed:   53.9s\n",
      "\n",
      "building tree 11 of 64[Parallel(n_jobs=-1)]: Done   3 tasks      | elapsed:   54.0s\n",
      "\n",
      "building tree 12 of 64[Parallel(n_jobs=-1)]: Done   4 tasks      | elapsed:   55.2s\n",
      "\n",
      "building tree 13 of 64[Parallel(n_jobs=-1)]: Done   5 tasks      | elapsed:   56.6s\n",
      "\n",
      "building tree 14 of 64[Parallel(n_jobs=-1)]: Done   6 tasks      | elapsed:   56.8s\n",
      "\n",
      "building tree 15 of 64[Parallel(n_jobs=-1)]: Done   7 tasks      | elapsed:   58.3s\n",
      "\n",
      "building tree 16 of 64[Parallel(n_jobs=-1)]: Done   8 tasks      | elapsed:  1.0min\n",
      "\n",
      "building tree 17 of 64[Parallel(n_jobs=-1)]: Done   9 tasks      | elapsed:  1.8min\n",
      "\n",
      "building tree 18 of 64[Parallel(n_jobs=-1)]: Done  10 tasks      | elapsed:  1.8min\n",
      "\n",
      "building tree 19 of 64[Parallel(n_jobs=-1)]: Done  11 tasks      | elapsed:  1.8min\n",
      "\n",
      "building tree 20 of 64[Parallel(n_jobs=-1)]: Done  12 tasks      | elapsed:  1.8min\n",
      "\n",
      "building tree 21 of 64[Parallel(n_jobs=-1)]: Done  13 tasks      | elapsed:  1.9min\n",
      "\n",
      "building tree 22 of 64[Parallel(n_jobs=-1)]: Done  14 tasks      | elapsed:  1.9min\n",
      "\n",
      "building tree 23 of 64[Parallel(n_jobs=-1)]: Done  15 tasks      | elapsed:  1.9min\n",
      "\n",
      "building tree 24 of 64[Parallel(n_jobs=-1)]: Done  16 tasks      | elapsed:  2.0min\n",
      "\n",
      "building tree 25 of 64[Parallel(n_jobs=-1)]: Done  17 tasks      | elapsed:  2.7min\n",
      "\n",
      "building tree 26 of 64[Parallel(n_jobs=-1)]: Done  18 tasks      | elapsed:  2.8min\n",
      "\n",
      "building tree 27 of 64[Parallel(n_jobs=-1)]: Done  19 tasks      | elapsed:  2.9min\n",
      "\n",
      "building tree 28 of 64[Parallel(n_jobs=-1)]: Done  20 tasks      | elapsed:  2.9min\n",
      "\n",
      "building tree 29 of 64[Parallel(n_jobs=-1)]: Done  21 tasks      | elapsed:  2.9min\n",
      "\n",
      "building tree 30 of 64[Parallel(n_jobs=-1)]: Done  22 tasks      | elapsed:  2.9min\n",
      "\n",
      "building tree 31 of 64[Parallel(n_jobs=-1)]: Done  23 tasks      | elapsed:  2.9min\n",
      "\n",
      "building tree 32 of 64[Parallel(n_jobs=-1)]: Done  24 tasks      | elapsed:  3.0min\n",
      "\n",
      "building tree 33 of 64[Parallel(n_jobs=-1)]: Done  25 tasks      | elapsed:  3.8min\n",
      "\n",
      "building tree 34 of 64[Parallel(n_jobs=-1)]: Done  26 tasks      | elapsed:  3.8min\n",
      "\n",
      "building tree 35 of 64[Parallel(n_jobs=-1)]: Done  27 tasks      | elapsed:  3.9min\n",
      "\n",
      "building tree 36 of 64[Parallel(n_jobs=-1)]: Done  28 tasks      | elapsed:  3.9min\n",
      "\n",
      "building tree 37 of 64[Parallel(n_jobs=-1)]: Done  29 tasks      | elapsed:  3.9min\n",
      "\n",
      "building tree 38 of 64[Parallel(n_jobs=-1)]: Done  30 tasks      | elapsed:  3.9min\n",
      "\n",
      "building tree 39 of 64[Parallel(n_jobs=-1)]: Done  31 tasks      | elapsed:  3.9min\n",
      "\n",
      "building tree 40 of 64[Parallel(n_jobs=-1)]: Done  32 tasks      | elapsed:  4.0min\n",
      "\n",
      "[Parallel(n_jobs=-1)]: Done  33 tasks      | elapsed:  4.6min\n",
      "building tree 41 of 64\n",
      "building tree 42 of 64[Parallel(n_jobs=-1)]: Done  34 tasks      | elapsed:  4.7min\n",
      "\n",
      "building tree 43 of 64[Parallel(n_jobs=-1)]: Done  35 tasks      | elapsed:  4.9min\n",
      "\n",
      "building tree 44 of 64[Parallel(n_jobs=-1)]: Done  36 tasks      | elapsed:  4.9min\n",
      "\n",
      "building tree 45 of 64[Parallel(n_jobs=-1)]: Done  37 tasks      | elapsed:  4.9min\n",
      "\n",
      "building tree 46 of 64[Parallel(n_jobs=-1)]: Done  38 tasks      | elapsed:  4.9min\n",
      "\n",
      "building tree 47 of 64[Parallel(n_jobs=-1)]: Done  39 tasks      | elapsed:  5.0min\n",
      "\n",
      "building tree 48 of 64[Parallel(n_jobs=-1)]: Done  40 tasks      | elapsed:  5.0min\n",
      "\n",
      "building tree 49 of 64[Parallel(n_jobs=-1)]: Done  41 tasks      | elapsed:  5.6min\n",
      "\n",
      "building tree 50 of 64[Parallel(n_jobs=-1)]: Done  42 tasks      | elapsed:  5.7min\n",
      "\n",
      "building tree 51 of 64[Parallel(n_jobs=-1)]: Done  43 tasks      | elapsed:  5.9min\n",
      "\n",
      "building tree 52 of 64[Parallel(n_jobs=-1)]: Done  44 tasks      | elapsed:  5.9min\n",
      "\n",
      "building tree 53 of 64[Parallel(n_jobs=-1)]: Done  45 tasks      | elapsed:  5.9min\n",
      "\n",
      "building tree 54 of 64[Parallel(n_jobs=-1)]: Done  46 tasks      | elapsed:  5.9min\n",
      "\n",
      "building tree 55 of 64[Parallel(n_jobs=-1)]: Done  47 tasks      | elapsed:  5.9min\n",
      "\n",
      "building tree 56 of 64[Parallel(n_jobs=-1)]: Done  48 tasks      | elapsed:  6.0min\n",
      "\n",
      "building tree 57 of 64[Parallel(n_jobs=-1)]: Done  49 tasks      | elapsed:  6.6min\n",
      "\n",
      "building tree 58 of 64[Parallel(n_jobs=-1)]: Done  50 out of  64 | elapsed:  6.7min remaining:  1.9min\n",
      "\n",
      "building tree 59 of 64[Parallel(n_jobs=-1)]: Done  51 out of  64 | elapsed:  6.8min remaining:  1.7min\n",
      "\n",
      "building tree 60 of 64[Parallel(n_jobs=-1)]: Done  52 out of  64 | elapsed:  6.9min remaining:  1.6min\n",
      "\n",
      "building tree 61 of 64[Parallel(n_jobs=-1)]: Done  53 out of  64 | elapsed:  6.9min remaining:  1.4min\n",
      "\n",
      "building tree 62 of 64[Parallel(n_jobs=-1)]: Done  54 out of  64 | elapsed:  6.9min remaining:  1.3min\n",
      "\n",
      "building tree 63 of 64[Parallel(n_jobs=-1)]: Done  55 out of  64 | elapsed:  7.0min remaining:  1.1min\n",
      "\n",
      "building tree 64 of 64[Parallel(n_jobs=-1)]: Done  56 out of  64 | elapsed:  7.0min remaining:   59.8s\n",
      "\n",
      "[Parallel(n_jobs=-1)]: Done  57 out of  64 | elapsed:  7.7min remaining:   56.6s\n",
      "[Parallel(n_jobs=-1)]: Done  58 out of  64 | elapsed:  7.7min remaining:   47.9s\n",
      "[Parallel(n_jobs=-1)]: Done  59 out of  64 | elapsed:  7.8min remaining:   39.6s\n",
      "[Parallel(n_jobs=-1)]: Done  60 out of  64 | elapsed:  7.8min remaining:   31.2s\n",
      "[Parallel(n_jobs=-1)]: Done  61 out of  64 | elapsed:  7.8min remaining:   23.1s\n",
      "[Parallel(n_jobs=-1)]: Done  62 out of  64 | elapsed:  7.9min remaining:   15.2s\n",
      "[Parallel(n_jobs=-1)]: Done  64 out of  64 | elapsed:  7.9min remaining:    0.0s\n",
      "[Parallel(n_jobs=-1)]: Done  64 out of  64 | elapsed:  7.9min finished\n"
     ]
    },
    {
     "data": {
      "text/plain": [
       "RandomForestRegressor(max_depth=50, n_estimators=64, n_jobs=-1, verbose=100)"
      ]
     },
     "execution_count": 118,
     "metadata": {},
     "output_type": "execute_result"
    }
   ],
   "source": [
    "rfLongModel = RandomForestRegressor(n_estimators=64, max_depth=50, verbose=100, n_jobs=-1, bootstrap=True)\n",
    "rfLatModel = RandomForestRegressor(n_estimators=64, max_depth=50, verbose=100, n_jobs=-1, bootstrap=True)\n",
    "\n",
    "rfLongModel.fit(trainInputs, trainLabels[:,0])\n",
    "rfLatModel.fit(trainInputs, trainLabels[:,1])"
   ]
  },
  {
   "cell_type": "code",
   "execution_count": 50,
   "id": "c809a66e-bcc2-40e1-b538-1b3f66e49e04",
   "metadata": {
    "tags": []
   },
   "outputs": [
    {
     "name": "stdout",
     "output_type": "stream",
     "text": [
      "[18:12:15] DEBUG: ../src/tree/updater_gpu_hist.cu:899: [GPU Hist]: Configure\n",
      "[18:12:15] DEBUG: ../src/common/device_helpers.cu:38: Running nccl init on: 10.0\n",
      "[18:12:15] ======== Monitor: SketchContainer ========\n",
      "[18:12:15] MakeCuts: 0.000279s, 1 calls @ 279us\n",
      "\n",
      "[18:12:15] Prune: 0.000202s, 1 calls @ 202us\n",
      "\n",
      "[18:12:15] ScanInput: 0.00256s, 1 calls @ 2560us\n",
      "\n",
      "[18:12:15] Unique: 0.00016s, 1 calls @ 160us\n",
      "\n",
      "[18:13:35] ======== Monitor: Learner ========\n",
      "[18:13:35] Configure: 0.000575s, 1 calls @ 575us\n",
      "\n",
      "[18:13:35] EvalOneIter: 0.00034s, 32 calls @ 340us\n",
      "\n",
      "[18:13:35] GetGradient: 0.002247s, 32 calls @ 2247us\n",
      "\n",
      "[18:13:35] PredictRaw: 0.000257s, 32 calls @ 257us\n",
      "\n",
      "[18:13:35] UpdateOneIter: 77.7539s, 32 calls @ 77753942us\n",
      "\n",
      "[18:13:35] ======== Monitor: GBTree ========\n",
      "[18:13:35] BoostNewTrees: 77.7503s, 32 calls @ 77750319us\n",
      "\n",
      "[18:13:35] CommitModel: 2.8e-05s, 32 calls @ 28us\n",
      "\n",
      "[18:13:35] ======== Device 0 Memory Allocations:  ========\n",
      "[18:13:35] Peak memory usage: 1957MiB\n",
      "[18:13:35] Number of allocations: 10472738\n",
      "[18:13:35] ======== Monitor: updater_gpu_hist ========\n",
      "[18:13:35] InitData: 0.222747s, 32 calls @ 222747us\n",
      "\n",
      "[18:13:35] InitDataOnce: 0.222727s, 1 calls @ 222727us\n",
      "\n",
      "[18:13:35] Update: 77.6361s, 32 calls @ 77636115us\n",
      "\n",
      "[18:13:35] UpdatePredictionCache: 0.113837s, 32 calls @ 113837us\n",
      "\n",
      "[18:13:35] ======== NCCL Statistics========\n",
      "[18:13:35] AllReduce calls: 379162\n",
      "[18:13:35] AllReduce total MiB communicated: 134328\n",
      "[18:13:35] ======== Monitor: gradient_based_sampler ========\n",
      "[18:13:35] Sample: 4.8e-05s, 32 calls @ 48us\n",
      "\n",
      "[18:13:35] ======== Monitor: GPUHistMakerDevice0 ========\n",
      "[18:13:35] AllReduce: 0.418333s, 379162 calls @ 418333us\n",
      "\n",
      "[18:13:35] BuildHist: 4.50207s, 267311 calls @ 4502074us\n",
      "\n",
      "[18:13:35] EvaluateSplits: 2.86264s, 267311 calls @ 2862642us\n",
      "\n",
      "[18:13:35] FinalisePosition: 0.001715s, 32 calls @ 1715us\n",
      "\n",
      "[18:13:35] InitRoot: 0.304286s, 32 calls @ 304286us\n",
      "\n",
      "[18:13:35] Reset: 0.076071s, 32 calls @ 76071us\n",
      "\n",
      "[18:13:35] UpdatePosition: 68.8317s, 267311 calls @ 68831673us\n",
      "\n",
      "[18:13:35] ======== Monitor: ellpack_page ========\n",
      "[18:13:35] BinningCompression: 0.075576s, 1 calls @ 75576us\n",
      "\n",
      "[18:13:35] InitCompressedData: 0.001706s, 1 calls @ 1706us\n",
      "\n",
      "[18:13:35] Quantiles: 0.135997s, 1 calls @ 135997us\n",
      "\n",
      "[18:13:35] DEBUG: ../src/tree/updater_gpu_hist.cu:899: [GPU Hist]: Configure\n",
      "[18:13:35] DEBUG: ../src/common/device_helpers.cu:38: Running nccl init on: 10.0\n",
      "[18:13:35] ======== Monitor: SketchContainer ========\n",
      "[18:13:35] MakeCuts: 0.000264s, 1 calls @ 264us\n",
      "\n",
      "[18:13:35] Prune: 0.000187s, 1 calls @ 187us\n",
      "\n",
      "[18:13:35] ScanInput: 0.002177s, 1 calls @ 2177us\n",
      "\n",
      "[18:13:35] Unique: 0.000147s, 1 calls @ 147us\n",
      "\n",
      "[18:15:00] ======== Monitor: Learner ========\n",
      "[18:15:00] Configure: 0.000376s, 1 calls @ 376us\n",
      "\n",
      "[18:15:00] EvalOneIter: 0.000327s, 32 calls @ 327us\n",
      "\n",
      "[18:15:00] GetGradient: 0.002232s, 32 calls @ 2232us\n",
      "\n",
      "[18:15:00] PredictRaw: 0.000724s, 32 calls @ 724us\n",
      "\n",
      "[18:15:00] UpdateOneIter: 83.7677s, 32 calls @ 83767673us\n",
      "\n",
      "[18:15:00] ======== Monitor: GBTree ========\n",
      "[18:15:00] BoostNewTrees: 83.7638s, 32 calls @ 83763798us\n",
      "\n",
      "[18:15:00] CommitModel: 2.7e-05s, 32 calls @ 27us\n",
      "\n",
      "[18:15:00] ======== Device 0 Memory Allocations:  ========\n",
      "[18:15:00] Peak memory usage: 1957MiB\n",
      "[18:15:00] Number of allocations: 11915518\n",
      "[18:15:00] ======== Monitor: updater_gpu_hist ========\n",
      "[18:15:00] InitData: 0.215839s, 32 calls @ 215839us\n",
      "\n",
      "[18:15:00] InitDataOnce: 0.215821s, 1 calls @ 215821us\n",
      "\n",
      "[18:15:00] Update: 83.6523s, 32 calls @ 83652265us\n",
      "\n",
      "[18:15:00] UpdatePredictionCache: 0.111187s, 32 calls @ 111187us\n",
      "\n",
      "[18:15:00] ======== NCCL Statistics========\n",
      "[18:15:00] AllReduce calls: 409077\n",
      "[18:15:00] AllReduce total MiB communicated: 144927\n",
      "[18:15:00] ======== Monitor: gradient_based_sampler ========\n",
      "[18:15:00] Sample: 3.8e-05s, 32 calls @ 38us\n",
      "\n",
      "[18:15:00] ======== Monitor: GPUHistMakerDevice0 ========\n",
      "[18:15:00] AllReduce: 0.445028s, 409077 calls @ 445028us\n",
      "\n",
      "[18:15:00] BuildHist: 4.76801s, 288420 calls @ 4768006us\n",
      "\n",
      "[18:15:00] EvaluateSplits: 3.04258s, 288420 calls @ 3042576us\n",
      "\n",
      "[18:15:00] FinalisePosition: 0.001746s, 32 calls @ 1746us\n",
      "\n",
      "[18:15:00] InitRoot: 0.304146s, 32 calls @ 304146us\n",
      "\n",
      "[18:15:00] Reset: 0.072009s, 32 calls @ 72009us\n",
      "\n",
      "[18:15:00] UpdatePosition: 74.3623s, 288420 calls @ 74362349us\n",
      "\n",
      "[18:15:00] ======== Monitor: ellpack_page ========\n",
      "[18:15:00] BinningCompression: 0.072778s, 1 calls @ 72778us\n",
      "\n",
      "[18:15:00] InitCompressedData: 0.001711s, 1 calls @ 1711us\n",
      "\n",
      "[18:15:00] Quantiles: 0.132617s, 1 calls @ 132617us\n",
      "\n",
      "165.1245095729828\n"
     ]
    }
   ],
   "source": [
    "startTime = time.time()\n",
    "xgbLongModel = XGBRegressor(eta=0.1, n_estimators=32, max_depth=20, verbosity=3, n_jobs=-1, objective='reg:squarederror', tree_method=\"gpu_hist\")\n",
    "xgbLatModel = XGBRegressor(eta=0.1, n_estimators=32, max_depth=20, verbosity=3, n_jobs=-1, objective='reg:squarederror', tree_method=\"gpu_hist\")\n",
    "xgbLongModel.fit(trainInputs, trainLabels[:,0])\n",
    "xgbLatModel.fit(trainInputs, trainLabels[:,1])\n",
    "endTime = time.time()\n",
    "timeElapsed = endTime - startTime\n",
    "print(timeElapsed)"
   ]
  },
  {
   "cell_type": "markdown",
   "id": "5d43a73b-5ee5-4c1e-ab92-a4c8af18b451",
   "metadata": {},
   "source": [
    "# Results"
   ]
  },
  {
   "cell_type": "code",
   "execution_count": 51,
   "id": "9a0139c8-86b1-4943-a38c-88029ba320b7",
   "metadata": {},
   "outputs": [
    {
     "name": "stdout",
     "output_type": "stream",
     "text": [
      "[18:21:32] DEBUG: ../src/tree/updater_gpu_hist.cu:899: [GPU Hist]: Configure\n",
      "[18:21:32] ======== Device 0 Memory Allocations:  ========\n",
      "[18:21:32] Peak memory usage: 1957MiB\n",
      "[18:21:32] Number of allocations: 11915518\n",
      "[18:21:32] ======== Monitor:  ========\n",
      "[18:21:32] ======== NCCL Statistics========\n",
      "[18:21:32] AllReduce calls: 0\n",
      "[18:21:32] AllReduce total MiB communicated: 0\n",
      "0.8998329988351264\n",
      "[18:21:32] DEBUG: ../src/tree/updater_gpu_hist.cu:899: [GPU Hist]: Configure\n",
      "[18:21:32] ======== Device 0 Memory Allocations:  ========\n",
      "[18:21:32] Peak memory usage: 1957MiB\n",
      "[18:21:32] Number of allocations: 11915518\n",
      "[18:21:32] ======== Monitor:  ========\n",
      "[18:21:32] ======== NCCL Statistics========\n",
      "[18:21:32] AllReduce calls: 0\n",
      "[18:21:32] AllReduce total MiB communicated: 0\n",
      "0.9124641369929349\n",
      "0.986538910330104\n",
      "0.9923920950347264\n"
     ]
    }
   ],
   "source": [
    "print(xgbLongModel.score(testInputs, testLabels[:,0]))\n",
    "print(xgbLatModel.score(testInputs, testLabels[:,1]))\n",
    "\n",
    "print(xgbLongModel.score(trainInputs, trainLabels[:,0]))\n",
    "print(xgbLatModel.score(trainInputs, trainLabels[:,1]))"
   ]
  },
  {
   "cell_type": "code",
   "execution_count": 141,
   "id": "afd70b46-be10-48f6-9cef-a1489d95a85f",
   "metadata": {
    "collapsed": true,
    "jupyter": {
     "outputs_hidden": true,
     "source_hidden": true
    },
    "scrolled": true,
    "tags": []
   },
   "outputs": [
    {
     "name": "stdout",
     "output_type": "stream",
     "text": [
      "[Parallel(n_jobs=8)]: Using backend ThreadingBackend with 8 concurrent workers.\n",
      "[Parallel(n_jobs=8)]: Done   1 tasks      | elapsed:    0.2s\n",
      "[Parallel(n_jobs=8)]: Done   2 tasks      | elapsed:    0.2s\n",
      "[Parallel(n_jobs=8)]: Done   3 tasks      | elapsed:    0.2s\n",
      "[Parallel(n_jobs=8)]: Done   4 tasks      | elapsed:    0.2s\n",
      "[Parallel(n_jobs=8)]: Done   5 tasks      | elapsed:    0.2s\n",
      "[Parallel(n_jobs=8)]: Done   6 tasks      | elapsed:    0.2s\n",
      "[Parallel(n_jobs=8)]: Done   7 tasks      | elapsed:    0.3s\n",
      "[Parallel(n_jobs=8)]: Done   8 tasks      | elapsed:    0.3s\n",
      "[Parallel(n_jobs=8)]: Done   9 tasks      | elapsed:    0.4s\n",
      "[Parallel(n_jobs=8)]: Done  10 tasks      | elapsed:    0.4s\n",
      "[Parallel(n_jobs=8)]: Done  11 tasks      | elapsed:    0.4s\n",
      "[Parallel(n_jobs=8)]: Done  12 tasks      | elapsed:    0.4s\n",
      "[Parallel(n_jobs=8)]: Done  13 tasks      | elapsed:    0.4s\n",
      "[Parallel(n_jobs=8)]: Done  14 tasks      | elapsed:    0.5s\n",
      "[Parallel(n_jobs=8)]: Done  15 tasks      | elapsed:    0.5s\n",
      "[Parallel(n_jobs=8)]: Done  16 tasks      | elapsed:    0.5s\n",
      "[Parallel(n_jobs=8)]: Done  17 tasks      | elapsed:    0.6s\n",
      "[Parallel(n_jobs=8)]: Done  18 tasks      | elapsed:    0.6s\n",
      "[Parallel(n_jobs=8)]: Done  19 tasks      | elapsed:    0.6s\n",
      "[Parallel(n_jobs=8)]: Done  20 tasks      | elapsed:    0.7s\n",
      "[Parallel(n_jobs=8)]: Done  21 tasks      | elapsed:    0.7s\n",
      "[Parallel(n_jobs=8)]: Done  22 tasks      | elapsed:    0.7s\n",
      "[Parallel(n_jobs=8)]: Done  23 tasks      | elapsed:    0.8s\n",
      "[Parallel(n_jobs=8)]: Done  24 tasks      | elapsed:    0.8s\n",
      "[Parallel(n_jobs=8)]: Done  25 tasks      | elapsed:    0.8s\n",
      "[Parallel(n_jobs=8)]: Done  26 tasks      | elapsed:    0.8s\n",
      "[Parallel(n_jobs=8)]: Done  27 tasks      | elapsed:    0.9s\n",
      "[Parallel(n_jobs=8)]: Done  28 tasks      | elapsed:    0.9s\n",
      "[Parallel(n_jobs=8)]: Done  29 tasks      | elapsed:    0.9s\n",
      "[Parallel(n_jobs=8)]: Done  30 tasks      | elapsed:    0.9s\n",
      "[Parallel(n_jobs=8)]: Done  31 tasks      | elapsed:    1.0s\n",
      "[Parallel(n_jobs=8)]: Done  32 tasks      | elapsed:    1.0s\n",
      "[Parallel(n_jobs=8)]: Done  33 tasks      | elapsed:    1.0s\n",
      "[Parallel(n_jobs=8)]: Done  34 tasks      | elapsed:    1.0s\n",
      "[Parallel(n_jobs=8)]: Done  35 tasks      | elapsed:    1.1s\n",
      "[Parallel(n_jobs=8)]: Done  36 tasks      | elapsed:    1.1s\n",
      "[Parallel(n_jobs=8)]: Done  37 tasks      | elapsed:    1.1s\n",
      "[Parallel(n_jobs=8)]: Done  38 tasks      | elapsed:    1.1s\n",
      "[Parallel(n_jobs=8)]: Done  39 tasks      | elapsed:    1.2s\n",
      "[Parallel(n_jobs=8)]: Done  40 tasks      | elapsed:    1.2s\n",
      "[Parallel(n_jobs=8)]: Done  41 tasks      | elapsed:    1.3s\n",
      "[Parallel(n_jobs=8)]: Done  42 tasks      | elapsed:    1.3s\n",
      "[Parallel(n_jobs=8)]: Done  43 tasks      | elapsed:    1.3s\n",
      "[Parallel(n_jobs=8)]: Done  44 tasks      | elapsed:    1.3s\n",
      "[Parallel(n_jobs=8)]: Done  45 tasks      | elapsed:    1.3s\n",
      "[Parallel(n_jobs=8)]: Done  46 tasks      | elapsed:    1.4s\n",
      "[Parallel(n_jobs=8)]: Done  47 tasks      | elapsed:    1.4s\n",
      "[Parallel(n_jobs=8)]: Done  48 tasks      | elapsed:    1.4s\n",
      "[Parallel(n_jobs=8)]: Done  49 tasks      | elapsed:    1.5s\n",
      "[Parallel(n_jobs=8)]: Done  50 out of  64 | elapsed:    1.5s remaining:    0.4s\n",
      "[Parallel(n_jobs=8)]: Done  51 out of  64 | elapsed:    1.5s remaining:    0.4s\n",
      "[Parallel(n_jobs=8)]: Done  52 out of  64 | elapsed:    1.5s remaining:    0.4s\n",
      "[Parallel(n_jobs=8)]: Done  53 out of  64 | elapsed:    1.6s remaining:    0.3s\n",
      "[Parallel(n_jobs=8)]: Done  54 out of  64 | elapsed:    1.6s remaining:    0.3s\n",
      "[Parallel(n_jobs=8)]: Done  55 out of  64 | elapsed:    1.6s remaining:    0.3s\n",
      "[Parallel(n_jobs=8)]: Done  56 out of  64 | elapsed:    1.7s remaining:    0.2s\n",
      "[Parallel(n_jobs=8)]: Done  57 out of  64 | elapsed:    1.7s remaining:    0.2s\n",
      "[Parallel(n_jobs=8)]: Done  58 out of  64 | elapsed:    1.7s remaining:    0.2s\n",
      "[Parallel(n_jobs=8)]: Done  59 out of  64 | elapsed:    1.7s remaining:    0.1s\n",
      "[Parallel(n_jobs=8)]: Done  60 out of  64 | elapsed:    1.7s remaining:    0.1s\n",
      "[Parallel(n_jobs=8)]: Done  61 out of  64 | elapsed:    1.8s remaining:    0.1s\n",
      "[Parallel(n_jobs=8)]: Done  62 out of  64 | elapsed:    1.8s remaining:    0.1s\n",
      "[Parallel(n_jobs=8)]: Done  64 out of  64 | elapsed:    1.8s remaining:    0.0s\n",
      "[Parallel(n_jobs=8)]: Done  64 out of  64 | elapsed:    1.8s finished\n",
      "0.9832796800593451\n",
      "[Parallel(n_jobs=8)]: Using backend ThreadingBackend with 8 concurrent workers.\n",
      "[Parallel(n_jobs=8)]: Done   1 tasks      | elapsed:    0.2s\n",
      "[Parallel(n_jobs=8)]: Done   2 tasks      | elapsed:    0.2s\n",
      "[Parallel(n_jobs=8)]: Done   3 tasks      | elapsed:    0.2s\n",
      "[Parallel(n_jobs=8)]: Done   4 tasks      | elapsed:    0.2s\n",
      "[Parallel(n_jobs=8)]: Done   5 tasks      | elapsed:    0.2s\n",
      "[Parallel(n_jobs=8)]: Done   6 tasks      | elapsed:    0.2s\n",
      "[Parallel(n_jobs=8)]: Done   7 tasks      | elapsed:    0.3s\n",
      "[Parallel(n_jobs=8)]: Done   8 tasks      | elapsed:    0.3s\n",
      "[Parallel(n_jobs=8)]: Done   9 tasks      | elapsed:    0.4s\n",
      "[Parallel(n_jobs=8)]: Done  10 tasks      | elapsed:    0.5s\n",
      "[Parallel(n_jobs=8)]: Done  11 tasks      | elapsed:    0.5s\n",
      "[Parallel(n_jobs=8)]: Done  12 tasks      | elapsed:    0.5s\n",
      "[Parallel(n_jobs=8)]: Done  13 tasks      | elapsed:    0.5s\n",
      "[Parallel(n_jobs=8)]: Done  14 tasks      | elapsed:    0.6s\n",
      "[Parallel(n_jobs=8)]: Done  15 tasks      | elapsed:    0.6s\n",
      "[Parallel(n_jobs=8)]: Done  16 tasks      | elapsed:    0.6s\n",
      "[Parallel(n_jobs=8)]: Done  17 tasks      | elapsed:    0.6s\n",
      "[Parallel(n_jobs=8)]: Done  18 tasks      | elapsed:    0.7s\n",
      "[Parallel(n_jobs=8)]: Done  19 tasks      | elapsed:    0.7s\n",
      "[Parallel(n_jobs=8)]: Done  20 tasks      | elapsed:    0.7s\n",
      "[Parallel(n_jobs=8)]: Done  21 tasks      | elapsed:    0.8s\n",
      "[Parallel(n_jobs=8)]: Done  22 tasks      | elapsed:    0.9s\n",
      "[Parallel(n_jobs=8)]: Done  23 tasks      | elapsed:    0.9s\n",
      "[Parallel(n_jobs=8)]: Done  24 tasks      | elapsed:    0.9s\n",
      "[Parallel(n_jobs=8)]: Done  25 tasks      | elapsed:    0.9s\n",
      "[Parallel(n_jobs=8)]: Done  26 tasks      | elapsed:    0.9s\n",
      "[Parallel(n_jobs=8)]: Done  27 tasks      | elapsed:    0.9s\n",
      "[Parallel(n_jobs=8)]: Done  28 tasks      | elapsed:    1.0s\n",
      "[Parallel(n_jobs=8)]: Done  29 tasks      | elapsed:    1.1s\n",
      "[Parallel(n_jobs=8)]: Done  30 tasks      | elapsed:    1.1s\n",
      "[Parallel(n_jobs=8)]: Done  31 tasks      | elapsed:    1.1s\n",
      "[Parallel(n_jobs=8)]: Done  32 tasks      | elapsed:    1.1s\n",
      "[Parallel(n_jobs=8)]: Done  33 tasks      | elapsed:    1.1s\n",
      "[Parallel(n_jobs=8)]: Done  34 tasks      | elapsed:    1.2s\n",
      "[Parallel(n_jobs=8)]: Done  35 tasks      | elapsed:    1.2s\n",
      "[Parallel(n_jobs=8)]: Done  36 tasks      | elapsed:    1.2s\n",
      "[Parallel(n_jobs=8)]: Done  37 tasks      | elapsed:    1.3s\n",
      "[Parallel(n_jobs=8)]: Done  38 tasks      | elapsed:    1.4s\n",
      "[Parallel(n_jobs=8)]: Done  39 tasks      | elapsed:    1.4s\n",
      "[Parallel(n_jobs=8)]: Done  40 tasks      | elapsed:    1.4s\n",
      "[Parallel(n_jobs=8)]: Done  41 tasks      | elapsed:    1.4s\n",
      "[Parallel(n_jobs=8)]: Done  42 tasks      | elapsed:    1.4s\n",
      "[Parallel(n_jobs=8)]: Done  43 tasks      | elapsed:    1.4s\n",
      "[Parallel(n_jobs=8)]: Done  44 tasks      | elapsed:    1.5s\n",
      "[Parallel(n_jobs=8)]: Done  45 tasks      | elapsed:    1.6s\n",
      "[Parallel(n_jobs=8)]: Done  46 tasks      | elapsed:    1.6s\n",
      "[Parallel(n_jobs=8)]: Done  47 tasks      | elapsed:    1.6s\n",
      "[Parallel(n_jobs=8)]: Done  48 tasks      | elapsed:    1.6s\n",
      "[Parallel(n_jobs=8)]: Done  49 tasks      | elapsed:    1.6s\n",
      "[Parallel(n_jobs=8)]: Done  50 out of  64 | elapsed:    1.7s remaining:    0.5s\n",
      "[Parallel(n_jobs=8)]: Done  51 out of  64 | elapsed:    1.7s remaining:    0.4s\n",
      "[Parallel(n_jobs=8)]: Done  52 out of  64 | elapsed:    1.8s remaining:    0.4s\n",
      "[Parallel(n_jobs=8)]: Done  53 out of  64 | elapsed:    1.8s remaining:    0.4s\n",
      "[Parallel(n_jobs=8)]: Done  54 out of  64 | elapsed:    1.9s remaining:    0.3s\n",
      "[Parallel(n_jobs=8)]: Done  55 out of  64 | elapsed:    1.9s remaining:    0.3s\n",
      "[Parallel(n_jobs=8)]: Done  56 out of  64 | elapsed:    1.9s remaining:    0.3s\n",
      "[Parallel(n_jobs=8)]: Done  57 out of  64 | elapsed:    1.9s remaining:    0.2s\n",
      "[Parallel(n_jobs=8)]: Done  58 out of  64 | elapsed:    1.9s remaining:    0.2s\n",
      "[Parallel(n_jobs=8)]: Done  59 out of  64 | elapsed:    1.9s remaining:    0.2s\n",
      "[Parallel(n_jobs=8)]: Done  60 out of  64 | elapsed:    2.0s remaining:    0.1s\n",
      "[Parallel(n_jobs=8)]: Done  61 out of  64 | elapsed:    2.0s remaining:    0.1s\n",
      "[Parallel(n_jobs=8)]: Done  62 out of  64 | elapsed:    2.0s remaining:    0.1s\n",
      "[Parallel(n_jobs=8)]: Done  64 out of  64 | elapsed:    2.0s remaining:    0.0s\n",
      "[Parallel(n_jobs=8)]: Done  64 out of  64 | elapsed:    2.0s finished\n",
      "0.9871431958518339\n"
     ]
    }
   ],
   "source": [
    "print(rfLongModel.score(testInputs, testLabels[:,0]))\n",
    "print(rfLatModel.score(testInputs, testLabels[:,1]))"
   ]
  },
  {
   "cell_type": "code",
   "execution_count": 76,
   "id": "9b88cf70-4b96-4d93-920e-a5d8043f88fd",
   "metadata": {
    "collapsed": true,
    "jupyter": {
     "outputs_hidden": true,
     "source_hidden": true
    },
    "tags": []
   },
   "outputs": [
    {
     "name": "stdout",
     "output_type": "stream",
     "text": [
      "[Parallel(n_jobs=8)]: Using backend ThreadingBackend with 8 concurrent workers.\n",
      "[Parallel(n_jobs=8)]: Done   1 tasks      | elapsed:    0.3s\n",
      "[Parallel(n_jobs=8)]: Done   2 tasks      | elapsed:    0.3s\n",
      "[Parallel(n_jobs=8)]: Done   3 tasks      | elapsed:    0.4s\n",
      "[Parallel(n_jobs=8)]: Done   4 tasks      | elapsed:    0.4s\n",
      "[Parallel(n_jobs=8)]: Done   5 tasks      | elapsed:    0.4s\n",
      "[Parallel(n_jobs=8)]: Done   6 tasks      | elapsed:    0.4s\n",
      "[Parallel(n_jobs=8)]: Done   7 tasks      | elapsed:    0.4s\n",
      "[Parallel(n_jobs=8)]: Done   8 tasks      | elapsed:    0.5s\n",
      "[Parallel(n_jobs=8)]: Done   9 tasks      | elapsed:    0.7s\n",
      "[Parallel(n_jobs=8)]: Done  10 tasks      | elapsed:    0.7s\n",
      "[Parallel(n_jobs=8)]: Done  11 tasks      | elapsed:    0.7s\n",
      "[Parallel(n_jobs=8)]: Done  12 tasks      | elapsed:    0.7s\n",
      "[Parallel(n_jobs=8)]: Done  13 tasks      | elapsed:    0.8s\n",
      "[Parallel(n_jobs=8)]: Done  14 tasks      | elapsed:    0.8s\n",
      "[Parallel(n_jobs=8)]: Done  15 tasks      | elapsed:    0.8s\n",
      "[Parallel(n_jobs=8)]: Done  16 tasks      | elapsed:    0.9s\n",
      "[Parallel(n_jobs=8)]: Done  17 tasks      | elapsed:    1.1s\n",
      "[Parallel(n_jobs=8)]: Done  18 tasks      | elapsed:    1.1s\n",
      "[Parallel(n_jobs=8)]: Done  19 tasks      | elapsed:    1.1s\n",
      "[Parallel(n_jobs=8)]: Done  20 tasks      | elapsed:    1.1s\n",
      "[Parallel(n_jobs=8)]: Done  21 tasks      | elapsed:    1.2s\n",
      "[Parallel(n_jobs=8)]: Done  22 tasks      | elapsed:    1.2s\n",
      "[Parallel(n_jobs=8)]: Done  23 tasks      | elapsed:    1.3s\n",
      "[Parallel(n_jobs=8)]: Done  24 tasks      | elapsed:    1.3s\n",
      "[Parallel(n_jobs=8)]: Done  25 tasks      | elapsed:    1.4s\n",
      "[Parallel(n_jobs=8)]: Done  26 tasks      | elapsed:    1.4s\n",
      "[Parallel(n_jobs=8)]: Done  27 tasks      | elapsed:    1.5s\n",
      "[Parallel(n_jobs=8)]: Done  28 tasks      | elapsed:    1.6s\n",
      "[Parallel(n_jobs=8)]: Done  29 tasks      | elapsed:    1.6s\n",
      "[Parallel(n_jobs=8)]: Done  30 tasks      | elapsed:    1.7s\n",
      "[Parallel(n_jobs=8)]: Done  31 tasks      | elapsed:    1.8s\n",
      "[Parallel(n_jobs=8)]: Done  32 tasks      | elapsed:    1.8s\n",
      "[Parallel(n_jobs=8)]: Done  33 tasks      | elapsed:    1.9s\n",
      "[Parallel(n_jobs=8)]: Done  34 tasks      | elapsed:    1.9s\n",
      "[Parallel(n_jobs=8)]: Done  35 tasks      | elapsed:    1.9s\n",
      "[Parallel(n_jobs=8)]: Done  36 tasks      | elapsed:    1.9s\n",
      "[Parallel(n_jobs=8)]: Done  37 tasks      | elapsed:    2.0s\n",
      "[Parallel(n_jobs=8)]: Done  38 tasks      | elapsed:    2.1s\n",
      "[Parallel(n_jobs=8)]: Done  39 tasks      | elapsed:    2.2s\n",
      "[Parallel(n_jobs=8)]: Done  40 tasks      | elapsed:    2.2s\n",
      "[Parallel(n_jobs=8)]: Done  41 tasks      | elapsed:    2.2s\n",
      "[Parallel(n_jobs=8)]: Done  42 tasks      | elapsed:    2.3s\n",
      "[Parallel(n_jobs=8)]: Done  43 tasks      | elapsed:    2.3s\n",
      "[Parallel(n_jobs=8)]: Done  44 tasks      | elapsed:    2.3s\n",
      "[Parallel(n_jobs=8)]: Done  45 tasks      | elapsed:    2.4s\n",
      "[Parallel(n_jobs=8)]: Done  46 tasks      | elapsed:    2.6s\n",
      "[Parallel(n_jobs=8)]: Done  47 tasks      | elapsed:    2.6s\n",
      "[Parallel(n_jobs=8)]: Done  48 tasks      | elapsed:    2.6s\n",
      "[Parallel(n_jobs=8)]: Done  49 tasks      | elapsed:    2.7s\n",
      "[Parallel(n_jobs=8)]: Done  50 out of  64 | elapsed:    2.7s remaining:    0.7s\n",
      "[Parallel(n_jobs=8)]: Done  51 out of  64 | elapsed:    2.7s remaining:    0.7s\n",
      "[Parallel(n_jobs=8)]: Done  52 out of  64 | elapsed:    2.8s remaining:    0.6s\n",
      "[Parallel(n_jobs=8)]: Done  53 out of  64 | elapsed:    2.8s remaining:    0.6s\n",
      "[Parallel(n_jobs=8)]: Done  54 out of  64 | elapsed:    3.0s remaining:    0.6s\n",
      "[Parallel(n_jobs=8)]: Done  55 out of  64 | elapsed:    3.0s remaining:    0.5s\n",
      "[Parallel(n_jobs=8)]: Done  56 out of  64 | elapsed:    3.0s remaining:    0.4s\n",
      "[Parallel(n_jobs=8)]: Done  57 out of  64 | elapsed:    3.1s remaining:    0.4s\n",
      "[Parallel(n_jobs=8)]: Done  58 out of  64 | elapsed:    3.1s remaining:    0.3s\n",
      "[Parallel(n_jobs=8)]: Done  59 out of  64 | elapsed:    3.1s remaining:    0.3s\n",
      "[Parallel(n_jobs=8)]: Done  60 out of  64 | elapsed:    3.1s remaining:    0.2s\n",
      "[Parallel(n_jobs=8)]: Done  61 out of  64 | elapsed:    3.2s remaining:    0.2s\n",
      "[Parallel(n_jobs=8)]: Done  62 out of  64 | elapsed:    3.2s remaining:    0.1s\n",
      "[Parallel(n_jobs=8)]: Done  64 out of  64 | elapsed:    3.2s remaining:    0.0s\n",
      "[Parallel(n_jobs=8)]: Done  64 out of  64 | elapsed:    3.2s finished\n",
      "0.9772681978014734\n",
      "[Parallel(n_jobs=8)]: Using backend ThreadingBackend with 8 concurrent workers.\n",
      "[Parallel(n_jobs=8)]: Done   1 tasks      | elapsed:    0.4s\n",
      "[Parallel(n_jobs=8)]: Done   2 tasks      | elapsed:    0.4s\n",
      "[Parallel(n_jobs=8)]: Done   3 tasks      | elapsed:    0.4s\n",
      "[Parallel(n_jobs=8)]: Done   4 tasks      | elapsed:    0.4s\n",
      "[Parallel(n_jobs=8)]: Done   5 tasks      | elapsed:    0.4s\n",
      "[Parallel(n_jobs=8)]: Done   6 tasks      | elapsed:    0.4s\n",
      "[Parallel(n_jobs=8)]: Done   7 tasks      | elapsed:    0.5s\n",
      "[Parallel(n_jobs=8)]: Done   8 tasks      | elapsed:    0.5s\n",
      "[Parallel(n_jobs=8)]: Done   9 tasks      | elapsed:    0.8s\n",
      "[Parallel(n_jobs=8)]: Done  10 tasks      | elapsed:    0.8s\n",
      "[Parallel(n_jobs=8)]: Done  11 tasks      | elapsed:    0.8s\n",
      "[Parallel(n_jobs=8)]: Done  12 tasks      | elapsed:    0.9s\n",
      "[Parallel(n_jobs=8)]: Done  13 tasks      | elapsed:    0.9s\n",
      "[Parallel(n_jobs=8)]: Done  14 tasks      | elapsed:    0.9s\n",
      "[Parallel(n_jobs=8)]: Done  15 tasks      | elapsed:    1.0s\n",
      "[Parallel(n_jobs=8)]: Done  16 tasks      | elapsed:    1.0s\n",
      "[Parallel(n_jobs=8)]: Done  17 tasks      | elapsed:    1.2s\n",
      "[Parallel(n_jobs=8)]: Done  18 tasks      | elapsed:    1.2s\n",
      "[Parallel(n_jobs=8)]: Done  19 tasks      | elapsed:    1.3s\n",
      "[Parallel(n_jobs=8)]: Done  20 tasks      | elapsed:    1.4s\n",
      "[Parallel(n_jobs=8)]: Done  21 tasks      | elapsed:    1.4s\n",
      "[Parallel(n_jobs=8)]: Done  22 tasks      | elapsed:    1.4s\n",
      "[Parallel(n_jobs=8)]: Done  23 tasks      | elapsed:    1.4s\n",
      "[Parallel(n_jobs=8)]: Done  24 tasks      | elapsed:    1.4s\n",
      "[Parallel(n_jobs=8)]: Done  25 tasks      | elapsed:    1.7s\n",
      "[Parallel(n_jobs=8)]: Done  26 tasks      | elapsed:    1.7s\n",
      "[Parallel(n_jobs=8)]: Done  27 tasks      | elapsed:    1.8s\n",
      "[Parallel(n_jobs=8)]: Done  28 tasks      | elapsed:    1.8s\n",
      "[Parallel(n_jobs=8)]: Done  29 tasks      | elapsed:    1.8s\n",
      "[Parallel(n_jobs=8)]: Done  30 tasks      | elapsed:    1.8s\n",
      "[Parallel(n_jobs=8)]: Done  31 tasks      | elapsed:    1.9s\n",
      "[Parallel(n_jobs=8)]: Done  32 tasks      | elapsed:    1.9s\n",
      "[Parallel(n_jobs=8)]: Done  33 tasks      | elapsed:    2.1s\n",
      "[Parallel(n_jobs=8)]: Done  34 tasks      | elapsed:    2.3s\n",
      "[Parallel(n_jobs=8)]: Done  35 tasks      | elapsed:    2.3s\n",
      "[Parallel(n_jobs=8)]: Done  36 tasks      | elapsed:    2.3s\n",
      "[Parallel(n_jobs=8)]: Done  37 tasks      | elapsed:    2.3s\n",
      "[Parallel(n_jobs=8)]: Done  38 tasks      | elapsed:    2.3s\n",
      "[Parallel(n_jobs=8)]: Done  39 tasks      | elapsed:    2.3s\n",
      "[Parallel(n_jobs=8)]: Done  40 tasks      | elapsed:    2.4s\n",
      "[Parallel(n_jobs=8)]: Done  41 tasks      | elapsed:    2.5s\n",
      "[Parallel(n_jobs=8)]: Done  42 tasks      | elapsed:    2.7s\n",
      "[Parallel(n_jobs=8)]: Done  43 tasks      | elapsed:    2.7s\n",
      "[Parallel(n_jobs=8)]: Done  44 tasks      | elapsed:    2.7s\n",
      "[Parallel(n_jobs=8)]: Done  45 tasks      | elapsed:    2.7s\n",
      "[Parallel(n_jobs=8)]: Done  46 tasks      | elapsed:    2.8s\n",
      "[Parallel(n_jobs=8)]: Done  47 tasks      | elapsed:    2.8s\n",
      "[Parallel(n_jobs=8)]: Done  48 tasks      | elapsed:    2.8s\n",
      "[Parallel(n_jobs=8)]: Done  49 tasks      | elapsed:    3.0s\n",
      "[Parallel(n_jobs=8)]: Done  50 out of  64 | elapsed:    3.1s remaining:    0.9s\n",
      "[Parallel(n_jobs=8)]: Done  51 out of  64 | elapsed:    3.1s remaining:    0.8s\n",
      "[Parallel(n_jobs=8)]: Done  52 out of  64 | elapsed:    3.1s remaining:    0.7s\n",
      "[Parallel(n_jobs=8)]: Done  53 out of  64 | elapsed:    3.1s remaining:    0.7s\n",
      "[Parallel(n_jobs=8)]: Done  54 out of  64 | elapsed:    3.2s remaining:    0.6s\n",
      "[Parallel(n_jobs=8)]: Done  55 out of  64 | elapsed:    3.3s remaining:    0.5s\n",
      "[Parallel(n_jobs=8)]: Done  56 out of  64 | elapsed:    3.3s remaining:    0.5s\n",
      "[Parallel(n_jobs=8)]: Done  57 out of  64 | elapsed:    3.4s remaining:    0.4s\n",
      "[Parallel(n_jobs=8)]: Done  58 out of  64 | elapsed:    3.5s remaining:    0.4s\n",
      "[Parallel(n_jobs=8)]: Done  59 out of  64 | elapsed:    3.5s remaining:    0.3s\n",
      "[Parallel(n_jobs=8)]: Done  60 out of  64 | elapsed:    3.5s remaining:    0.2s\n",
      "[Parallel(n_jobs=8)]: Done  61 out of  64 | elapsed:    3.5s remaining:    0.2s\n",
      "[Parallel(n_jobs=8)]: Done  62 out of  64 | elapsed:    3.6s remaining:    0.1s\n",
      "[Parallel(n_jobs=8)]: Done  64 out of  64 | elapsed:    3.6s remaining:    0.0s\n",
      "[Parallel(n_jobs=8)]: Done  64 out of  64 | elapsed:    3.6s finished\n",
      "0.9672935225268562\n"
     ]
    }
   ],
   "source": [
    "print(rfLongModel.score(trainInputs, trainLabels[:,0]))\n",
    "print(rfLatModel.score(trainInputs, trainLabels[:,1]))"
   ]
  },
  {
   "cell_type": "code",
   "execution_count": 12,
   "id": "bc535834-8677-4ef0-812f-3d0bbf78f926",
   "metadata": {},
   "outputs": [
    {
     "data": {
      "text/plain": [
       "(228404, 130)"
      ]
     },
     "execution_count": 12,
     "metadata": {},
     "output_type": "execute_result"
    }
   ],
   "source": [
    "testInputs.shape"
   ]
  },
  {
   "cell_type": "code",
   "execution_count": 36,
   "id": "73b9ad29-3abf-4cfb-8e99-cf6523153e40",
   "metadata": {},
   "outputs": [],
   "source": [
    "testDrivePaths = [str(path) for path in Path(\"./otherLargeFiles\").rglob(\"test-drive*.pkl\")]\n",
    "testDrives = []\n",
    "for testDrivePath in testDrivePaths:\n",
    "    testDriveFile = open(testDrivePath, 'rb')\n",
    "    testDrive = pickle.load(testDriveFile)\n",
    "    testDriveFile.close()\n",
    "    testDrive[\"samples\"] = testDrive[\"samples\"][:,:,(0,1,2,5,7,9,10,11,12,13,14,15,16)]\n",
    "    if len(testDrive[\"samples\"].shape) == 3:\n",
    "        testDrive[\"samples\"] = testDrive[\"samples\"].reshape(testDrive[\"samples\"].shape[0],testDrive[\"samples\"].shape[1]*testDrive[\"samples\"].shape[2])\n",
    "    testDrives.append(testDrive)"
   ]
  },
  {
   "cell_type": "code",
   "execution_count": 41,
   "id": "260e7949-d1f2-4b39-98c8-3cd9f6643dbd",
   "metadata": {},
   "outputs": [
    {
     "data": {
      "text/plain": [
       "51"
      ]
     },
     "execution_count": 41,
     "metadata": {},
     "output_type": "execute_result"
    }
   ],
   "source": [
    "len(testDrives)"
   ]
  },
  {
   "cell_type": "code",
   "execution_count": 43,
   "id": "1aad92ed-097f-497f-af18-d9d0a2bd9ec4",
   "metadata": {},
   "outputs": [],
   "source": [
    "testDriveScores = []\n",
    "for testDrive in testDrives:\n",
    "    longScore = xgbLongModel.score(testDrive[\"samples\"], testDrive[\"labels\"][:,0])\n",
    "    latScore = xgbLatModel.score(testDrive[\"samples\"], testDrive[\"labels\"][:,1])\n",
    "    testDriveScores.append([longScore, latScore])\n",
    "testDriveScores = np.array(testDriveScores)"
   ]
  },
  {
   "cell_type": "code",
   "execution_count": 44,
   "id": "6d846674-2fbc-4f50-ba44-dfd4ae376ed0",
   "metadata": {},
   "outputs": [
    {
     "data": {
      "text/html": [
       "<div>\n",
       "<style scoped>\n",
       "    .dataframe tbody tr th:only-of-type {\n",
       "        vertical-align: middle;\n",
       "    }\n",
       "\n",
       "    .dataframe tbody tr th {\n",
       "        vertical-align: top;\n",
       "    }\n",
       "\n",
       "    .dataframe thead th {\n",
       "        text-align: right;\n",
       "    }\n",
       "</style>\n",
       "<table border=\"1\" class=\"dataframe\">\n",
       "  <thead>\n",
       "    <tr style=\"text-align: right;\">\n",
       "      <th></th>\n",
       "      <th>long</th>\n",
       "      <th>lat</th>\n",
       "    </tr>\n",
       "  </thead>\n",
       "  <tbody>\n",
       "    <tr>\n",
       "      <th>count</th>\n",
       "      <td>51.000000</td>\n",
       "      <td>51.000000</td>\n",
       "    </tr>\n",
       "    <tr>\n",
       "      <th>mean</th>\n",
       "      <td>-0.739904</td>\n",
       "      <td>-0.083938</td>\n",
       "    </tr>\n",
       "    <tr>\n",
       "      <th>std</th>\n",
       "      <td>1.920046</td>\n",
       "      <td>1.212332</td>\n",
       "    </tr>\n",
       "    <tr>\n",
       "      <th>min</th>\n",
       "      <td>-8.243637</td>\n",
       "      <td>-4.453251</td>\n",
       "    </tr>\n",
       "    <tr>\n",
       "      <th>25%</th>\n",
       "      <td>-2.006684</td>\n",
       "      <td>-0.342005</td>\n",
       "    </tr>\n",
       "    <tr>\n",
       "      <th>50%</th>\n",
       "      <td>-0.179089</td>\n",
       "      <td>0.204119</td>\n",
       "    </tr>\n",
       "    <tr>\n",
       "      <th>75%</th>\n",
       "      <td>0.821230</td>\n",
       "      <td>0.899429</td>\n",
       "    </tr>\n",
       "    <tr>\n",
       "      <th>max</th>\n",
       "      <td>0.981760</td>\n",
       "      <td>0.977233</td>\n",
       "    </tr>\n",
       "  </tbody>\n",
       "</table>\n",
       "</div>"
      ],
      "text/plain": [
       "            long        lat\n",
       "count  51.000000  51.000000\n",
       "mean   -0.739904  -0.083938\n",
       "std     1.920046   1.212332\n",
       "min    -8.243637  -4.453251\n",
       "25%    -2.006684  -0.342005\n",
       "50%    -0.179089   0.204119\n",
       "75%     0.821230   0.899429\n",
       "max     0.981760   0.977233"
      ]
     },
     "execution_count": 44,
     "metadata": {},
     "output_type": "execute_result"
    }
   ],
   "source": [
    "pd.DataFrame({\"long\":testDriveScores[:,0], \"lat\":testDriveScores[:,1]}).describe()"
   ]
  },
  {
   "cell_type": "markdown",
   "id": "8ec27da7-c1d8-472c-93d1-cb150e6dc337",
   "metadata": {},
   "source": [
    "## Leave One Out"
   ]
  },
  {
   "cell_type": "code",
   "execution_count": 68,
   "id": "7d7fa2aa-c69b-43ec-aa13-e40348fd7537",
   "metadata": {},
   "outputs": [
    {
     "name": "stdout",
     "output_type": "stream",
     "text": [
      "Traing round 0 of 179\n",
      "Finished training round 0 of 179\n",
      "Scores on left out drive: -0.4581168884355671 -1.0583682167950097\n",
      "Time Elapsed: 145.3076171875\n",
      "Traing round 1 of 179\n"
     ]
    },
    {
     "name": "stderr",
     "output_type": "stream",
     "text": [
      "/home/isaac/anaconda3/envs/tensorflow/lib/python3.8/site-packages/xgboost/data.py:119: UserWarning: Use subset (sliced data) of np.ndarray is not recommended because it will generate extra copies and increase memory consumption\n",
      "  warnings.warn(\n"
     ]
    },
    {
     "name": "stdout",
     "output_type": "stream",
     "text": [
      "Finished training round 1 of 179\n",
      "Scores on left out drive: -4.754040160781092 -2.7844865164898263\n",
      "Time Elapsed: 287.14841318130493\n",
      "Traing round 2 of 179\n"
     ]
    },
    {
     "name": "stderr",
     "output_type": "stream",
     "text": [
      "/home/isaac/anaconda3/envs/tensorflow/lib/python3.8/site-packages/xgboost/data.py:119: UserWarning: Use subset (sliced data) of np.ndarray is not recommended because it will generate extra copies and increase memory consumption\n",
      "  warnings.warn(\n"
     ]
    },
    {
     "name": "stdout",
     "output_type": "stream",
     "text": [
      "Finished training round 2 of 179\n",
      "Scores on left out drive: -0.9873083941699317 -0.23139064110116947\n",
      "Time Elapsed: 429.9687023162842\n",
      "Traing round 3 of 179\n"
     ]
    },
    {
     "name": "stderr",
     "output_type": "stream",
     "text": [
      "/home/isaac/anaconda3/envs/tensorflow/lib/python3.8/site-packages/xgboost/data.py:119: UserWarning: Use subset (sliced data) of np.ndarray is not recommended because it will generate extra copies and increase memory consumption\n",
      "  warnings.warn(\n"
     ]
    },
    {
     "name": "stdout",
     "output_type": "stream",
     "text": [
      "Finished training round 3 of 179\n",
      "Scores on left out drive: -0.1397257698338672 -0.5988570415362517\n",
      "Time Elapsed: 579.137692451477\n",
      "Traing round 4 of 179\n"
     ]
    },
    {
     "name": "stderr",
     "output_type": "stream",
     "text": [
      "/home/isaac/anaconda3/envs/tensorflow/lib/python3.8/site-packages/xgboost/data.py:119: UserWarning: Use subset (sliced data) of np.ndarray is not recommended because it will generate extra copies and increase memory consumption\n",
      "  warnings.warn(\n"
     ]
    },
    {
     "name": "stdout",
     "output_type": "stream",
     "text": [
      "Finished training round 4 of 179\n",
      "Scores on left out drive: 0.06610190852154374 -0.7717376424856124\n",
      "Time Elapsed: 731.4109528064728\n",
      "Traing round 5 of 179\n"
     ]
    },
    {
     "name": "stderr",
     "output_type": "stream",
     "text": [
      "/home/isaac/anaconda3/envs/tensorflow/lib/python3.8/site-packages/xgboost/data.py:119: UserWarning: Use subset (sliced data) of np.ndarray is not recommended because it will generate extra copies and increase memory consumption\n",
      "  warnings.warn(\n"
     ]
    },
    {
     "name": "stdout",
     "output_type": "stream",
     "text": [
      "Finished training round 5 of 179\n",
      "Scores on left out drive: 0.1319323169645803 -0.45967255217583913\n",
      "Time Elapsed: 879.4982216358185\n",
      "Traing round 6 of 179\n"
     ]
    },
    {
     "name": "stderr",
     "output_type": "stream",
     "text": [
      "/home/isaac/anaconda3/envs/tensorflow/lib/python3.8/site-packages/xgboost/data.py:119: UserWarning: Use subset (sliced data) of np.ndarray is not recommended because it will generate extra copies and increase memory consumption\n",
      "  warnings.warn(\n"
     ]
    },
    {
     "name": "stdout",
     "output_type": "stream",
     "text": [
      "Finished training round 6 of 179\n",
      "Scores on left out drive: -4.308610203104617 -3.80657720154438\n",
      "Time Elapsed: 999.0614955425262\n",
      "Traing round 7 of 179\n"
     ]
    },
    {
     "name": "stderr",
     "output_type": "stream",
     "text": [
      "/home/isaac/anaconda3/envs/tensorflow/lib/python3.8/site-packages/xgboost/data.py:119: UserWarning: Use subset (sliced data) of np.ndarray is not recommended because it will generate extra copies and increase memory consumption\n",
      "  warnings.warn(\n"
     ]
    },
    {
     "name": "stdout",
     "output_type": "stream",
     "text": [
      "Finished training round 7 of 179\n",
      "Scores on left out drive: -1.8549210710798367 0.5656503442607781\n",
      "Time Elapsed: 1143.750704050064\n",
      "Traing round 8 of 179\n"
     ]
    },
    {
     "name": "stderr",
     "output_type": "stream",
     "text": [
      "/home/isaac/anaconda3/envs/tensorflow/lib/python3.8/site-packages/xgboost/data.py:119: UserWarning: Use subset (sliced data) of np.ndarray is not recommended because it will generate extra copies and increase memory consumption\n",
      "  warnings.warn(\n"
     ]
    },
    {
     "name": "stdout",
     "output_type": "stream",
     "text": [
      "Finished training round 8 of 179\n",
      "Scores on left out drive: 0.4959736190938231 -0.15386032273820893\n",
      "Time Elapsed: 1290.655589580536\n",
      "Traing round 9 of 179\n"
     ]
    },
    {
     "name": "stderr",
     "output_type": "stream",
     "text": [
      "/home/isaac/anaconda3/envs/tensorflow/lib/python3.8/site-packages/xgboost/data.py:119: UserWarning: Use subset (sliced data) of np.ndarray is not recommended because it will generate extra copies and increase memory consumption\n",
      "  warnings.warn(\n"
     ]
    },
    {
     "name": "stdout",
     "output_type": "stream",
     "text": [
      "Finished training round 9 of 179\n",
      "Scores on left out drive: -0.7893714679658936 -1.4697592909997903\n",
      "Time Elapsed: 1440.0006783008575\n",
      "Traing round 10 of 179\n"
     ]
    },
    {
     "name": "stderr",
     "output_type": "stream",
     "text": [
      "/home/isaac/anaconda3/envs/tensorflow/lib/python3.8/site-packages/xgboost/data.py:119: UserWarning: Use subset (sliced data) of np.ndarray is not recommended because it will generate extra copies and increase memory consumption\n",
      "  warnings.warn(\n"
     ]
    },
    {
     "name": "stdout",
     "output_type": "stream",
     "text": [
      "Finished training round 10 of 179\n",
      "Scores on left out drive: -3.0083909345989444 0.3567729422122565\n",
      "Time Elapsed: 1584.424789428711\n",
      "Traing round 11 of 179\n"
     ]
    },
    {
     "name": "stderr",
     "output_type": "stream",
     "text": [
      "/home/isaac/anaconda3/envs/tensorflow/lib/python3.8/site-packages/xgboost/data.py:119: UserWarning: Use subset (sliced data) of np.ndarray is not recommended because it will generate extra copies and increase memory consumption\n",
      "  warnings.warn(\n"
     ]
    },
    {
     "name": "stdout",
     "output_type": "stream",
     "text": [
      "Finished training round 11 of 179\n",
      "Scores on left out drive: -1.6600026570338002 -0.9428486071054876\n",
      "Time Elapsed: 1733.5318262577057\n",
      "Traing round 12 of 179\n"
     ]
    },
    {
     "name": "stderr",
     "output_type": "stream",
     "text": [
      "/home/isaac/anaconda3/envs/tensorflow/lib/python3.8/site-packages/xgboost/data.py:119: UserWarning: Use subset (sliced data) of np.ndarray is not recommended because it will generate extra copies and increase memory consumption\n",
      "  warnings.warn(\n"
     ]
    },
    {
     "name": "stdout",
     "output_type": "stream",
     "text": [
      "Finished training round 12 of 179\n",
      "Scores on left out drive: -1.6068245541232673 0.22029642293400054\n",
      "Time Elapsed: 1882.6574368476868\n",
      "Traing round 13 of 179\n"
     ]
    },
    {
     "name": "stderr",
     "output_type": "stream",
     "text": [
      "/home/isaac/anaconda3/envs/tensorflow/lib/python3.8/site-packages/xgboost/data.py:119: UserWarning: Use subset (sliced data) of np.ndarray is not recommended because it will generate extra copies and increase memory consumption\n",
      "  warnings.warn(\n"
     ]
    },
    {
     "name": "stdout",
     "output_type": "stream",
     "text": [
      "Finished training round 13 of 179\n",
      "Scores on left out drive: -0.6131451505727934 -0.694415796243232\n",
      "Time Elapsed: 2033.011024236679\n",
      "Traing round 14 of 179\n"
     ]
    },
    {
     "name": "stderr",
     "output_type": "stream",
     "text": [
      "/home/isaac/anaconda3/envs/tensorflow/lib/python3.8/site-packages/xgboost/data.py:119: UserWarning: Use subset (sliced data) of np.ndarray is not recommended because it will generate extra copies and increase memory consumption\n",
      "  warnings.warn(\n"
     ]
    },
    {
     "name": "stdout",
     "output_type": "stream",
     "text": [
      "Finished training round 14 of 179\n",
      "Scores on left out drive: -1.277330871586258 0.2393365640038757\n",
      "Time Elapsed: 2182.2127344608307\n",
      "Traing round 15 of 179\n"
     ]
    },
    {
     "name": "stderr",
     "output_type": "stream",
     "text": [
      "/home/isaac/anaconda3/envs/tensorflow/lib/python3.8/site-packages/xgboost/data.py:119: UserWarning: Use subset (sliced data) of np.ndarray is not recommended because it will generate extra copies and increase memory consumption\n",
      "  warnings.warn(\n"
     ]
    },
    {
     "name": "stdout",
     "output_type": "stream",
     "text": [
      "Finished training round 15 of 179\n",
      "Scores on left out drive: -0.11464565342179389 0.1986366310023896\n",
      "Time Elapsed: 2328.8198823928833\n",
      "Traing round 16 of 179\n"
     ]
    },
    {
     "name": "stderr",
     "output_type": "stream",
     "text": [
      "/home/isaac/anaconda3/envs/tensorflow/lib/python3.8/site-packages/xgboost/data.py:119: UserWarning: Use subset (sliced data) of np.ndarray is not recommended because it will generate extra copies and increase memory consumption\n",
      "  warnings.warn(\n"
     ]
    },
    {
     "name": "stdout",
     "output_type": "stream",
     "text": [
      "Finished training round 16 of 179\n",
      "Scores on left out drive: -0.8040427929600609 -0.20970708876692679\n",
      "Time Elapsed: 2488.3857555389404\n",
      "Traing round 17 of 179\n"
     ]
    },
    {
     "name": "stderr",
     "output_type": "stream",
     "text": [
      "/home/isaac/anaconda3/envs/tensorflow/lib/python3.8/site-packages/xgboost/data.py:119: UserWarning: Use subset (sliced data) of np.ndarray is not recommended because it will generate extra copies and increase memory consumption\n",
      "  warnings.warn(\n"
     ]
    },
    {
     "name": "stdout",
     "output_type": "stream",
     "text": [
      "Finished training round 17 of 179\n",
      "Scores on left out drive: -0.11600539258476417 0.3808538856819056\n",
      "Time Elapsed: 2633.5218987464905\n",
      "Traing round 18 of 179\n"
     ]
    },
    {
     "name": "stderr",
     "output_type": "stream",
     "text": [
      "/home/isaac/anaconda3/envs/tensorflow/lib/python3.8/site-packages/xgboost/data.py:119: UserWarning: Use subset (sliced data) of np.ndarray is not recommended because it will generate extra copies and increase memory consumption\n",
      "  warnings.warn(\n"
     ]
    },
    {
     "name": "stdout",
     "output_type": "stream",
     "text": [
      "Finished training round 18 of 179\n",
      "Scores on left out drive: -0.4319035248177594 -0.8156163436005086\n",
      "Time Elapsed: 2785.5943253040314\n",
      "Traing round 19 of 179\n"
     ]
    },
    {
     "name": "stderr",
     "output_type": "stream",
     "text": [
      "/home/isaac/anaconda3/envs/tensorflow/lib/python3.8/site-packages/xgboost/data.py:119: UserWarning: Use subset (sliced data) of np.ndarray is not recommended because it will generate extra copies and increase memory consumption\n",
      "  warnings.warn(\n"
     ]
    },
    {
     "name": "stdout",
     "output_type": "stream",
     "text": [
      "Finished training round 19 of 179\n",
      "Scores on left out drive: 0.30154366054045734 0.7273502782135095\n",
      "Time Elapsed: 2931.5086929798126\n",
      "Traing round 20 of 179\n"
     ]
    },
    {
     "name": "stderr",
     "output_type": "stream",
     "text": [
      "/home/isaac/anaconda3/envs/tensorflow/lib/python3.8/site-packages/xgboost/data.py:119: UserWarning: Use subset (sliced data) of np.ndarray is not recommended because it will generate extra copies and increase memory consumption\n",
      "  warnings.warn(\n"
     ]
    },
    {
     "name": "stdout",
     "output_type": "stream",
     "text": [
      "Finished training round 20 of 179\n",
      "Scores on left out drive: -2.1965891988650994 -1.7785148278194036\n",
      "Time Elapsed: 3083.6972918510437\n",
      "Traing round 21 of 179\n"
     ]
    },
    {
     "name": "stderr",
     "output_type": "stream",
     "text": [
      "/home/isaac/anaconda3/envs/tensorflow/lib/python3.8/site-packages/xgboost/data.py:119: UserWarning: Use subset (sliced data) of np.ndarray is not recommended because it will generate extra copies and increase memory consumption\n",
      "  warnings.warn(\n"
     ]
    },
    {
     "name": "stdout",
     "output_type": "stream",
     "text": [
      "Finished training round 21 of 179\n",
      "Scores on left out drive: -0.3433095132167756 -0.48527479858963707\n",
      "Time Elapsed: 3233.225035905838\n",
      "Traing round 22 of 179\n"
     ]
    },
    {
     "name": "stderr",
     "output_type": "stream",
     "text": [
      "/home/isaac/anaconda3/envs/tensorflow/lib/python3.8/site-packages/xgboost/data.py:119: UserWarning: Use subset (sliced data) of np.ndarray is not recommended because it will generate extra copies and increase memory consumption\n",
      "  warnings.warn(\n"
     ]
    },
    {
     "name": "stdout",
     "output_type": "stream",
     "text": [
      "Finished training round 22 of 179\n",
      "Scores on left out drive: -0.962704401098613 0.4485578981889521\n",
      "Time Elapsed: 3381.178455591202\n",
      "Traing round 23 of 179\n"
     ]
    },
    {
     "name": "stderr",
     "output_type": "stream",
     "text": [
      "/home/isaac/anaconda3/envs/tensorflow/lib/python3.8/site-packages/xgboost/data.py:119: UserWarning: Use subset (sliced data) of np.ndarray is not recommended because it will generate extra copies and increase memory consumption\n",
      "  warnings.warn(\n"
     ]
    },
    {
     "name": "stdout",
     "output_type": "stream",
     "text": [
      "Finished training round 23 of 179\n",
      "Scores on left out drive: -2.244538642095203 -0.96339610857996\n",
      "Time Elapsed: 3533.197588443756\n",
      "Traing round 24 of 179\n"
     ]
    },
    {
     "name": "stderr",
     "output_type": "stream",
     "text": [
      "/home/isaac/anaconda3/envs/tensorflow/lib/python3.8/site-packages/xgboost/data.py:119: UserWarning: Use subset (sliced data) of np.ndarray is not recommended because it will generate extra copies and increase memory consumption\n",
      "  warnings.warn(\n"
     ]
    },
    {
     "name": "stdout",
     "output_type": "stream",
     "text": [
      "Finished training round 24 of 179\n",
      "Scores on left out drive: -0.8152158026240803 -0.34777406087822405\n",
      "Time Elapsed: 3687.6172635555267\n",
      "Traing round 25 of 179\n"
     ]
    },
    {
     "name": "stderr",
     "output_type": "stream",
     "text": [
      "/home/isaac/anaconda3/envs/tensorflow/lib/python3.8/site-packages/xgboost/data.py:119: UserWarning: Use subset (sliced data) of np.ndarray is not recommended because it will generate extra copies and increase memory consumption\n",
      "  warnings.warn(\n"
     ]
    },
    {
     "name": "stdout",
     "output_type": "stream",
     "text": [
      "Finished training round 25 of 179\n",
      "Scores on left out drive: -0.7123162145517294 0.11017604795688651\n",
      "Time Elapsed: 3835.412388086319\n",
      "Traing round 26 of 179\n"
     ]
    },
    {
     "name": "stderr",
     "output_type": "stream",
     "text": [
      "/home/isaac/anaconda3/envs/tensorflow/lib/python3.8/site-packages/xgboost/data.py:119: UserWarning: Use subset (sliced data) of np.ndarray is not recommended because it will generate extra copies and increase memory consumption\n",
      "  warnings.warn(\n"
     ]
    },
    {
     "name": "stdout",
     "output_type": "stream",
     "text": [
      "Finished training round 26 of 179\n",
      "Scores on left out drive: -0.9607040018676014 -0.6278116125719553\n",
      "Time Elapsed: 3984.784994363785\n",
      "Traing round 27 of 179\n"
     ]
    },
    {
     "name": "stderr",
     "output_type": "stream",
     "text": [
      "/home/isaac/anaconda3/envs/tensorflow/lib/python3.8/site-packages/xgboost/data.py:119: UserWarning: Use subset (sliced data) of np.ndarray is not recommended because it will generate extra copies and increase memory consumption\n",
      "  warnings.warn(\n"
     ]
    },
    {
     "name": "stdout",
     "output_type": "stream",
     "text": [
      "Finished training round 27 of 179\n",
      "Scores on left out drive: -0.4884687087445825 0.061205161850302336\n",
      "Time Elapsed: 4131.018128156662\n",
      "Traing round 28 of 179\n"
     ]
    },
    {
     "name": "stderr",
     "output_type": "stream",
     "text": [
      "/home/isaac/anaconda3/envs/tensorflow/lib/python3.8/site-packages/xgboost/data.py:119: UserWarning: Use subset (sliced data) of np.ndarray is not recommended because it will generate extra copies and increase memory consumption\n",
      "  warnings.warn(\n"
     ]
    },
    {
     "name": "stdout",
     "output_type": "stream",
     "text": [
      "Finished training round 28 of 179\n",
      "Scores on left out drive: 0.5979305544263248 0.4882147156722062\n",
      "Time Elapsed: 4277.192352294922\n",
      "Traing round 29 of 179\n"
     ]
    },
    {
     "name": "stderr",
     "output_type": "stream",
     "text": [
      "/home/isaac/anaconda3/envs/tensorflow/lib/python3.8/site-packages/xgboost/data.py:119: UserWarning: Use subset (sliced data) of np.ndarray is not recommended because it will generate extra copies and increase memory consumption\n",
      "  warnings.warn(\n"
     ]
    },
    {
     "name": "stdout",
     "output_type": "stream",
     "text": [
      "Finished training round 29 of 179\n",
      "Scores on left out drive: 0.3940794191849225 0.32534031973760147\n",
      "Time Elapsed: 4425.788507938385\n",
      "Traing round 30 of 179\n"
     ]
    },
    {
     "name": "stderr",
     "output_type": "stream",
     "text": [
      "/home/isaac/anaconda3/envs/tensorflow/lib/python3.8/site-packages/xgboost/data.py:119: UserWarning: Use subset (sliced data) of np.ndarray is not recommended because it will generate extra copies and increase memory consumption\n",
      "  warnings.warn(\n"
     ]
    },
    {
     "name": "stdout",
     "output_type": "stream",
     "text": [
      "Finished training round 30 of 179\n",
      "Scores on left out drive: 0.49147741446249205 0.5551565648313246\n",
      "Time Elapsed: 4576.330721139908\n",
      "Traing round 31 of 179\n"
     ]
    },
    {
     "name": "stderr",
     "output_type": "stream",
     "text": [
      "/home/isaac/anaconda3/envs/tensorflow/lib/python3.8/site-packages/xgboost/data.py:119: UserWarning: Use subset (sliced data) of np.ndarray is not recommended because it will generate extra copies and increase memory consumption\n",
      "  warnings.warn(\n"
     ]
    },
    {
     "name": "stdout",
     "output_type": "stream",
     "text": [
      "Finished training round 31 of 179\n",
      "Scores on left out drive: -0.3962336873121395 -0.11390020434536496\n",
      "Time Elapsed: 4725.036436796188\n",
      "Traing round 32 of 179\n"
     ]
    },
    {
     "name": "stderr",
     "output_type": "stream",
     "text": [
      "/home/isaac/anaconda3/envs/tensorflow/lib/python3.8/site-packages/xgboost/data.py:119: UserWarning: Use subset (sliced data) of np.ndarray is not recommended because it will generate extra copies and increase memory consumption\n",
      "  warnings.warn(\n"
     ]
    },
    {
     "name": "stdout",
     "output_type": "stream",
     "text": [
      "Finished training round 32 of 179\n",
      "Scores on left out drive: -1.7550080475224399 0.5725395248600604\n",
      "Time Elapsed: 4871.371484279633\n",
      "Traing round 33 of 179\n"
     ]
    },
    {
     "name": "stderr",
     "output_type": "stream",
     "text": [
      "/home/isaac/anaconda3/envs/tensorflow/lib/python3.8/site-packages/xgboost/data.py:119: UserWarning: Use subset (sliced data) of np.ndarray is not recommended because it will generate extra copies and increase memory consumption\n",
      "  warnings.warn(\n"
     ]
    },
    {
     "name": "stdout",
     "output_type": "stream",
     "text": [
      "Finished training round 33 of 179\n",
      "Scores on left out drive: -0.08881587803645785 -0.6999593033240916\n",
      "Time Elapsed: 5020.939261674881\n",
      "Traing round 34 of 179\n"
     ]
    },
    {
     "name": "stderr",
     "output_type": "stream",
     "text": [
      "/home/isaac/anaconda3/envs/tensorflow/lib/python3.8/site-packages/xgboost/data.py:119: UserWarning: Use subset (sliced data) of np.ndarray is not recommended because it will generate extra copies and increase memory consumption\n",
      "  warnings.warn(\n"
     ]
    },
    {
     "name": "stdout",
     "output_type": "stream",
     "text": [
      "Finished training round 34 of 179\n",
      "Scores on left out drive: -2.434598729594399 -0.41459121659491993\n",
      "Time Elapsed: 5169.353941202164\n",
      "Traing round 35 of 179\n"
     ]
    },
    {
     "name": "stderr",
     "output_type": "stream",
     "text": [
      "/home/isaac/anaconda3/envs/tensorflow/lib/python3.8/site-packages/xgboost/data.py:119: UserWarning: Use subset (sliced data) of np.ndarray is not recommended because it will generate extra copies and increase memory consumption\n",
      "  warnings.warn(\n"
     ]
    },
    {
     "name": "stdout",
     "output_type": "stream",
     "text": [
      "Finished training round 35 of 179\n",
      "Scores on left out drive: -4.651388865815489 0.49698474250511293\n",
      "Time Elapsed: 5316.507430791855\n",
      "Traing round 36 of 179\n"
     ]
    },
    {
     "name": "stderr",
     "output_type": "stream",
     "text": [
      "/home/isaac/anaconda3/envs/tensorflow/lib/python3.8/site-packages/xgboost/data.py:119: UserWarning: Use subset (sliced data) of np.ndarray is not recommended because it will generate extra copies and increase memory consumption\n",
      "  warnings.warn(\n"
     ]
    },
    {
     "name": "stdout",
     "output_type": "stream",
     "text": [
      "Finished training round 36 of 179\n",
      "Scores on left out drive: -2.967858129463949 0.5898510387503294\n",
      "Time Elapsed: 5463.648679018021\n",
      "Traing round 37 of 179\n"
     ]
    },
    {
     "name": "stderr",
     "output_type": "stream",
     "text": [
      "/home/isaac/anaconda3/envs/tensorflow/lib/python3.8/site-packages/xgboost/data.py:119: UserWarning: Use subset (sliced data) of np.ndarray is not recommended because it will generate extra copies and increase memory consumption\n",
      "  warnings.warn(\n"
     ]
    },
    {
     "name": "stdout",
     "output_type": "stream",
     "text": [
      "Finished training round 37 of 179\n",
      "Scores on left out drive: 0.08852693733326378 0.2726735521083512\n",
      "Time Elapsed: 5613.561845064163\n",
      "Traing round 38 of 179\n"
     ]
    },
    {
     "name": "stderr",
     "output_type": "stream",
     "text": [
      "/home/isaac/anaconda3/envs/tensorflow/lib/python3.8/site-packages/xgboost/data.py:119: UserWarning: Use subset (sliced data) of np.ndarray is not recommended because it will generate extra copies and increase memory consumption\n",
      "  warnings.warn(\n"
     ]
    },
    {
     "name": "stdout",
     "output_type": "stream",
     "text": [
      "Finished training round 38 of 179\n",
      "Scores on left out drive: -1.3466384670637663 0.5184998198947712\n",
      "Time Elapsed: 5758.41560792923\n",
      "Traing round 39 of 179\n"
     ]
    },
    {
     "name": "stderr",
     "output_type": "stream",
     "text": [
      "/home/isaac/anaconda3/envs/tensorflow/lib/python3.8/site-packages/xgboost/data.py:119: UserWarning: Use subset (sliced data) of np.ndarray is not recommended because it will generate extra copies and increase memory consumption\n",
      "  warnings.warn(\n"
     ]
    },
    {
     "name": "stdout",
     "output_type": "stream",
     "text": [
      "Finished training round 39 of 179\n",
      "Scores on left out drive: -0.6116480651939831 -0.45848178557432195\n",
      "Time Elapsed: 5909.891633987427\n",
      "Traing round 40 of 179\n"
     ]
    },
    {
     "name": "stderr",
     "output_type": "stream",
     "text": [
      "/home/isaac/anaconda3/envs/tensorflow/lib/python3.8/site-packages/xgboost/data.py:119: UserWarning: Use subset (sliced data) of np.ndarray is not recommended because it will generate extra copies and increase memory consumption\n",
      "  warnings.warn(\n"
     ]
    },
    {
     "name": "stdout",
     "output_type": "stream",
     "text": [
      "Finished training round 40 of 179\n",
      "Scores on left out drive: -0.6189597666146223 -2.0982221637985665\n",
      "Time Elapsed: 6057.38568687439\n",
      "Traing round 41 of 179\n"
     ]
    },
    {
     "name": "stderr",
     "output_type": "stream",
     "text": [
      "/home/isaac/anaconda3/envs/tensorflow/lib/python3.8/site-packages/xgboost/data.py:119: UserWarning: Use subset (sliced data) of np.ndarray is not recommended because it will generate extra copies and increase memory consumption\n",
      "  warnings.warn(\n"
     ]
    },
    {
     "name": "stdout",
     "output_type": "stream",
     "text": [
      "Finished training round 41 of 179\n",
      "Scores on left out drive: 0.22319639052174545 0.6318427378226652\n",
      "Time Elapsed: 6205.353867053986\n",
      "Traing round 42 of 179\n"
     ]
    },
    {
     "name": "stderr",
     "output_type": "stream",
     "text": [
      "/home/isaac/anaconda3/envs/tensorflow/lib/python3.8/site-packages/xgboost/data.py:119: UserWarning: Use subset (sliced data) of np.ndarray is not recommended because it will generate extra copies and increase memory consumption\n",
      "  warnings.warn(\n"
     ]
    },
    {
     "name": "stdout",
     "output_type": "stream",
     "text": [
      "Finished training round 42 of 179\n",
      "Scores on left out drive: -0.8420378072325778 -28.6888730033202\n",
      "Time Elapsed: 6351.835725545883\n",
      "Traing round 43 of 179\n"
     ]
    },
    {
     "name": "stderr",
     "output_type": "stream",
     "text": [
      "/home/isaac/anaconda3/envs/tensorflow/lib/python3.8/site-packages/xgboost/data.py:119: UserWarning: Use subset (sliced data) of np.ndarray is not recommended because it will generate extra copies and increase memory consumption\n",
      "  warnings.warn(\n"
     ]
    },
    {
     "name": "stdout",
     "output_type": "stream",
     "text": [
      "Finished training round 43 of 179\n",
      "Scores on left out drive: 0.3027143548340314 0.17425178159031107\n",
      "Time Elapsed: 6496.888055324554\n",
      "Traing round 44 of 179\n"
     ]
    },
    {
     "name": "stderr",
     "output_type": "stream",
     "text": [
      "/home/isaac/anaconda3/envs/tensorflow/lib/python3.8/site-packages/xgboost/data.py:119: UserWarning: Use subset (sliced data) of np.ndarray is not recommended because it will generate extra copies and increase memory consumption\n",
      "  warnings.warn(\n"
     ]
    },
    {
     "name": "stdout",
     "output_type": "stream",
     "text": [
      "Finished training round 44 of 179\n",
      "Scores on left out drive: -3.596724677493645 -1.0964937915378608\n",
      "Time Elapsed: 6644.918540716171\n",
      "Traing round 45 of 179\n"
     ]
    },
    {
     "name": "stderr",
     "output_type": "stream",
     "text": [
      "/home/isaac/anaconda3/envs/tensorflow/lib/python3.8/site-packages/xgboost/data.py:119: UserWarning: Use subset (sliced data) of np.ndarray is not recommended because it will generate extra copies and increase memory consumption\n",
      "  warnings.warn(\n"
     ]
    },
    {
     "name": "stdout",
     "output_type": "stream",
     "text": [
      "Finished training round 45 of 179\n",
      "Scores on left out drive: -0.36492007725232267 -1.2637355224380906\n",
      "Time Elapsed: 6791.5333206653595\n",
      "Traing round 46 of 179\n"
     ]
    },
    {
     "name": "stderr",
     "output_type": "stream",
     "text": [
      "/home/isaac/anaconda3/envs/tensorflow/lib/python3.8/site-packages/xgboost/data.py:119: UserWarning: Use subset (sliced data) of np.ndarray is not recommended because it will generate extra copies and increase memory consumption\n",
      "  warnings.warn(\n"
     ]
    },
    {
     "name": "stdout",
     "output_type": "stream",
     "text": [
      "Finished training round 46 of 179\n",
      "Scores on left out drive: -0.633363492543765 -1.9654894728591148\n",
      "Time Elapsed: 6936.263709783554\n",
      "Traing round 47 of 179\n"
     ]
    },
    {
     "name": "stderr",
     "output_type": "stream",
     "text": [
      "/home/isaac/anaconda3/envs/tensorflow/lib/python3.8/site-packages/xgboost/data.py:119: UserWarning: Use subset (sliced data) of np.ndarray is not recommended because it will generate extra copies and increase memory consumption\n",
      "  warnings.warn(\n"
     ]
    },
    {
     "name": "stdout",
     "output_type": "stream",
     "text": [
      "Finished training round 47 of 179\n",
      "Scores on left out drive: -0.1261465781060167 0.4396773637139869\n",
      "Time Elapsed: 7089.961844205856\n",
      "Traing round 48 of 179\n"
     ]
    },
    {
     "name": "stderr",
     "output_type": "stream",
     "text": [
      "/home/isaac/anaconda3/envs/tensorflow/lib/python3.8/site-packages/xgboost/data.py:119: UserWarning: Use subset (sliced data) of np.ndarray is not recommended because it will generate extra copies and increase memory consumption\n",
      "  warnings.warn(\n"
     ]
    },
    {
     "name": "stdout",
     "output_type": "stream",
     "text": [
      "Finished training round 48 of 179\n",
      "Scores on left out drive: -0.6617666570357186 -9.164665754342055\n",
      "Time Elapsed: 7237.916774988174\n",
      "Traing round 49 of 179\n"
     ]
    },
    {
     "name": "stderr",
     "output_type": "stream",
     "text": [
      "/home/isaac/anaconda3/envs/tensorflow/lib/python3.8/site-packages/xgboost/data.py:119: UserWarning: Use subset (sliced data) of np.ndarray is not recommended because it will generate extra copies and increase memory consumption\n",
      "  warnings.warn(\n"
     ]
    },
    {
     "name": "stdout",
     "output_type": "stream",
     "text": [
      "Finished training round 49 of 179\n",
      "Scores on left out drive: -0.8992278534273255 -0.008602149888510935\n",
      "Time Elapsed: 7385.380467891693\n",
      "Traing round 50 of 179\n"
     ]
    },
    {
     "name": "stderr",
     "output_type": "stream",
     "text": [
      "/home/isaac/anaconda3/envs/tensorflow/lib/python3.8/site-packages/xgboost/data.py:119: UserWarning: Use subset (sliced data) of np.ndarray is not recommended because it will generate extra copies and increase memory consumption\n",
      "  warnings.warn(\n"
     ]
    },
    {
     "name": "stdout",
     "output_type": "stream",
     "text": [
      "Finished training round 50 of 179\n",
      "Scores on left out drive: -1.0194133677617767 0.5856391546874224\n",
      "Time Elapsed: 7533.850281715393\n",
      "Traing round 51 of 179\n"
     ]
    },
    {
     "name": "stderr",
     "output_type": "stream",
     "text": [
      "/home/isaac/anaconda3/envs/tensorflow/lib/python3.8/site-packages/xgboost/data.py:119: UserWarning: Use subset (sliced data) of np.ndarray is not recommended because it will generate extra copies and increase memory consumption\n",
      "  warnings.warn(\n"
     ]
    },
    {
     "name": "stdout",
     "output_type": "stream",
     "text": [
      "Finished training round 51 of 179\n",
      "Scores on left out drive: -0.03703050919306783 -1.3300040843795355\n",
      "Time Elapsed: 7687.504657268524\n",
      "Traing round 52 of 179\n"
     ]
    },
    {
     "name": "stderr",
     "output_type": "stream",
     "text": [
      "/home/isaac/anaconda3/envs/tensorflow/lib/python3.8/site-packages/xgboost/data.py:119: UserWarning: Use subset (sliced data) of np.ndarray is not recommended because it will generate extra copies and increase memory consumption\n",
      "  warnings.warn(\n"
     ]
    },
    {
     "name": "stdout",
     "output_type": "stream",
     "text": [
      "Finished training round 52 of 179\n",
      "Scores on left out drive: -0.9882342520464631 -0.8621839534410869\n",
      "Time Elapsed: 7837.947928905487\n",
      "Traing round 53 of 179\n"
     ]
    },
    {
     "name": "stderr",
     "output_type": "stream",
     "text": [
      "/home/isaac/anaconda3/envs/tensorflow/lib/python3.8/site-packages/xgboost/data.py:119: UserWarning: Use subset (sliced data) of np.ndarray is not recommended because it will generate extra copies and increase memory consumption\n",
      "  warnings.warn(\n"
     ]
    },
    {
     "name": "stdout",
     "output_type": "stream",
     "text": [
      "Finished training round 53 of 179\n",
      "Scores on left out drive: -0.3684438060605051 -0.8699614884848175\n",
      "Time Elapsed: 7985.786913871765\n",
      "Traing round 54 of 179\n"
     ]
    },
    {
     "name": "stderr",
     "output_type": "stream",
     "text": [
      "/home/isaac/anaconda3/envs/tensorflow/lib/python3.8/site-packages/xgboost/data.py:119: UserWarning: Use subset (sliced data) of np.ndarray is not recommended because it will generate extra copies and increase memory consumption\n",
      "  warnings.warn(\n"
     ]
    },
    {
     "name": "stdout",
     "output_type": "stream",
     "text": [
      "Finished training round 54 of 179\n",
      "Scores on left out drive: -1.393923325677434 -1.3169590603982613\n",
      "Time Elapsed: 8135.39529466629\n",
      "Traing round 55 of 179\n"
     ]
    },
    {
     "name": "stderr",
     "output_type": "stream",
     "text": [
      "/home/isaac/anaconda3/envs/tensorflow/lib/python3.8/site-packages/xgboost/data.py:119: UserWarning: Use subset (sliced data) of np.ndarray is not recommended because it will generate extra copies and increase memory consumption\n",
      "  warnings.warn(\n"
     ]
    },
    {
     "name": "stdout",
     "output_type": "stream",
     "text": [
      "Finished training round 55 of 179\n",
      "Scores on left out drive: -2.3297259524600826 0.29831510767427594\n",
      "Time Elapsed: 8280.864711761475\n",
      "Traing round 56 of 179\n"
     ]
    },
    {
     "name": "stderr",
     "output_type": "stream",
     "text": [
      "/home/isaac/anaconda3/envs/tensorflow/lib/python3.8/site-packages/xgboost/data.py:119: UserWarning: Use subset (sliced data) of np.ndarray is not recommended because it will generate extra copies and increase memory consumption\n",
      "  warnings.warn(\n"
     ]
    },
    {
     "name": "stdout",
     "output_type": "stream",
     "text": [
      "Finished training round 56 of 179\n",
      "Scores on left out drive: 0.18849529225051265 -1.2445693823316009\n",
      "Time Elapsed: 8434.410310268402\n",
      "Traing round 57 of 179\n"
     ]
    },
    {
     "name": "stderr",
     "output_type": "stream",
     "text": [
      "/home/isaac/anaconda3/envs/tensorflow/lib/python3.8/site-packages/xgboost/data.py:119: UserWarning: Use subset (sliced data) of np.ndarray is not recommended because it will generate extra copies and increase memory consumption\n",
      "  warnings.warn(\n"
     ]
    },
    {
     "name": "stdout",
     "output_type": "stream",
     "text": [
      "Finished training round 57 of 179\n",
      "Scores on left out drive: -2.2648837228729564 0.71889364475001\n",
      "Time Elapsed: 8579.275179624557\n",
      "Traing round 58 of 179\n"
     ]
    },
    {
     "name": "stderr",
     "output_type": "stream",
     "text": [
      "/home/isaac/anaconda3/envs/tensorflow/lib/python3.8/site-packages/xgboost/data.py:119: UserWarning: Use subset (sliced data) of np.ndarray is not recommended because it will generate extra copies and increase memory consumption\n",
      "  warnings.warn(\n"
     ]
    },
    {
     "name": "stdout",
     "output_type": "stream",
     "text": [
      "Finished training round 58 of 179\n",
      "Scores on left out drive: -0.20418375100326802 -0.31563236122123506\n",
      "Time Elapsed: 8730.723962068558\n",
      "Traing round 59 of 179\n"
     ]
    },
    {
     "name": "stderr",
     "output_type": "stream",
     "text": [
      "/home/isaac/anaconda3/envs/tensorflow/lib/python3.8/site-packages/xgboost/data.py:119: UserWarning: Use subset (sliced data) of np.ndarray is not recommended because it will generate extra copies and increase memory consumption\n",
      "  warnings.warn(\n"
     ]
    },
    {
     "name": "stdout",
     "output_type": "stream",
     "text": [
      "Finished training round 59 of 179\n",
      "Scores on left out drive: -0.008652599121800275 -0.3317784409038016\n",
      "Time Elapsed: 8873.135788679123\n",
      "Traing round 60 of 179\n"
     ]
    },
    {
     "name": "stderr",
     "output_type": "stream",
     "text": [
      "/home/isaac/anaconda3/envs/tensorflow/lib/python3.8/site-packages/xgboost/data.py:119: UserWarning: Use subset (sliced data) of np.ndarray is not recommended because it will generate extra copies and increase memory consumption\n",
      "  warnings.warn(\n"
     ]
    },
    {
     "name": "stdout",
     "output_type": "stream",
     "text": [
      "Finished training round 60 of 179\n",
      "Scores on left out drive: 0.37076182150397685 0.2564878437150777\n",
      "Time Elapsed: 9026.164555072784\n",
      "Traing round 61 of 179\n"
     ]
    },
    {
     "name": "stderr",
     "output_type": "stream",
     "text": [
      "/home/isaac/anaconda3/envs/tensorflow/lib/python3.8/site-packages/xgboost/data.py:119: UserWarning: Use subset (sliced data) of np.ndarray is not recommended because it will generate extra copies and increase memory consumption\n",
      "  warnings.warn(\n"
     ]
    },
    {
     "name": "stdout",
     "output_type": "stream",
     "text": [
      "Finished training round 61 of 179\n",
      "Scores on left out drive: -2.640201950740333 0.5663389121660973\n",
      "Time Elapsed: 9171.699166297913\n",
      "Traing round 62 of 179\n"
     ]
    },
    {
     "name": "stderr",
     "output_type": "stream",
     "text": [
      "/home/isaac/anaconda3/envs/tensorflow/lib/python3.8/site-packages/xgboost/data.py:119: UserWarning: Use subset (sliced data) of np.ndarray is not recommended because it will generate extra copies and increase memory consumption\n",
      "  warnings.warn(\n"
     ]
    },
    {
     "name": "stdout",
     "output_type": "stream",
     "text": [
      "Finished training round 62 of 179\n",
      "Scores on left out drive: -0.9517299060829092 0.15432235472337075\n",
      "Time Elapsed: 9320.188831806183\n",
      "Traing round 63 of 179\n"
     ]
    },
    {
     "name": "stderr",
     "output_type": "stream",
     "text": [
      "/home/isaac/anaconda3/envs/tensorflow/lib/python3.8/site-packages/xgboost/data.py:119: UserWarning: Use subset (sliced data) of np.ndarray is not recommended because it will generate extra copies and increase memory consumption\n",
      "  warnings.warn(\n"
     ]
    },
    {
     "name": "stdout",
     "output_type": "stream",
     "text": [
      "Finished training round 63 of 179\n",
      "Scores on left out drive: 0.22357018622028757 0.4108327608270056\n",
      "Time Elapsed: 9467.483584880829\n",
      "Traing round 64 of 179\n"
     ]
    },
    {
     "name": "stderr",
     "output_type": "stream",
     "text": [
      "/home/isaac/anaconda3/envs/tensorflow/lib/python3.8/site-packages/xgboost/data.py:119: UserWarning: Use subset (sliced data) of np.ndarray is not recommended because it will generate extra copies and increase memory consumption\n",
      "  warnings.warn(\n"
     ]
    },
    {
     "name": "stdout",
     "output_type": "stream",
     "text": [
      "Finished training round 64 of 179\n",
      "Scores on left out drive: -0.6273033342087015 -2.058187645840837\n",
      "Time Elapsed: 9617.626340150833\n",
      "Traing round 65 of 179\n"
     ]
    },
    {
     "name": "stderr",
     "output_type": "stream",
     "text": [
      "/home/isaac/anaconda3/envs/tensorflow/lib/python3.8/site-packages/xgboost/data.py:119: UserWarning: Use subset (sliced data) of np.ndarray is not recommended because it will generate extra copies and increase memory consumption\n",
      "  warnings.warn(\n"
     ]
    },
    {
     "name": "stdout",
     "output_type": "stream",
     "text": [
      "Finished training round 65 of 179\n",
      "Scores on left out drive: -1.1436712502153887 -0.46531382396369203\n",
      "Time Elapsed: 9771.838686704636\n",
      "Traing round 66 of 179\n"
     ]
    },
    {
     "name": "stderr",
     "output_type": "stream",
     "text": [
      "/home/isaac/anaconda3/envs/tensorflow/lib/python3.8/site-packages/xgboost/data.py:119: UserWarning: Use subset (sliced data) of np.ndarray is not recommended because it will generate extra copies and increase memory consumption\n",
      "  warnings.warn(\n"
     ]
    },
    {
     "name": "stdout",
     "output_type": "stream",
     "text": [
      "Finished training round 66 of 179\n",
      "Scores on left out drive: -0.5123891162082992 -0.9393718783994625\n",
      "Time Elapsed: 9924.11739230156\n",
      "Traing round 67 of 179\n"
     ]
    },
    {
     "name": "stderr",
     "output_type": "stream",
     "text": [
      "/home/isaac/anaconda3/envs/tensorflow/lib/python3.8/site-packages/xgboost/data.py:119: UserWarning: Use subset (sliced data) of np.ndarray is not recommended because it will generate extra copies and increase memory consumption\n",
      "  warnings.warn(\n"
     ]
    },
    {
     "name": "stdout",
     "output_type": "stream",
     "text": [
      "Finished training round 67 of 179\n",
      "Scores on left out drive: -1.6317353126550311 -0.7523371815982303\n",
      "Time Elapsed: 10074.576110363007\n",
      "Traing round 68 of 179\n"
     ]
    },
    {
     "name": "stderr",
     "output_type": "stream",
     "text": [
      "/home/isaac/anaconda3/envs/tensorflow/lib/python3.8/site-packages/xgboost/data.py:119: UserWarning: Use subset (sliced data) of np.ndarray is not recommended because it will generate extra copies and increase memory consumption\n",
      "  warnings.warn(\n"
     ]
    },
    {
     "name": "stdout",
     "output_type": "stream",
     "text": [
      "Finished training round 68 of 179\n",
      "Scores on left out drive: 0.4377416141224836 0.2819909400734527\n",
      "Time Elapsed: 10218.42205786705\n",
      "Traing round 69 of 179\n"
     ]
    },
    {
     "name": "stderr",
     "output_type": "stream",
     "text": [
      "/home/isaac/anaconda3/envs/tensorflow/lib/python3.8/site-packages/xgboost/data.py:119: UserWarning: Use subset (sliced data) of np.ndarray is not recommended because it will generate extra copies and increase memory consumption\n",
      "  warnings.warn(\n"
     ]
    },
    {
     "name": "stdout",
     "output_type": "stream",
     "text": [
      "Finished training round 69 of 179\n",
      "Scores on left out drive: -0.8343662634343261 -0.8571296279892955\n",
      "Time Elapsed: 10372.235401630402\n",
      "Traing round 70 of 179\n"
     ]
    },
    {
     "name": "stderr",
     "output_type": "stream",
     "text": [
      "/home/isaac/anaconda3/envs/tensorflow/lib/python3.8/site-packages/xgboost/data.py:119: UserWarning: Use subset (sliced data) of np.ndarray is not recommended because it will generate extra copies and increase memory consumption\n",
      "  warnings.warn(\n"
     ]
    },
    {
     "name": "stdout",
     "output_type": "stream",
     "text": [
      "Finished training round 70 of 179\n",
      "Scores on left out drive: -0.11608393190043209 0.5834035459128281\n",
      "Time Elapsed: 10520.789852619171\n",
      "Traing round 71 of 179\n"
     ]
    },
    {
     "name": "stderr",
     "output_type": "stream",
     "text": [
      "/home/isaac/anaconda3/envs/tensorflow/lib/python3.8/site-packages/xgboost/data.py:119: UserWarning: Use subset (sliced data) of np.ndarray is not recommended because it will generate extra copies and increase memory consumption\n",
      "  warnings.warn(\n"
     ]
    },
    {
     "name": "stdout",
     "output_type": "stream",
     "text": [
      "Finished training round 71 of 179\n",
      "Scores on left out drive: -4.374826754618208 0.6630240512768977\n",
      "Time Elapsed: 10680.474106550217\n",
      "Traing round 72 of 179\n"
     ]
    },
    {
     "name": "stderr",
     "output_type": "stream",
     "text": [
      "/home/isaac/anaconda3/envs/tensorflow/lib/python3.8/site-packages/xgboost/data.py:119: UserWarning: Use subset (sliced data) of np.ndarray is not recommended because it will generate extra copies and increase memory consumption\n",
      "  warnings.warn(\n"
     ]
    },
    {
     "name": "stdout",
     "output_type": "stream",
     "text": [
      "Finished training round 72 of 179\n",
      "Scores on left out drive: -0.5127316615636754 0.43265365202734474\n",
      "Time Elapsed: 10826.442857980728\n",
      "Traing round 73 of 179\n"
     ]
    },
    {
     "name": "stderr",
     "output_type": "stream",
     "text": [
      "/home/isaac/anaconda3/envs/tensorflow/lib/python3.8/site-packages/xgboost/data.py:119: UserWarning: Use subset (sliced data) of np.ndarray is not recommended because it will generate extra copies and increase memory consumption\n",
      "  warnings.warn(\n"
     ]
    },
    {
     "name": "stdout",
     "output_type": "stream",
     "text": [
      "Finished training round 73 of 179\n",
      "Scores on left out drive: 0.4521523392111749 0.4921870386688685\n",
      "Time Elapsed: 10984.171535730362\n",
      "Traing round 74 of 179\n"
     ]
    },
    {
     "name": "stderr",
     "output_type": "stream",
     "text": [
      "/home/isaac/anaconda3/envs/tensorflow/lib/python3.8/site-packages/xgboost/data.py:119: UserWarning: Use subset (sliced data) of np.ndarray is not recommended because it will generate extra copies and increase memory consumption\n",
      "  warnings.warn(\n"
     ]
    },
    {
     "name": "stdout",
     "output_type": "stream",
     "text": [
      "Finished training round 74 of 179\n",
      "Scores on left out drive: -0.9537721964071222 0.633658276824685\n",
      "Time Elapsed: 11132.133079528809\n",
      "Traing round 75 of 179\n"
     ]
    },
    {
     "name": "stderr",
     "output_type": "stream",
     "text": [
      "/home/isaac/anaconda3/envs/tensorflow/lib/python3.8/site-packages/xgboost/data.py:119: UserWarning: Use subset (sliced data) of np.ndarray is not recommended because it will generate extra copies and increase memory consumption\n",
      "  warnings.warn(\n"
     ]
    },
    {
     "name": "stdout",
     "output_type": "stream",
     "text": [
      "Finished training round 75 of 179\n",
      "Scores on left out drive: 0.3994356827711991 -0.7156840360810306\n",
      "Time Elapsed: 11278.980664730072\n",
      "Traing round 76 of 179\n"
     ]
    },
    {
     "name": "stderr",
     "output_type": "stream",
     "text": [
      "/home/isaac/anaconda3/envs/tensorflow/lib/python3.8/site-packages/xgboost/data.py:119: UserWarning: Use subset (sliced data) of np.ndarray is not recommended because it will generate extra copies and increase memory consumption\n",
      "  warnings.warn(\n"
     ]
    },
    {
     "name": "stdout",
     "output_type": "stream",
     "text": [
      "Finished training round 76 of 179\n",
      "Scores on left out drive: -1.8013857656833143 0.057015774234756234\n",
      "Time Elapsed: 11426.278111696243\n",
      "Traing round 77 of 179\n"
     ]
    },
    {
     "name": "stderr",
     "output_type": "stream",
     "text": [
      "/home/isaac/anaconda3/envs/tensorflow/lib/python3.8/site-packages/xgboost/data.py:119: UserWarning: Use subset (sliced data) of np.ndarray is not recommended because it will generate extra copies and increase memory consumption\n",
      "  warnings.warn(\n"
     ]
    },
    {
     "name": "stdout",
     "output_type": "stream",
     "text": [
      "Finished training round 77 of 179\n",
      "Scores on left out drive: 0.2622018809126935 0.4414100392215802\n",
      "Time Elapsed: 11574.613322019577\n",
      "Traing round 78 of 179\n"
     ]
    },
    {
     "name": "stderr",
     "output_type": "stream",
     "text": [
      "/home/isaac/anaconda3/envs/tensorflow/lib/python3.8/site-packages/xgboost/data.py:119: UserWarning: Use subset (sliced data) of np.ndarray is not recommended because it will generate extra copies and increase memory consumption\n",
      "  warnings.warn(\n"
     ]
    },
    {
     "name": "stdout",
     "output_type": "stream",
     "text": [
      "Finished training round 78 of 179\n",
      "Scores on left out drive: -3.3591516533925674 -0.40614430272321567\n",
      "Time Elapsed: 11727.251386165619\n",
      "Traing round 79 of 179\n"
     ]
    },
    {
     "name": "stderr",
     "output_type": "stream",
     "text": [
      "/home/isaac/anaconda3/envs/tensorflow/lib/python3.8/site-packages/xgboost/data.py:119: UserWarning: Use subset (sliced data) of np.ndarray is not recommended because it will generate extra copies and increase memory consumption\n",
      "  warnings.warn(\n"
     ]
    },
    {
     "name": "stdout",
     "output_type": "stream",
     "text": [
      "Finished training round 79 of 179\n",
      "Scores on left out drive: -0.7450028514456382 -0.7956375263936715\n",
      "Time Elapsed: 11880.480897903442\n",
      "Traing round 80 of 179\n"
     ]
    },
    {
     "name": "stderr",
     "output_type": "stream",
     "text": [
      "/home/isaac/anaconda3/envs/tensorflow/lib/python3.8/site-packages/xgboost/data.py:119: UserWarning: Use subset (sliced data) of np.ndarray is not recommended because it will generate extra copies and increase memory consumption\n",
      "  warnings.warn(\n"
     ]
    },
    {
     "name": "stdout",
     "output_type": "stream",
     "text": [
      "Finished training round 80 of 179\n",
      "Scores on left out drive: -0.2892642067507254 0.17462350824379314\n",
      "Time Elapsed: 12031.198203086853\n",
      "Traing round 81 of 179\n"
     ]
    },
    {
     "name": "stderr",
     "output_type": "stream",
     "text": [
      "/home/isaac/anaconda3/envs/tensorflow/lib/python3.8/site-packages/xgboost/data.py:119: UserWarning: Use subset (sliced data) of np.ndarray is not recommended because it will generate extra copies and increase memory consumption\n",
      "  warnings.warn(\n"
     ]
    },
    {
     "name": "stdout",
     "output_type": "stream",
     "text": [
      "Finished training round 81 of 179\n",
      "Scores on left out drive: -3.145806041808229 -0.6804674436263505\n",
      "Time Elapsed: 12182.560598373413\n",
      "Traing round 82 of 179\n"
     ]
    },
    {
     "name": "stderr",
     "output_type": "stream",
     "text": [
      "/home/isaac/anaconda3/envs/tensorflow/lib/python3.8/site-packages/xgboost/data.py:119: UserWarning: Use subset (sliced data) of np.ndarray is not recommended because it will generate extra copies and increase memory consumption\n",
      "  warnings.warn(\n"
     ]
    },
    {
     "name": "stdout",
     "output_type": "stream",
     "text": [
      "Finished training round 82 of 179\n",
      "Scores on left out drive: -0.6362632242916832 -0.15678728733820724\n",
      "Time Elapsed: 12332.459304094315\n",
      "Traing round 83 of 179\n"
     ]
    },
    {
     "name": "stderr",
     "output_type": "stream",
     "text": [
      "/home/isaac/anaconda3/envs/tensorflow/lib/python3.8/site-packages/xgboost/data.py:119: UserWarning: Use subset (sliced data) of np.ndarray is not recommended because it will generate extra copies and increase memory consumption\n",
      "  warnings.warn(\n"
     ]
    },
    {
     "name": "stdout",
     "output_type": "stream",
     "text": [
      "Finished training round 83 of 179\n",
      "Scores on left out drive: 0.7427035409544197 0.6433623069399851\n",
      "Time Elapsed: 12475.772078752518\n",
      "Traing round 84 of 179\n"
     ]
    },
    {
     "name": "stderr",
     "output_type": "stream",
     "text": [
      "/home/isaac/anaconda3/envs/tensorflow/lib/python3.8/site-packages/xgboost/data.py:119: UserWarning: Use subset (sliced data) of np.ndarray is not recommended because it will generate extra copies and increase memory consumption\n",
      "  warnings.warn(\n"
     ]
    },
    {
     "name": "stdout",
     "output_type": "stream",
     "text": [
      "Finished training round 84 of 179\n",
      "Scores on left out drive: -0.40039811092036315 -0.2516859172779917\n",
      "Time Elapsed: 12627.823956251144\n",
      "Traing round 85 of 179\n"
     ]
    },
    {
     "name": "stderr",
     "output_type": "stream",
     "text": [
      "/home/isaac/anaconda3/envs/tensorflow/lib/python3.8/site-packages/xgboost/data.py:119: UserWarning: Use subset (sliced data) of np.ndarray is not recommended because it will generate extra copies and increase memory consumption\n",
      "  warnings.warn(\n"
     ]
    },
    {
     "name": "stdout",
     "output_type": "stream",
     "text": [
      "Finished training round 85 of 179\n",
      "Scores on left out drive: 0.29430487105666014 -0.2915525789903093\n",
      "Time Elapsed: 12777.928584575653\n",
      "Traing round 86 of 179\n"
     ]
    },
    {
     "name": "stderr",
     "output_type": "stream",
     "text": [
      "/home/isaac/anaconda3/envs/tensorflow/lib/python3.8/site-packages/xgboost/data.py:119: UserWarning: Use subset (sliced data) of np.ndarray is not recommended because it will generate extra copies and increase memory consumption\n",
      "  warnings.warn(\n"
     ]
    },
    {
     "name": "stdout",
     "output_type": "stream",
     "text": [
      "Finished training round 86 of 179\n",
      "Scores on left out drive: 0.14437561614317262 -1.0163708227664916\n",
      "Time Elapsed: 12929.558412790298\n",
      "Traing round 87 of 179\n"
     ]
    },
    {
     "name": "stderr",
     "output_type": "stream",
     "text": [
      "/home/isaac/anaconda3/envs/tensorflow/lib/python3.8/site-packages/xgboost/data.py:119: UserWarning: Use subset (sliced data) of np.ndarray is not recommended because it will generate extra copies and increase memory consumption\n",
      "  warnings.warn(\n"
     ]
    },
    {
     "name": "stdout",
     "output_type": "stream",
     "text": [
      "Finished training round 87 of 179\n",
      "Scores on left out drive: -1.2543307140063145 -0.8811690812297632\n",
      "Time Elapsed: 13085.356028079987\n",
      "Traing round 88 of 179\n"
     ]
    },
    {
     "name": "stderr",
     "output_type": "stream",
     "text": [
      "/home/isaac/anaconda3/envs/tensorflow/lib/python3.8/site-packages/xgboost/data.py:119: UserWarning: Use subset (sliced data) of np.ndarray is not recommended because it will generate extra copies and increase memory consumption\n",
      "  warnings.warn(\n"
     ]
    },
    {
     "name": "stdout",
     "output_type": "stream",
     "text": [
      "Finished training round 88 of 179\n",
      "Scores on left out drive: -0.6093471849023939 -0.14091626445903027\n",
      "Time Elapsed: 13234.791801929474\n",
      "Traing round 89 of 179\n"
     ]
    },
    {
     "name": "stderr",
     "output_type": "stream",
     "text": [
      "/home/isaac/anaconda3/envs/tensorflow/lib/python3.8/site-packages/xgboost/data.py:119: UserWarning: Use subset (sliced data) of np.ndarray is not recommended because it will generate extra copies and increase memory consumption\n",
      "  warnings.warn(\n"
     ]
    },
    {
     "name": "stdout",
     "output_type": "stream",
     "text": [
      "Finished training round 89 of 179\n",
      "Scores on left out drive: -1.0611376892384414 -0.8185793040667049\n",
      "Time Elapsed: 13388.072490930557\n",
      "Traing round 90 of 179\n"
     ]
    },
    {
     "name": "stderr",
     "output_type": "stream",
     "text": [
      "/home/isaac/anaconda3/envs/tensorflow/lib/python3.8/site-packages/xgboost/data.py:119: UserWarning: Use subset (sliced data) of np.ndarray is not recommended because it will generate extra copies and increase memory consumption\n",
      "  warnings.warn(\n"
     ]
    },
    {
     "name": "stdout",
     "output_type": "stream",
     "text": [
      "Finished training round 90 of 179\n",
      "Scores on left out drive: -3.9402425495193176 0.706336912789411\n",
      "Time Elapsed: 13535.672094583511\n",
      "Traing round 91 of 179\n"
     ]
    },
    {
     "name": "stderr",
     "output_type": "stream",
     "text": [
      "/home/isaac/anaconda3/envs/tensorflow/lib/python3.8/site-packages/xgboost/data.py:119: UserWarning: Use subset (sliced data) of np.ndarray is not recommended because it will generate extra copies and increase memory consumption\n",
      "  warnings.warn(\n"
     ]
    },
    {
     "name": "stdout",
     "output_type": "stream",
     "text": [
      "Finished training round 91 of 179\n",
      "Scores on left out drive: 0.17629034703193425 -1.472392268882226\n",
      "Time Elapsed: 13686.554408788681\n",
      "Traing round 92 of 179\n"
     ]
    },
    {
     "name": "stderr",
     "output_type": "stream",
     "text": [
      "/home/isaac/anaconda3/envs/tensorflow/lib/python3.8/site-packages/xgboost/data.py:119: UserWarning: Use subset (sliced data) of np.ndarray is not recommended because it will generate extra copies and increase memory consumption\n",
      "  warnings.warn(\n"
     ]
    },
    {
     "name": "stdout",
     "output_type": "stream",
     "text": [
      "Finished training round 92 of 179\n",
      "Scores on left out drive: 0.10681990377517847 0.6196289750550337\n",
      "Time Elapsed: 13840.855796575546\n",
      "Traing round 93 of 179\n"
     ]
    },
    {
     "name": "stderr",
     "output_type": "stream",
     "text": [
      "/home/isaac/anaconda3/envs/tensorflow/lib/python3.8/site-packages/xgboost/data.py:119: UserWarning: Use subset (sliced data) of np.ndarray is not recommended because it will generate extra copies and increase memory consumption\n",
      "  warnings.warn(\n"
     ]
    },
    {
     "name": "stdout",
     "output_type": "stream",
     "text": [
      "Finished training round 93 of 179\n",
      "Scores on left out drive: -0.20811478576526787 -0.11371803310377193\n",
      "Time Elapsed: 13988.101774930954\n",
      "Traing round 94 of 179\n"
     ]
    },
    {
     "name": "stderr",
     "output_type": "stream",
     "text": [
      "/home/isaac/anaconda3/envs/tensorflow/lib/python3.8/site-packages/xgboost/data.py:119: UserWarning: Use subset (sliced data) of np.ndarray is not recommended because it will generate extra copies and increase memory consumption\n",
      "  warnings.warn(\n"
     ]
    },
    {
     "name": "stdout",
     "output_type": "stream",
     "text": [
      "Finished training round 94 of 179\n",
      "Scores on left out drive: -0.6425962362222966 -0.10784308008408128\n",
      "Time Elapsed: 14133.55488038063\n",
      "Traing round 95 of 179\n"
     ]
    },
    {
     "name": "stderr",
     "output_type": "stream",
     "text": [
      "/home/isaac/anaconda3/envs/tensorflow/lib/python3.8/site-packages/xgboost/data.py:119: UserWarning: Use subset (sliced data) of np.ndarray is not recommended because it will generate extra copies and increase memory consumption\n",
      "  warnings.warn(\n"
     ]
    },
    {
     "name": "stdout",
     "output_type": "stream",
     "text": [
      "Finished training round 95 of 179\n",
      "Scores on left out drive: -0.1141391906849687 -0.506590245415127\n",
      "Time Elapsed: 14279.570176124573\n",
      "Traing round 96 of 179\n"
     ]
    },
    {
     "name": "stderr",
     "output_type": "stream",
     "text": [
      "/home/isaac/anaconda3/envs/tensorflow/lib/python3.8/site-packages/xgboost/data.py:119: UserWarning: Use subset (sliced data) of np.ndarray is not recommended because it will generate extra copies and increase memory consumption\n",
      "  warnings.warn(\n"
     ]
    },
    {
     "name": "stdout",
     "output_type": "stream",
     "text": [
      "Finished training round 96 of 179\n",
      "Scores on left out drive: -0.601752247886431 -1.7970467504179162\n",
      "Time Elapsed: 14427.489615678787\n",
      "Traing round 97 of 179\n"
     ]
    },
    {
     "name": "stderr",
     "output_type": "stream",
     "text": [
      "/home/isaac/anaconda3/envs/tensorflow/lib/python3.8/site-packages/xgboost/data.py:119: UserWarning: Use subset (sliced data) of np.ndarray is not recommended because it will generate extra copies and increase memory consumption\n",
      "  warnings.warn(\n"
     ]
    },
    {
     "name": "stdout",
     "output_type": "stream",
     "text": [
      "Finished training round 97 of 179\n",
      "Scores on left out drive: -3.060080479743359 -0.9473908081752678\n",
      "Time Elapsed: 14577.849331140518\n",
      "Traing round 98 of 179\n"
     ]
    },
    {
     "name": "stderr",
     "output_type": "stream",
     "text": [
      "/home/isaac/anaconda3/envs/tensorflow/lib/python3.8/site-packages/xgboost/data.py:119: UserWarning: Use subset (sliced data) of np.ndarray is not recommended because it will generate extra copies and increase memory consumption\n",
      "  warnings.warn(\n"
     ]
    },
    {
     "name": "stdout",
     "output_type": "stream",
     "text": [
      "Finished training round 98 of 179\n",
      "Scores on left out drive: -1.3044900090136466 -0.8934546032978168\n",
      "Time Elapsed: 14731.984827518463\n",
      "Traing round 99 of 179\n"
     ]
    },
    {
     "name": "stderr",
     "output_type": "stream",
     "text": [
      "/home/isaac/anaconda3/envs/tensorflow/lib/python3.8/site-packages/xgboost/data.py:119: UserWarning: Use subset (sliced data) of np.ndarray is not recommended because it will generate extra copies and increase memory consumption\n",
      "  warnings.warn(\n"
     ]
    },
    {
     "name": "stdout",
     "output_type": "stream",
     "text": [
      "Finished training round 99 of 179\n",
      "Scores on left out drive: -1.953868198662009 0.46684430576221403\n",
      "Time Elapsed: 14880.637776851654\n",
      "Traing round 100 of 179\n"
     ]
    },
    {
     "name": "stderr",
     "output_type": "stream",
     "text": [
      "/home/isaac/anaconda3/envs/tensorflow/lib/python3.8/site-packages/xgboost/data.py:119: UserWarning: Use subset (sliced data) of np.ndarray is not recommended because it will generate extra copies and increase memory consumption\n",
      "  warnings.warn(\n"
     ]
    },
    {
     "name": "stdout",
     "output_type": "stream",
     "text": [
      "Finished training round 100 of 179\n",
      "Scores on left out drive: -0.10498568493182048 0.17401877231318508\n",
      "Time Elapsed: 15028.30214047432\n",
      "Traing round 101 of 179\n"
     ]
    },
    {
     "name": "stderr",
     "output_type": "stream",
     "text": [
      "/home/isaac/anaconda3/envs/tensorflow/lib/python3.8/site-packages/xgboost/data.py:119: UserWarning: Use subset (sliced data) of np.ndarray is not recommended because it will generate extra copies and increase memory consumption\n",
      "  warnings.warn(\n"
     ]
    },
    {
     "name": "stdout",
     "output_type": "stream",
     "text": [
      "Finished training round 101 of 179\n",
      "Scores on left out drive: -1.2930310759655068 0.5100675438946671\n",
      "Time Elapsed: 15171.600484609604\n",
      "Traing round 102 of 179\n"
     ]
    },
    {
     "name": "stderr",
     "output_type": "stream",
     "text": [
      "/home/isaac/anaconda3/envs/tensorflow/lib/python3.8/site-packages/xgboost/data.py:119: UserWarning: Use subset (sliced data) of np.ndarray is not recommended because it will generate extra copies and increase memory consumption\n",
      "  warnings.warn(\n"
     ]
    },
    {
     "name": "stdout",
     "output_type": "stream",
     "text": [
      "Finished training round 102 of 179\n",
      "Scores on left out drive: -2.2420719762353762 -4.561365006624269\n",
      "Time Elapsed: 15320.920548677444\n",
      "Traing round 103 of 179\n"
     ]
    },
    {
     "name": "stderr",
     "output_type": "stream",
     "text": [
      "/home/isaac/anaconda3/envs/tensorflow/lib/python3.8/site-packages/xgboost/data.py:119: UserWarning: Use subset (sliced data) of np.ndarray is not recommended because it will generate extra copies and increase memory consumption\n",
      "  warnings.warn(\n"
     ]
    },
    {
     "name": "stdout",
     "output_type": "stream",
     "text": [
      "Finished training round 103 of 179\n",
      "Scores on left out drive: -2.9643387306104723 -4.534562558257714\n",
      "Time Elapsed: 15469.568194389343\n",
      "Traing round 104 of 179\n"
     ]
    },
    {
     "name": "stderr",
     "output_type": "stream",
     "text": [
      "/home/isaac/anaconda3/envs/tensorflow/lib/python3.8/site-packages/xgboost/data.py:119: UserWarning: Use subset (sliced data) of np.ndarray is not recommended because it will generate extra copies and increase memory consumption\n",
      "  warnings.warn(\n"
     ]
    },
    {
     "name": "stdout",
     "output_type": "stream",
     "text": [
      "Finished training round 104 of 179\n",
      "Scores on left out drive: -1.6568495116537236 0.4437814052417476\n",
      "Time Elapsed: 15614.878701925278\n",
      "Traing round 105 of 179\n"
     ]
    },
    {
     "name": "stderr",
     "output_type": "stream",
     "text": [
      "/home/isaac/anaconda3/envs/tensorflow/lib/python3.8/site-packages/xgboost/data.py:119: UserWarning: Use subset (sliced data) of np.ndarray is not recommended because it will generate extra copies and increase memory consumption\n",
      "  warnings.warn(\n"
     ]
    },
    {
     "name": "stdout",
     "output_type": "stream",
     "text": [
      "Finished training round 105 of 179\n",
      "Scores on left out drive: 0.06621719867375764 -0.04244104161341333\n",
      "Time Elapsed: 15764.128836393356\n",
      "Traing round 106 of 179\n"
     ]
    },
    {
     "name": "stderr",
     "output_type": "stream",
     "text": [
      "/home/isaac/anaconda3/envs/tensorflow/lib/python3.8/site-packages/xgboost/data.py:119: UserWarning: Use subset (sliced data) of np.ndarray is not recommended because it will generate extra copies and increase memory consumption\n",
      "  warnings.warn(\n"
     ]
    },
    {
     "name": "stdout",
     "output_type": "stream",
     "text": [
      "Finished training round 106 of 179\n",
      "Scores on left out drive: -0.6878654957610888 -0.2280610279206685\n",
      "Time Elapsed: 15916.847532510757\n",
      "Traing round 107 of 179\n"
     ]
    },
    {
     "name": "stderr",
     "output_type": "stream",
     "text": [
      "/home/isaac/anaconda3/envs/tensorflow/lib/python3.8/site-packages/xgboost/data.py:119: UserWarning: Use subset (sliced data) of np.ndarray is not recommended because it will generate extra copies and increase memory consumption\n",
      "  warnings.warn(\n"
     ]
    },
    {
     "name": "stdout",
     "output_type": "stream",
     "text": [
      "Finished training round 107 of 179\n",
      "Scores on left out drive: 0.46526090939023435 0.5396886872902749\n",
      "Time Elapsed: 16065.284311771393\n",
      "Traing round 108 of 179\n"
     ]
    },
    {
     "name": "stderr",
     "output_type": "stream",
     "text": [
      "/home/isaac/anaconda3/envs/tensorflow/lib/python3.8/site-packages/xgboost/data.py:119: UserWarning: Use subset (sliced data) of np.ndarray is not recommended because it will generate extra copies and increase memory consumption\n",
      "  warnings.warn(\n"
     ]
    },
    {
     "name": "stdout",
     "output_type": "stream",
     "text": [
      "Finished training round 108 of 179\n",
      "Scores on left out drive: -0.45234713955749983 -0.5595121539858663\n",
      "Time Elapsed: 16213.649402856827\n",
      "Traing round 109 of 179\n"
     ]
    },
    {
     "name": "stderr",
     "output_type": "stream",
     "text": [
      "/home/isaac/anaconda3/envs/tensorflow/lib/python3.8/site-packages/xgboost/data.py:119: UserWarning: Use subset (sliced data) of np.ndarray is not recommended because it will generate extra copies and increase memory consumption\n",
      "  warnings.warn(\n"
     ]
    },
    {
     "name": "stdout",
     "output_type": "stream",
     "text": [
      "Finished training round 109 of 179\n",
      "Scores on left out drive: -2.051971699496244 0.5454580251366921\n",
      "Time Elapsed: 16359.060654878616\n",
      "Traing round 110 of 179\n"
     ]
    },
    {
     "name": "stderr",
     "output_type": "stream",
     "text": [
      "/home/isaac/anaconda3/envs/tensorflow/lib/python3.8/site-packages/xgboost/data.py:119: UserWarning: Use subset (sliced data) of np.ndarray is not recommended because it will generate extra copies and increase memory consumption\n",
      "  warnings.warn(\n"
     ]
    },
    {
     "name": "stdout",
     "output_type": "stream",
     "text": [
      "Finished training round 110 of 179\n",
      "Scores on left out drive: -1.9741179370370006 -0.5527007240047912\n",
      "Time Elapsed: 16503.675284147263\n",
      "Traing round 111 of 179\n"
     ]
    },
    {
     "name": "stderr",
     "output_type": "stream",
     "text": [
      "/home/isaac/anaconda3/envs/tensorflow/lib/python3.8/site-packages/xgboost/data.py:119: UserWarning: Use subset (sliced data) of np.ndarray is not recommended because it will generate extra copies and increase memory consumption\n",
      "  warnings.warn(\n"
     ]
    },
    {
     "name": "stdout",
     "output_type": "stream",
     "text": [
      "Finished training round 111 of 179\n",
      "Scores on left out drive: 0.1973067887986778 0.6181594974887359\n",
      "Time Elapsed: 16650.80371427536\n",
      "Traing round 112 of 179\n"
     ]
    },
    {
     "name": "stderr",
     "output_type": "stream",
     "text": [
      "/home/isaac/anaconda3/envs/tensorflow/lib/python3.8/site-packages/xgboost/data.py:119: UserWarning: Use subset (sliced data) of np.ndarray is not recommended because it will generate extra copies and increase memory consumption\n",
      "  warnings.warn(\n"
     ]
    },
    {
     "name": "stdout",
     "output_type": "stream",
     "text": [
      "Finished training round 112 of 179\n",
      "Scores on left out drive: 0.3698848171233019 0.43536882528215604\n",
      "Time Elapsed: 16798.635543346405\n",
      "Traing round 113 of 179\n"
     ]
    },
    {
     "name": "stderr",
     "output_type": "stream",
     "text": [
      "/home/isaac/anaconda3/envs/tensorflow/lib/python3.8/site-packages/xgboost/data.py:119: UserWarning: Use subset (sliced data) of np.ndarray is not recommended because it will generate extra copies and increase memory consumption\n",
      "  warnings.warn(\n"
     ]
    },
    {
     "name": "stdout",
     "output_type": "stream",
     "text": [
      "Finished training round 113 of 179\n",
      "Scores on left out drive: 0.2405909909003472 0.43541118386618627\n",
      "Time Elapsed: 16942.308662176132\n",
      "Traing round 114 of 179\n"
     ]
    },
    {
     "name": "stderr",
     "output_type": "stream",
     "text": [
      "/home/isaac/anaconda3/envs/tensorflow/lib/python3.8/site-packages/xgboost/data.py:119: UserWarning: Use subset (sliced data) of np.ndarray is not recommended because it will generate extra copies and increase memory consumption\n",
      "  warnings.warn(\n"
     ]
    },
    {
     "name": "stdout",
     "output_type": "stream",
     "text": [
      "Finished training round 114 of 179\n",
      "Scores on left out drive: 0.5466537585462775 0.6262665151936251\n",
      "Time Elapsed: 17085.806071281433\n",
      "Traing round 115 of 179\n"
     ]
    },
    {
     "name": "stderr",
     "output_type": "stream",
     "text": [
      "/home/isaac/anaconda3/envs/tensorflow/lib/python3.8/site-packages/xgboost/data.py:119: UserWarning: Use subset (sliced data) of np.ndarray is not recommended because it will generate extra copies and increase memory consumption\n",
      "  warnings.warn(\n"
     ]
    },
    {
     "name": "stdout",
     "output_type": "stream",
     "text": [
      "Finished training round 115 of 179\n",
      "Scores on left out drive: 0.6561239673749492 0.5775454581318652\n",
      "Time Elapsed: 17234.255755901337\n",
      "Traing round 116 of 179\n"
     ]
    },
    {
     "name": "stderr",
     "output_type": "stream",
     "text": [
      "/home/isaac/anaconda3/envs/tensorflow/lib/python3.8/site-packages/xgboost/data.py:119: UserWarning: Use subset (sliced data) of np.ndarray is not recommended because it will generate extra copies and increase memory consumption\n",
      "  warnings.warn(\n"
     ]
    },
    {
     "name": "stdout",
     "output_type": "stream",
     "text": [
      "Finished training round 116 of 179\n",
      "Scores on left out drive: -0.9969167097862948 -0.5872732910605114\n",
      "Time Elapsed: 17384.860827207565\n",
      "Traing round 117 of 179\n"
     ]
    },
    {
     "name": "stderr",
     "output_type": "stream",
     "text": [
      "/home/isaac/anaconda3/envs/tensorflow/lib/python3.8/site-packages/xgboost/data.py:119: UserWarning: Use subset (sliced data) of np.ndarray is not recommended because it will generate extra copies and increase memory consumption\n",
      "  warnings.warn(\n"
     ]
    },
    {
     "name": "stdout",
     "output_type": "stream",
     "text": [
      "Finished training round 117 of 179\n",
      "Scores on left out drive: -1.0480148824722026 -3.394471895948411\n",
      "Time Elapsed: 17540.632566690445\n",
      "Traing round 118 of 179\n"
     ]
    },
    {
     "name": "stderr",
     "output_type": "stream",
     "text": [
      "/home/isaac/anaconda3/envs/tensorflow/lib/python3.8/site-packages/xgboost/data.py:119: UserWarning: Use subset (sliced data) of np.ndarray is not recommended because it will generate extra copies and increase memory consumption\n",
      "  warnings.warn(\n"
     ]
    },
    {
     "name": "stdout",
     "output_type": "stream",
     "text": [
      "Finished training round 118 of 179\n",
      "Scores on left out drive: 0.08007928815222909 -0.39432169518048465\n",
      "Time Elapsed: 17696.565969467163\n",
      "Traing round 119 of 179\n"
     ]
    },
    {
     "name": "stderr",
     "output_type": "stream",
     "text": [
      "/home/isaac/anaconda3/envs/tensorflow/lib/python3.8/site-packages/xgboost/data.py:119: UserWarning: Use subset (sliced data) of np.ndarray is not recommended because it will generate extra copies and increase memory consumption\n",
      "  warnings.warn(\n"
     ]
    },
    {
     "name": "stdout",
     "output_type": "stream",
     "text": [
      "Finished training round 119 of 179\n",
      "Scores on left out drive: 0.2696567986910575 0.21335123573279602\n",
      "Time Elapsed: 17848.47414302826\n",
      "Traing round 120 of 179\n"
     ]
    },
    {
     "name": "stderr",
     "output_type": "stream",
     "text": [
      "/home/isaac/anaconda3/envs/tensorflow/lib/python3.8/site-packages/xgboost/data.py:119: UserWarning: Use subset (sliced data) of np.ndarray is not recommended because it will generate extra copies and increase memory consumption\n",
      "  warnings.warn(\n"
     ]
    },
    {
     "name": "stdout",
     "output_type": "stream",
     "text": [
      "Finished training round 120 of 179\n",
      "Scores on left out drive: -0.686763134312705 -0.4374616123318391\n",
      "Time Elapsed: 18007.822906255722\n",
      "Traing round 121 of 179\n"
     ]
    },
    {
     "name": "stderr",
     "output_type": "stream",
     "text": [
      "/home/isaac/anaconda3/envs/tensorflow/lib/python3.8/site-packages/xgboost/data.py:119: UserWarning: Use subset (sliced data) of np.ndarray is not recommended because it will generate extra copies and increase memory consumption\n",
      "  warnings.warn(\n"
     ]
    },
    {
     "name": "stdout",
     "output_type": "stream",
     "text": [
      "Finished training round 121 of 179\n",
      "Scores on left out drive: -2.911177024291815 -0.731803066910492\n",
      "Time Elapsed: 18161.836598157883\n",
      "Traing round 122 of 179\n"
     ]
    },
    {
     "name": "stderr",
     "output_type": "stream",
     "text": [
      "/home/isaac/anaconda3/envs/tensorflow/lib/python3.8/site-packages/xgboost/data.py:119: UserWarning: Use subset (sliced data) of np.ndarray is not recommended because it will generate extra copies and increase memory consumption\n",
      "  warnings.warn(\n"
     ]
    },
    {
     "name": "stdout",
     "output_type": "stream",
     "text": [
      "Finished training round 122 of 179\n",
      "Scores on left out drive: -1.3686674415751696 -0.3530488952686368\n",
      "Time Elapsed: 18310.527547836304\n",
      "Traing round 123 of 179\n"
     ]
    },
    {
     "name": "stderr",
     "output_type": "stream",
     "text": [
      "/home/isaac/anaconda3/envs/tensorflow/lib/python3.8/site-packages/xgboost/data.py:119: UserWarning: Use subset (sliced data) of np.ndarray is not recommended because it will generate extra copies and increase memory consumption\n",
      "  warnings.warn(\n"
     ]
    },
    {
     "name": "stdout",
     "output_type": "stream",
     "text": [
      "Finished training round 123 of 179\n",
      "Scores on left out drive: 0.24101252188637912 0.26857571743527486\n",
      "Time Elapsed: 18460.44568657875\n",
      "Traing round 124 of 179\n"
     ]
    },
    {
     "name": "stderr",
     "output_type": "stream",
     "text": [
      "/home/isaac/anaconda3/envs/tensorflow/lib/python3.8/site-packages/xgboost/data.py:119: UserWarning: Use subset (sliced data) of np.ndarray is not recommended because it will generate extra copies and increase memory consumption\n",
      "  warnings.warn(\n"
     ]
    },
    {
     "name": "stdout",
     "output_type": "stream",
     "text": [
      "Finished training round 124 of 179\n",
      "Scores on left out drive: -1.1035682950441439 -1.041781035229385\n",
      "Time Elapsed: 18607.44960665703\n",
      "Traing round 125 of 179\n"
     ]
    },
    {
     "name": "stderr",
     "output_type": "stream",
     "text": [
      "/home/isaac/anaconda3/envs/tensorflow/lib/python3.8/site-packages/xgboost/data.py:119: UserWarning: Use subset (sliced data) of np.ndarray is not recommended because it will generate extra copies and increase memory consumption\n",
      "  warnings.warn(\n"
     ]
    },
    {
     "name": "stdout",
     "output_type": "stream",
     "text": [
      "Finished training round 125 of 179\n",
      "Scores on left out drive: 0.35620224599038475 0.38335826941194584\n",
      "Time Elapsed: 18756.0519862175\n",
      "Traing round 126 of 179\n"
     ]
    },
    {
     "name": "stderr",
     "output_type": "stream",
     "text": [
      "/home/isaac/anaconda3/envs/tensorflow/lib/python3.8/site-packages/xgboost/data.py:119: UserWarning: Use subset (sliced data) of np.ndarray is not recommended because it will generate extra copies and increase memory consumption\n",
      "  warnings.warn(\n"
     ]
    },
    {
     "name": "stdout",
     "output_type": "stream",
     "text": [
      "Finished training round 126 of 179\n",
      "Scores on left out drive: -1.7308287753832858 -0.645706691596915\n",
      "Time Elapsed: 18917.732467651367\n",
      "Traing round 127 of 179\n"
     ]
    },
    {
     "name": "stderr",
     "output_type": "stream",
     "text": [
      "/home/isaac/anaconda3/envs/tensorflow/lib/python3.8/site-packages/xgboost/data.py:119: UserWarning: Use subset (sliced data) of np.ndarray is not recommended because it will generate extra copies and increase memory consumption\n",
      "  warnings.warn(\n"
     ]
    },
    {
     "name": "stdout",
     "output_type": "stream",
     "text": [
      "Finished training round 127 of 179\n",
      "Scores on left out drive: -2.4805758582017052 -3.5621612574534005\n",
      "Time Elapsed: 19095.26040840149\n",
      "Traing round 128 of 179\n"
     ]
    },
    {
     "name": "stderr",
     "output_type": "stream",
     "text": [
      "/home/isaac/anaconda3/envs/tensorflow/lib/python3.8/site-packages/xgboost/data.py:119: UserWarning: Use subset (sliced data) of np.ndarray is not recommended because it will generate extra copies and increase memory consumption\n",
      "  warnings.warn(\n"
     ]
    },
    {
     "name": "stdout",
     "output_type": "stream",
     "text": [
      "Finished training round 128 of 179\n",
      "Scores on left out drive: -2.3930749763745554 -2.4714599268067032\n",
      "Time Elapsed: 19249.072977542877\n",
      "Traing round 129 of 179\n"
     ]
    },
    {
     "name": "stderr",
     "output_type": "stream",
     "text": [
      "/home/isaac/anaconda3/envs/tensorflow/lib/python3.8/site-packages/xgboost/data.py:119: UserWarning: Use subset (sliced data) of np.ndarray is not recommended because it will generate extra copies and increase memory consumption\n",
      "  warnings.warn(\n"
     ]
    },
    {
     "name": "stdout",
     "output_type": "stream",
     "text": [
      "Finished training round 129 of 179\n",
      "Scores on left out drive: -199.63359194279218 -1.9119618325278442\n",
      "Time Elapsed: 19401.600608587265\n",
      "Traing round 130 of 179\n"
     ]
    },
    {
     "name": "stderr",
     "output_type": "stream",
     "text": [
      "/home/isaac/anaconda3/envs/tensorflow/lib/python3.8/site-packages/xgboost/data.py:119: UserWarning: Use subset (sliced data) of np.ndarray is not recommended because it will generate extra copies and increase memory consumption\n",
      "  warnings.warn(\n"
     ]
    },
    {
     "name": "stdout",
     "output_type": "stream",
     "text": [
      "Finished training round 130 of 179\n",
      "Scores on left out drive: -0.9254368831537962 -5.529493799245602\n",
      "Time Elapsed: 19556.40657711029\n",
      "Traing round 131 of 179\n"
     ]
    },
    {
     "name": "stderr",
     "output_type": "stream",
     "text": [
      "/home/isaac/anaconda3/envs/tensorflow/lib/python3.8/site-packages/xgboost/data.py:119: UserWarning: Use subset (sliced data) of np.ndarray is not recommended because it will generate extra copies and increase memory consumption\n",
      "  warnings.warn(\n"
     ]
    },
    {
     "name": "stdout",
     "output_type": "stream",
     "text": [
      "Finished training round 131 of 179\n",
      "Scores on left out drive: -0.24728404325236353 -0.9994430499690987\n",
      "Time Elapsed: 19706.60256409645\n",
      "Traing round 132 of 179\n"
     ]
    },
    {
     "name": "stderr",
     "output_type": "stream",
     "text": [
      "/home/isaac/anaconda3/envs/tensorflow/lib/python3.8/site-packages/xgboost/data.py:119: UserWarning: Use subset (sliced data) of np.ndarray is not recommended because it will generate extra copies and increase memory consumption\n",
      "  warnings.warn(\n"
     ]
    },
    {
     "name": "stdout",
     "output_type": "stream",
     "text": [
      "Finished training round 132 of 179\n",
      "Scores on left out drive: -1.4306379968563796 0.5245287926042002\n",
      "Time Elapsed: 19856.793874502182\n",
      "Traing round 133 of 179\n"
     ]
    },
    {
     "name": "stderr",
     "output_type": "stream",
     "text": [
      "/home/isaac/anaconda3/envs/tensorflow/lib/python3.8/site-packages/xgboost/data.py:119: UserWarning: Use subset (sliced data) of np.ndarray is not recommended because it will generate extra copies and increase memory consumption\n",
      "  warnings.warn(\n"
     ]
    },
    {
     "name": "stdout",
     "output_type": "stream",
     "text": [
      "Finished training round 133 of 179\n",
      "Scores on left out drive: -0.25123691965104666 -0.6632241765512139\n",
      "Time Elapsed: 20009.009078502655\n",
      "Traing round 134 of 179\n"
     ]
    },
    {
     "name": "stderr",
     "output_type": "stream",
     "text": [
      "/home/isaac/anaconda3/envs/tensorflow/lib/python3.8/site-packages/xgboost/data.py:119: UserWarning: Use subset (sliced data) of np.ndarray is not recommended because it will generate extra copies and increase memory consumption\n",
      "  warnings.warn(\n"
     ]
    },
    {
     "name": "stdout",
     "output_type": "stream",
     "text": [
      "Finished training round 134 of 179\n",
      "Scores on left out drive: 0.8153984845716782 0.9136183178053384\n",
      "Time Elapsed: 20156.18242788315\n",
      "Traing round 135 of 179\n"
     ]
    },
    {
     "name": "stderr",
     "output_type": "stream",
     "text": [
      "/home/isaac/anaconda3/envs/tensorflow/lib/python3.8/site-packages/xgboost/data.py:119: UserWarning: Use subset (sliced data) of np.ndarray is not recommended because it will generate extra copies and increase memory consumption\n",
      "  warnings.warn(\n"
     ]
    },
    {
     "name": "stdout",
     "output_type": "stream",
     "text": [
      "Finished training round 135 of 179\n",
      "Scores on left out drive: -0.3507448823667063 0.5667202930014413\n",
      "Time Elapsed: 20303.523248672485\n",
      "Traing round 136 of 179\n"
     ]
    },
    {
     "name": "stderr",
     "output_type": "stream",
     "text": [
      "/home/isaac/anaconda3/envs/tensorflow/lib/python3.8/site-packages/xgboost/data.py:119: UserWarning: Use subset (sliced data) of np.ndarray is not recommended because it will generate extra copies and increase memory consumption\n",
      "  warnings.warn(\n"
     ]
    },
    {
     "name": "stdout",
     "output_type": "stream",
     "text": [
      "Finished training round 136 of 179\n",
      "Scores on left out drive: 0.28554884960248417 0.5337729228302771\n",
      "Time Elapsed: 20452.4087266922\n",
      "Traing round 137 of 179\n"
     ]
    },
    {
     "name": "stderr",
     "output_type": "stream",
     "text": [
      "/home/isaac/anaconda3/envs/tensorflow/lib/python3.8/site-packages/xgboost/data.py:119: UserWarning: Use subset (sliced data) of np.ndarray is not recommended because it will generate extra copies and increase memory consumption\n",
      "  warnings.warn(\n"
     ]
    },
    {
     "name": "stdout",
     "output_type": "stream",
     "text": [
      "Finished training round 137 of 179\n",
      "Scores on left out drive: 0.7095438379486175 0.648117281083221\n",
      "Time Elapsed: 20596.330405712128\n",
      "Traing round 138 of 179\n"
     ]
    },
    {
     "name": "stderr",
     "output_type": "stream",
     "text": [
      "/home/isaac/anaconda3/envs/tensorflow/lib/python3.8/site-packages/xgboost/data.py:119: UserWarning: Use subset (sliced data) of np.ndarray is not recommended because it will generate extra copies and increase memory consumption\n",
      "  warnings.warn(\n"
     ]
    },
    {
     "name": "stdout",
     "output_type": "stream",
     "text": [
      "Finished training round 138 of 179\n",
      "Scores on left out drive: -1.0804364437411502 -0.8492784059459444\n",
      "Time Elapsed: 20742.69672703743\n",
      "Traing round 139 of 179\n"
     ]
    },
    {
     "name": "stderr",
     "output_type": "stream",
     "text": [
      "/home/isaac/anaconda3/envs/tensorflow/lib/python3.8/site-packages/xgboost/data.py:119: UserWarning: Use subset (sliced data) of np.ndarray is not recommended because it will generate extra copies and increase memory consumption\n",
      "  warnings.warn(\n"
     ]
    },
    {
     "name": "stdout",
     "output_type": "stream",
     "text": [
      "Finished training round 139 of 179\n",
      "Scores on left out drive: -0.36122812414259986 0.3320369380839544\n",
      "Time Elapsed: 20893.72482252121\n",
      "Traing round 140 of 179\n"
     ]
    },
    {
     "name": "stderr",
     "output_type": "stream",
     "text": [
      "/home/isaac/anaconda3/envs/tensorflow/lib/python3.8/site-packages/xgboost/data.py:119: UserWarning: Use subset (sliced data) of np.ndarray is not recommended because it will generate extra copies and increase memory consumption\n",
      "  warnings.warn(\n"
     ]
    },
    {
     "name": "stdout",
     "output_type": "stream",
     "text": [
      "Finished training round 140 of 179\n",
      "Scores on left out drive: -0.8533064300380155 -0.5043928363605379\n",
      "Time Elapsed: 21042.81673669815\n",
      "Traing round 141 of 179\n"
     ]
    },
    {
     "name": "stderr",
     "output_type": "stream",
     "text": [
      "/home/isaac/anaconda3/envs/tensorflow/lib/python3.8/site-packages/xgboost/data.py:119: UserWarning: Use subset (sliced data) of np.ndarray is not recommended because it will generate extra copies and increase memory consumption\n",
      "  warnings.warn(\n"
     ]
    },
    {
     "name": "stdout",
     "output_type": "stream",
     "text": [
      "Finished training round 141 of 179\n",
      "Scores on left out drive: -0.2598526784518802 -0.11527861700205189\n",
      "Time Elapsed: 21195.349321365356\n",
      "Traing round 142 of 179\n"
     ]
    },
    {
     "name": "stderr",
     "output_type": "stream",
     "text": [
      "/home/isaac/anaconda3/envs/tensorflow/lib/python3.8/site-packages/xgboost/data.py:119: UserWarning: Use subset (sliced data) of np.ndarray is not recommended because it will generate extra copies and increase memory consumption\n",
      "  warnings.warn(\n"
     ]
    },
    {
     "name": "stdout",
     "output_type": "stream",
     "text": [
      "Finished training round 142 of 179\n",
      "Scores on left out drive: -3.2147331161238464 -161.3382844978568\n",
      "Time Elapsed: 21345.053000450134\n",
      "Traing round 143 of 179\n"
     ]
    },
    {
     "name": "stderr",
     "output_type": "stream",
     "text": [
      "/home/isaac/anaconda3/envs/tensorflow/lib/python3.8/site-packages/xgboost/data.py:119: UserWarning: Use subset (sliced data) of np.ndarray is not recommended because it will generate extra copies and increase memory consumption\n",
      "  warnings.warn(\n"
     ]
    },
    {
     "name": "stdout",
     "output_type": "stream",
     "text": [
      "Finished training round 143 of 179\n",
      "Scores on left out drive: -2.470609840646616 -2.360401646031372\n",
      "Time Elapsed: 21501.315135478973\n",
      "Traing round 144 of 179\n"
     ]
    },
    {
     "name": "stderr",
     "output_type": "stream",
     "text": [
      "/home/isaac/anaconda3/envs/tensorflow/lib/python3.8/site-packages/xgboost/data.py:119: UserWarning: Use subset (sliced data) of np.ndarray is not recommended because it will generate extra copies and increase memory consumption\n",
      "  warnings.warn(\n"
     ]
    },
    {
     "name": "stdout",
     "output_type": "stream",
     "text": [
      "Finished training round 144 of 179\n",
      "Scores on left out drive: -3.168671883094551 -4.539004445664464\n",
      "Time Elapsed: 21644.277725219727\n",
      "Traing round 145 of 179\n"
     ]
    },
    {
     "name": "stderr",
     "output_type": "stream",
     "text": [
      "/home/isaac/anaconda3/envs/tensorflow/lib/python3.8/site-packages/xgboost/data.py:119: UserWarning: Use subset (sliced data) of np.ndarray is not recommended because it will generate extra copies and increase memory consumption\n",
      "  warnings.warn(\n"
     ]
    },
    {
     "name": "stdout",
     "output_type": "stream",
     "text": [
      "Finished training round 145 of 179\n",
      "Scores on left out drive: 0.30346784116343406 0.35767462488430757\n",
      "Time Elapsed: 21793.791079044342\n",
      "Traing round 146 of 179\n"
     ]
    },
    {
     "name": "stderr",
     "output_type": "stream",
     "text": [
      "/home/isaac/anaconda3/envs/tensorflow/lib/python3.8/site-packages/xgboost/data.py:119: UserWarning: Use subset (sliced data) of np.ndarray is not recommended because it will generate extra copies and increase memory consumption\n",
      "  warnings.warn(\n"
     ]
    },
    {
     "name": "stdout",
     "output_type": "stream",
     "text": [
      "Finished training round 146 of 179\n",
      "Scores on left out drive: -0.7585630966165506 -2.006054136467487\n",
      "Time Elapsed: 21940.641560792923\n",
      "Traing round 147 of 179\n"
     ]
    },
    {
     "name": "stderr",
     "output_type": "stream",
     "text": [
      "/home/isaac/anaconda3/envs/tensorflow/lib/python3.8/site-packages/xgboost/data.py:119: UserWarning: Use subset (sliced data) of np.ndarray is not recommended because it will generate extra copies and increase memory consumption\n",
      "  warnings.warn(\n"
     ]
    },
    {
     "name": "stdout",
     "output_type": "stream",
     "text": [
      "Finished training round 147 of 179\n",
      "Scores on left out drive: 0.23327394104314225 0.5596661574080635\n",
      "Time Elapsed: 22089.45003437996\n",
      "Traing round 148 of 179\n"
     ]
    },
    {
     "name": "stderr",
     "output_type": "stream",
     "text": [
      "/home/isaac/anaconda3/envs/tensorflow/lib/python3.8/site-packages/xgboost/data.py:119: UserWarning: Use subset (sliced data) of np.ndarray is not recommended because it will generate extra copies and increase memory consumption\n",
      "  warnings.warn(\n"
     ]
    },
    {
     "name": "stdout",
     "output_type": "stream",
     "text": [
      "Finished training round 148 of 179\n",
      "Scores on left out drive: -2.486196703395692 0.47589708945682163\n",
      "Time Elapsed: 22234.212749004364\n",
      "Traing round 149 of 179\n"
     ]
    },
    {
     "name": "stderr",
     "output_type": "stream",
     "text": [
      "/home/isaac/anaconda3/envs/tensorflow/lib/python3.8/site-packages/xgboost/data.py:119: UserWarning: Use subset (sliced data) of np.ndarray is not recommended because it will generate extra copies and increase memory consumption\n",
      "  warnings.warn(\n"
     ]
    },
    {
     "name": "stdout",
     "output_type": "stream",
     "text": [
      "Finished training round 149 of 179\n",
      "Scores on left out drive: -0.5055755752752378 -0.15524762631346034\n",
      "Time Elapsed: 22382.53596353531\n",
      "Traing round 150 of 179\n"
     ]
    },
    {
     "name": "stderr",
     "output_type": "stream",
     "text": [
      "/home/isaac/anaconda3/envs/tensorflow/lib/python3.8/site-packages/xgboost/data.py:119: UserWarning: Use subset (sliced data) of np.ndarray is not recommended because it will generate extra copies and increase memory consumption\n",
      "  warnings.warn(\n"
     ]
    },
    {
     "name": "stdout",
     "output_type": "stream",
     "text": [
      "Finished training round 150 of 179\n",
      "Scores on left out drive: -0.5542134946981712 -0.7702420019264848\n",
      "Time Elapsed: 22540.96176791191\n",
      "Traing round 151 of 179\n"
     ]
    },
    {
     "name": "stderr",
     "output_type": "stream",
     "text": [
      "/home/isaac/anaconda3/envs/tensorflow/lib/python3.8/site-packages/xgboost/data.py:119: UserWarning: Use subset (sliced data) of np.ndarray is not recommended because it will generate extra copies and increase memory consumption\n",
      "  warnings.warn(\n"
     ]
    },
    {
     "name": "stdout",
     "output_type": "stream",
     "text": [
      "Finished training round 151 of 179\n",
      "Scores on left out drive: -1.182890413410997 0.4253084065232706\n",
      "Time Elapsed: 22687.76785326004\n",
      "Traing round 152 of 179\n"
     ]
    },
    {
     "name": "stderr",
     "output_type": "stream",
     "text": [
      "/home/isaac/anaconda3/envs/tensorflow/lib/python3.8/site-packages/xgboost/data.py:119: UserWarning: Use subset (sliced data) of np.ndarray is not recommended because it will generate extra copies and increase memory consumption\n",
      "  warnings.warn(\n"
     ]
    },
    {
     "name": "stdout",
     "output_type": "stream",
     "text": [
      "Finished training round 152 of 179\n",
      "Scores on left out drive: 0.19650904549798753 -0.7599524259670956\n",
      "Time Elapsed: 22839.064526557922\n",
      "Traing round 153 of 179\n"
     ]
    },
    {
     "name": "stderr",
     "output_type": "stream",
     "text": [
      "/home/isaac/anaconda3/envs/tensorflow/lib/python3.8/site-packages/xgboost/data.py:119: UserWarning: Use subset (sliced data) of np.ndarray is not recommended because it will generate extra copies and increase memory consumption\n",
      "  warnings.warn(\n"
     ]
    },
    {
     "name": "stdout",
     "output_type": "stream",
     "text": [
      "Finished training round 153 of 179\n",
      "Scores on left out drive: -0.9374499461197796 0.11650881144245784\n",
      "Time Elapsed: 22981.247985363007\n",
      "Traing round 154 of 179\n"
     ]
    },
    {
     "name": "stderr",
     "output_type": "stream",
     "text": [
      "/home/isaac/anaconda3/envs/tensorflow/lib/python3.8/site-packages/xgboost/data.py:119: UserWarning: Use subset (sliced data) of np.ndarray is not recommended because it will generate extra copies and increase memory consumption\n",
      "  warnings.warn(\n"
     ]
    },
    {
     "name": "stdout",
     "output_type": "stream",
     "text": [
      "Finished training round 154 of 179\n",
      "Scores on left out drive: 0.11743460550858187 0.11985816845804464\n",
      "Time Elapsed: 23130.454062223434\n",
      "Traing round 155 of 179\n"
     ]
    },
    {
     "name": "stderr",
     "output_type": "stream",
     "text": [
      "/home/isaac/anaconda3/envs/tensorflow/lib/python3.8/site-packages/xgboost/data.py:119: UserWarning: Use subset (sliced data) of np.ndarray is not recommended because it will generate extra copies and increase memory consumption\n",
      "  warnings.warn(\n"
     ]
    },
    {
     "name": "stdout",
     "output_type": "stream",
     "text": [
      "Finished training round 155 of 179\n",
      "Scores on left out drive: -1.639994854768474 -0.09589080829835295\n",
      "Time Elapsed: 23276.72064089775\n",
      "Traing round 156 of 179\n"
     ]
    },
    {
     "name": "stderr",
     "output_type": "stream",
     "text": [
      "/home/isaac/anaconda3/envs/tensorflow/lib/python3.8/site-packages/xgboost/data.py:119: UserWarning: Use subset (sliced data) of np.ndarray is not recommended because it will generate extra copies and increase memory consumption\n",
      "  warnings.warn(\n"
     ]
    },
    {
     "name": "stdout",
     "output_type": "stream",
     "text": [
      "Finished training round 156 of 179\n",
      "Scores on left out drive: -2.6246278250657102 -2.0346036204395546\n",
      "Time Elapsed: 23424.628608465195\n",
      "Traing round 157 of 179\n"
     ]
    },
    {
     "name": "stderr",
     "output_type": "stream",
     "text": [
      "/home/isaac/anaconda3/envs/tensorflow/lib/python3.8/site-packages/xgboost/data.py:119: UserWarning: Use subset (sliced data) of np.ndarray is not recommended because it will generate extra copies and increase memory consumption\n",
      "  warnings.warn(\n"
     ]
    },
    {
     "name": "stdout",
     "output_type": "stream",
     "text": [
      "Finished training round 157 of 179\n",
      "Scores on left out drive: -0.02642756366794541 -0.6134636291717512\n",
      "Time Elapsed: 23571.628197669983\n",
      "Traing round 158 of 179\n"
     ]
    },
    {
     "name": "stderr",
     "output_type": "stream",
     "text": [
      "/home/isaac/anaconda3/envs/tensorflow/lib/python3.8/site-packages/xgboost/data.py:119: UserWarning: Use subset (sliced data) of np.ndarray is not recommended because it will generate extra copies and increase memory consumption\n",
      "  warnings.warn(\n"
     ]
    },
    {
     "name": "stdout",
     "output_type": "stream",
     "text": [
      "Finished training round 158 of 179\n",
      "Scores on left out drive: -2.792873798672683 0.6111748581947605\n",
      "Time Elapsed: 23721.029643774033\n",
      "Traing round 159 of 179\n"
     ]
    },
    {
     "name": "stderr",
     "output_type": "stream",
     "text": [
      "/home/isaac/anaconda3/envs/tensorflow/lib/python3.8/site-packages/xgboost/data.py:119: UserWarning: Use subset (sliced data) of np.ndarray is not recommended because it will generate extra copies and increase memory consumption\n",
      "  warnings.warn(\n"
     ]
    },
    {
     "name": "stdout",
     "output_type": "stream",
     "text": [
      "Finished training round 159 of 179\n",
      "Scores on left out drive: -0.214924752556231 0.6219503935468242\n",
      "Time Elapsed: 23868.313539505005\n",
      "Traing round 160 of 179\n"
     ]
    },
    {
     "name": "stderr",
     "output_type": "stream",
     "text": [
      "/home/isaac/anaconda3/envs/tensorflow/lib/python3.8/site-packages/xgboost/data.py:119: UserWarning: Use subset (sliced data) of np.ndarray is not recommended because it will generate extra copies and increase memory consumption\n",
      "  warnings.warn(\n"
     ]
    },
    {
     "name": "stdout",
     "output_type": "stream",
     "text": [
      "Finished training round 160 of 179\n",
      "Scores on left out drive: -1.3443452443518802 -0.47618197051962796\n",
      "Time Elapsed: 24018.301181554794\n",
      "Traing round 161 of 179\n"
     ]
    },
    {
     "name": "stderr",
     "output_type": "stream",
     "text": [
      "/home/isaac/anaconda3/envs/tensorflow/lib/python3.8/site-packages/xgboost/data.py:119: UserWarning: Use subset (sliced data) of np.ndarray is not recommended because it will generate extra copies and increase memory consumption\n",
      "  warnings.warn(\n"
     ]
    },
    {
     "name": "stdout",
     "output_type": "stream",
     "text": [
      "Finished training round 161 of 179\n",
      "Scores on left out drive: -0.25613507843869043 -0.013001945314258467\n",
      "Time Elapsed: 24169.600655794144\n",
      "Traing round 162 of 179\n"
     ]
    },
    {
     "name": "stderr",
     "output_type": "stream",
     "text": [
      "/home/isaac/anaconda3/envs/tensorflow/lib/python3.8/site-packages/xgboost/data.py:119: UserWarning: Use subset (sliced data) of np.ndarray is not recommended because it will generate extra copies and increase memory consumption\n",
      "  warnings.warn(\n"
     ]
    },
    {
     "name": "stdout",
     "output_type": "stream",
     "text": [
      "Finished training round 162 of 179\n",
      "Scores on left out drive: -0.008788477730663713 -0.018545736127717705\n",
      "Time Elapsed: 24316.14953970909\n",
      "Traing round 163 of 179\n"
     ]
    },
    {
     "name": "stderr",
     "output_type": "stream",
     "text": [
      "/home/isaac/anaconda3/envs/tensorflow/lib/python3.8/site-packages/xgboost/data.py:119: UserWarning: Use subset (sliced data) of np.ndarray is not recommended because it will generate extra copies and increase memory consumption\n",
      "  warnings.warn(\n"
     ]
    },
    {
     "name": "stdout",
     "output_type": "stream",
     "text": [
      "Finished training round 163 of 179\n",
      "Scores on left out drive: -0.015978718170185147 0.15484905126706294\n",
      "Time Elapsed: 24461.380360364914\n",
      "Traing round 164 of 179\n"
     ]
    },
    {
     "name": "stderr",
     "output_type": "stream",
     "text": [
      "/home/isaac/anaconda3/envs/tensorflow/lib/python3.8/site-packages/xgboost/data.py:119: UserWarning: Use subset (sliced data) of np.ndarray is not recommended because it will generate extra copies and increase memory consumption\n",
      "  warnings.warn(\n"
     ]
    },
    {
     "name": "stdout",
     "output_type": "stream",
     "text": [
      "Finished training round 164 of 179\n",
      "Scores on left out drive: -1.7572056792380821 -0.5133032074525479\n",
      "Time Elapsed: 24610.14419388771\n",
      "Traing round 165 of 179\n"
     ]
    },
    {
     "name": "stderr",
     "output_type": "stream",
     "text": [
      "/home/isaac/anaconda3/envs/tensorflow/lib/python3.8/site-packages/xgboost/data.py:119: UserWarning: Use subset (sliced data) of np.ndarray is not recommended because it will generate extra copies and increase memory consumption\n",
      "  warnings.warn(\n"
     ]
    },
    {
     "name": "stdout",
     "output_type": "stream",
     "text": [
      "Finished training round 165 of 179\n",
      "Scores on left out drive: -2.348532935269068 0.22294712819747764\n",
      "Time Elapsed: 24758.369406461716\n",
      "Traing round 166 of 179\n"
     ]
    },
    {
     "name": "stderr",
     "output_type": "stream",
     "text": [
      "/home/isaac/anaconda3/envs/tensorflow/lib/python3.8/site-packages/xgboost/data.py:119: UserWarning: Use subset (sliced data) of np.ndarray is not recommended because it will generate extra copies and increase memory consumption\n",
      "  warnings.warn(\n"
     ]
    },
    {
     "name": "stdout",
     "output_type": "stream",
     "text": [
      "Finished training round 166 of 179\n",
      "Scores on left out drive: -0.7796828319862312 0.5973396706513481\n",
      "Time Elapsed: 24906.900434732437\n",
      "Traing round 167 of 179\n"
     ]
    },
    {
     "name": "stderr",
     "output_type": "stream",
     "text": [
      "/home/isaac/anaconda3/envs/tensorflow/lib/python3.8/site-packages/xgboost/data.py:119: UserWarning: Use subset (sliced data) of np.ndarray is not recommended because it will generate extra copies and increase memory consumption\n",
      "  warnings.warn(\n"
     ]
    },
    {
     "name": "stdout",
     "output_type": "stream",
     "text": [
      "Finished training round 167 of 179\n",
      "Scores on left out drive: -4.8488495552007596 -2.799547252547031\n",
      "Time Elapsed: 25049.248363256454\n",
      "Traing round 168 of 179\n"
     ]
    },
    {
     "name": "stderr",
     "output_type": "stream",
     "text": [
      "/home/isaac/anaconda3/envs/tensorflow/lib/python3.8/site-packages/xgboost/data.py:119: UserWarning: Use subset (sliced data) of np.ndarray is not recommended because it will generate extra copies and increase memory consumption\n",
      "  warnings.warn(\n"
     ]
    },
    {
     "name": "stdout",
     "output_type": "stream",
     "text": [
      "Finished training round 168 of 179\n",
      "Scores on left out drive: 0.4928110906497656 0.36176003727265305\n",
      "Time Elapsed: 25199.67870259285\n",
      "Traing round 169 of 179\n"
     ]
    },
    {
     "name": "stderr",
     "output_type": "stream",
     "text": [
      "/home/isaac/anaconda3/envs/tensorflow/lib/python3.8/site-packages/xgboost/data.py:119: UserWarning: Use subset (sliced data) of np.ndarray is not recommended because it will generate extra copies and increase memory consumption\n",
      "  warnings.warn(\n"
     ]
    },
    {
     "name": "stdout",
     "output_type": "stream",
     "text": [
      "Finished training round 169 of 179\n",
      "Scores on left out drive: -0.1696826288563884 -0.008109451298082826\n",
      "Time Elapsed: 25341.712615013123\n",
      "Traing round 170 of 179\n"
     ]
    },
    {
     "name": "stderr",
     "output_type": "stream",
     "text": [
      "/home/isaac/anaconda3/envs/tensorflow/lib/python3.8/site-packages/xgboost/data.py:119: UserWarning: Use subset (sliced data) of np.ndarray is not recommended because it will generate extra copies and increase memory consumption\n",
      "  warnings.warn(\n"
     ]
    },
    {
     "name": "stdout",
     "output_type": "stream",
     "text": [
      "Finished training round 170 of 179\n",
      "Scores on left out drive: -0.963091896033424 0.43834186136539066\n",
      "Time Elapsed: 25487.345118761063\n",
      "Traing round 171 of 179\n"
     ]
    },
    {
     "name": "stderr",
     "output_type": "stream",
     "text": [
      "/home/isaac/anaconda3/envs/tensorflow/lib/python3.8/site-packages/xgboost/data.py:119: UserWarning: Use subset (sliced data) of np.ndarray is not recommended because it will generate extra copies and increase memory consumption\n",
      "  warnings.warn(\n"
     ]
    },
    {
     "name": "stdout",
     "output_type": "stream",
     "text": [
      "Finished training round 171 of 179\n",
      "Scores on left out drive: 0.17914150045781507 0.129852904147863\n",
      "Time Elapsed: 25641.461663007736\n",
      "Traing round 172 of 179\n"
     ]
    },
    {
     "name": "stderr",
     "output_type": "stream",
     "text": [
      "/home/isaac/anaconda3/envs/tensorflow/lib/python3.8/site-packages/xgboost/data.py:119: UserWarning: Use subset (sliced data) of np.ndarray is not recommended because it will generate extra copies and increase memory consumption\n",
      "  warnings.warn(\n"
     ]
    },
    {
     "name": "stdout",
     "output_type": "stream",
     "text": [
      "Finished training round 172 of 179\n",
      "Scores on left out drive: -0.3756121925143123 0.2916036219626027\n",
      "Time Elapsed: 25788.655905008316\n",
      "Traing round 173 of 179\n"
     ]
    },
    {
     "name": "stderr",
     "output_type": "stream",
     "text": [
      "/home/isaac/anaconda3/envs/tensorflow/lib/python3.8/site-packages/xgboost/data.py:119: UserWarning: Use subset (sliced data) of np.ndarray is not recommended because it will generate extra copies and increase memory consumption\n",
      "  warnings.warn(\n"
     ]
    },
    {
     "name": "stdout",
     "output_type": "stream",
     "text": [
      "Finished training round 173 of 179\n",
      "Scores on left out drive: -0.5427324807539831 0.42192991993141493\n",
      "Time Elapsed: 25934.24619460106\n",
      "Traing round 174 of 179\n"
     ]
    },
    {
     "name": "stderr",
     "output_type": "stream",
     "text": [
      "/home/isaac/anaconda3/envs/tensorflow/lib/python3.8/site-packages/xgboost/data.py:119: UserWarning: Use subset (sliced data) of np.ndarray is not recommended because it will generate extra copies and increase memory consumption\n",
      "  warnings.warn(\n"
     ]
    },
    {
     "name": "stdout",
     "output_type": "stream",
     "text": [
      "Finished training round 174 of 179\n",
      "Scores on left out drive: 0.4692743897455377 0.4619621088004958\n",
      "Time Elapsed: 26084.0221927166\n",
      "Traing round 175 of 179\n"
     ]
    },
    {
     "name": "stderr",
     "output_type": "stream",
     "text": [
      "/home/isaac/anaconda3/envs/tensorflow/lib/python3.8/site-packages/xgboost/data.py:119: UserWarning: Use subset (sliced data) of np.ndarray is not recommended because it will generate extra copies and increase memory consumption\n",
      "  warnings.warn(\n"
     ]
    },
    {
     "name": "stdout",
     "output_type": "stream",
     "text": [
      "Finished training round 175 of 179\n",
      "Scores on left out drive: -0.4171937448707741 -0.6966835677818868\n",
      "Time Elapsed: 26236.114666700363\n",
      "Traing round 176 of 179\n"
     ]
    },
    {
     "name": "stderr",
     "output_type": "stream",
     "text": [
      "/home/isaac/anaconda3/envs/tensorflow/lib/python3.8/site-packages/xgboost/data.py:119: UserWarning: Use subset (sliced data) of np.ndarray is not recommended because it will generate extra copies and increase memory consumption\n",
      "  warnings.warn(\n"
     ]
    },
    {
     "name": "stdout",
     "output_type": "stream",
     "text": [
      "Finished training round 176 of 179\n",
      "Scores on left out drive: -0.6998456724219688 -1.0595439267158908\n",
      "Time Elapsed: 26382.439922094345\n",
      "Traing round 177 of 179\n"
     ]
    },
    {
     "name": "stderr",
     "output_type": "stream",
     "text": [
      "/home/isaac/anaconda3/envs/tensorflow/lib/python3.8/site-packages/xgboost/data.py:119: UserWarning: Use subset (sliced data) of np.ndarray is not recommended because it will generate extra copies and increase memory consumption\n",
      "  warnings.warn(\n"
     ]
    },
    {
     "name": "stdout",
     "output_type": "stream",
     "text": [
      "Finished training round 177 of 179\n",
      "Scores on left out drive: -0.7662013204524014 -1.7673090912031508\n",
      "Time Elapsed: 26525.403498888016\n",
      "Traing round 178 of 179\n"
     ]
    },
    {
     "name": "stderr",
     "output_type": "stream",
     "text": [
      "/home/isaac/anaconda3/envs/tensorflow/lib/python3.8/site-packages/xgboost/data.py:119: UserWarning: Use subset (sliced data) of np.ndarray is not recommended because it will generate extra copies and increase memory consumption\n",
      "  warnings.warn(\n"
     ]
    },
    {
     "name": "stdout",
     "output_type": "stream",
     "text": [
      "Finished training round 178 of 179\n",
      "Scores on left out drive: -1.2478743963205394 0.6630688870606469\n",
      "Time Elapsed: 26669.357535600662\n"
     ]
    }
   ],
   "source": [
    "drives = {}\n",
    "for drivePath in Path(\"./otherLargeFiles/AllDrives\").rglob(\"drive*.pkl\"):\n",
    "    driveFile = open(drivePath, 'rb')\n",
    "    drive = pickle.load(driveFile)\n",
    "    driveFile.close()\n",
    "    driveID = \"-\".join(str(drivePath).split(\"/\")[-1].split(\".\")[0].split(\"-\")[1:])\n",
    "    drives[driveID] = drive\n",
    "\n",
    "results = {\"leftoutID\":[], \"scores\":[]}\n",
    "startTime = time.time()\n",
    "for i,leftoutID in enumerate(tuple(drives.keys())):\n",
    "    sampleSets = []\n",
    "    labelSets = []\n",
    "    for driveID in drives.keys():\n",
    "        if driveID != leftoutID:\n",
    "            sampleSets.append(drives[driveID][\"samples\"])\n",
    "            labelSets.append(drives[driveID][\"labels\"])\n",
    "    trainInputs = np.concatenate(sampleSets)\n",
    "    trainLabels = np.concatenate(labelSets)\n",
    "    testInputs = drives[leftoutID][\"samples\"]\n",
    "    testLabels = drives[leftoutID][\"labels\"]\n",
    "    trainInputs = trainInputs.reshape(trainInputs.shape[0],trainInputs.shape[1]*trainInputs.shape[2])\n",
    "    testInputs = testInputs.reshape(testInputs.shape[0],testInputs.shape[1]*testInputs.shape[2])\n",
    "    print(\"Traing round\", i, \"of\", len(tuple(drives.keys())))\n",
    "    xgbLongModel = XGBRegressor(eta=0.1, n_estimators=32, max_depth=20, verbosity=1, n_jobs=-1, objective='reg:squarederror', tree_method=\"gpu_hist\")\n",
    "    xgbLatModel = XGBRegressor(eta=0.1, n_estimators=32, max_depth=20, verbosity=1, n_jobs=-1, objective='reg:squarederror', tree_method=\"gpu_hist\")\n",
    "    xgbLongModel.fit(trainInputs, trainLabels[:,0])\n",
    "    xgbLatModel.fit(trainInputs, trainLabels[:,1])\n",
    "    results[\"leftoutID\"].append(leftoutID)\n",
    "    scores = [xgbLongModel.score(testInputs, testLabels[:,0]), xgbLatModel.score(testInputs, testLabels[:,1])]\n",
    "    results[\"scores\"].append(scores)\n",
    "    print(\"Finished training round\", i, \"of\", len(tuple(drives.keys())))\n",
    "    print(\"Scores on left out drive:\",scores[0],scores[1])\n",
    "    print(\"Time Elapsed:\",time.time()-startTime)"
   ]
  },
  {
   "cell_type": "code",
   "execution_count": 72,
   "id": "0c23bb7e-8454-485d-959c-8eff63743ace",
   "metadata": {},
   "outputs": [],
   "source": [
    "resultDataframe = pd.DataFrame({\"LeftoutID\": results[\"leftoutID\"], \"LongScore\":np.array(results[\"scores\"])[:,0], \"LatScore\":np.array(results[\"scores\"])[:,1]})"
   ]
  },
  {
   "cell_type": "code",
   "execution_count": 76,
   "id": "4ae08c2c-ea1d-4b88-8a3c-0ac0d4d9975f",
   "metadata": {},
   "outputs": [],
   "source": [
    "resultFile = open(\"otherLargeFiles/LOOResults.pkl\",\"ab\")\n",
    "pickle.dump(resultDataframe, resultFile)\n",
    "resultFile.close()"
   ]
  },
  {
   "cell_type": "code",
   "execution_count": 78,
   "id": "986ac24d-d3a2-41d0-ae7c-7486f39e8422",
   "metadata": {},
   "outputs": [],
   "source": [
    "rf = open(\"otherLargeFiles/LOOResults.pkl\",\"rb\")\n",
    "r = pickle.load(rf)\n",
    "rf.close()"
   ]
  },
  {
   "cell_type": "code",
   "execution_count": 79,
   "id": "ab593fa9-7c16-4b99-8912-b35e671a5e90",
   "metadata": {},
   "outputs": [
    {
     "data": {
      "text/html": [
       "<div>\n",
       "<style scoped>\n",
       "    .dataframe tbody tr th:only-of-type {\n",
       "        vertical-align: middle;\n",
       "    }\n",
       "\n",
       "    .dataframe tbody tr th {\n",
       "        vertical-align: top;\n",
       "    }\n",
       "\n",
       "    .dataframe thead th {\n",
       "        text-align: right;\n",
       "    }\n",
       "</style>\n",
       "<table border=\"1\" class=\"dataframe\">\n",
       "  <thead>\n",
       "    <tr style=\"text-align: right;\">\n",
       "      <th></th>\n",
       "      <th>LeftoutID</th>\n",
       "      <th>LongScore</th>\n",
       "      <th>LatScore</th>\n",
       "    </tr>\n",
       "  </thead>\n",
       "  <tbody>\n",
       "    <tr>\n",
       "      <th>0</th>\n",
       "      <td>2021-02-06-22-28-02</td>\n",
       "      <td>-0.458117</td>\n",
       "      <td>-1.058368</td>\n",
       "    </tr>\n",
       "    <tr>\n",
       "      <th>1</th>\n",
       "      <td>2021-02-11-21-18-18</td>\n",
       "      <td>-4.754040</td>\n",
       "      <td>-2.784487</td>\n",
       "    </tr>\n",
       "    <tr>\n",
       "      <th>2</th>\n",
       "      <td>2021-03-29-18-23-02</td>\n",
       "      <td>-0.987308</td>\n",
       "      <td>-0.231391</td>\n",
       "    </tr>\n",
       "    <tr>\n",
       "      <th>3</th>\n",
       "      <td>2021-05-11-23-57-48</td>\n",
       "      <td>-0.139726</td>\n",
       "      <td>-0.598857</td>\n",
       "    </tr>\n",
       "    <tr>\n",
       "      <th>4</th>\n",
       "      <td>2021-04-09-16-08-42</td>\n",
       "      <td>0.066102</td>\n",
       "      <td>-0.771738</td>\n",
       "    </tr>\n",
       "    <tr>\n",
       "      <th>...</th>\n",
       "      <td>...</td>\n",
       "      <td>...</td>\n",
       "      <td>...</td>\n",
       "    </tr>\n",
       "    <tr>\n",
       "      <th>174</th>\n",
       "      <td>2021-05-09-02-47-01</td>\n",
       "      <td>0.469274</td>\n",
       "      <td>0.461962</td>\n",
       "    </tr>\n",
       "    <tr>\n",
       "      <th>175</th>\n",
       "      <td>2021-03-31-17-25-24</td>\n",
       "      <td>-0.417194</td>\n",
       "      <td>-0.696684</td>\n",
       "    </tr>\n",
       "    <tr>\n",
       "      <th>176</th>\n",
       "      <td>2021-04-08-13-28-56</td>\n",
       "      <td>-0.699846</td>\n",
       "      <td>-1.059544</td>\n",
       "    </tr>\n",
       "    <tr>\n",
       "      <th>177</th>\n",
       "      <td>2021-05-06-23-13-53</td>\n",
       "      <td>-0.766201</td>\n",
       "      <td>-1.767309</td>\n",
       "    </tr>\n",
       "    <tr>\n",
       "      <th>178</th>\n",
       "      <td>2021-04-14-22-40-14</td>\n",
       "      <td>-1.247874</td>\n",
       "      <td>0.663069</td>\n",
       "    </tr>\n",
       "  </tbody>\n",
       "</table>\n",
       "<p>179 rows × 3 columns</p>\n",
       "</div>"
      ],
      "text/plain": [
       "               LeftoutID  LongScore  LatScore\n",
       "0    2021-02-06-22-28-02  -0.458117 -1.058368\n",
       "1    2021-02-11-21-18-18  -4.754040 -2.784487\n",
       "2    2021-03-29-18-23-02  -0.987308 -0.231391\n",
       "3    2021-05-11-23-57-48  -0.139726 -0.598857\n",
       "4    2021-04-09-16-08-42   0.066102 -0.771738\n",
       "..                   ...        ...       ...\n",
       "174  2021-05-09-02-47-01   0.469274  0.461962\n",
       "175  2021-03-31-17-25-24  -0.417194 -0.696684\n",
       "176  2021-04-08-13-28-56  -0.699846 -1.059544\n",
       "177  2021-05-06-23-13-53  -0.766201 -1.767309\n",
       "178  2021-04-14-22-40-14  -1.247874  0.663069\n",
       "\n",
       "[179 rows x 3 columns]"
      ]
     },
     "execution_count": 79,
     "metadata": {},
     "output_type": "execute_result"
    }
   ],
   "source": []
  },
  {
   "cell_type": "code",
   "execution_count": null,
   "id": "53ac041c-bb3b-421b-8d20-209176ae54bb",
   "metadata": {},
   "outputs": [],
   "source": []
  }
 ],
 "metadata": {
  "kernelspec": {
   "display_name": "Python 3",
   "language": "python",
   "name": "python3"
  },
  "language_info": {
   "codemirror_mode": {
    "name": "ipython",
    "version": 3
   },
   "file_extension": ".py",
   "mimetype": "text/x-python",
   "name": "python",
   "nbconvert_exporter": "python",
   "pygments_lexer": "ipython3",
   "version": "3.8.10"
  }
 },
 "nbformat": 4,
 "nbformat_minor": 5
}
