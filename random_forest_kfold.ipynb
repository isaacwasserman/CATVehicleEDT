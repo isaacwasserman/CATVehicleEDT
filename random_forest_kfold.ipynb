{
 "cells": [
  {
   "cell_type": "code",
   "execution_count": 119,
   "id": "ca91beea-157e-45b9-80ac-223b64f93d50",
   "metadata": {},
   "outputs": [],
   "source": [
    "import tensorflow as tf\n",
    "import os\n",
    "import pandas as pd\n",
    "import strym\n",
    "from strym import strymread\n",
    "import matplotlib.pyplot as plt\n",
    "from pylab import rcParams\n",
    "import strym.DBC_Read_Tools as dbc\n",
    "import numpy as np\n",
    "from sklearn.ensemble import RandomForestRegressor\n",
    "from sklearn.model_selection import KFold\n",
    "from collections import Counter\n",
    "from tqdm import tqdm"
   ]
  },
  {
   "cell_type": "code",
   "execution_count": 120,
   "id": "489ae66a-9c75-416d-84d2-e59c21dbdd0b",
   "metadata": {},
   "outputs": [],
   "source": [
    "def load_dataframes():\n",
    "    '''Loads a dataframe from the designated CSV file.'''\n",
    "    data_path = '../../libpanda/encoded_data/'\n",
    "    dataframes = [strymread(\"raw_data/libpanda/2021_01_28/2021-01-28-19-15-41_2T3Y1RFV8KC014025_CAN_Messages.csv\").dataframe]\n",
    "    return dataframes"
   ]
  },
  {
   "cell_type": "code",
   "execution_count": 121,
   "id": "8cab4209-d336-4788-a5bf-981fa9b2b5f0",
   "metadata": {},
   "outputs": [],
   "source": [
    "def convert_messages(df):\n",
    "    '''Converts the messages from hexadecimal string values to integers.'''\n",
    "    \n",
    "    for i, x in enumerate(df.iloc[:, 3]):\n",
    "        df.iloc[i, 3] = int(x, 16)\n",
    "    return df"
   ]
  },
  {
   "cell_type": "code",
   "execution_count": 122,
   "id": "e81fef2c-76f6-41d4-b0eb-e6a7d9faed60",
   "metadata": {},
   "outputs": [],
   "source": [
    "def convert_coords(df):\n",
    "    '''Converts the GPS coordinates from absolute latitude and longitude to delta latitude and lonitude.'''\n",
    "    lat = [0]\n",
    "    long = [0]\n",
    "\n",
    "    for i in range(len(df.iloc[:, 5]) - 1):\n",
    "        lat.append(df.iloc[i+1, 5] - df.iloc[i, 5])\n",
    "        long.append(df.iloc[i+1, 6] - df.iloc[i, 6])\n",
    "    \n",
    "    df.iloc[:, 5] = lat\n",
    "    df.iloc[:, 6] = long\n",
    "    \n",
    "    return df"
   ]
  },
  {
   "cell_type": "code",
   "execution_count": 144,
   "id": "eae16e74-4495-4c8a-9dcf-4fd3ffd61bc1",
   "metadata": {},
   "outputs": [],
   "source": [
    "def filter_IDs(df):\n",
    "    '''Filters out the IDs that are not relevant to the vehicle's location.'''\n",
    "    irrelevant_filters = [1568, 1570]\n",
    "    for i,row in df.iterrows():\n",
    "        if row[\"MessageID\"] in irrelevant_filters:\n",
    "            try:\n",
    "                df = df.drop(labels=i)\n",
    "            except:\n",
    "                pass\n",
    "\n",
    "    return df"
   ]
  },
  {
   "cell_type": "code",
   "execution_count": 124,
   "id": "e8d17354-7c20-4fe8-a8e3-8dd8b8523dc6",
   "metadata": {},
   "outputs": [],
   "source": [
    "def to_histogram(interval, df, message_ids):\n",
    "    '''Converts the dataframe to a histogram representation.'''\n",
    "    for j, i_d in enumerate(message_ids):\n",
    "            df = df.assign(i_d=0)\n",
    "    \n",
    "    for i, (current_index, row) in tqdm(enumerate(df.iterrows())):\n",
    "        \n",
    "        current_time = current_index.astype(float)*(10**9)\n",
    "        \n",
    "        time_range = df.between_time(pd.to_datetime(current_time - interval).time(), pd.to_datetime(current_time).time())\n",
    "        \n",
    "        c = Counter(time_range)\n",
    "        \n",
    "        for message_id in message_ids:\n",
    "            df.iloc[i, 2] = c[message_id]\n",
    "            \n",
    "        if i % 2 == 0:\n",
    "            print('converted', i, ' samples to histograms')\n",
    "            \n",
    "            \n",
    "    return df"
   ]
  },
  {
   "cell_type": "code",
   "execution_count": 125,
   "id": "c2bfb195-1996-4fa3-81fa-b71ccd29147d",
   "metadata": {},
   "outputs": [],
   "source": [
    "def to_np(df):\n",
    "    '''Converts the dataframes to numpy arrays.'''\n",
    "    data = df.to_numpy()\n",
    "\n",
    "    return data"
   ]
  },
  {
   "cell_type": "code",
   "execution_count": 126,
   "id": "995ca41f-f345-4f4f-a89c-eb91d4ff4847",
   "metadata": {},
   "outputs": [],
   "source": [
    "def window_data(data):\n",
    "    '''Segments the data into chunks by sliding a window over the array.'''\n",
    "    sequenceLength = 5\n",
    "\n",
    "    stackedData = []\n",
    "\n",
    "    # split can_data into subsampled sequences\n",
    "    for i in range(data.shape[0]-sequenceLength):\n",
    "        stackedData.append(data[i:i+sequenceLength])\n",
    "\n",
    "    stackedData = np.array(stackedData)\n",
    "    \n",
    "    data = stackedData.reshape((stackedData.shape[0], stackedData.shape[1]*stackedData.shape[2]))\n",
    "    \n",
    "    return data"
   ]
  },
  {
   "cell_type": "code",
   "execution_count": 127,
   "id": "de075712-1fe8-4cdd-ba39-85b7400dad9b",
   "metadata": {},
   "outputs": [],
   "source": [
    "def split_data(data):\n",
    "    '''Splits the data into training and testing data and labels.'''\n",
    "    X = data[:][:4, 8:] # indices for data\n",
    "    Y = data[:][5:7] # indices for labels\n",
    "    \n",
    "    kf = KFold(n_splits=10)\n",
    "    \n",
    "    Xtrain = []\n",
    "    Xtest = []\n",
    "    Ytrain = []\n",
    "    Ytest = []\n",
    "    \n",
    "    for train_index, test_index in kf.split(X):\n",
    "        print(\"TRAIN:\", train_index, \"TEST:\", test_index)\n",
    "        x_train, x_test = X[train_index], X[test_index]\n",
    "        y_train, y_test = y[train_index], y[test_index]\n",
    "        Xtrain.append(x_train)\n",
    "        Xtest.append(x_test)\n",
    "        Ytrain.append(y_train)\n",
    "        Ytest.append(y_test)\n",
    "        \n",
    "    Xtrain = np.concatenate(Xtrain)\n",
    "    Xtest = np.concatenate(Xtest)\n",
    "    Ytrain = np.concatenate(Ytrain)\n",
    "    Ytest = np.concatenate(Ytest)\n",
    "    \n",
    "    return Xtrain, Ytrain, Xtest, Ytest"
   ]
  },
  {
   "cell_type": "code",
   "execution_count": 128,
   "id": "0efd89f8-2b6f-4023-a809-6510a2fdbc99",
   "metadata": {
    "tags": []
   },
   "outputs": [
    {
     "name": "stdout",
     "output_type": "stream",
     "text": [
      "[2021_07_27_14_28_33] (root) INFO: Vehicle model infered is toyota-rav4-2019\n"
     ]
    }
   ],
   "source": [
    "dataframes = load_dataframes()"
   ]
  },
  {
   "cell_type": "code",
   "execution_count": 145,
   "id": "6f21ac13-200a-4f02-bf1f-738161868199",
   "metadata": {},
   "outputs": [
    {
     "name": "stdout",
     "output_type": "stream",
     "text": [
      "starting dataframe 1\n",
      "Dataframe is not being changed.\n"
     ]
    }
   ],
   "source": [
    "datalist = []\n",
    "debug_num_samples = 50\n",
    "\n",
    "messageIDs = []\n",
    "for i, df in enumerate(dataframes):\n",
    "    m = df.iloc[:, 3]\n",
    "    if len(messageIDs) < len(m):\n",
    "        messageIDs = m\n",
    "\n",
    "for i, dataframe in enumerate(dataframes):\n",
    "    print('starting dataframe', i+1)\n",
    "\n",
    "    df = dataframe.iloc[:debug_num_samples]\n",
    "    df_copy = df.copy(deep=False)\n",
    "    \n",
    "\n",
    "    df_copy = filter_IDs(df_copy).copy(deep=False)\n",
    "    if not df.equals(df_copy):\n",
    "        print('filtered ids')\n",
    "    else:\n",
    "        print('Dataframe is not being changed.')\n",
    "    \n",
    "    \n",
    "#     df_copy = convert_messages(df_copy)\n",
    "#     if not og_df.equals(df_copy):\n",
    "#         print('converted messages')\n",
    "#     else:\n",
    "#         print('Dataframe is not being changed.')\n",
    "\n",
    "\n",
    "#     df_copy = convert_coords(df_copy)\n",
    "#     if not og_df.equals(df_copy):\n",
    "#         print('converted coordinates')\n",
    "#     else:\n",
    "#         print('Dataframe is not being changed.')\n",
    "\n",
    "\n",
    "#     df = to_histogram(3, df, messageIDs)\n",
    "#     if not og_df.equals(df.copy):\n",
    "#         print('converted to histogram')\n",
    "#     else:\n",
    "#         print('Dataframe is not being changed.)\n"
   ]
  },
  {
   "cell_type": "code",
   "execution_count": null,
   "id": "9294eb3a-15ba-4ce2-b4ee-57cf1bf681c2",
   "metadata": {},
   "outputs": [],
   "source": [
    "print([d.shape for d in datalist])\n",
    "all_data = np.concatenate(datalist)\n",
    "np.save('all_data.npy', all_data)"
   ]
  },
  {
   "cell_type": "code",
   "execution_count": null,
   "id": "ef23cf39-7c38-4a79-aa9a-62600383a2a7",
   "metadata": {},
   "outputs": [],
   "source": [
    "Xtrain, Ytrain, Xtest, Ytest = split_data(all_data)"
   ]
  },
  {
   "cell_type": "code",
   "execution_count": null,
   "id": "422d4417-8720-4521-8f7e-1ad76a6da82e",
   "metadata": {},
   "outputs": [],
   "source": [
    "print(list(messageIDs.keys()))"
   ]
  },
  {
   "cell_type": "code",
   "execution_count": null,
   "id": "f10ec1b6-b27f-4b1e-ae9e-f930b16a2b4c",
   "metadata": {},
   "outputs": [],
   "source": []
  }
 ],
 "metadata": {
  "kernelspec": {
   "display_name": "Python 3",
   "language": "python",
   "name": "python3"
  },
  "language_info": {
   "codemirror_mode": {
    "name": "ipython",
    "version": 3
   },
   "file_extension": ".py",
   "mimetype": "text/x-python",
   "name": "python",
   "nbconvert_exporter": "python",
   "pygments_lexer": "ipython3",
   "version": "3.8.10"
  }
 },
 "nbformat": 4,
 "nbformat_minor": 5
}
