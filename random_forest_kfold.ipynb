{
 "cells": [
  {
   "cell_type": "code",
   "execution_count": null,
   "id": "ca91beea-157e-45b9-80ac-223b64f93d50",
   "metadata": {},
   "outputs": [],
   "source": [
    "import tensorflow as tf\n",
    "import os\n",
    "import pandas as pd\n",
    "import strym\n",
    "from strym import strymread\n",
    "import matplotlib.pyplot as plt\n",
    "from pylab import rcParams\n",
    "import strym.DBC_Read_Tools as dbc\n",
    "import numpy as np\n",
    "from sklearn.ensemble import RandomForestRegressor\n",
    "from sklearn.model_selection import KFold"
   ]
  },
  {
   "cell_type": "code",
   "execution_count": null,
   "id": "b6a6dcb4-2e66-40a2-a58c-36576cc069fa",
   "metadata": {},
   "outputs": [],
   "source": [
    "use_decoded = False\n",
    "apply_window = True\n",
    "use_delta_coords = True\n",
    "filter_ids = True\n",
    "use_histogram = True"
   ]
  },
  {
   "cell_type": "code",
   "execution_count": null,
   "id": "489ae66a-9c75-416d-84d2-e59c21dbdd0b",
   "metadata": {},
   "outputs": [],
   "source": []
  }
 ],
 "metadata": {
  "kernelspec": {
   "display_name": "Python 3",
   "language": "python",
   "name": "python3"
  },
  "language_info": {
   "codemirror_mode": {
    "name": "ipython",
    "version": 3
   },
   "file_extension": ".py",
   "mimetype": "text/x-python",
   "name": "python",
   "nbconvert_exporter": "python",
   "pygments_lexer": "ipython3",
   "version": "3.7.5"
  }
 },
 "nbformat": 4,
 "nbformat_minor": 5
}
