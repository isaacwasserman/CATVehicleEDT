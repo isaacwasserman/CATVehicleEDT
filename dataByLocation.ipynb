{
 "cells": [
  {
   "cell_type": "markdown",
   "id": "d849f4bd-2b12-491f-b620-a5351778a289",
   "metadata": {},
   "source": [
    "Goal: Create a table that, for each GPS record, lists the most recent statistics published by the CAN bus\n",
    "\n",
    "Strym decodable stats:\n",
    "   - Speed\n",
    "   - Accely (lat accel)\n",
    "   - Accelx (long accel)\n",
    "   - Accelz\n",
    "   - Steer_torque\n",
    "   - Yaw_rate\n",
    "   - Steer_rate\n",
    "   - Steer_angle\n",
    "   - Steer_fraction\n",
    "   - Wheel_speed_fl\n",
    "   - Wheel_speed_fr\n",
    "   - Wheel_speed_rr\n",
    "   - Wheel_speed_rl\n",
    "   - Acc_state\n",
    "    \n",
    "    NOT using things like relative velocity"
   ]
  },
  {
   "cell_type": "code",
   "execution_count": 25,
   "id": "40c48777-5135-4f91-951e-3e83da8df092",
   "metadata": {},
   "outputs": [],
   "source": [
    "import pandas as pd\n",
    "import strym\n",
    "from strym import strymread\n",
    "from strym import strymmap\n",
    "import matplotlib.pyplot as plt\n",
    "from pylab import rcParams\n",
    "import strym.DBC_Read_Tools as dbc\n",
    "import numpy as np"
   ]
  },
  {
   "cell_type": "code",
<<<<<<< HEAD
   "execution_count": 26,
=======
   "execution_count": 3,
>>>>>>> 5d89ca820673d36689874b3a3d1384e296be3268
   "id": "72f1acf4-b0ad-446e-a0bd-ef4a7cbe24ad",
   "metadata": {},
   "outputs": [],
   "source": [
    "pd.reset_option('display.float_format')"
   ]
  },
  {
   "cell_type": "code",
<<<<<<< HEAD
   "execution_count": 27,
=======
   "execution_count": 4,
>>>>>>> 5d89ca820673d36689874b3a3d1384e296be3268
   "id": "8238ccce-ddca-426c-a6f8-f0008ca28ecf",
   "metadata": {},
   "outputs": [
    {
     "name": "stdout",
     "output_type": "stream",
     "text": [
<<<<<<< HEAD
      "[2021_07_01_15_27_26] (root) INFO: Vehicle model infered is honda-pilot-2017\n"
=======
      "[2021_06_29_17_18_11] (numexpr.utils) INFO: NumExpr defaulting to 8 threads.\n",
      "[2021_06_29_17_18_12] (root) INFO: Vehicle model infered is honda-pilot-2017\n",
      "[2021_06_29_17_19_02] (root) INFO: Reading GPS file data/2020-11-21-16-00-26_5FNYF6H05HB089022_GPS_Messages.csv\n",
      "GPS signal first acquired at 2020-11-21 11:00:26:400000\n"
     ]
    },
    {
     "name": "stdin",
     "output_type": "stream",
     "text": [
      "Enter Mapbox API Key:  pk.eyJ1IjoiaXNhYWNpcyIsImEiOiJja3FpYXBkejQxeWEyMm9taTlwbmY0azM0In0.3DAzKo5Gihi-bw_eJdZneA\n"
>>>>>>> 5d89ca820673d36689874b3a3d1384e296be3268
     ]
    }
   ],
   "source": [
<<<<<<< HEAD
    "data_path = 'data/2020-12-02-00-00-49_5FNYF6H05HB089022_CAN_Messages.csv'\n",
    "r = strymread(csvfile=data_path)"
   ]
  },
  {
   "cell_type": "code",
   "execution_count": 28,
   "id": "ebfbe170-b997-4e07-93db-f88126769044",
   "metadata": {},
   "outputs": [],
   "source": [
    "debugMax = 100"
=======
    "CAN_path = 'data/2020-11-21-16-00-26_5FNYF6H05HB089022_CAN_Messages.csv'\n",
    "r = strymread(csvfile=CAN_path)\n",
    "\n",
    "GPS_path = 'data/2020-11-21-16-00-26_5FNYF6H05HB089022_GPS_Messages.csv'\n",
    "strymGPS = strymmap(csvfile=GPS_path)\n",
    "GPSRecords = strymGPS.dataframe\n",
    "GPSRecords = GPSRecords.sort_values(by=\"Systime\")\n",
    "\n",
    "# Test to be sure of overlap\n",
    "earliestGPS = GPSRecords.iloc[0].Systime\n",
    "latestGPS = GPSRecords.iloc[-1].Systime\n",
    "earliestCAN = r.dataframe.iloc[0].Time\n",
    "latestCAN = r.dataframe.iloc[-1].Time\n",
    "\n",
    "if not ((earliestGPS >= earliestCAN and earliestGPS <= latestCAN) or (latestGPS >= earliestCAN and latestGPS <= latestCAN)):\n",
    "    print(\"These files cannot be linked as there is no overlap\")"
>>>>>>> 5d89ca820673d36689874b3a3d1384e296be3268
   ]
  },
  {
   "cell_type": "code",
<<<<<<< HEAD
   "execution_count": 29,
=======
   "execution_count": 5,
>>>>>>> 5d89ca820673d36689874b3a3d1384e296be3268
   "id": "d224576e-481d-4f3e-9f5d-8180866b3b5c",
   "metadata": {},
   "outputs": [],
   "source": [
    "speedRecords = r.speed().set_index(\"Time\")"
   ]
  },
  {
   "cell_type": "code",
<<<<<<< HEAD
   "execution_count": 30,
=======
   "execution_count": 6,
>>>>>>> 5d89ca820673d36689874b3a3d1384e296be3268
   "id": "8600460f-adf0-410c-8e28-e367cdce687e",
   "metadata": {},
   "outputs": [],
   "source": [
    "accelyRecords = r.accely().set_index(\"Time\")"
   ]
  },
  {
   "cell_type": "code",
<<<<<<< HEAD
   "execution_count": 31,
=======
   "execution_count": 7,
>>>>>>> 5d89ca820673d36689874b3a3d1384e296be3268
   "id": "9b86d244-1fb8-4459-9e0f-c22d96c18d7e",
   "metadata": {},
   "outputs": [],
   "source": [
<<<<<<< HEAD
    "accelxRecords = r.accelx().iloc[:debugMax].set_index(\"Time\")"
   ]
  },
  {
   "cell_type": "code",
   "execution_count": 32,
   "id": "e1836762-4851-4a1b-8c63-0b36092de3d3",
   "metadata": {},
   "outputs": [
    {
     "ename": "KeyError",
     "evalue": "'accelz'",
     "output_type": "error",
     "traceback": [
      "\u001b[0;31m---------------------------------------------------------------------------\u001b[0m",
      "\u001b[0;31mKeyError\u001b[0m                                  Traceback (most recent call last)",
      "\u001b[0;32m<ipython-input-32-3bdc9d630d10>\u001b[0m in \u001b[0;36m<module>\u001b[0;34m\u001b[0m\n\u001b[0;32m----> 1\u001b[0;31m \u001b[0maccelzRecords\u001b[0m \u001b[0;34m=\u001b[0m \u001b[0mr\u001b[0m\u001b[0;34m.\u001b[0m\u001b[0maccelz\u001b[0m\u001b[0;34m(\u001b[0m\u001b[0;34m)\u001b[0m\u001b[0;34m.\u001b[0m\u001b[0miloc\u001b[0m\u001b[0;34m[\u001b[0m\u001b[0;34m:\u001b[0m\u001b[0mdebugMax\u001b[0m\u001b[0;34m]\u001b[0m\u001b[0;34m.\u001b[0m\u001b[0mset_index\u001b[0m\u001b[0;34m(\u001b[0m\u001b[0;34m\"Time\"\u001b[0m\u001b[0;34m)\u001b[0m\u001b[0;34m\u001b[0m\u001b[0;34m\u001b[0m\u001b[0m\n\u001b[0m",
      "\u001b[0;32m/opt/anaconda3/envs/strym/lib/python3.7/site-packages/strym/strymread.py\u001b[0m in \u001b[0;36maccelz\u001b[0;34m(self)\u001b[0m\n\u001b[1;32m    868\u001b[0m         \u001b[0;31m#ts = self.get_ts('ACCELEROMETER', 'ACCEL_Z')\u001b[0m\u001b[0;34m\u001b[0m\u001b[0;34m\u001b[0m\u001b[0;34m\u001b[0m\u001b[0m\n\u001b[1;32m    869\u001b[0m \u001b[0;34m\u001b[0m\u001b[0m\n\u001b[0;32m--> 870\u001b[0;31m         \u001b[0md\u001b[0m\u001b[0;34m=\u001b[0m\u001b[0mself\u001b[0m\u001b[0;34m.\u001b[0m\u001b[0mtopic2msgs\u001b[0m\u001b[0;34m(\u001b[0m\u001b[0;34m'accelz'\u001b[0m\u001b[0;34m)\u001b[0m\u001b[0;34m\u001b[0m\u001b[0;34m\u001b[0m\u001b[0m\n\u001b[0m\u001b[1;32m    871\u001b[0m         \u001b[0mts\u001b[0m \u001b[0;34m=\u001b[0m  \u001b[0mself\u001b[0m\u001b[0;34m.\u001b[0m\u001b[0mget_ts\u001b[0m\u001b[0;34m(\u001b[0m\u001b[0md\u001b[0m\u001b[0;34m[\u001b[0m\u001b[0;34m'message'\u001b[0m\u001b[0;34m]\u001b[0m\u001b[0;34m,\u001b[0m\u001b[0md\u001b[0m\u001b[0;34m[\u001b[0m\u001b[0;34m'signal'\u001b[0m\u001b[0;34m]\u001b[0m\u001b[0;34m)\u001b[0m\u001b[0;34m\u001b[0m\u001b[0;34m\u001b[0m\u001b[0m\n\u001b[1;32m    872\u001b[0m \u001b[0;34m\u001b[0m\u001b[0m\n",
      "\u001b[0;32m/opt/anaconda3/envs/strym/lib/python3.7/site-packages/strym/strymread.py\u001b[0m in \u001b[0;36mtopic2msgs\u001b[0;34m(self, topic)\u001b[0m\n\u001b[1;32m   2179\u001b[0m \u001b[0;34m\u001b[0m\u001b[0m\n\u001b[1;32m   2180\u001b[0m         \u001b[0;31m#print('dbcshort={},topic={},dict={}'.format(dbcshort,topic,self.dbcdict))\u001b[0m\u001b[0;34m\u001b[0m\u001b[0;34m\u001b[0m\u001b[0;34m\u001b[0m\u001b[0m\n\u001b[0;32m-> 2181\u001b[0;31m         \u001b[0md\u001b[0m \u001b[0;34m=\u001b[0m \u001b[0mself\u001b[0m\u001b[0;34m.\u001b[0m\u001b[0mdbcdict\u001b[0m\u001b[0;34m[\u001b[0m\u001b[0mdbcshort\u001b[0m\u001b[0;34m]\u001b[0m\u001b[0;34m[\u001b[0m\u001b[0mtopic\u001b[0m\u001b[0;34m]\u001b[0m\u001b[0;34m\u001b[0m\u001b[0;34m\u001b[0m\u001b[0m\n\u001b[0m\u001b[1;32m   2182\u001b[0m         \u001b[0;31m# TODO add an exception here if the d return value is empty\u001b[0m\u001b[0;34m\u001b[0m\u001b[0;34m\u001b[0m\u001b[0;34m\u001b[0m\u001b[0m\n\u001b[1;32m   2183\u001b[0m         \u001b[0;32mreturn\u001b[0m \u001b[0md\u001b[0m\u001b[0;34m\u001b[0m\u001b[0;34m\u001b[0m\u001b[0m\n",
      "\u001b[0;31mKeyError\u001b[0m: 'accelz'"
     ]
    }
   ],
   "source": [
    "accelzRecords = r.accelz().iloc[:debugMax].set_index(\"Time\")"
=======
    "accelxRecords = r.accelx().set_index(\"Time\")"
>>>>>>> 5d89ca820673d36689874b3a3d1384e296be3268
   ]
  },
  {
   "cell_type": "code",
<<<<<<< HEAD
   "execution_count": 10,
   "id": "c17893f3-42ee-4b3a-a2dc-6833e2720714",
   "metadata": {},
   "outputs": [
    {
     "ename": "KeyError",
     "evalue": "'yaw_rate'",
     "output_type": "error",
     "traceback": [
      "\u001b[0;31m---------------------------------------------------------------------------\u001b[0m",
      "\u001b[0;31mKeyError\u001b[0m                                  Traceback (most recent call last)",
      "\u001b[0;32m<ipython-input-10-2035d3c0bbb8>\u001b[0m in \u001b[0;36m<module>\u001b[0;34m\u001b[0m\n\u001b[0;32m----> 1\u001b[0;31m \u001b[0myawRateRecords\u001b[0m \u001b[0;34m=\u001b[0m \u001b[0mr\u001b[0m\u001b[0;34m.\u001b[0m\u001b[0myaw_rate\u001b[0m\u001b[0;34m(\u001b[0m\u001b[0;34m)\u001b[0m\u001b[0;34m.\u001b[0m\u001b[0miloc\u001b[0m\u001b[0;34m[\u001b[0m\u001b[0;34m:\u001b[0m\u001b[0mdebugMax\u001b[0m\u001b[0;34m]\u001b[0m\u001b[0;34m.\u001b[0m\u001b[0mset_index\u001b[0m\u001b[0;34m(\u001b[0m\u001b[0;34m\"Time\"\u001b[0m\u001b[0;34m)\u001b[0m\u001b[0;34m\u001b[0m\u001b[0;34m\u001b[0m\u001b[0m\n\u001b[0m",
      "\u001b[0;32m/opt/anaconda3/envs/strym/lib/python3.7/site-packages/strym/strymread.py\u001b[0m in \u001b[0;36myaw_rate\u001b[0;34m(self)\u001b[0m\n\u001b[1;32m    925\u001b[0m         \u001b[0;31m# ts = self.get_ts('KINEMATICS', 'YAW_RATE')\u001b[0m\u001b[0;34m\u001b[0m\u001b[0;34m\u001b[0m\u001b[0;34m\u001b[0m\u001b[0m\n\u001b[1;32m    926\u001b[0m \u001b[0;34m\u001b[0m\u001b[0m\n\u001b[0;32m--> 927\u001b[0;31m         \u001b[0md\u001b[0m\u001b[0;34m=\u001b[0m\u001b[0mself\u001b[0m\u001b[0;34m.\u001b[0m\u001b[0mtopic2msgs\u001b[0m\u001b[0;34m(\u001b[0m\u001b[0;34m'yaw_rate'\u001b[0m\u001b[0;34m)\u001b[0m\u001b[0;34m\u001b[0m\u001b[0;34m\u001b[0m\u001b[0m\n\u001b[0m\u001b[1;32m    928\u001b[0m         \u001b[0mts\u001b[0m \u001b[0;34m=\u001b[0m  \u001b[0mself\u001b[0m\u001b[0;34m.\u001b[0m\u001b[0mget_ts\u001b[0m\u001b[0;34m(\u001b[0m\u001b[0md\u001b[0m\u001b[0;34m[\u001b[0m\u001b[0;34m'message'\u001b[0m\u001b[0;34m]\u001b[0m\u001b[0;34m,\u001b[0m\u001b[0md\u001b[0m\u001b[0;34m[\u001b[0m\u001b[0;34m'signal'\u001b[0m\u001b[0;34m]\u001b[0m\u001b[0;34m)\u001b[0m\u001b[0;34m\u001b[0m\u001b[0;34m\u001b[0m\u001b[0m\n\u001b[1;32m    929\u001b[0m \u001b[0;34m\u001b[0m\u001b[0m\n",
      "\u001b[0;32m/opt/anaconda3/envs/strym/lib/python3.7/site-packages/strym/strymread.py\u001b[0m in \u001b[0;36mtopic2msgs\u001b[0;34m(self, topic)\u001b[0m\n\u001b[1;32m   2179\u001b[0m \u001b[0;34m\u001b[0m\u001b[0m\n\u001b[1;32m   2180\u001b[0m         \u001b[0;31m#print('dbcshort={},topic={},dict={}'.format(dbcshort,topic,self.dbcdict))\u001b[0m\u001b[0;34m\u001b[0m\u001b[0;34m\u001b[0m\u001b[0;34m\u001b[0m\u001b[0m\n\u001b[0;32m-> 2181\u001b[0;31m         \u001b[0md\u001b[0m \u001b[0;34m=\u001b[0m \u001b[0mself\u001b[0m\u001b[0;34m.\u001b[0m\u001b[0mdbcdict\u001b[0m\u001b[0;34m[\u001b[0m\u001b[0mdbcshort\u001b[0m\u001b[0;34m]\u001b[0m\u001b[0;34m[\u001b[0m\u001b[0mtopic\u001b[0m\u001b[0;34m]\u001b[0m\u001b[0;34m\u001b[0m\u001b[0;34m\u001b[0m\u001b[0m\n\u001b[0m\u001b[1;32m   2182\u001b[0m         \u001b[0;31m# TODO add an exception here if the d return value is empty\u001b[0m\u001b[0;34m\u001b[0m\u001b[0;34m\u001b[0m\u001b[0;34m\u001b[0m\u001b[0m\n\u001b[1;32m   2183\u001b[0m         \u001b[0;32mreturn\u001b[0m \u001b[0md\u001b[0m\u001b[0;34m\u001b[0m\u001b[0;34m\u001b[0m\u001b[0m\n",
      "\u001b[0;31mKeyError\u001b[0m: 'yaw_rate'"
     ]
    }
   ],
   "source": [
    "yawRateRecords = r.yaw_rate().iloc[:debugMax].set_index(\"Time\")"
   ]
  },
  {
   "cell_type": "code",
   "execution_count": 11,
=======
   "execution_count": 8,
>>>>>>> 5d89ca820673d36689874b3a3d1384e296be3268
   "id": "5ff05565-8c39-4848-8211-f824e076b39c",
   "metadata": {},
   "outputs": [],
   "source": [
    "steerTorqueRecords = r.steer_torque().set_index(\"Time\")"
   ]
  },
  {
   "cell_type": "code",
<<<<<<< HEAD
   "execution_count": 12,
=======
   "execution_count": 9,
>>>>>>> 5d89ca820673d36689874b3a3d1384e296be3268
   "id": "55526f61-ca13-4cfa-80ee-b15e2d14620d",
   "metadata": {},
   "outputs": [],
   "source": [
    "steerRateRecords = r.steer_rate().set_index(\"Time\")"
   ]
  },
  {
   "cell_type": "code",
<<<<<<< HEAD
   "execution_count": 13,
=======
   "execution_count": 10,
>>>>>>> 5d89ca820673d36689874b3a3d1384e296be3268
   "id": "2a07972d-a88b-47e7-90c7-fccc748085f6",
   "metadata": {},
   "outputs": [],
   "source": [
<<<<<<< HEAD
    "steerAngleRecords = r.steer_angle().iloc[:debugMax].set_index(\"Time\")"
   ]
  },
  {
   "cell_type": "code",
   "execution_count": 14,
   "id": "f796b771-a02e-438a-8312-5d5dc91abf03",
   "metadata": {},
   "outputs": [
    {
     "ename": "KeyError",
     "evalue": "'steer_fraction'",
     "output_type": "error",
     "traceback": [
      "\u001b[0;31m---------------------------------------------------------------------------\u001b[0m",
      "\u001b[0;31mKeyError\u001b[0m                                  Traceback (most recent call last)",
      "\u001b[0;32m<ipython-input-14-df25ffc685ab>\u001b[0m in \u001b[0;36m<module>\u001b[0;34m\u001b[0m\n\u001b[0;32m----> 1\u001b[0;31m \u001b[0msteerFractionRecords\u001b[0m \u001b[0;34m=\u001b[0m \u001b[0mr\u001b[0m\u001b[0;34m.\u001b[0m\u001b[0msteer_fraction\u001b[0m\u001b[0;34m(\u001b[0m\u001b[0;34m)\u001b[0m\u001b[0;34m.\u001b[0m\u001b[0miloc\u001b[0m\u001b[0;34m[\u001b[0m\u001b[0;34m:\u001b[0m\u001b[0mdebugMax\u001b[0m\u001b[0;34m]\u001b[0m\u001b[0;34m.\u001b[0m\u001b[0mset_index\u001b[0m\u001b[0;34m(\u001b[0m\u001b[0;34m\"Time\"\u001b[0m\u001b[0;34m)\u001b[0m\u001b[0;34m\u001b[0m\u001b[0;34m\u001b[0m\u001b[0m\n\u001b[0m",
      "\u001b[0;32m/opt/anaconda3/envs/strym/lib/python3.7/site-packages/strym/strymread.py\u001b[0m in \u001b[0;36msteer_fraction\u001b[0;34m(self)\u001b[0m\n\u001b[1;32m   1009\u001b[0m         \u001b[0;31m# ts = self.get_ts('STEER_ANGLE_SENSOR', 'STEER_FRACTION')\u001b[0m\u001b[0;34m\u001b[0m\u001b[0;34m\u001b[0m\u001b[0;34m\u001b[0m\u001b[0m\n\u001b[1;32m   1010\u001b[0m \u001b[0;34m\u001b[0m\u001b[0m\n\u001b[0;32m-> 1011\u001b[0;31m         \u001b[0md\u001b[0m\u001b[0;34m=\u001b[0m\u001b[0mself\u001b[0m\u001b[0;34m.\u001b[0m\u001b[0mtopic2msgs\u001b[0m\u001b[0;34m(\u001b[0m\u001b[0;34m'steer_fraction'\u001b[0m\u001b[0;34m)\u001b[0m\u001b[0;34m\u001b[0m\u001b[0;34m\u001b[0m\u001b[0m\n\u001b[0m\u001b[1;32m   1012\u001b[0m         \u001b[0mts\u001b[0m \u001b[0;34m=\u001b[0m \u001b[0mself\u001b[0m\u001b[0;34m.\u001b[0m\u001b[0mget_ts\u001b[0m\u001b[0;34m(\u001b[0m\u001b[0md\u001b[0m\u001b[0;34m[\u001b[0m\u001b[0;34m'message'\u001b[0m\u001b[0;34m]\u001b[0m\u001b[0;34m,\u001b[0m\u001b[0md\u001b[0m\u001b[0;34m[\u001b[0m\u001b[0;34m'signal'\u001b[0m\u001b[0;34m]\u001b[0m\u001b[0;34m)\u001b[0m\u001b[0;34m\u001b[0m\u001b[0;34m\u001b[0m\u001b[0m\n\u001b[1;32m   1013\u001b[0m \u001b[0;34m\u001b[0m\u001b[0m\n",
      "\u001b[0;32m/opt/anaconda3/envs/strym/lib/python3.7/site-packages/strym/strymread.py\u001b[0m in \u001b[0;36mtopic2msgs\u001b[0;34m(self, topic)\u001b[0m\n\u001b[1;32m   2179\u001b[0m \u001b[0;34m\u001b[0m\u001b[0m\n\u001b[1;32m   2180\u001b[0m         \u001b[0;31m#print('dbcshort={},topic={},dict={}'.format(dbcshort,topic,self.dbcdict))\u001b[0m\u001b[0;34m\u001b[0m\u001b[0;34m\u001b[0m\u001b[0;34m\u001b[0m\u001b[0m\n\u001b[0;32m-> 2181\u001b[0;31m         \u001b[0md\u001b[0m \u001b[0;34m=\u001b[0m \u001b[0mself\u001b[0m\u001b[0;34m.\u001b[0m\u001b[0mdbcdict\u001b[0m\u001b[0;34m[\u001b[0m\u001b[0mdbcshort\u001b[0m\u001b[0;34m]\u001b[0m\u001b[0;34m[\u001b[0m\u001b[0mtopic\u001b[0m\u001b[0;34m]\u001b[0m\u001b[0;34m\u001b[0m\u001b[0;34m\u001b[0m\u001b[0m\n\u001b[0m\u001b[1;32m   2182\u001b[0m         \u001b[0;31m# TODO add an exception here if the d return value is empty\u001b[0m\u001b[0;34m\u001b[0m\u001b[0;34m\u001b[0m\u001b[0;34m\u001b[0m\u001b[0m\n\u001b[1;32m   2183\u001b[0m         \u001b[0;32mreturn\u001b[0m \u001b[0md\u001b[0m\u001b[0;34m\u001b[0m\u001b[0;34m\u001b[0m\u001b[0m\n",
      "\u001b[0;31mKeyError\u001b[0m: 'steer_fraction'"
     ]
    }
   ],
   "source": [
    "steerFractionRecords = r.steer_fraction().iloc[:debugMax].set_index(\"Time\")"
=======
    "steerAngleRecords = r.steer_angle().set_index(\"Time\")"
>>>>>>> 5d89ca820673d36689874b3a3d1384e296be3268
   ]
  },
  {
   "cell_type": "code",
<<<<<<< HEAD
   "execution_count": 15,
=======
   "execution_count": 11,
>>>>>>> 5d89ca820673d36689874b3a3d1384e296be3268
   "id": "cca6d0ed-11e0-4d9c-afb0-576aafc55af1",
   "metadata": {},
   "outputs": [],
   "source": [
    "wheelSpeedFLRecords = r.wheel_speed_fl().set_index(\"Time\")"
   ]
  },
  {
   "cell_type": "code",
<<<<<<< HEAD
   "execution_count": 16,
=======
   "execution_count": 12,
>>>>>>> 5d89ca820673d36689874b3a3d1384e296be3268
   "id": "716ac5b1-9783-4c01-a646-a72ea2d584f8",
   "metadata": {},
   "outputs": [],
   "source": [
    "wheelSpeedFRRecords = r.wheel_speed_fr().set_index(\"Time\")"
   ]
  },
  {
   "cell_type": "code",
<<<<<<< HEAD
   "execution_count": 17,
=======
   "execution_count": 13,
>>>>>>> 5d89ca820673d36689874b3a3d1384e296be3268
   "id": "22c4b7a3-7801-47cc-b291-a66eadae1caa",
   "metadata": {},
   "outputs": [],
   "source": [
    "wheelSpeedRRRecords = r.wheel_speed_rr().set_index(\"Time\")"
   ]
  },
  {
   "cell_type": "code",
<<<<<<< HEAD
   "execution_count": 18,
=======
   "execution_count": 14,
>>>>>>> 5d89ca820673d36689874b3a3d1384e296be3268
   "id": "7720d995-90cd-4614-b203-f42891798f1a",
   "metadata": {},
   "outputs": [],
   "source": [
<<<<<<< HEAD
    "wheelSpeedRLRecords = r.wheel_speed_rl().iloc[:debugMax].set_index(\"Time\")"
   ]
  },
  {
   "cell_type": "code",
   "execution_count": 19,
   "id": "774638c3-feb8-4642-9e79-54f7f4258bba",
   "metadata": {},
   "outputs": [
    {
     "name": "stdout",
     "output_type": "stream",
     "text": [
      "warning: str addr not in DBC\n",
      "warning: str addr not in DBC\n",
      "warning: str addr not in DBC\n"
     ]
    },
    {
     "ename": "AttributeError",
     "evalue": "'str' object has no attribute 'frame_id'",
     "output_type": "error",
     "traceback": [
      "\u001b[0;31m---------------------------------------------------------------------------\u001b[0m",
      "\u001b[0;31mAttributeError\u001b[0m                            Traceback (most recent call last)",
      "\u001b[0;32m<ipython-input-19-a588fd3a0d59>\u001b[0m in \u001b[0;36m<module>\u001b[0;34m\u001b[0m\n\u001b[0;32m----> 1\u001b[0;31m \u001b[0maccStateRecords\u001b[0m \u001b[0;34m=\u001b[0m \u001b[0mr\u001b[0m\u001b[0;34m.\u001b[0m\u001b[0macc_state\u001b[0m\u001b[0;34m(\u001b[0m\u001b[0;34m)\u001b[0m\u001b[0;34m.\u001b[0m\u001b[0miloc\u001b[0m\u001b[0;34m[\u001b[0m\u001b[0;34m:\u001b[0m\u001b[0mdebugMax\u001b[0m\u001b[0;34m]\u001b[0m\u001b[0;34m.\u001b[0m\u001b[0mset_index\u001b[0m\u001b[0;34m(\u001b[0m\u001b[0;34m\"Time\"\u001b[0m\u001b[0;34m)\u001b[0m\u001b[0;34m\u001b[0m\u001b[0;34m\u001b[0m\u001b[0m\n\u001b[0m",
      "\u001b[0;32m/opt/anaconda3/envs/strym/lib/python3.7/site-packages/strym/strymread.py\u001b[0m in \u001b[0;36macc_state\u001b[0;34m(self, plot)\u001b[0m\n\u001b[1;32m   1321\u001b[0m         \u001b[0msignal\u001b[0m \u001b[0;34m=\u001b[0m \u001b[0;34m'CRUISE_CONTROL_STATE'\u001b[0m\u001b[0;34m\u001b[0m\u001b[0;34m\u001b[0m\u001b[0m\n\u001b[1;32m   1322\u001b[0m         \u001b[0msignal_id\u001b[0m \u001b[0;34m=\u001b[0m \u001b[0mdbc\u001b[0m\u001b[0;34m.\u001b[0m\u001b[0mgetSignalID\u001b[0m\u001b[0;34m(\u001b[0m\u001b[0mmessage\u001b[0m\u001b[0;34m,\u001b[0m\u001b[0msignal\u001b[0m\u001b[0;34m,\u001b[0m \u001b[0mself\u001b[0m\u001b[0;34m.\u001b[0m\u001b[0mcandb\u001b[0m\u001b[0;34m)\u001b[0m\u001b[0;34m\u001b[0m\u001b[0;34m\u001b[0m\u001b[0m\n\u001b[0;32m-> 1323\u001b[0;31m         \u001b[0mdf\u001b[0m \u001b[0;34m=\u001b[0m \u001b[0mself\u001b[0m\u001b[0;34m.\u001b[0m\u001b[0mget_ts\u001b[0m\u001b[0;34m(\u001b[0m\u001b[0mmessage\u001b[0m\u001b[0;34m,\u001b[0m \u001b[0msignal_id\u001b[0m\u001b[0;34m)\u001b[0m\u001b[0;34m\u001b[0m\u001b[0;34m\u001b[0m\u001b[0m\n\u001b[0m\u001b[1;32m   1324\u001b[0m         \u001b[0mdf\u001b[0m\u001b[0;34m.\u001b[0m\u001b[0mloc\u001b[0m\u001b[0;34m[\u001b[0m\u001b[0;34m(\u001b[0m\u001b[0mdf\u001b[0m\u001b[0;34m.\u001b[0m\u001b[0mMessage\u001b[0m \u001b[0;34m==\u001b[0m \u001b[0;34m'disabled'\u001b[0m\u001b[0;34m)\u001b[0m\u001b[0;34m,\u001b[0m\u001b[0;34m'Message'\u001b[0m\u001b[0;34m]\u001b[0m\u001b[0;34m=\u001b[0m\u001b[0;36m2\u001b[0m\u001b[0;34m\u001b[0m\u001b[0;34m\u001b[0m\u001b[0m\n\u001b[1;32m   1325\u001b[0m         \u001b[0mdf\u001b[0m\u001b[0;34m.\u001b[0m\u001b[0mloc\u001b[0m\u001b[0;34m[\u001b[0m\u001b[0;34m(\u001b[0m\u001b[0mdf\u001b[0m\u001b[0;34m.\u001b[0m\u001b[0mMessage\u001b[0m \u001b[0;34m==\u001b[0m \u001b[0;34m'hold'\u001b[0m\u001b[0;34m)\u001b[0m\u001b[0;34m,\u001b[0m\u001b[0;34m'Message'\u001b[0m\u001b[0;34m]\u001b[0m \u001b[0;34m=\u001b[0m \u001b[0;36m11\u001b[0m\u001b[0;34m\u001b[0m\u001b[0;34m\u001b[0m\u001b[0m\n",
      "\u001b[0;32m/opt/anaconda3/envs/strym/lib/python3.7/site-packages/strym/strymread.py\u001b[0m in \u001b[0;36mget_ts\u001b[0;34m(self, msg, signal, verbose)\u001b[0m\n\u001b[1;32m    510\u001b[0m         \u001b[0mts\u001b[0m \u001b[0;34m=\u001b[0m \u001b[0mpd\u001b[0m\u001b[0;34m.\u001b[0m\u001b[0mDataFrame\u001b[0m\u001b[0;34m(\u001b[0m\u001b[0mcolumns\u001b[0m \u001b[0;34m=\u001b[0m \u001b[0;34m[\u001b[0m\u001b[0;34m\"Time\"\u001b[0m\u001b[0;34m,\u001b[0m \u001b[0;34m\"Message\"\u001b[0m\u001b[0;34m]\u001b[0m\u001b[0;34m)\u001b[0m\u001b[0;34m\u001b[0m\u001b[0;34m\u001b[0m\u001b[0m\n\u001b[1;32m    511\u001b[0m         \u001b[0;32mtry\u001b[0m\u001b[0;34m:\u001b[0m\u001b[0;34m\u001b[0m\u001b[0;34m\u001b[0m\u001b[0m\n\u001b[0;32m--> 512\u001b[0;31m             \u001b[0mts\u001b[0m \u001b[0;34m=\u001b[0m \u001b[0mdbc\u001b[0m\u001b[0;34m.\u001b[0m\u001b[0mconvertData\u001b[0m\u001b[0;34m(\u001b[0m\u001b[0mmsg\u001b[0m\u001b[0;34m,\u001b[0m \u001b[0msignal\u001b[0m\u001b[0;34m,\u001b[0m  \u001b[0mself\u001b[0m\u001b[0;34m.\u001b[0m\u001b[0mdataframe\u001b[0m\u001b[0;34m,\u001b[0m \u001b[0mself\u001b[0m\u001b[0;34m.\u001b[0m\u001b[0mcandb\u001b[0m\u001b[0;34m)\u001b[0m\u001b[0;34m\u001b[0m\u001b[0;34m\u001b[0m\u001b[0m\n\u001b[0m\u001b[1;32m    513\u001b[0m         \u001b[0;32mexcept\u001b[0m \u001b[0mValueError\u001b[0m \u001b[0;32mas\u001b[0m \u001b[0me\u001b[0m\u001b[0;34m:\u001b[0m\u001b[0;34m\u001b[0m\u001b[0;34m\u001b[0m\u001b[0m\n\u001b[1;32m    514\u001b[0m             \u001b[0;32mif\u001b[0m \u001b[0;34m(\u001b[0m\u001b[0misinstance\u001b[0m\u001b[0;34m(\u001b[0m\u001b[0mmsg\u001b[0m\u001b[0;34m,\u001b[0m \u001b[0mint\u001b[0m\u001b[0;34m)\u001b[0m \u001b[0;32mand\u001b[0m \u001b[0mmsg\u001b[0m \u001b[0;34m==\u001b[0m \u001b[0;36m552\u001b[0m\u001b[0;34m)\u001b[0m \u001b[0;32mor\u001b[0m \u001b[0;34m(\u001b[0m\u001b[0misinstance\u001b[0m\u001b[0;34m(\u001b[0m\u001b[0mmsg\u001b[0m\u001b[0;34m,\u001b[0m \u001b[0mstr\u001b[0m\u001b[0;34m)\u001b[0m \u001b[0;32mand\u001b[0m \u001b[0mmsg\u001b[0m \u001b[0;34m==\u001b[0m \u001b[0;34m'ACCELEROMETER'\u001b[0m\u001b[0;34m)\u001b[0m\u001b[0;34m:\u001b[0m\u001b[0;34m\u001b[0m\u001b[0;34m\u001b[0m\u001b[0m\n",
      "\u001b[0;32m/opt/anaconda3/envs/strym/lib/python3.7/site-packages/strym/DBC_Read_Tools.py\u001b[0m in \u001b[0;36mconvertData\u001b[0;34m(messageNameID, attribute, df, db)\u001b[0m\n\u001b[1;32m    226\u001b[0m     \u001b[0mmessage\u001b[0m \u001b[0;34m=\u001b[0m \u001b[0mfindMessageInfo\u001b[0m\u001b[0;34m(\u001b[0m\u001b[0mmessageNameID\u001b[0m\u001b[0;34m,\u001b[0m\u001b[0mdb\u001b[0m\u001b[0;34m)\u001b[0m \u001b[0;31m#locate and store the message for use\u001b[0m\u001b[0;34m\u001b[0m\u001b[0;34m\u001b[0m\u001b[0m\n\u001b[1;32m    227\u001b[0m     \u001b[0;31m#print(message)\u001b[0m\u001b[0;34m\u001b[0m\u001b[0;34m\u001b[0m\u001b[0;34m\u001b[0m\u001b[0m\n\u001b[0;32m--> 228\u001b[0;31m     \u001b[0mmessageData\u001b[0m \u001b[0;34m=\u001b[0m \u001b[0mExtractChffrData\u001b[0m\u001b[0;34m(\u001b[0m\u001b[0mmessageNameID\u001b[0m\u001b[0;34m,\u001b[0m\u001b[0mdf\u001b[0m\u001b[0;34m,\u001b[0m\u001b[0mdb\u001b[0m\u001b[0;34m)\u001b[0m \u001b[0;31m#extract the time and hex data for the relevant message\u001b[0m\u001b[0;34m\u001b[0m\u001b[0;34m\u001b[0m\u001b[0m\n\u001b[0m\u001b[1;32m    229\u001b[0m \u001b[0;34m\u001b[0m\u001b[0m\n\u001b[1;32m    230\u001b[0m     \u001b[0;32mif\u001b[0m \u001b[0mtype\u001b[0m\u001b[0;34m(\u001b[0m\u001b[0mattribute\u001b[0m\u001b[0;34m)\u001b[0m \u001b[0;32mis\u001b[0m \u001b[0mstr\u001b[0m\u001b[0;34m:\u001b[0m\u001b[0;34m\u001b[0m\u001b[0;34m\u001b[0m\u001b[0m\n",
      "\u001b[0;32m/opt/anaconda3/envs/strym/lib/python3.7/site-packages/strym/DBC_Read_Tools.py\u001b[0m in \u001b[0;36mExtractChffrData\u001b[0;34m(messageNameOrNum, df, db)\u001b[0m\n\u001b[1;32m    177\u001b[0m     \u001b[0;32mif\u001b[0m \u001b[0mtype\u001b[0m\u001b[0;34m(\u001b[0m\u001b[0mmessageNameOrNum\u001b[0m\u001b[0;34m)\u001b[0m \u001b[0;32mis\u001b[0m \u001b[0mstr\u001b[0m\u001b[0;34m:\u001b[0m\u001b[0;34m\u001b[0m\u001b[0;34m\u001b[0m\u001b[0m\n\u001b[1;32m    178\u001b[0m         \u001b[0mx\u001b[0m \u001b[0;34m=\u001b[0m \u001b[0mfindMessageInfo\u001b[0m\u001b[0;34m(\u001b[0m\u001b[0mmessageNameOrNum\u001b[0m\u001b[0;34m,\u001b[0m \u001b[0mdb\u001b[0m\u001b[0;34m)\u001b[0m\u001b[0;34m\u001b[0m\u001b[0;34m\u001b[0m\u001b[0m\n\u001b[0;32m--> 179\u001b[0;31m         \u001b[0mmessageNameOrNum\u001b[0m \u001b[0;34m=\u001b[0m \u001b[0mx\u001b[0m\u001b[0;34m.\u001b[0m\u001b[0mframe_id\u001b[0m \u001b[0;31m#if string is given, retrieve the message id number\u001b[0m\u001b[0;34m\u001b[0m\u001b[0;34m\u001b[0m\u001b[0m\n\u001b[0m\u001b[1;32m    180\u001b[0m     \u001b[0ma\u001b[0m \u001b[0;34m=\u001b[0m \u001b[0mdf\u001b[0m\u001b[0;34m.\u001b[0m\u001b[0mloc\u001b[0m\u001b[0;34m[\u001b[0m\u001b[0mdf\u001b[0m\u001b[0;34m[\u001b[0m\u001b[0;34m'MessageID'\u001b[0m\u001b[0;34m]\u001b[0m\u001b[0;34m==\u001b[0m \u001b[0mmessageNameOrNum\u001b[0m\u001b[0;34m]\u001b[0m\u001b[0;34m\u001b[0m\u001b[0;34m\u001b[0m\u001b[0m\n\u001b[1;32m    181\u001b[0m     \u001b[0mData\u001b[0m \u001b[0;34m=\u001b[0m \u001b[0ma\u001b[0m\u001b[0;34m[\u001b[0m\u001b[0;34m[\u001b[0m\u001b[0;34m'Time'\u001b[0m\u001b[0;34m,\u001b[0m\u001b[0;34m'Message'\u001b[0m\u001b[0;34m,\u001b[0m \u001b[0;34m'Bus'\u001b[0m\u001b[0;34m]\u001b[0m\u001b[0;34m]\u001b[0m\u001b[0;34m\u001b[0m\u001b[0;34m\u001b[0m\u001b[0m\n",
      "\u001b[0;31mAttributeError\u001b[0m: 'str' object has no attribute 'frame_id'"
     ]
    }
   ],
   "source": [
    "accStateRecords = r.acc_state().iloc[:debugMax].set_index(\"Time\")"
=======
    "wheelSpeedRLRecords = r.wheel_speed_rl().set_index(\"Time\")"
>>>>>>> 5d89ca820673d36689874b3a3d1384e296be3268
   ]
  },
  {
   "cell_type": "code",
<<<<<<< HEAD
   "execution_count": 20,
=======
   "execution_count": 15,
>>>>>>> 5d89ca820673d36689874b3a3d1384e296be3268
   "id": "a27a912e-cb4e-4f18-b929-37cd9ab82bdd",
   "metadata": {},
   "outputs": [],
   "source": [
    "def interpolate(time, preTime, postTime, preValue, postValue):\n",
    "    d1 = abs(time - preTime)\n",
    "    w1 = 1/d1\n",
    "    d2 = abs(time - postTime)\n",
    "    w2 = 1/d2\n",
    "    wv1 = preValue * w1\n",
    "    wv2 = postValue * w2\n",
    "    weightedValueSum = wv1 + wv2\n",
    "    weightSum = w1 + w2\n",
    "    average = weightedValueSum / weightSum\n",
    "    return average"
   ]
  },
  {
   "cell_type": "code",
<<<<<<< HEAD
   "execution_count": 21,
=======
   "execution_count": 16,
>>>>>>> 5d89ca820673d36689874b3a3d1384e296be3268
   "id": "cdd91b27-098c-4261-803f-0d1208027bfd",
   "metadata": {},
   "outputs": [],
   "source": [
    "def mostRelevantRecord(records, referenceTime):\n",
    "    mostRelevant = None\n",
    "    try:\n",
    "        mostRelevant = records.iloc[records.index.get_loc(referenceTime)]\n",
    "    except:\n",
    "    #     print(\"interpolating\")\n",
    "        earliestTime = records.iloc[0].name\n",
    "        latestTime = records.iloc[-1].name\n",
    "        if referenceTime < earliestTime or referenceTime > latestTime:\n",
    "            if referenceTime < earliestTime:\n",
    "                print(referenceTime, \"<\", earliestTime)\n",
    "            if referenceTime > latestTime:\n",
    "                print(referenceTime, \">\", earliestTime)\n",
    "        else:\n",
    "            pre = records.iloc[records.index.get_loc(referenceTime, method=\"pad\")]\n",
    "            post = records.iloc[records.index.get_loc(referenceTime, method=\"backfill\")]\n",
    "#             print(\"which is a weighted average of\", pre.Message, \"and\", post.Message)\n",
    "            mostRelevant = interpolate(referenceTime, pre.name, post.name, pre.Message, post.Message)\n",
    "    return mostRelevant"
   ]
  },
  {
   "cell_type": "code",
<<<<<<< HEAD
   "execution_count": 22,
   "id": "6b04c7a0-f836-43ed-865d-704adec28396",
=======
   "execution_count": 17,
   "id": "bc361d5f-7393-401f-aca7-958a24db2c07",
   "metadata": {
    "scrolled": true,
    "tags": []
   },
   "outputs": [
    {
     "name": "stdout",
     "output_type": "stream",
     "text": [
      "Now linking Speed\n",
      "Linked 2000 records\n",
      "Linked 4000 records\n",
      "Linked 6000 records\n",
      "Linked 8000 records\n",
      "Linked 10000 records\n",
      "Linked 12000 records\n",
      "Linked 14000 records\n",
      "Linked 16000 records\n",
      "Linked 18000 records\n",
      "Linked 20000 records\n",
      "Linked 22000 records\n",
      "Linked 24000 records\n",
      "Linked 26000 records\n",
      "Linked 28000 records\n",
      "Linked 30000 records\n",
      "Linked 32000 records\n",
      "Linked 34000 records\n",
      "Linked 36000 records\n",
      "Now linking LatAcceleration\n",
      "Linked 2000 records\n",
      "Linked 4000 records\n",
      "Linked 6000 records\n",
      "Linked 8000 records\n",
      "Linked 10000 records\n",
      "Linked 12000 records\n",
      "Linked 14000 records\n",
      "Linked 16000 records\n",
      "Linked 18000 records\n",
      "Linked 20000 records\n",
      "Linked 22000 records\n",
      "Linked 24000 records\n",
      "Linked 26000 records\n",
      "Linked 28000 records\n",
      "Linked 30000 records\n",
      "Linked 32000 records\n",
      "Linked 34000 records\n",
      "Linked 36000 records\n",
      "Now linking LongAcceleration\n",
      "Linked 2000 records\n",
      "Linked 4000 records\n",
      "Linked 6000 records\n",
      "Linked 8000 records\n",
      "Linked 10000 records\n",
      "Linked 12000 records\n",
      "Linked 14000 records\n",
      "Linked 16000 records\n",
      "Linked 18000 records\n",
      "Linked 20000 records\n",
      "Linked 22000 records\n",
      "Linked 24000 records\n",
      "Linked 26000 records\n",
      "Linked 28000 records\n",
      "Linked 30000 records\n",
      "Linked 32000 records\n",
      "Linked 34000 records\n",
      "Linked 36000 records\n",
      "Now linking SteerTorque\n",
      "Linked 2000 records\n",
      "Linked 4000 records\n",
      "Linked 6000 records\n",
      "Linked 8000 records\n",
      "Linked 10000 records\n",
      "Linked 12000 records\n",
      "Linked 14000 records\n",
      "Linked 16000 records\n",
      "Linked 18000 records\n",
      "Linked 20000 records\n",
      "Linked 22000 records\n",
      "Linked 24000 records\n",
      "Linked 26000 records\n",
      "Linked 28000 records\n",
      "Linked 30000 records\n",
      "Linked 32000 records\n",
      "Linked 34000 records\n",
      "Linked 36000 records\n",
      "Now linking SteerRate\n",
      "Linked 2000 records\n",
      "Linked 4000 records\n",
      "Linked 6000 records\n",
      "Linked 8000 records\n",
      "Linked 10000 records\n",
      "Linked 12000 records\n",
      "Linked 14000 records\n",
      "Linked 16000 records\n",
      "Linked 18000 records\n",
      "Linked 20000 records\n",
      "Linked 22000 records\n",
      "Linked 24000 records\n",
      "Linked 26000 records\n",
      "Linked 28000 records\n",
      "Linked 30000 records\n",
      "Linked 32000 records\n",
      "Linked 34000 records\n",
      "Linked 36000 records\n",
      "Now linking SteerAngle\n",
      "Linked 2000 records\n",
      "Linked 4000 records\n",
      "Linked 6000 records\n",
      "Linked 8000 records\n",
      "Linked 10000 records\n",
      "Linked 12000 records\n",
      "Linked 14000 records\n",
      "Linked 16000 records\n",
      "Linked 18000 records\n",
      "Linked 20000 records\n",
      "Linked 22000 records\n",
      "Linked 24000 records\n",
      "Linked 26000 records\n",
      "Linked 28000 records\n",
      "Linked 30000 records\n",
      "Linked 32000 records\n",
      "Linked 34000 records\n",
      "Linked 36000 records\n",
      "Now linking FLWheelSpeed\n",
      "Linked 2000 records\n",
      "Linked 4000 records\n",
      "Linked 6000 records\n",
      "Linked 8000 records\n",
      "Linked 10000 records\n",
      "Linked 12000 records\n",
      "Linked 14000 records\n",
      "Linked 16000 records\n",
      "Linked 18000 records\n",
      "Linked 20000 records\n",
      "Linked 22000 records\n",
      "Linked 24000 records\n",
      "Linked 26000 records\n",
      "Linked 28000 records\n",
      "Linked 30000 records\n",
      "Linked 32000 records\n",
      "Linked 34000 records\n",
      "Linked 36000 records\n",
      "Now linking FRWheelSpeed\n",
      "Linked 2000 records\n",
      "Linked 4000 records\n",
      "Linked 6000 records\n",
      "Linked 8000 records\n",
      "Linked 10000 records\n",
      "Linked 12000 records\n",
      "Linked 14000 records\n",
      "Linked 16000 records\n",
      "Linked 18000 records\n",
      "Linked 20000 records\n",
      "Linked 22000 records\n",
      "Linked 24000 records\n",
      "Linked 26000 records\n",
      "Linked 28000 records\n",
      "Linked 30000 records\n",
      "Linked 32000 records\n",
      "Linked 34000 records\n",
      "Linked 36000 records\n",
      "Now linking RRWheelSpeed\n",
      "Linked 2000 records\n",
      "Linked 4000 records\n",
      "Linked 6000 records\n",
      "Linked 8000 records\n",
      "Linked 10000 records\n",
      "Linked 12000 records\n",
      "Linked 14000 records\n",
      "Linked 16000 records\n",
      "Linked 18000 records\n",
      "Linked 20000 records\n",
      "Linked 22000 records\n",
      "Linked 24000 records\n",
      "Linked 26000 records\n",
      "Linked 28000 records\n",
      "Linked 30000 records\n",
      "Linked 32000 records\n",
      "Linked 34000 records\n",
      "Linked 36000 records\n",
      "Now linking RLWheelSpeed\n",
      "Linked 2000 records\n",
      "Linked 4000 records\n",
      "Linked 6000 records\n",
      "Linked 8000 records\n",
      "Linked 10000 records\n",
      "Linked 12000 records\n",
      "Linked 14000 records\n",
      "Linked 16000 records\n",
      "Linked 18000 records\n",
      "Linked 20000 records\n",
      "Linked 22000 records\n",
      "Linked 24000 records\n",
      "Linked 26000 records\n",
      "Linked 28000 records\n",
      "Linked 30000 records\n",
      "Linked 32000 records\n",
      "Linked 34000 records\n",
      "Linked 36000 records\n"
     ]
    }
   ],
   "source": [
    "columns = {\"Time\":[], \"Longitude\":[], \"Latitude\":[]}\n",
    "stats = {\"Speed\":speedRecords, \"LatAcceleration\":accelyRecords, \"LongAcceleration\":accelxRecords, \"SteerTorque\":steerTorqueRecords, \"SteerRate\":steerRateRecords, \"SteerAngle\":steerAngleRecords, \"FLWheelSpeed\":wheelSpeedFLRecords, \"FRWheelSpeed\":wheelSpeedFRRecords, \"RRWheelSpeed\":wheelSpeedRRRecords, \"RLWheelSpeed\":wheelSpeedRLRecords}\n",
    "for key in stats:\n",
    "    print(\"Now linking\", key)\n",
    "    columns[key] = []\n",
    "    counter = 0\n",
    "    for GPSRecord in GPSRecords.iterrows():\n",
    "        counter+=1\n",
    "        if counter % 2000 == 0:\n",
    "            print(\"Linked\", counter, \"records\")\n",
    "        interpolatedRecord = mostRelevantRecord(stats[key], GPSRecord[1].Systime)\n",
    "        columns[key].append(interpolatedRecord)\n",
    "        if len(columns[key]) > len(columns[\"Longitude\"]):\n",
    "            columns[\"Time\"].append(GPSRecord[1].Systime)\n",
    "            columns[\"Longitude\"].append(GPSRecord[1][\"Long\"])\n",
    "            columns[\"Latitude\"].append(GPSRecord[1][\"Lat\"])"
   ]
  },
  {
   "cell_type": "code",
   "execution_count": 21,
   "id": "da52f6fb-22da-4947-b014-5a34ee931fbe",
   "metadata": {},
   "outputs": [],
   "source": [
    "statsByLocation = pd.DataFrame(columns).dropna()\n",
    "statsByLocation.reset_index(drop=True, inplace=True)"
   ]
  },
  {
   "cell_type": "code",
   "execution_count": 22,
   "id": "dc277042-1ee1-481a-af2e-0870a618eba8",
>>>>>>> 5d89ca820673d36689874b3a3d1384e296be3268
   "metadata": {},
   "outputs": [
    {
     "data": {
      "text/html": [
       "<div>\n",
       "<style scoped>\n",
       "    .dataframe tbody tr th:only-of-type {\n",
       "        vertical-align: middle;\n",
       "    }\n",
       "\n",
       "    .dataframe tbody tr th {\n",
       "        vertical-align: top;\n",
       "    }\n",
       "\n",
       "    .dataframe thead th {\n",
       "        text-align: right;\n",
       "    }\n",
       "</style>\n",
       "<table border=\"1\" class=\"dataframe\">\n",
       "  <thead>\n",
       "    <tr style=\"text-align: right;\">\n",
       "      <th></th>\n",
       "      <th>Time</th>\n",
       "      <th>Longitude</th>\n",
       "      <th>Latitude</th>\n",
       "      <th>Speed</th>\n",
       "      <th>LatAcceleration</th>\n",
       "      <th>LongAcceleration</th>\n",
       "      <th>SteerTorque</th>\n",
       "      <th>SteerRate</th>\n",
       "      <th>SteerAngle</th>\n",
       "      <th>FLWheelSpeed</th>\n",
       "      <th>FRWheelSpeed</th>\n",
       "      <th>RRWheelSpeed</th>\n",
       "      <th>RLWheelSpeed</th>\n",
       "    </tr>\n",
       "  </thead>\n",
       "  <tbody>\n",
       "    <tr>\n",
<<<<<<< HEAD
       "      <th>1606867250.83953</th>\n",
       "      <td>62.31000</td>\n",
       "    </tr>\n",
       "    <tr>\n",
       "      <th>1606867250.84927</th>\n",
       "      <td>62.37000</td>\n",
       "    </tr>\n",
       "    <tr>\n",
       "      <th>1606867250.85975</th>\n",
       "      <td>62.31000</td>\n",
       "    </tr>\n",
       "    <tr>\n",
       "      <th>1606867250.86910</th>\n",
       "      <td>62.25000</td>\n",
       "    </tr>\n",
       "    <tr>\n",
       "      <th>1606867250.87937</th>\n",
       "      <td>62.25000</td>\n",
=======
       "      <th>0</th>\n",
       "      <td>1.605974e+09</td>\n",
       "      <td>-110.824043</td>\n",
       "      <td>32.295811</td>\n",
       "      <td>75.155687</td>\n",
       "      <td>-501.740000</td>\n",
       "      <td>0.013309</td>\n",
       "      <td>0.0</td>\n",
       "      <td>0.000000</td>\n",
       "      <td>1.700000</td>\n",
       "      <td>75.159684</td>\n",
       "      <td>75.113947</td>\n",
       "      <td>74.932737</td>\n",
       "      <td>74.926684</td>\n",
       "    </tr>\n",
       "    <tr>\n",
       "      <th>1</th>\n",
       "      <td>1.605974e+09</td>\n",
       "      <td>-110.824043</td>\n",
       "      <td>32.295792</td>\n",
       "      <td>75.260991</td>\n",
       "      <td>-501.740000</td>\n",
       "      <td>0.000000</td>\n",
       "      <td>0.0</td>\n",
       "      <td>-0.967652</td>\n",
       "      <td>1.800000</td>\n",
       "      <td>75.006872</td>\n",
       "      <td>75.095745</td>\n",
       "      <td>75.014983</td>\n",
       "      <td>75.029818</td>\n",
       "    </tr>\n",
       "    <tr>\n",
       "      <th>2</th>\n",
       "      <td>1.605974e+09</td>\n",
       "      <td>-110.824043</td>\n",
       "      <td>32.295773</td>\n",
       "      <td>75.227563</td>\n",
       "      <td>-501.740000</td>\n",
       "      <td>0.000000</td>\n",
       "      <td>0.0</td>\n",
       "      <td>-3.648693</td>\n",
       "      <td>1.810812</td>\n",
       "      <td>75.262530</td>\n",
       "      <td>75.182388</td>\n",
       "      <td>74.810142</td>\n",
       "      <td>74.737943</td>\n",
       "    </tr>\n",
       "    <tr>\n",
       "      <th>3</th>\n",
       "      <td>1.605974e+09</td>\n",
       "      <td>-110.824043</td>\n",
       "      <td>32.295753</td>\n",
       "      <td>75.467328</td>\n",
       "      <td>-501.720768</td>\n",
       "      <td>0.112396</td>\n",
       "      <td>0.0</td>\n",
       "      <td>0.000000</td>\n",
       "      <td>2.100000</td>\n",
       "      <td>75.521644</td>\n",
       "      <td>75.467706</td>\n",
       "      <td>75.129178</td>\n",
       "      <td>74.946233</td>\n",
       "    </tr>\n",
       "    <tr>\n",
       "      <th>4</th>\n",
       "      <td>1.605974e+09</td>\n",
       "      <td>-110.824043</td>\n",
       "      <td>32.295734</td>\n",
       "      <td>75.500000</td>\n",
       "      <td>-501.740000</td>\n",
       "      <td>0.103073</td>\n",
       "      <td>0.0</td>\n",
       "      <td>0.000000</td>\n",
       "      <td>2.100000</td>\n",
       "      <td>75.536009</td>\n",
       "      <td>75.604389</td>\n",
       "      <td>75.237599</td>\n",
       "      <td>75.336790</td>\n",
       "    </tr>\n",
       "    <tr>\n",
       "      <th>...</th>\n",
       "      <td>...</td>\n",
       "      <td>...</td>\n",
       "      <td>...</td>\n",
       "      <td>...</td>\n",
       "      <td>...</td>\n",
       "      <td>...</td>\n",
       "      <td>...</td>\n",
       "      <td>...</td>\n",
       "      <td>...</td>\n",
       "      <td>...</td>\n",
       "      <td>...</td>\n",
       "      <td>...</td>\n",
       "      <td>...</td>\n",
       "    </tr>\n",
       "    <tr>\n",
       "      <th>37853</th>\n",
       "      <td>1.605978e+09</td>\n",
       "      <td>-110.788231</td>\n",
       "      <td>32.050022</td>\n",
       "      <td>0.000000</td>\n",
       "      <td>-501.740000</td>\n",
       "      <td>0.000000</td>\n",
       "      <td>0.0</td>\n",
       "      <td>0.000000</td>\n",
       "      <td>-229.100000</td>\n",
       "      <td>0.000000</td>\n",
       "      <td>0.000000</td>\n",
       "      <td>0.000000</td>\n",
       "      <td>0.000000</td>\n",
       "    </tr>\n",
       "    <tr>\n",
       "      <th>37854</th>\n",
       "      <td>1.605978e+09</td>\n",
       "      <td>-110.788231</td>\n",
       "      <td>32.050022</td>\n",
       "      <td>0.000000</td>\n",
       "      <td>-501.733100</td>\n",
       "      <td>0.000000</td>\n",
       "      <td>0.0</td>\n",
       "      <td>0.000000</td>\n",
       "      <td>-229.100000</td>\n",
       "      <td>0.000000</td>\n",
       "      <td>0.000000</td>\n",
       "      <td>0.000000</td>\n",
       "      <td>0.000000</td>\n",
       "    </tr>\n",
       "    <tr>\n",
       "      <th>37855</th>\n",
       "      <td>1.605978e+09</td>\n",
       "      <td>-110.788231</td>\n",
       "      <td>32.050022</td>\n",
       "      <td>0.000000</td>\n",
       "      <td>-501.740000</td>\n",
       "      <td>0.000000</td>\n",
       "      <td>0.0</td>\n",
       "      <td>0.000000</td>\n",
       "      <td>-229.100000</td>\n",
       "      <td>0.000000</td>\n",
       "      <td>0.000000</td>\n",
       "      <td>0.000000</td>\n",
       "      <td>0.000000</td>\n",
       "    </tr>\n",
       "    <tr>\n",
       "      <th>37856</th>\n",
       "      <td>1.605978e+09</td>\n",
       "      <td>-110.788231</td>\n",
       "      <td>32.050022</td>\n",
       "      <td>0.000000</td>\n",
       "      <td>-501.740000</td>\n",
       "      <td>0.000000</td>\n",
       "      <td>0.0</td>\n",
       "      <td>0.000000</td>\n",
       "      <td>-229.100000</td>\n",
       "      <td>0.000000</td>\n",
       "      <td>0.000000</td>\n",
       "      <td>0.000000</td>\n",
       "      <td>0.000000</td>\n",
       "    </tr>\n",
       "    <tr>\n",
       "      <th>37857</th>\n",
       "      <td>1.605978e+09</td>\n",
       "      <td>-110.788231</td>\n",
       "      <td>32.050022</td>\n",
       "      <td>0.000000</td>\n",
       "      <td>-501.740000</td>\n",
       "      <td>0.000000</td>\n",
       "      <td>0.0</td>\n",
       "      <td>0.000000</td>\n",
       "      <td>-229.100000</td>\n",
       "      <td>0.000000</td>\n",
       "      <td>0.000000</td>\n",
       "      <td>0.000000</td>\n",
       "      <td>0.000000</td>\n",
>>>>>>> 5d89ca820673d36689874b3a3d1384e296be3268
       "    </tr>\n",
       "  </tbody>\n",
       "</table>\n",
       "<p>37858 rows × 13 columns</p>\n",
       "</div>"
      ],
      "text/plain": [
<<<<<<< HEAD
       "                  Message\n",
       "Time                     \n",
       "1606867250.83953 62.31000\n",
       "1606867250.84927 62.37000\n",
       "1606867250.85975 62.31000\n",
       "1606867250.86910 62.25000\n",
       "1606867250.87937 62.25000"
=======
       "               Time   Longitude   Latitude      Speed  LatAcceleration  \\\n",
       "0      1.605974e+09 -110.824043  32.295811  75.155687      -501.740000   \n",
       "1      1.605974e+09 -110.824043  32.295792  75.260991      -501.740000   \n",
       "2      1.605974e+09 -110.824043  32.295773  75.227563      -501.740000   \n",
       "3      1.605974e+09 -110.824043  32.295753  75.467328      -501.720768   \n",
       "4      1.605974e+09 -110.824043  32.295734  75.500000      -501.740000   \n",
       "...             ...         ...        ...        ...              ...   \n",
       "37853  1.605978e+09 -110.788231  32.050022   0.000000      -501.740000   \n",
       "37854  1.605978e+09 -110.788231  32.050022   0.000000      -501.733100   \n",
       "37855  1.605978e+09 -110.788231  32.050022   0.000000      -501.740000   \n",
       "37856  1.605978e+09 -110.788231  32.050022   0.000000      -501.740000   \n",
       "37857  1.605978e+09 -110.788231  32.050022   0.000000      -501.740000   \n",
       "\n",
       "       LongAcceleration  SteerTorque  SteerRate  SteerAngle  FLWheelSpeed  \\\n",
       "0              0.013309          0.0   0.000000    1.700000     75.159684   \n",
       "1              0.000000          0.0  -0.967652    1.800000     75.006872   \n",
       "2              0.000000          0.0  -3.648693    1.810812     75.262530   \n",
       "3              0.112396          0.0   0.000000    2.100000     75.521644   \n",
       "4              0.103073          0.0   0.000000    2.100000     75.536009   \n",
       "...                 ...          ...        ...         ...           ...   \n",
       "37853          0.000000          0.0   0.000000 -229.100000      0.000000   \n",
       "37854          0.000000          0.0   0.000000 -229.100000      0.000000   \n",
       "37855          0.000000          0.0   0.000000 -229.100000      0.000000   \n",
       "37856          0.000000          0.0   0.000000 -229.100000      0.000000   \n",
       "37857          0.000000          0.0   0.000000 -229.100000      0.000000   \n",
       "\n",
       "       FRWheelSpeed  RRWheelSpeed  RLWheelSpeed  \n",
       "0         75.113947     74.932737     74.926684  \n",
       "1         75.095745     75.014983     75.029818  \n",
       "2         75.182388     74.810142     74.737943  \n",
       "3         75.467706     75.129178     74.946233  \n",
       "4         75.604389     75.237599     75.336790  \n",
       "...             ...           ...           ...  \n",
       "37853      0.000000      0.000000      0.000000  \n",
       "37854      0.000000      0.000000      0.000000  \n",
       "37855      0.000000      0.000000      0.000000  \n",
       "37856      0.000000      0.000000      0.000000  \n",
       "37857      0.000000      0.000000      0.000000  \n",
       "\n",
       "[37858 rows x 13 columns]"
>>>>>>> 5d89ca820673d36689874b3a3d1384e296be3268
      ]
     },
     "execution_count": 22,
     "metadata": {},
     "output_type": "execute_result"
    }
   ],
   "source": [
    "statsByLocation"
   ]
  },
  {
   "cell_type": "code",
   "execution_count": 23,
<<<<<<< HEAD
   "id": "a2bd2448-f4ac-403a-9183-79fe801d1788",
   "metadata": {},
   "outputs": [
    {
     "ename": "KeyError",
     "evalue": "1606867249",
     "output_type": "error",
     "traceback": [
      "\u001b[0;31m---------------------------------------------------------------------------\u001b[0m",
      "\u001b[0;31mKeyError\u001b[0m                                  Traceback (most recent call last)",
      "\u001b[0;32m<ipython-input-23-243dc5cdfc24>\u001b[0m in \u001b[0;36m<module>\u001b[0;34m\u001b[0m\n\u001b[0;32m----> 1\u001b[0;31m \u001b[0mspeedRecords\u001b[0m\u001b[0;34m.\u001b[0m\u001b[0mindex\u001b[0m\u001b[0;34m.\u001b[0m\u001b[0mget_loc\u001b[0m\u001b[0;34m(\u001b[0m\u001b[0;36m1606867249\u001b[0m\u001b[0;34m,\u001b[0m \u001b[0mmethod\u001b[0m\u001b[0;34m=\u001b[0m\u001b[0;34m\"pad\"\u001b[0m\u001b[0;34m)\u001b[0m\u001b[0;34m\u001b[0m\u001b[0;34m\u001b[0m\u001b[0m\n\u001b[0m",
      "\u001b[0;32m/opt/anaconda3/envs/strym/lib/python3.7/site-packages/pandas/core/indexes/numeric.py\u001b[0m in \u001b[0;36mget_loc\u001b[0;34m(self, key, method, tolerance)\u001b[0m\n\u001b[1;32m    393\u001b[0m             \u001b[0;32mreturn\u001b[0m \u001b[0mnan_idxs\u001b[0m\u001b[0;34m\u001b[0m\u001b[0;34m\u001b[0m\u001b[0m\n\u001b[1;32m    394\u001b[0m \u001b[0;34m\u001b[0m\u001b[0m\n\u001b[0;32m--> 395\u001b[0;31m         \u001b[0;32mreturn\u001b[0m \u001b[0msuper\u001b[0m\u001b[0;34m(\u001b[0m\u001b[0;34m)\u001b[0m\u001b[0;34m.\u001b[0m\u001b[0mget_loc\u001b[0m\u001b[0;34m(\u001b[0m\u001b[0mkey\u001b[0m\u001b[0;34m,\u001b[0m \u001b[0mmethod\u001b[0m\u001b[0;34m=\u001b[0m\u001b[0mmethod\u001b[0m\u001b[0;34m,\u001b[0m \u001b[0mtolerance\u001b[0m\u001b[0;34m=\u001b[0m\u001b[0mtolerance\u001b[0m\u001b[0;34m)\u001b[0m\u001b[0;34m\u001b[0m\u001b[0;34m\u001b[0m\u001b[0m\n\u001b[0m\u001b[1;32m    396\u001b[0m \u001b[0;34m\u001b[0m\u001b[0m\n\u001b[1;32m    397\u001b[0m     \u001b[0;31m# ----------------------------------------------------------------\u001b[0m\u001b[0;34m\u001b[0m\u001b[0;34m\u001b[0m\u001b[0;34m\u001b[0m\u001b[0m\n",
      "\u001b[0;32m/opt/anaconda3/envs/strym/lib/python3.7/site-packages/pandas/core/indexes/base.py\u001b[0m in \u001b[0;36mget_loc\u001b[0;34m(self, key, method, tolerance)\u001b[0m\n\u001b[1;32m   3090\u001b[0m         \u001b[0mloc\u001b[0m \u001b[0;34m=\u001b[0m \u001b[0mindexer\u001b[0m\u001b[0;34m.\u001b[0m\u001b[0mitem\u001b[0m\u001b[0;34m(\u001b[0m\u001b[0;34m)\u001b[0m\u001b[0;34m\u001b[0m\u001b[0;34m\u001b[0m\u001b[0m\n\u001b[1;32m   3091\u001b[0m         \u001b[0;32mif\u001b[0m \u001b[0mloc\u001b[0m \u001b[0;34m==\u001b[0m \u001b[0;34m-\u001b[0m\u001b[0;36m1\u001b[0m\u001b[0;34m:\u001b[0m\u001b[0;34m\u001b[0m\u001b[0;34m\u001b[0m\u001b[0m\n\u001b[0;32m-> 3092\u001b[0;31m             \u001b[0;32mraise\u001b[0m \u001b[0mKeyError\u001b[0m\u001b[0;34m(\u001b[0m\u001b[0mkey\u001b[0m\u001b[0;34m)\u001b[0m\u001b[0;34m\u001b[0m\u001b[0;34m\u001b[0m\u001b[0m\n\u001b[0m\u001b[1;32m   3093\u001b[0m         \u001b[0;32mreturn\u001b[0m \u001b[0mloc\u001b[0m\u001b[0;34m\u001b[0m\u001b[0;34m\u001b[0m\u001b[0m\n\u001b[1;32m   3094\u001b[0m \u001b[0;34m\u001b[0m\u001b[0m\n",
      "\u001b[0;31mKeyError\u001b[0m: 1606867249"
     ]
    }
   ],
=======
   "id": "6b6d3bd7-3d0e-48f2-9345-3f6edd8c0f3e",
   "metadata": {},
   "outputs": [],
>>>>>>> 5d89ca820673d36689874b3a3d1384e296be3268
   "source": [
    "identifier = CAN_path.split(\"/\")[1].split(\"_\")[0] + \"_\" + CAN_path.split(\"/\")[1].split(\"_\")[1]\n",
    "statsByLocation.to_csv(\"outputs/dataByLocation_\" + identifier + \".csv\", index=False)"
   ]
  },
  {
   "cell_type": "code",
<<<<<<< HEAD
   "execution_count": 24,
   "id": "ddc03c19-d52f-4e75-8b4c-f99083cf6673",
   "metadata": {},
   "outputs": [
    {
     "ename": "NameError",
     "evalue": "name 'findMostRecent' is not defined",
     "output_type": "error",
     "traceback": [
      "\u001b[0;31m---------------------------------------------------------------------------\u001b[0m",
      "\u001b[0;31mNameError\u001b[0m                                 Traceback (most recent call last)",
      "\u001b[0;32m<ipython-input-24-39f4636dbe57>\u001b[0m in \u001b[0;36m<module>\u001b[0;34m\u001b[0m\n\u001b[0;32m----> 1\u001b[0;31m \u001b[0mfindMostRecent\u001b[0m\u001b[0;34m(\u001b[0m\u001b[0mspeedRecords\u001b[0m\u001b[0;34m,\u001b[0m \u001b[0;36m1606867250.36366\u001b[0m\u001b[0;34m)\u001b[0m\u001b[0;34m\u001b[0m\u001b[0;34m\u001b[0m\u001b[0m\n\u001b[0m",
      "\u001b[0;31mNameError\u001b[0m: name 'findMostRecent' is not defined"
     ]
    }
   ],
   "source": [
    "findMostRecent(speedRecords, 1606867250.36366)"
   ]
  },
  {
   "cell_type": "code",
   "execution_count": null,
   "id": "031d71f0-666b-4ddf-9c88-6c0ea92af069",
   "metadata": {},
=======
   "execution_count": null,
   "id": "4cc39fd3-a294-48aa-9ca6-4fc440e312ce",
   "metadata": {},
>>>>>>> 5d89ca820673d36689874b3a3d1384e296be3268
   "outputs": [],
   "source": []
  }
 ],
 "metadata": {
  "kernelspec": {
   "display_name": "Python 3",
   "language": "python",
   "name": "python3"
  },
  "language_info": {
   "codemirror_mode": {
    "name": "ipython",
    "version": 3
   },
   "file_extension": ".py",
   "mimetype": "text/x-python",
   "name": "python",
   "nbconvert_exporter": "python",
   "pygments_lexer": "ipython3",
   "version": "3.7.5"
  }
 },
 "nbformat": 4,
 "nbformat_minor": 5
}
