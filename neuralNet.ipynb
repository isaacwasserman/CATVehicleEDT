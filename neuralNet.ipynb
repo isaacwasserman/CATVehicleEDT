{
 "cells": [
  {
   "cell_type": "code",
   "execution_count": 179,
   "id": "8eb22349-8301-4ddd-8029-e0408ce53e6e",
   "metadata": {},
   "outputs": [],
   "source": [
    "import numpy as np\n",
    "import tensorflow as tf\n",
    "import pandas as pd\n",
    "from ipywidgets import widgets\n",
    "from sklearn import preprocessing\n",
    "from tensorflow import keras \n",
    "from tensorflow.keras import layers, regularizers,Model, utils\n",
    "%matplotlib inline \n",
    "import matplotlib.pyplot as plt\n",
    "import sklearn\n",
    "from tensorflow.keras.callbacks import TensorBoard\n",
    "from datetime import time"
   ]
  },
  {
   "cell_type": "code",
   "execution_count": 25,
   "id": "f2b95384-e38a-4593-98b9-7645c5fae293",
   "metadata": {},
   "outputs": [
    {
     "data": {
      "application/vnd.jupyter.widget-view+json": {
       "model_id": "f2cbd80cd7a74687b31a216e616bd5b2",
       "version_major": 2,
       "version_minor": 0
      },
      "text/plain": [
       "Text(value='outputs/', description='Path to CSV:')"
      ]
     },
     "metadata": {},
     "output_type": "display_data"
    }
   ],
   "source": [
    "dataPath_input = widgets.Text(description=\"Path to CSV:\", value=\"outputs/\")\n",
    "dataPath_input"
   ]
  },
  {
   "cell_type": "code",
   "execution_count": 80,
   "id": "661b005d-b77d-47be-b631-6969e9a79dfa",
   "metadata": {},
   "outputs": [],
   "source": [
    "dataByLocation = pd.read_csv(dataPath_input.value)\n",
    "data = dataByLocation.drop(columns=[\"Time\", \"Longitude\", \"Latitude\"])"
   ]
  },
  {
   "cell_type": "code",
   "execution_count": 81,
   "id": "a1c0ba29-0e87-4d2b-a3d6-4ffe92528636",
   "metadata": {},
   "outputs": [
    {
     "data": {
      "text/html": [
       "<div>\n",
       "<style scoped>\n",
       "    .dataframe tbody tr th:only-of-type {\n",
       "        vertical-align: middle;\n",
       "    }\n",
       "\n",
       "    .dataframe tbody tr th {\n",
       "        vertical-align: top;\n",
       "    }\n",
       "\n",
       "    .dataframe thead th {\n",
       "        text-align: right;\n",
       "    }\n",
       "</style>\n",
       "<table border=\"1\" class=\"dataframe\">\n",
       "  <thead>\n",
       "    <tr style=\"text-align: right;\">\n",
       "      <th></th>\n",
       "      <th>Speed</th>\n",
       "      <th>LatAcceleration</th>\n",
       "      <th>LongAcceleration</th>\n",
       "      <th>SteerTorque</th>\n",
       "      <th>SteerRate</th>\n",
       "      <th>SteerAngle</th>\n",
       "      <th>FLWheelSpeed</th>\n",
       "      <th>FRWheelSpeed</th>\n",
       "      <th>RRWheelSpeed</th>\n",
       "      <th>RLWheelSpeed</th>\n",
       "    </tr>\n",
       "  </thead>\n",
       "  <tbody>\n",
       "    <tr>\n",
       "      <th>0</th>\n",
       "      <td>75.155687</td>\n",
       "      <td>-501.740000</td>\n",
       "      <td>0.013309</td>\n",
       "      <td>0.0</td>\n",
       "      <td>0.000000</td>\n",
       "      <td>1.700000</td>\n",
       "      <td>75.159684</td>\n",
       "      <td>75.113947</td>\n",
       "      <td>74.932737</td>\n",
       "      <td>74.926684</td>\n",
       "    </tr>\n",
       "    <tr>\n",
       "      <th>1</th>\n",
       "      <td>75.260991</td>\n",
       "      <td>-501.740000</td>\n",
       "      <td>0.000000</td>\n",
       "      <td>0.0</td>\n",
       "      <td>-0.967652</td>\n",
       "      <td>1.800000</td>\n",
       "      <td>75.006872</td>\n",
       "      <td>75.095745</td>\n",
       "      <td>75.014983</td>\n",
       "      <td>75.029818</td>\n",
       "    </tr>\n",
       "    <tr>\n",
       "      <th>2</th>\n",
       "      <td>75.227563</td>\n",
       "      <td>-501.740000</td>\n",
       "      <td>0.000000</td>\n",
       "      <td>0.0</td>\n",
       "      <td>-3.648693</td>\n",
       "      <td>1.810812</td>\n",
       "      <td>75.262530</td>\n",
       "      <td>75.182388</td>\n",
       "      <td>74.810142</td>\n",
       "      <td>74.737943</td>\n",
       "    </tr>\n",
       "    <tr>\n",
       "      <th>3</th>\n",
       "      <td>75.467328</td>\n",
       "      <td>-501.720768</td>\n",
       "      <td>0.112396</td>\n",
       "      <td>0.0</td>\n",
       "      <td>0.000000</td>\n",
       "      <td>2.100000</td>\n",
       "      <td>75.521644</td>\n",
       "      <td>75.467706</td>\n",
       "      <td>75.129178</td>\n",
       "      <td>74.946233</td>\n",
       "    </tr>\n",
       "    <tr>\n",
       "      <th>4</th>\n",
       "      <td>75.500000</td>\n",
       "      <td>-501.740000</td>\n",
       "      <td>0.103073</td>\n",
       "      <td>0.0</td>\n",
       "      <td>0.000000</td>\n",
       "      <td>2.100000</td>\n",
       "      <td>75.536009</td>\n",
       "      <td>75.604389</td>\n",
       "      <td>75.237599</td>\n",
       "      <td>75.336790</td>\n",
       "    </tr>\n",
       "    <tr>\n",
       "      <th>...</th>\n",
       "      <td>...</td>\n",
       "      <td>...</td>\n",
       "      <td>...</td>\n",
       "      <td>...</td>\n",
       "      <td>...</td>\n",
       "      <td>...</td>\n",
       "      <td>...</td>\n",
       "      <td>...</td>\n",
       "      <td>...</td>\n",
       "      <td>...</td>\n",
       "    </tr>\n",
       "    <tr>\n",
       "      <th>37853</th>\n",
       "      <td>0.000000</td>\n",
       "      <td>-501.740000</td>\n",
       "      <td>0.000000</td>\n",
       "      <td>0.0</td>\n",
       "      <td>0.000000</td>\n",
       "      <td>-229.100000</td>\n",
       "      <td>0.000000</td>\n",
       "      <td>0.000000</td>\n",
       "      <td>0.000000</td>\n",
       "      <td>0.000000</td>\n",
       "    </tr>\n",
       "    <tr>\n",
       "      <th>37854</th>\n",
       "      <td>0.000000</td>\n",
       "      <td>-501.733100</td>\n",
       "      <td>0.000000</td>\n",
       "      <td>0.0</td>\n",
       "      <td>0.000000</td>\n",
       "      <td>-229.100000</td>\n",
       "      <td>0.000000</td>\n",
       "      <td>0.000000</td>\n",
       "      <td>0.000000</td>\n",
       "      <td>0.000000</td>\n",
       "    </tr>\n",
       "    <tr>\n",
       "      <th>37855</th>\n",
       "      <td>0.000000</td>\n",
       "      <td>-501.740000</td>\n",
       "      <td>0.000000</td>\n",
       "      <td>0.0</td>\n",
       "      <td>0.000000</td>\n",
       "      <td>-229.100000</td>\n",
       "      <td>0.000000</td>\n",
       "      <td>0.000000</td>\n",
       "      <td>0.000000</td>\n",
       "      <td>0.000000</td>\n",
       "    </tr>\n",
       "    <tr>\n",
       "      <th>37856</th>\n",
       "      <td>0.000000</td>\n",
       "      <td>-501.740000</td>\n",
       "      <td>0.000000</td>\n",
       "      <td>0.0</td>\n",
       "      <td>0.000000</td>\n",
       "      <td>-229.100000</td>\n",
       "      <td>0.000000</td>\n",
       "      <td>0.000000</td>\n",
       "      <td>0.000000</td>\n",
       "      <td>0.000000</td>\n",
       "    </tr>\n",
       "    <tr>\n",
       "      <th>37857</th>\n",
       "      <td>0.000000</td>\n",
       "      <td>-501.740000</td>\n",
       "      <td>0.000000</td>\n",
       "      <td>0.0</td>\n",
       "      <td>0.000000</td>\n",
       "      <td>-229.100000</td>\n",
       "      <td>0.000000</td>\n",
       "      <td>0.000000</td>\n",
       "      <td>0.000000</td>\n",
       "      <td>0.000000</td>\n",
       "    </tr>\n",
       "  </tbody>\n",
       "</table>\n",
       "<p>37858 rows × 10 columns</p>\n",
       "</div>"
      ],
      "text/plain": [
       "           Speed  LatAcceleration  LongAcceleration  SteerTorque  SteerRate  \\\n",
       "0      75.155687      -501.740000          0.013309          0.0   0.000000   \n",
       "1      75.260991      -501.740000          0.000000          0.0  -0.967652   \n",
       "2      75.227563      -501.740000          0.000000          0.0  -3.648693   \n",
       "3      75.467328      -501.720768          0.112396          0.0   0.000000   \n",
       "4      75.500000      -501.740000          0.103073          0.0   0.000000   \n",
       "...          ...              ...               ...          ...        ...   \n",
       "37853   0.000000      -501.740000          0.000000          0.0   0.000000   \n",
       "37854   0.000000      -501.733100          0.000000          0.0   0.000000   \n",
       "37855   0.000000      -501.740000          0.000000          0.0   0.000000   \n",
       "37856   0.000000      -501.740000          0.000000          0.0   0.000000   \n",
       "37857   0.000000      -501.740000          0.000000          0.0   0.000000   \n",
       "\n",
       "       SteerAngle  FLWheelSpeed  FRWheelSpeed  RRWheelSpeed  RLWheelSpeed  \n",
       "0        1.700000     75.159684     75.113947     74.932737     74.926684  \n",
       "1        1.800000     75.006872     75.095745     75.014983     75.029818  \n",
       "2        1.810812     75.262530     75.182388     74.810142     74.737943  \n",
       "3        2.100000     75.521644     75.467706     75.129178     74.946233  \n",
       "4        2.100000     75.536009     75.604389     75.237599     75.336790  \n",
       "...           ...           ...           ...           ...           ...  \n",
       "37853 -229.100000      0.000000      0.000000      0.000000      0.000000  \n",
       "37854 -229.100000      0.000000      0.000000      0.000000      0.000000  \n",
       "37855 -229.100000      0.000000      0.000000      0.000000      0.000000  \n",
       "37856 -229.100000      0.000000      0.000000      0.000000      0.000000  \n",
       "37857 -229.100000      0.000000      0.000000      0.000000      0.000000  \n",
       "\n",
       "[37858 rows x 10 columns]"
      ]
     },
     "execution_count": 81,
     "metadata": {},
     "output_type": "execute_result"
    }
   ],
   "source": [
    "data = dataByLocation.drop(columns=[\"Time\", \"Longitude\", \"Latitude\"])\n",
    "data"
   ]
  },
  {
   "cell_type": "markdown",
   "id": "5fd93df7-465f-4969-8cca-03d54fb0def2",
   "metadata": {},
   "source": [
    "## Normalize Data"
   ]
  },
  {
   "cell_type": "code",
   "execution_count": 83,
   "id": "8d319d2b-ca5f-45f5-bb9a-3e5cff8b745b",
   "metadata": {},
   "outputs": [],
   "source": [
    "data = data.values[:]\n",
    "min_max_scaler = preprocessing.MinMaxScaler()\n",
    "data_normalized = min_max_scaler.fit_transform(data)\n",
    "data_normalized = pd.DataFrame(data_normalized)"
   ]
  },
  {
   "cell_type": "markdown",
   "id": "e5df908d-72e8-4507-b130-b2ec3d4cd9a7",
   "metadata": {},
   "source": [
    "## Window Data"
   ]
  },
  {
   "cell_type": "code",
   "execution_count": 87,
   "id": "99ea798a-56ff-481b-a90d-30a793d7f5c4",
   "metadata": {},
   "outputs": [],
   "source": [
    "features = ['Speed',\n",
    "            'LatAcceleration',\n",
    "            'LongAcceleration',\n",
    "            'SteerTorque',\n",
    "            'SteerRate',\n",
    "            'SteerAngle',\n",
    "            'FLWheelSpeed',\n",
    "            'FRWheelSpeed',\n",
    "            'RRWheelSpeed',\n",
    "            'RLWheelSpeed']\n",
    "data_df = data_normalized"
   ]
  },
  {
   "cell_type": "code",
   "execution_count": 89,
   "id": "930bcfd0-8d1e-4b41-8495-a5c3565604c8",
   "metadata": {},
   "outputs": [],
   "source": [
    "sequenceLength = 5\n",
    "stackedData, stackedLabels = np.array([]), np.array([])\n",
    "\n",
    "stackedData = []\n",
    "\n",
    "# split can_data into subsampled sequences\n",
    "for i in range(len(data_df)-sequenceLength):\n",
    "    stackedData.append(data_df[i:i+sequenceLength])\n",
    "    \n",
    "stackedData = np.array(stackedData)"
   ]
  },
  {
   "cell_type": "markdown",
   "id": "8cdb3ebd-8bd2-444c-b11c-8fdfcb6840a2",
   "metadata": {},
   "source": [
    "## Generate Labels"
   ]
  },
  {
   "cell_type": "code",
   "execution_count": 101,
   "id": "ee6edaa8-28e8-4143-ac02-67f047f13cbe",
   "metadata": {},
   "outputs": [
    {
     "data": {
      "text/plain": [
       "(37857, 10)"
      ]
     },
     "execution_count": 101,
     "metadata": {},
     "output_type": "execute_result"
    }
   ],
   "source": [
    "data_normalized.shape"
   ]
  },
  {
   "cell_type": "code",
   "execution_count": 104,
   "id": "081b41cf-a72c-4645-9dbb-cd72dc8e539f",
   "metadata": {},
   "outputs": [
    {
     "data": {
      "text/html": [
       "<div>\n",
       "<style scoped>\n",
       "    .dataframe tbody tr th:only-of-type {\n",
       "        vertical-align: middle;\n",
       "    }\n",
       "\n",
       "    .dataframe tbody tr th {\n",
       "        vertical-align: top;\n",
       "    }\n",
       "\n",
       "    .dataframe thead th {\n",
       "        text-align: right;\n",
       "    }\n",
       "</style>\n",
       "<table border=\"1\" class=\"dataframe\">\n",
       "  <thead>\n",
       "    <tr style=\"text-align: right;\">\n",
       "      <th></th>\n",
       "      <th>longDeltas</th>\n",
       "      <th>latDeltas</th>\n",
       "    </tr>\n",
       "  </thead>\n",
       "  <tbody>\n",
       "    <tr>\n",
       "      <th>count</th>\n",
       "      <td>37851.000000</td>\n",
       "      <td>37851.000000</td>\n",
       "    </tr>\n",
       "    <tr>\n",
       "      <th>mean</th>\n",
       "      <td>0.000005</td>\n",
       "      <td>-0.000032</td>\n",
       "    </tr>\n",
       "    <tr>\n",
       "      <th>std</th>\n",
       "      <td>0.000043</td>\n",
       "      <td>0.000044</td>\n",
       "    </tr>\n",
       "    <tr>\n",
       "      <th>min</th>\n",
       "      <td>-0.000122</td>\n",
       "      <td>-0.000130</td>\n",
       "    </tr>\n",
       "    <tr>\n",
       "      <th>25%</th>\n",
       "      <td>0.000000</td>\n",
       "      <td>-0.000080</td>\n",
       "    </tr>\n",
       "    <tr>\n",
       "      <th>50%</th>\n",
       "      <td>0.000000</td>\n",
       "      <td>0.000000</td>\n",
       "    </tr>\n",
       "    <tr>\n",
       "      <th>75%</th>\n",
       "      <td>0.000000</td>\n",
       "      <td>0.000000</td>\n",
       "    </tr>\n",
       "    <tr>\n",
       "      <th>max</th>\n",
       "      <td>0.000175</td>\n",
       "      <td>0.000084</td>\n",
       "    </tr>\n",
       "  </tbody>\n",
       "</table>\n",
       "</div>"
      ],
      "text/plain": [
       "         longDeltas     latDeltas\n",
       "count  37851.000000  37851.000000\n",
       "mean       0.000005     -0.000032\n",
       "std        0.000043      0.000044\n",
       "min       -0.000122     -0.000130\n",
       "25%        0.000000     -0.000080\n",
       "50%        0.000000      0.000000\n",
       "75%        0.000000      0.000000\n",
       "max        0.000175      0.000084"
      ]
     },
     "execution_count": 104,
     "metadata": {},
     "output_type": "execute_result"
    }
   ],
   "source": [
    "longitudeLabels = []\n",
    "latitudeLabels = []\n",
    "\n",
    "for i,window in enumerate(stackedData[:-1]):\n",
    "    last = dataByLocation.iloc[i]\n",
    "    lastLong = last.Longitude\n",
    "    lastLat = last.Latitude\n",
    "    cur = dataByLocation.iloc[i+5]\n",
    "    curLong = cur.Longitude\n",
    "    curLat = cur.Latitude\n",
    "    \n",
    "    longitudeLabels.append(curLong - lastLong)\n",
    "    latitudeLabels.append(curLat - lastLat)\n",
    "\n",
    "longitudeLabels = np.array(longitudeLabels)\n",
    "latitudeLabels = np.array(latitudeLabels)\n",
    "\n",
    "pd.DataFrame({\"longDeltas\": longitudeLabels, \"latDeltas\": latitudeLabels}).describe()"
   ]
  },
  {
   "cell_type": "markdown",
   "id": "be7ce396-6de3-423b-b4e9-9dc7d4e5c64f",
   "metadata": {},
   "source": [
    "## Build Neural Network"
   ]
  },
  {
   "cell_type": "markdown",
   "id": "6ef6067e-065a-489a-bccf-41b93b548e2c",
   "metadata": {},
   "source": [
    "### MLP"
   ]
  },
  {
   "cell_type": "code",
   "execution_count": 107,
   "id": "1f7f3ed4-165b-4f0a-92ae-329ee3b98389",
   "metadata": {},
   "outputs": [
    {
     "data": {
      "text/plain": [
       "(37851, 5, 10)"
      ]
     },
     "execution_count": 107,
     "metadata": {},
     "output_type": "execute_result"
    }
   ],
   "source": [
    "trainingData = stackedData[:-1]\n",
    "trainingData.shape"
   ]
  },
  {
   "cell_type": "code",
   "execution_count": 108,
   "id": "a91e27ab-8c06-4d74-a470-433376306098",
   "metadata": {},
   "outputs": [],
   "source": [
    "#specify input dimensionality\n",
    "numberOfSamples = trainingData.shape[0]\n",
    "inputDimension = trainingData[0].shape[0]*trainingData[0].shape[1]\n",
    "outputDimension = 1\n",
    "\n",
    "#construct our neural network\n",
    "hiddenLayerSizes = [inputDimension, 32, 16, 8, 4, 2]\n",
    "\n",
    "#set up our input layer\n",
    "inputLayer = layers.Input(shape=(inputDimension, ))\n",
    "\n",
    "#set up our hidden layers\n",
    "curLayer = 0\n",
    "previousLayer = inputLayer\n",
    "for curLayerSize in hiddenLayerSizes:\n",
    "    previousLayer = layers.Dense(curLayerSize,\n",
    "                                 activation='sigmoid', \n",
    "                                 name=str(curLayerSize)+'_hiddenLayer',\n",
    "                                 kernel_regularizer=regularizers.L2(0.001)\n",
    "                                )(previousLayer)\n",
    "    \n",
    "outputLayer = layers.Dense(outputDimension, activation='sigmoid')(previousLayer)\n",
    "\n",
    "#compile our model\n",
    "ourModel = Model(inputs=inputLayer, outputs=[outputLayer], name='longitude_mlp')\n",
    "ourModel.compile(loss='mean_squared_error', metrics=['acc'], optimizer='adam')\n",
    "    "
   ]
  },
  {
   "cell_type": "code",
   "execution_count": 109,
   "id": "667064a9-db30-4f77-b340-002a2f87822a",
   "metadata": {},
   "outputs": [
    {
     "name": "stdout",
     "output_type": "stream",
     "text": [
      "Epoch 1/10\n",
      "1183/1183 [==============================] - 2s 1ms/step - loss: 0.3070 - acc: 0.3259\n",
      "Epoch 2/10\n",
      "1183/1183 [==============================] - 2s 1ms/step - loss: 0.0596 - acc: 0.6790\n",
      "Epoch 3/10\n",
      "1183/1183 [==============================] - 1s 1ms/step - loss: 0.0114 - acc: 0.6729\n",
      "Epoch 4/10\n",
      "1183/1183 [==============================] - 1s 1ms/step - loss: 0.0040 - acc: 0.6768\n",
      "Epoch 5/10\n",
      "1183/1183 [==============================] - 1s 1ms/step - loss: 0.0015 - acc: 0.6760\n",
      "Epoch 6/10\n",
      "1183/1183 [==============================] - 1s 1ms/step - loss: 6.3401e-04 - acc: 0.6799\n",
      "Epoch 7/10\n",
      "1183/1183 [==============================] - 1s 1ms/step - loss: 2.8226e-04 - acc: 0.6800\n",
      "Epoch 8/10\n",
      "1183/1183 [==============================] - 1s 1ms/step - loss: 1.3071e-04 - acc: 0.6795\n",
      "Epoch 9/10\n",
      "1183/1183 [==============================] - 1s 1ms/step - loss: 6.2510e-05 - acc: 0.6781\n",
      "Epoch 10/10\n",
      "1183/1183 [==============================] - 1s 1ms/step - loss: 3.0677e-05 - acc: 0.6818\n"
     ]
    },
    {
     "data": {
      "text/plain": [
       "<tensorflow.python.keras.callbacks.History at 0x7f35b6655730>"
      ]
     },
     "execution_count": 109,
     "metadata": {},
     "output_type": "execute_result"
    }
   ],
   "source": [
    "#train the mlp\n",
    "#initially we have(N, 28, 28); we want (N, 28*28)\n",
    "trainingDataFlat = trainingData.reshape((-1, inputDimension))\n",
    "ourModel.fit(trainingDataFlat, longitudeLabels, epochs=10)"
   ]
  },
  {
   "cell_type": "markdown",
   "id": "4ac22938-94d9-4b9c-8ed0-8e6407dd2633",
   "metadata": {},
   "source": [
    "### CNN"
   ]
  },
  {
   "cell_type": "code",
   "execution_count": 111,
   "id": "74da5ebd-86c0-4d0f-a650-f3ba37fc639f",
   "metadata": {},
   "outputs": [
    {
     "data": {
      "text/plain": [
       "(37851, 5, 10)"
      ]
     },
     "execution_count": 111,
     "metadata": {},
     "output_type": "execute_result"
    }
   ],
   "source": [
    "trainingData.shape"
   ]
  },
  {
   "cell_type": "code",
   "execution_count": 132,
   "id": "77f008e1-2efd-44c8-b30f-dbed103bd599",
   "metadata": {},
   "outputs": [],
   "source": [
    "#specify input dimensionality\n",
    "numberOfSamples = trainingData.shape[0]\n",
    "inputDimension = trainingData[0].shape[0]*trainingData[0].shape[1]\n",
    "outputDimension = 1\n",
    "\n",
    "#construct our neural network\n",
    "hiddenLayerSizes = [inputDimension, 32, 16, 8, 4, 2]\n",
    "\n",
    "#set up our input layer\n",
    "inputLayer = layers.Input(shape=(inputDimension, 1))\n",
    "\n",
    "#set up our hidden layers\n",
    "curLayer = 0\n",
    "previousLayer = inputLayer\n",
    "for curLayerSize in hiddenLayerSizes:\n",
    "    previousLayer = layers.Conv1D(curLayerSize, 5,\n",
    "                                  activation='sigmoid',\n",
    "                                  name=str(curLayerSize)+'_hiddenLayer',\n",
    "                                  kernel_regularizer=regularizers.L2(0.001),\n",
    "                                  input_shape=(numberOfSamples, 5, 10)\n",
    "                                 )(previousLayer)\n",
    "    \n",
    "outputLayer = layers.Dense(outputDimension, activation='sigmoid')(previousLayer)\n",
    "\n",
    "#compile our model\n",
    "ourModel = Model(inputs=inputLayer, outputs=[outputLayer], name='longitude_cnn')\n",
    "ourModel.compile(loss='mean_squared_error', metrics=[tf.keras.metrics.RootMeanSquaredError()], optimizer='adam')\n",
    "    "
   ]
  },
  {
   "cell_type": "code",
   "execution_count": 133,
   "id": "696074cb-d5a8-42b3-a46e-e95a096d9e3e",
   "metadata": {},
   "outputs": [
    {
     "name": "stdout",
     "output_type": "stream",
     "text": [
      "Epoch 1/10\n",
      "1183/1183 [==============================] - 3s 3ms/step - loss: 0.1368 - root_mean_squared_error: 0.3425\n",
      "Epoch 2/10\n",
      "1183/1183 [==============================] - 3s 2ms/step - loss: 0.0131 - root_mean_squared_error: 0.1069\n",
      "Epoch 3/10\n",
      "1183/1183 [==============================] - 3s 3ms/step - loss: 0.0024 - root_mean_squared_error: 0.0426\n",
      "Epoch 4/10\n",
      "1183/1183 [==============================] - 3s 3ms/step - loss: 0.0010 - root_mean_squared_error: 0.0275\n",
      "Epoch 5/10\n",
      "1183/1183 [==============================] - 3s 2ms/step - loss: 4.5273e-04 - root_mean_squared_error: 0.0191\n",
      "Epoch 6/10\n",
      "1183/1183 [==============================] - 3s 3ms/step - loss: 2.0555e-04 - root_mean_squared_error: 0.0134\n",
      "Epoch 7/10\n",
      "1183/1183 [==============================] - 3s 2ms/step - loss: 9.5787e-05 - root_mean_squared_error: 0.0094\n",
      "Epoch 8/10\n",
      "1183/1183 [==============================] - 3s 3ms/step - loss: 4.6903e-05 - root_mean_squared_error: 0.0067\n",
      "Epoch 9/10\n",
      "1183/1183 [==============================] - 3s 2ms/step - loss: 2.4158e-05 - root_mean_squared_error: 0.0049\n",
      "Epoch 10/10\n",
      "1183/1183 [==============================] - 3s 3ms/step - loss: 1.2910e-05 - root_mean_squared_error: 0.0036\n"
     ]
    },
    {
     "data": {
      "text/plain": [
       "<tensorflow.python.keras.callbacks.History at 0x7f35a79669d0>"
      ]
     },
     "execution_count": 133,
     "metadata": {},
     "output_type": "execute_result"
    }
   ],
   "source": [
    "#train the mlp\n",
    "trainingDataFlat = trainingData.reshape((-1, inputDimension))\n",
    "ourModel.fit(trainingDataFlat, longitudeLabels, epochs=10)"
   ]
  },
  {
   "cell_type": "markdown",
   "id": "3ea4c17c-e3c5-4a37-9550-6ebfeacb6216",
   "metadata": {},
   "source": [
    "### Resnet"
   ]
  },
  {
   "cell_type": "code",
   "execution_count": 196,
   "id": "5cdfdb47-1d3e-4bfa-9233-ad9bdb453dbc",
   "metadata": {},
   "outputs": [],
   "source": [
    "#specify input dimensionality\n",
    "numberOfSamples = trainingData.shape[0]\n",
    "inputDimension = trainingData[0].shape[0]*trainingData[0].shape[1]\n",
    "outputDimension = 1\n",
    "\n",
    "#construct our neural network\n",
    "hiddenLayerSizes = [inputDimension, 32, 32, 16, 16, 8, 4, 2]\n",
    "\n",
    "#set up our input layer\n",
    "inputLayer = layers.Input(shape=(inputDimension, 1))\n",
    "\n",
    "#set up our hidden layers\n",
    "curLayer = 0\n",
    "previousPreviousLayer = None\n",
    "previousLayer = inputLayer\n",
    "for i,curLayerSize in enumerate(hiddenLayerSizes):\n",
    "    previousPreviousLayer = previousLayer\n",
    "    previousLayer = layers.Conv1D(curLayerSize, 5,\n",
    "                                  activation='sigmoid',\n",
    "                                  name='hiddenLayer_'+str(i),\n",
    "                                  kernel_regularizer=regularizers.L2(0.001),\n",
    "                                  input_shape=(numberOfSamples, 5, 10)\n",
    "                                 )(previousLayer * previousPreviousLayer)\n",
    "outputLayer = layers.Dense(outputDimension, activation='linear')(previousLayer)\n",
    "\n",
    "#compile our model\n",
    "ourModel = Model(inputs=inputLayer, outputs=[outputLayer], name='longitude_resnet')\n",
    "ourModel.compile(loss='mean_squared_error', metrics=[tf.keras.metrics.RootMeanSquaredError()], optimizer='adam')\n",
    "    "
   ]
  },
  {
   "cell_type": "code",
   "execution_count": 197,
   "id": "aab9d1e9-6870-4ead-8fc2-69976f2af4df",
   "metadata": {},
   "outputs": [
    {
     "name": "stdout",
     "output_type": "stream",
     "text": [
      "Epoch 1/10\n",
      "592/592 [==============================] - 4s 5ms/step - loss: 0.0605 - root_mean_squared_error: 0.1098 - val_loss: 0.0047 - val_root_mean_squared_error: 0.0024\n",
      "Epoch 2/10\n",
      "592/592 [==============================] - 3s 4ms/step - loss: 0.0037 - root_mean_squared_error: 0.0021 - val_loss: 0.0018 - val_root_mean_squared_error: 0.0015\n",
      "Epoch 3/10\n",
      "592/592 [==============================] - 3s 4ms/step - loss: 0.0016 - root_mean_squared_error: 0.0013 - val_loss: 9.8404e-04 - val_root_mean_squared_error: 0.0011\n",
      "Epoch 4/10\n",
      "592/592 [==============================] - 3s 5ms/step - loss: 8.5719e-04 - root_mean_squared_error: 9.5660e-04 - val_loss: 5.3705e-04 - val_root_mean_squared_error: 7.5179e-04\n",
      "Epoch 5/10\n",
      "592/592 [==============================] - 3s 4ms/step - loss: 4.5721e-04 - root_mean_squared_error: 6.7209e-04 - val_loss: 2.5588e-04 - val_root_mean_squared_error: 5.0275e-04\n",
      "Epoch 6/10\n",
      "592/592 [==============================] - 3s 4ms/step - loss: 2.0825e-04 - root_mean_squared_error: 4.2729e-04 - val_loss: 9.5496e-05 - val_root_mean_squared_error: 2.9100e-04\n",
      "Epoch 7/10\n",
      "592/592 [==============================] - 3s 4ms/step - loss: 7.2791e-05 - root_mean_squared_error: 2.3620e-04 - val_loss: 2.4853e-05 - val_root_mean_squared_error: 1.6047e-04\n",
      "Epoch 8/10\n",
      "592/592 [==============================] - 3s 4ms/step - loss: 1.7411e-05 - root_mean_squared_error: 1.1545e-04 - val_loss: 3.9475e-06 - val_root_mean_squared_error: 8.4949e-05\n",
      "Epoch 9/10\n",
      "592/592 [==============================] - 3s 4ms/step - loss: 2.4947e-06 - root_mean_squared_error: 6.0117e-05 - val_loss: 3.2357e-07 - val_root_mean_squared_error: 4.3895e-05\n",
      "Epoch 10/10\n",
      "592/592 [==============================] - 3s 4ms/step - loss: 1.8200e-07 - root_mean_squared_error: 4.7446e-05 - val_loss: 1.2408e-08 - val_root_mean_squared_error: 4.1539e-05\n"
     ]
    }
   ],
   "source": [
    "#train the mlp\n",
    "dataFlat = trainingData.reshape((-1, inputDimension))\n",
    "\n",
    "from sklearn.model_selection import train_test_split\n",
    "X_train, X_val, y_train, y_val = train_test_split(dataFlat, longitudeLabels, test_size=0.5, shuffle=False)\n",
    "\n",
    "tensorboard = TensorBoard(log_dir='logs/{}'.format(time()))\n",
    "\n",
    "history = ourModel.fit(X_train, y_train, epochs=10, validation_data=(X_val, y_val), callbacks=[tensorboard])"
   ]
  },
  {
   "cell_type": "code",
   "execution_count": 208,
   "id": "ad163c7b-98cb-4c70-8fbd-2e2c19014563",
   "metadata": {},
   "outputs": [
    {
     "data": {
      "text/plain": [
       "(18925, 18, 1)"
      ]
     },
     "execution_count": 208,
     "metadata": {},
     "output_type": "execute_result"
    }
   ],
   "source": [
    "# make a prediction\n",
    "ynew = ourModel.predict(X_train)\n",
    "\n",
    "ynew.shape\n",
    "# show the inputs and predicted outputs\n",
    "# for i in range(len(X_val)):\n",
    "# \tprint(\"Predicted=%s, actual=%s\" % (ynew[i], y_val[i]))"
   ]
  },
  {
   "cell_type": "code",
   "execution_count": 200,
   "id": "2fb12cfa-13a6-402a-9ee0-4e773e8d6219",
   "metadata": {},
   "outputs": [
    {
     "data": {
      "text/plain": [
       "(18925, 50)"
      ]
     },
     "execution_count": 200,
     "metadata": {},
     "output_type": "execute_result"
    }
   ],
   "source": [
    "X_train.shape"
   ]
  },
  {
   "cell_type": "code",
   "execution_count": 201,
   "id": "85701320-5a85-4d9b-b25f-832ebdd0b682",
   "metadata": {},
   "outputs": [
    {
     "data": {
      "text/plain": [
       "(18925,)"
      ]
     },
     "execution_count": 201,
     "metadata": {},
     "output_type": "execute_result"
    }
   ],
   "source": [
    "y_train.shape"
   ]
  },
  {
   "cell_type": "code",
   "execution_count": null,
   "id": "aba9f273-1898-4813-a0b9-59ca81dac9be",
   "metadata": {},
   "outputs": [],
   "source": []
  }
 ],
 "metadata": {
  "kernelspec": {
   "display_name": "Python 3",
   "language": "python",
   "name": "python3"
  },
  "language_info": {
   "codemirror_mode": {
    "name": "ipython",
    "version": 3
   },
   "file_extension": ".py",
   "mimetype": "text/x-python",
   "name": "python",
   "nbconvert_exporter": "python",
   "pygments_lexer": "ipython3",
   "version": "3.8.8"
  }
 },
 "nbformat": 4,
 "nbformat_minor": 5
}
