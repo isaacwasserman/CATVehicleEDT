{
 "cells": [
  {
   "cell_type": "code",
   "execution_count": 55,
   "id": "5814a6fd-5171-473c-859b-d003a15daef1",
   "metadata": {},
   "outputs": [],
   "source": [
    "import tensorflow as tf\n",
    "import os\n",
    "import pandas as pd\n",
    "import strym\n",
    "from strym import strymread\n",
    "import matplotlib.pyplot as plt\n",
    "from pylab import rcParams\n",
    "import strym.DBC_Read_Tools as dbc\n",
    "import numpy as np\n",
    "from sklearn.ensemble import RandomForestRegressor"
   ]
  },
  {
   "cell_type": "code",
   "execution_count": 56,
   "id": "59d85a74-eac1-46d7-a948-17e77f83d4ba",
   "metadata": {},
   "outputs": [],
   "source": [
    "data_path = '../2020-12-02-00-00-49_5FNYF6H05HB089022_CAN_Messages.csv'"
   ]
  },
  {
   "cell_type": "code",
   "execution_count": 57,
   "id": "1ad451e0-c628-4c7f-94b9-dc742b9ea051",
   "metadata": {},
   "outputs": [
    {
     "name": "stdout",
     "output_type": "stream",
     "text": [
      "[2021_07_06_15_21_36] (root) INFO: Vehicle model infered is honda-pilot-2017\n"
     ]
    }
   ],
   "source": [
    "r = strymread(csvfile=data_path)"
   ]
  },
  {
   "cell_type": "code",
   "execution_count": 98,
   "id": "945921e3-67be-4355-8403-4000480b7be5",
   "metadata": {},
   "outputs": [],
   "source": [
    "debug_num_samples = 100\n",
    "r_dataframe = r.dataframe[:debug_num_samples]\n",
    "\n",
    "features = ['Time', 'Bus', 'MessageID', 'Message', 'MessageLength']\n",
    "labels = ['Time', 'Latitude', 'Longitude']\n",
    "can_data_df = r_dataframe[features][:]\n",
    "labels_df = r_dataframe[labels][:]"
   ]
  },
  {
   "cell_type": "code",
   "execution_count": 99,
   "id": "d91ce2c6-d74b-4e2e-afa0-174ece34a20e",
   "metadata": {},
   "outputs": [
    {
     "name": "stderr",
     "output_type": "stream",
     "text": [
      "/opt/anaconda3/envs/strym/lib/python3.7/site-packages/ipykernel_launcher.py:2: SettingWithCopyWarning:\n",
      "\n",
      "\n",
      "A value is trying to be set on a copy of a slice from a DataFrame\n",
      "\n",
      "See the caveats in the documentation: https://pandas.pydata.org/pandas-docs/stable/user_guide/indexing.html#returning-a-view-versus-a-copy\n",
      "\n"
     ]
    }
   ],
   "source": [
    "for i, message in enumerate(can_data_df['Message']):\n",
    "    can_data_df['Message'][i] = int(message, 16)"
   ]
  },
  {
   "cell_type": "code",
   "execution_count": 93,
   "id": "3981ad9d-527f-4de5-9943-ba7cdb067368",
   "metadata": {},
   "outputs": [
    {
     "name": "stdout",
     "output_type": "stream",
     "text": [
      "(5000, 5) (5000, 3)\n"
     ]
    }
   ],
   "source": [
    "data = np.array(can_data_df)\n",
    "labels = np.array(labels_df)\n",
    "print(data.shape, labels.shape)"
   ]
  },
  {
   "cell_type": "code",
   "execution_count": 94,
   "id": "552d9677-2b8a-4e8b-8bbe-b55269074137",
   "metadata": {},
   "outputs": [],
   "source": [
    "model = RandomForestRegressor()"
   ]
  },
  {
   "cell_type": "code",
   "execution_count": 95,
   "id": "8ed3cdcb-32e1-4a7e-a225-0e6fcaef8a42",
   "metadata": {},
   "outputs": [
    {
     "data": {
      "text/plain": [
       "RandomForestRegressor(bootstrap=True, ccp_alpha=0.0, criterion='mse',\n",
       "                      max_depth=None, max_features='auto', max_leaf_nodes=None,\n",
       "                      max_samples=None, min_impurity_decrease=0.0,\n",
       "                      min_impurity_split=None, min_samples_leaf=1,\n",
       "                      min_samples_split=2, min_weight_fraction_leaf=0.0,\n",
       "                      n_estimators=100, n_jobs=None, oob_score=False,\n",
       "                      random_state=None, verbose=0, warm_start=False)"
      ]
     },
     "execution_count": 95,
     "metadata": {},
     "output_type": "execute_result"
    }
   ],
   "source": [
    "model.fit(data, labels)"
   ]
  },
  {
   "cell_type": "code",
   "execution_count": 96,
   "id": "5188738e-7a38-4811-bedf-fa0a0408fc15",
   "metadata": {},
   "outputs": [
    {
     "name": "stdout",
     "output_type": "stream",
     "text": [
      "Sample 1 ======================================================\n",
      "Prediction:   [ 1.60686725e+09  3.22955666e+01 -1.10824049e+02]\n",
      "Ground truth: [ 1.60686725e+09  3.22956488e+01 -1.10824048e+02]\n",
      "Sample 2 ======================================================\n",
      "Prediction:   [ 1.60686725e+09  3.22955666e+01 -1.10824049e+02]\n",
      "Ground truth: [ 1.60686725e+09  3.22956488e+01 -1.10824048e+02]\n",
      "Sample 3 ======================================================\n",
      "Prediction:   [ 1.60686725e+09  3.22955666e+01 -1.10824049e+02]\n",
      "Ground truth: [ 1.60686725e+09  3.22956488e+01 -1.10824048e+02]\n",
      "Sample 4 ======================================================\n",
      "Prediction:   [ 1.60686725e+09  3.22955666e+01 -1.10824049e+02]\n",
      "Ground truth: [ 1.60686725e+09  3.22956488e+01 -1.10824048e+02]\n",
      "Sample 5 ======================================================\n",
      "Prediction:   [ 1.60686725e+09  3.22955666e+01 -1.10824049e+02]\n",
      "Ground truth: [ 1.60686725e+09  3.22956488e+01 -1.10824048e+02]\n",
      "Sample 6 ======================================================\n",
      "Prediction:   [ 1.60686725e+09  3.22955666e+01 -1.10824049e+02]\n",
      "Ground truth: [ 1.60686725e+09  3.22956488e+01 -1.10824048e+02]\n",
      "Sample 7 ======================================================\n",
      "Prediction:   [ 1.60686725e+09  3.22955666e+01 -1.10824049e+02]\n",
      "Ground truth: [ 1.60686725e+09  3.22956488e+01 -1.10824048e+02]\n",
      "Sample 8 ======================================================\n",
      "Prediction:   [ 1.60686725e+09  3.22955666e+01 -1.10824049e+02]\n",
      "Ground truth: [ 1.60686725e+09  3.22956488e+01 -1.10824048e+02]\n",
      "Sample 9 ======================================================\n",
      "Prediction:   [ 1.60686725e+09  3.22955665e+01 -1.10824049e+02]\n",
      "Ground truth: [ 1.60686725e+09  3.22956488e+01 -1.10824048e+02]\n",
      "Sample 10 ======================================================\n",
      "Prediction:   [ 1.60686725e+09  3.22955665e+01 -1.10824049e+02]\n",
      "Ground truth: [ 1.60686725e+09  3.22956488e+01 -1.10824048e+02]\n"
     ]
    }
   ],
   "source": [
    "predictions = model.predict(data)\n",
    "for i, p in enumerate(predictions[:10]):\n",
    "    print('Sample', i+1, '=='*27)\n",
    "    print('Prediction:  ', p)\n",
    "    print('Ground truth:', labels[i])"
   ]
  },
  {
   "cell_type": "code",
   "execution_count": 97,
   "id": "ffc8778d-f380-4b36-8392-bc5b1b8ffd25",
   "metadata": {},
   "outputs": [
    {
     "name": "stderr",
     "output_type": "stream",
     "text": [
      "/opt/anaconda3/envs/strym/lib/python3.7/site-packages/sklearn/base.py:434: FutureWarning:\n",
      "\n",
      "The default value of multioutput (not exposed in score method) will change from 'variance_weighted' to 'uniform_average' in 0.23 to keep consistent with 'metrics.r2_score'. To specify the default value manually and avoid the warning, please either call 'metrics.r2_score' directly or make a custom scorer with 'metrics.make_scorer' (the built-in scorer 'r2' uses multioutput='uniform_average').\n",
      "\n"
     ]
    },
    {
     "data": {
      "text/plain": [
       "3.362798082836308e-05"
      ]
     },
     "execution_count": 97,
     "metadata": {},
     "output_type": "execute_result"
    }
   ],
   "source": [
    "model.score(data, labels)"
   ]
  },
  {
   "cell_type": "code",
   "execution_count": null,
   "id": "799e83f5-2e0a-45b5-834b-12cbe8ef0357",
   "metadata": {},
   "outputs": [],
   "source": []
  }
 ],
 "metadata": {
  "kernelspec": {
   "display_name": "Python 3",
   "language": "python",
   "name": "python3"
  },
  "language_info": {
   "codemirror_mode": {
    "name": "ipython",
    "version": 3
   },
   "file_extension": ".py",
   "mimetype": "text/x-python",
   "name": "python",
   "nbconvert_exporter": "python",
   "pygments_lexer": "ipython3",
   "version": "3.7.5"
  }
 },
 "nbformat": 4,
 "nbformat_minor": 5
}
