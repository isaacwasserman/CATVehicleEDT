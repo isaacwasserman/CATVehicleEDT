{
 "cells": [
  {
   "cell_type": "code",
   "execution_count": 91,
   "id": "8356afd2",
   "metadata": {},
   "outputs": [],
   "source": [
    "import tensorflow as tf\n",
    "import os\n",
    "import pandas as pd\n",
    "import strym\n",
    "from strym import strymread\n",
    "import matplotlib.pyplot as plt\n",
    "from pylab import rcParams\n",
    "import strym.DBC_Read_Tools as dbc\n",
    "import numpy as np\n",
    "from sklearn.ensemble import RandomForestRegressor\n",
    "from sklearn.model_selection import cross_validate"
   ]
  },
  {
   "cell_type": "markdown",
   "id": "ff0f8a57-582c-45ac-a8ef-07d3dd0c1c78",
   "metadata": {},
   "source": [
    "# Load in Data\n",
    "I load in data from a .csv file with the columns `['Time', 'Bus', 'MessageID', 'Message', 'MessageLength', 'Latitude', 'Longitude']`. The columns for the training data are `['Time', 'Bus', 'MessageID', 'Message', 'MessageLength']` while the columns for the labels are `['Time', 'Latitude', 'Longitude']`."
   ]
  },
  {
   "cell_type": "code",
   "execution_count": 92,
   "id": "40102d5b-33cc-48d9-82b1-8afe956c2a15",
   "metadata": {},
   "outputs": [],
   "source": [
    "use_decoded = True\n",
    "apply_window = True"
   ]
  },
  {
   "cell_type": "code",
   "execution_count": 93,
   "id": "dee48abc",
   "metadata": {},
   "outputs": [],
   "source": [
    "data_path = ''\n",
    "df = None\n",
    "if use_decoded:\n",
    "    data_path = 'outputs/'\n",
    "    combined_decoded_dataframes = [pd.read_csv(data_path + '/' + file) for file in os.listdir(data_path)]\n",
    "    df = pd.concat(combined_decoded_dataframes)\n",
    "    df.describe\n",
    "else:\n",
    "    data_path = '../encoded_data.csv'\n",
    "    df = strymread(csvfile=data_path).dataframe\n",
    "    df.describe"
   ]
  },
  {
   "cell_type": "code",
   "execution_count": 114,
   "id": "83ddf60a",
   "metadata": {},
   "outputs": [
    {
     "name": "stdout",
     "output_type": "stream",
     "text": [
      "(2000, 14) (2000, 3)\n"
     ]
    }
   ],
   "source": [
    "debug_num_samples = 8000\n",
    "r = df[:debug_num_samples]\n",
    "test_num_samples = 2000\n",
    "test_df = df[-test_num_samples:]\n",
    "\n",
    "features = []\n",
    "if use_decoded:\n",
    "    features = ['Time', 'Speed', 'LatAcceleration', 'LongAcceleration', 'ZAcceleration', 'YawRate', 'SteerTorque', 'SteerRate',\n",
    "                'SteerAngle', 'SteerFraction', 'FLWheelSpeed', 'FRWheelSpeed', 'RRWheelSpeed', 'RLWheelSpeed']\n",
    "else:\n",
    "    features = ['Time', 'Bus', 'MessageID', 'Message', 'MessageLength']\n",
    "    \n",
    "labels = ['Time', 'Latitude', 'Longitude']\n",
    "\n",
    "can_data_df = r[features][:]\n",
    "labels_df = r[labels][:]\n",
    "\n",
    "test_data_df = test_df[features][:].reset_index(drop=True)\n",
    "test_labels_df = test_df[labels][:].reset_index(drop=True)\n",
    "\n",
    "print(test_data_df.shape, test_labels_df.shape)"
   ]
  },
  {
   "cell_type": "markdown",
   "id": "ff6e0be2-034c-4cdb-81f2-bb8de8ad17d7",
   "metadata": {},
   "source": [
    "The next cell is used to convert the Messages from strings representing hexadecimal values to integers."
   ]
  },
  {
   "cell_type": "code",
   "execution_count": 115,
   "id": "31b037fb",
   "metadata": {},
   "outputs": [],
   "source": [
    "if not use_decoded:\n",
    "    for i, message in enumerate(can_data_df['Message']):\n",
    "        can_data_df['Message'][i] = int(message, 16)\n",
    "        test_data_df['Message'][i] = int(test_data_df['Message'][i], 16)"
   ]
  },
  {
   "cell_type": "markdown",
   "id": "e1e7b0fb-2648-40f0-8532-64d2add4ebdf",
   "metadata": {},
   "source": [
    "The cell below changes the values in the 'Latitude' and 'Longitude' columns from absolute latitude and longitude to the change in latitude and longitude, respectively."
   ]
  },
  {
   "cell_type": "code",
   "execution_count": 116,
   "id": "b26c34b2-02ea-42fc-9df5-258e386de0dd",
   "metadata": {},
   "outputs": [],
   "source": [
    "time = labels_df['Time'][:-1]\n",
    "\n",
    "lat = [0]\n",
    "long = [0]\n",
    "test_lat = [0]\n",
    "test_long = [0]\n",
    "\n",
    "for i in range(len(labels_df['Latitude']) - 1):\n",
    "    lat.append(labels_df['Latitude'][i+1] - labels_df['Latitude'][i])\n",
    "    long.append(labels_df['Longitude'][i+1] - labels_df['Longitude'][i])\n",
    "    \n",
    "for i in range(len(test_labels_df['Latitude']) - 1):\n",
    "    test_lat.append(test_labels_df['Latitude'][i+1] - test_labels_df['Latitude'][i])\n",
    "    test_long.append(test_labels_df['Longitude'][i+1] - test_labels_df['Longitude'][i])\n",
    "\n",
    "\n",
    "labels_df['Latitude'] = lat\n",
    "labels_df['Longitude'] = long\n",
    "test_labels_df['Latitude'] = test_lat\n",
    "test_labels_df['Longitude'] = test_long"
   ]
  },
  {
   "cell_type": "code",
   "execution_count": 117,
   "id": "8e5a2f03-5fa4-4701-91d0-d0c7db2b2836",
   "metadata": {},
   "outputs": [
    {
     "name": "stdout",
     "output_type": "stream",
     "text": [
      "(8000, 14) (8000, 3)\n",
      "(2000, 14) (2000, 3)\n"
     ]
    }
   ],
   "source": [
    "data = np.array(can_data_df)\n",
    "labels = np.array(labels_df)\n",
    "\n",
    "test_data = np.array(test_data_df)\n",
    "test_labels = np.array(test_labels_df)\n",
    "\n",
    "print(data.shape, labels.shape)\n",
    "print(test_data.shape, test_labels.shape)"
   ]
  },
  {
   "cell_type": "markdown",
   "id": "ac19ebdc-ed50-459d-add9-3f0adf85af66",
   "metadata": {},
   "source": [
    "This cell creates a window that slides over the data, creating subsamples that provide the model with context of previous changes in latitude and longitude."
   ]
  },
  {
   "cell_type": "code",
   "execution_count": 118,
   "id": "b3c211e1-db25-4e03-9424-a37df9765dab",
   "metadata": {},
   "outputs": [
    {
     "name": "stdout",
     "output_type": "stream",
     "text": [
      "(7995, 5, 14) (7995, 5, 3)\n",
      "(1995, 5, 14) (1995, 5, 3)\n"
     ]
    }
   ],
   "source": [
    "sequenceLength = 5\n",
    "\n",
    "stackedData = []\n",
    "stackedLabels = []\n",
    "\n",
    "stackedTestData = []\n",
    "stackedTestLabels = []\n",
    "\n",
    "# split can_data into subsampled sequences\n",
    "for i in range(debug_num_samples-sequenceLength):\n",
    "    stackedData.append(data[i:i+sequenceLength])\n",
    "    stackedLabels.append(labels[i:i+sequenceLength])\n",
    "    \n",
    "for i in range(test_num_samples-sequenceLength):\n",
    "    stackedTestData.append(test_data[i:i+sequenceLength])\n",
    "    stackedTestLabels.append(test_labels[i:i+sequenceLength])\n",
    "    \n",
    "stackedData = np.array(stackedData)\n",
    "stackedLabels = np.array(stackedLabels)\n",
    "\n",
    "stackedTestData = np.array(stackedTestData)\n",
    "stackedTestLabels = np.array(stackedTestLabels)\n",
    "\n",
    "print(stackedData.shape, stackedLabels.shape)\n",
    "print(stackedTestData.shape, stackedTestLabels.shape)"
   ]
  },
  {
   "cell_type": "code",
   "execution_count": 119,
   "id": "96276a9a-21d0-4b42-8e1e-31211f9445a5",
   "metadata": {},
   "outputs": [
    {
     "name": "stdout",
     "output_type": "stream",
     "text": [
      "(7995, 5, 14) (7995, 5, 3)\n"
     ]
    }
   ],
   "source": [
    "data = stackedData.reshape((stackedData.shape[0], stackedData.shape[1]*stackedData.shape[2]))\n",
    "labels = stackedLabels.reshape((stackedLabels.shape[0], stackedLabels.shape[1]*stackedLabels.shape[2]))\n",
    "\n",
    "testData = stackedTestData.reshape((stackedTestData.shape[0], stackedTestData.shape[1]*stackedTestData.shape[2]))\n",
    "testLabels = stackedTestLabels.reshape((stackedTestLabels.shape[0], stackedTestLabels.shape[1]*stackedTestLabels.shape[2]))\n",
    "print(stackedData.shape, stackedLabels.shape)"
   ]
  },
  {
   "cell_type": "markdown",
   "id": "b32d854d-1493-4ce9-b820-cb6d0e6dc1d2",
   "metadata": {},
   "source": [
    "# The Model"
   ]
  },
  {
   "cell_type": "code",
   "execution_count": 120,
   "id": "34852d29",
   "metadata": {},
   "outputs": [],
   "source": [
    "model = RandomForestRegressor(n_estimators=data.shape[0]//3, max_depth=50)"
   ]
  },
  {
   "cell_type": "code",
   "execution_count": 121,
   "id": "649017c6",
   "metadata": {},
   "outputs": [
    {
     "data": {
      "text/plain": [
       "RandomForestRegressor(bootstrap=True, ccp_alpha=0.0, criterion='mse',\n",
       "                      max_depth=50, max_features='auto', max_leaf_nodes=None,\n",
       "                      max_samples=None, min_impurity_decrease=0.0,\n",
       "                      min_impurity_split=None, min_samples_leaf=1,\n",
       "                      min_samples_split=2, min_weight_fraction_leaf=0.0,\n",
       "                      n_estimators=2665, n_jobs=None, oob_score=False,\n",
       "                      random_state=None, verbose=0, warm_start=False)"
      ]
     },
     "execution_count": 121,
     "metadata": {},
     "output_type": "execute_result"
    }
   ],
   "source": [
    "model.fit(data, labels)"
   ]
  },
  {
   "cell_type": "markdown",
   "id": "8f0d4301-c5b6-4fdc-a51e-f501a2ab6478",
   "metadata": {},
   "source": [
    "# Results"
   ]
  },
  {
   "cell_type": "code",
   "execution_count": 122,
   "id": "353f0b57",
   "metadata": {},
   "outputs": [
    {
     "name": "stdout",
     "output_type": "stream",
     "text": [
      "Sample 1 ======================================================\n",
      "Prediction:   [ 1.61722586e+09  8.69592897e-06 -1.29285188e-05  1.61722586e+09\n",
      "  8.67521260e-06 -1.29372443e-05  1.61722586e+09  8.68620851e-06\n",
      " -1.29436817e-05  1.61722586e+09  8.66512521e-06 -1.29522233e-05\n",
      "  1.61722586e+09  8.66733245e-06 -1.29537807e-05]\n",
      "Ground truth: [ 1.61722515e+09  0.00000000e+00  0.00000000e+00  1.61722515e+09\n",
      "  3.81469727e-06  0.00000000e+00  1.61722515e+09  3.81469727e-06\n",
      "  0.00000000e+00  1.61722515e+09  0.00000000e+00  0.00000000e+00\n",
      "  1.61722515e+09  3.81469727e-06 -7.62939452e-06]\n",
      "Sample 2 ======================================================\n",
      "Prediction:   [ 1.61722586e+09  8.68541081e-06 -1.29358391e-05  1.61722586e+09\n",
      "  8.67748677e-06 -1.29287413e-05  1.61722586e+09  8.67216968e-06\n",
      " -1.29547146e-05  1.61722586e+09  8.66021224e-06 -1.29319808e-05\n",
      "  1.61722586e+09  8.66520780e-06 -1.29552692e-05]\n",
      "Ground truth: [ 1.61722515e+09  3.81469727e-06  0.00000000e+00  1.61722515e+09\n",
      "  3.81469727e-06  0.00000000e+00  1.61722515e+09  0.00000000e+00\n",
      "  0.00000000e+00  1.61722515e+09  3.81469727e-06 -7.62939452e-06\n",
      "  1.61722515e+09  3.81469727e-06  0.00000000e+00]\n",
      "Sample 3 ======================================================\n",
      "Prediction:   [ 1.61722586e+09  8.68827568e-06 -1.29311467e-05  1.61722586e+09\n",
      "  8.67472375e-06 -1.29253625e-05  1.61722586e+09  8.67377289e-06\n",
      " -1.29483833e-05  1.61722586e+09  8.66597359e-06 -1.29331617e-05\n",
      "  1.61722586e+09  8.66293536e-06 -1.29583335e-05]\n",
      "Ground truth: [ 1.61722515e+09  3.81469727e-06  0.00000000e+00  1.61722515e+09\n",
      "  0.00000000e+00  0.00000000e+00  1.61722515e+09  3.81469727e-06\n",
      " -7.62939452e-06  1.61722515e+09  3.81469727e-06  0.00000000e+00\n",
      "  1.61722515e+09  0.00000000e+00 -7.62939453e-06]\n",
      "Sample 4 ======================================================\n",
      "Prediction:   [ 1.61722586e+09  8.68058576e-06 -1.29342508e-05  1.61722586e+09\n",
      "  8.66412710e-06 -1.29092833e-05  1.61722586e+09  8.68152433e-06\n",
      " -1.29286223e-05  1.61722586e+09  8.65357417e-06 -1.29460006e-05\n",
      "  1.61722586e+09  8.66899952e-06 -1.29391936e-05]\n",
      "Ground truth: [ 1.61722515e+09  0.00000000e+00  0.00000000e+00  1.61722515e+09\n",
      "  3.81469727e-06 -7.62939452e-06  1.61722515e+09  3.81469727e-06\n",
      "  0.00000000e+00  1.61722515e+09  0.00000000e+00 -7.62939453e-06\n",
      "  1.61722515e+09  0.00000000e+00  0.00000000e+00]\n",
      "Sample 5 ======================================================\n",
      "Prediction:   [ 1.61722586e+09  8.68162653e-06 -1.29083676e-05  1.61722586e+09\n",
      "  8.67702761e-06 -1.29145230e-05  1.61722586e+09  8.67229441e-06\n",
      " -1.29522076e-05  1.61722586e+09  8.66728858e-06 -1.29258943e-05\n",
      "  1.61722586e+09  8.65926733e-06 -1.29657986e-05]\n",
      "Ground truth: [ 1.61722515e+09  3.81469727e-06 -7.62939452e-06  1.61722515e+09\n",
      "  3.81469727e-06  0.00000000e+00  1.61722515e+09  0.00000000e+00\n",
      " -7.62939453e-06  1.61722515e+09  0.00000000e+00  0.00000000e+00\n",
      "  1.61722515e+09  3.81469727e-06 -7.62939453e-06]\n",
      "Sample 6 ======================================================\n",
      "Prediction:   [ 1.61722586e+09  8.69140947e-06 -1.29108970e-05  1.61722586e+09\n",
      "  8.66974384e-06 -1.29269394e-05  1.61722586e+09  8.68109084e-06\n",
      " -1.29386899e-05  1.61722586e+09  8.65705716e-06 -1.29393270e-05\n",
      "  1.61722586e+09  8.66995487e-06 -1.29479140e-05]\n",
      "Ground truth: [ 1.61722515e+09  3.81469727e-06  0.00000000e+00  1.61722515e+09\n",
      "  0.00000000e+00 -7.62939453e-06  1.61722515e+09  0.00000000e+00\n",
      "  0.00000000e+00  1.61722515e+09  3.81469727e-06 -7.62939453e-06\n",
      "  1.61722515e+09  0.00000000e+00  0.00000000e+00]\n",
      "Sample 7 ======================================================\n",
      "Prediction:   [ 1.61722586e+09  8.68190004e-06 -1.29347712e-05  1.61722586e+09\n",
      "  8.67584058e-06 -1.29069340e-05  1.61722586e+09  8.67058300e-06\n",
      " -1.29560796e-05  1.61722586e+09  8.66470545e-06 -1.29216948e-05\n",
      "  1.61722586e+09  8.65940475e-06 -1.29428890e-05]\n",
      "Ground truth: [ 1.61722515e+09  0.00000000e+00 -7.62939453e-06  1.61722515e+09\n",
      "  0.00000000e+00  0.00000000e+00  1.61722515e+09  3.81469727e-06\n",
      " -7.62939453e-06  1.61722515e+09  0.00000000e+00  0.00000000e+00\n",
      "  1.61722515e+09 -3.81469727e-06 -7.62939453e-06]\n",
      "Sample 8 ======================================================\n",
      "Prediction:   [ 1.61722586e+09  8.69104437e-06 -1.29067524e-05  1.61722586e+09\n",
      "  8.65891169e-06 -1.29353311e-05  1.61722586e+09  8.67952379e-06\n",
      " -1.29269322e-05  1.61722586e+09  8.64635830e-06 -1.29105636e-05\n",
      "  1.61722586e+09  8.66933840e-06 -1.29711652e-05]\n",
      "Ground truth: [ 1.61722515e+09  0.00000000e+00  0.00000000e+00  1.61722515e+09\n",
      "  3.81469727e-06 -7.62939453e-06  1.61722515e+09  0.00000000e+00\n",
      "  0.00000000e+00  1.61722515e+09 -3.81469727e-06 -7.62939453e-06\n",
      "  1.61722515e+09  0.00000000e+00  0.00000000e+00]\n",
      "Sample 9 ======================================================\n",
      "Prediction:   [ 1.61722586e+09  8.67306294e-06 -1.29368529e-05  1.61722586e+09\n",
      "  8.67072609e-06 -1.28945344e-05  1.61722586e+09  8.66555835e-06\n",
      " -1.29260256e-05  1.61722586e+09  8.65826786e-06 -1.29368304e-05\n",
      "  1.61722586e+09  8.65625372e-06 -1.29463518e-05]\n",
      "Ground truth: [ 1.61722515e+09  3.81469727e-06 -7.62939453e-06  1.61722515e+09\n",
      "  0.00000000e+00  0.00000000e+00  1.61722515e+09 -3.81469727e-06\n",
      " -7.62939453e-06  1.61722515e+09  0.00000000e+00  0.00000000e+00\n",
      "  1.61722515e+09 -3.81469727e-06 -7.62939452e-06]\n",
      "Sample 10 ======================================================\n",
      "Prediction:   [ 1.61722586e+09  8.69396913e-06 -1.29056761e-05  1.61722586e+09\n",
      "  8.66336856e-06 -1.28997981e-05  1.61722586e+09  8.68204731e-06\n",
      " -1.29583578e-05  1.61722586e+09  8.65145962e-06 -1.29130276e-05\n",
      "  1.61722586e+09  8.67247987e-06 -1.29750880e-05]\n",
      "Ground truth: [ 1.61722515e+09  0.00000000e+00  0.00000000e+00  1.61722515e+09\n",
      " -3.81469727e-06 -7.62939453e-06  1.61722515e+09  0.00000000e+00\n",
      "  0.00000000e+00  1.61722515e+09 -3.81469727e-06 -7.62939452e-06\n",
      "  1.61722515e+09  0.00000000e+00  0.00000000e+00]\n"
     ]
    }
   ],
   "source": [
    "predictions = model.predict(data)\n",
    "for i, p in enumerate(predictions[-10:]):\n",
    "    print('Sample', i+1, '=='*27)\n",
    "    print('Prediction:  ', p)\n",
    "    print('Ground truth:', labels[i])\n"
   ]
  },
  {
   "cell_type": "code",
   "execution_count": 123,
   "id": "6d5f95fc",
   "metadata": {},
   "outputs": [
    {
     "name": "stderr",
     "output_type": "stream",
     "text": [
      "/opt/anaconda3/envs/strym/lib/python3.7/site-packages/sklearn/base.py:434: FutureWarning:\n",
      "\n",
      "The default value of multioutput (not exposed in score method) will change from 'variance_weighted' to 'uniform_average' in 0.23 to keep consistent with 'metrics.r2_score'. To specify the default value manually and avoid the warning, please either call 'metrics.r2_score' directly or make a custom scorer with 'metrics.make_scorer' (the built-in scorer 'r2' uses multioutput='uniform_average').\n",
      "\n"
     ]
    },
    {
     "data": {
      "text/plain": [
       "-0.2130818142110059"
      ]
     },
     "execution_count": 123,
     "metadata": {},
     "output_type": "execute_result"
    }
   ],
   "source": [
    "model.score(testData, testLabels)"
   ]
  },
  {
   "cell_type": "code",
   "execution_count": null,
   "id": "ad491e2b-3bad-4d94-8c92-4667d1ff6a41",
   "metadata": {},
   "outputs": [],
   "source": []
  }
 ],
 "metadata": {
  "kernelspec": {
   "display_name": "Python 3",
   "language": "python",
   "name": "python3"
  },
  "language_info": {
   "codemirror_mode": {
    "name": "ipython",
    "version": 3
   },
   "file_extension": ".py",
   "mimetype": "text/x-python",
   "name": "python",
   "nbconvert_exporter": "python",
   "pygments_lexer": "ipython3",
   "version": "3.7.5"
  }
 },
 "nbformat": 4,
 "nbformat_minor": 5
}
