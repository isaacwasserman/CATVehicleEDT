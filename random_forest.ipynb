{
 "cells": [
  {
   "cell_type": "code",
   "execution_count": 24,
   "id": "8356afd2",
   "metadata": {},
   "outputs": [],
   "source": [
    "import tensorflow as tf\n",
    "import os\n",
    "import pandas as pd\n",
    "import strym\n",
    "from strym import strymread\n",
    "import matplotlib.pyplot as plt\n",
    "from pylab import rcParams\n",
    "import strym.DBC_Read_Tools as dbc\n",
    "import numpy as np\n",
    "from sklearn.ensemble import RandomForestRegressor\n",
    "from sklearn.model_selection import cross_validate"
   ]
  },
  {
   "cell_type": "markdown",
   "id": "ff0f8a57-582c-45ac-a8ef-07d3dd0c1c78",
   "metadata": {},
   "source": [
    "# Load in Data\n",
    "I load in data from a .csv file with the columns `['Time', 'Bus', 'MessageID', 'Message', 'MessageLength', 'Latitude', 'Longitude']`. The columns for the training data are `['Time', 'Bus', 'MessageID', 'Message', 'MessageLength']` while the columns for the labels are `['Time', 'Latitude', 'Longitude']`."
   ]
  },
  {
   "cell_type": "code",
   "execution_count": 25,
   "id": "dee48abc",
   "metadata": {},
   "outputs": [],
   "source": [
    "data_path = '../2020-12-02-00-00-49_5FNYF6H05HB089022_CAN_Messages.csv'"
   ]
  },
  {
   "cell_type": "code",
   "execution_count": 26,
   "id": "853b127b",
   "metadata": {},
   "outputs": [
    {
     "name": "stdout",
     "output_type": "stream",
     "text": [
      "[2021_07_09_18_10_58] (root) INFO: Vehicle model infered is honda-pilot-2017\n"
     ]
    }
   ],
   "source": [
    "r = strymread(csvfile=data_path)"
   ]
  },
  {
   "cell_type": "code",
   "execution_count": 27,
   "id": "83ddf60a",
   "metadata": {},
   "outputs": [],
   "source": [
    "debug_num_samples = 2000\n",
    "r_dataframe = r.dataframe[:debug_num_samples]\n",
    "\n",
    "features = ['Time', 'Bus', 'MessageID', 'Message', 'MessageLength']\n",
    "labels = ['Time', 'Latitude', 'Longitude']\n",
    "can_data_df = r_dataframe[features][:]\n",
    "labels_df = r_dataframe[labels][:]"
   ]
  },
  {
   "cell_type": "markdown",
   "id": "ff6e0be2-034c-4cdb-81f2-bb8de8ad17d7",
   "metadata": {},
   "source": [
    "The next cell is used to convert the Messages from strings representing hexadecimal values to integers."
   ]
  },
  {
   "cell_type": "code",
   "execution_count": 28,
   "id": "31b037fb",
   "metadata": {},
   "outputs": [
    {
     "name": "stderr",
     "output_type": "stream",
     "text": [
      "/opt/anaconda3/envs/strym/lib/python3.7/site-packages/ipykernel_launcher.py:2: SettingWithCopyWarning:\n",
      "\n",
      "\n",
      "A value is trying to be set on a copy of a slice from a DataFrame\n",
      "\n",
      "See the caveats in the documentation: https://pandas.pydata.org/pandas-docs/stable/user_guide/indexing.html#returning-a-view-versus-a-copy\n",
      "\n"
     ]
    }
   ],
   "source": [
    "for i, message in enumerate(can_data_df['Message']):\n",
    "    can_data_df['Message'][i] = int(message, 16)"
   ]
  },
  {
   "cell_type": "code",
   "execution_count": null,
   "id": "8e5a2f03-5fa4-4701-91d0-d0c7db2b2836",
   "metadata": {},
   "outputs": [],
   "source": [
    "data = np.array(can_data_df)\n",
    "labels = np.array(labels_df)\n",
    "print(data.shape, labels.shape)"
   ]
  },
  {
   "cell_type": "markdown",
   "id": "e1e7b0fb-2648-40f0-8532-64d2add4ebdf",
   "metadata": {},
   "source": [
    "The cell below changes the values in the 'Latitude' and 'Longitude' columns from absolute latitude and longitude to the change in latitude and longitude, respectively."
   ]
  },
  {
   "cell_type": "code",
   "execution_count": 31,
   "id": "b26c34b2-02ea-42fc-9df5-258e386de0dd",
   "metadata": {},
   "outputs": [],
   "source": [
    "time = labels_df['Time'][:-1]\n",
    "lat = labels_df['Latitude']\n",
    "long = labels_df['Longitude']\n",
    "labels_df['Latitude'] = [0].append([(lat[i+1] - lat[i]) for i in range((len(lat))-1)])\n",
    "labels_df['Longitude'] = [0].append([(long[i+1] - long[i]) for i in range((len(long))-1)])"
   ]
  },
  {
   "cell_type": "markdown",
   "id": "ac19ebdc-ed50-459d-add9-3f0adf85af66",
   "metadata": {},
   "source": [
    "This cell creates a window that slides over the data, creating subsamples that provide the model with context of previous changes in latitude and longitude."
   ]
  },
  {
   "cell_type": "code",
   "execution_count": 32,
   "id": "b3c211e1-db25-4e03-9424-a37df9765dab",
   "metadata": {},
   "outputs": [
    {
     "name": "stdout",
     "output_type": "stream",
     "text": [
      "(1995, 5, 5) (1995, 5, 3)\n"
     ]
    }
   ],
   "source": [
    "sequenceLength = 5\n",
    "\n",
    "stackedData = []\n",
    "stackedLabels = []\n",
    "\n",
    "# split can_data into subsampled sequences\n",
    "for i in range(debug_num_samples-sequenceLength):\n",
    "    stackedData.append(data[i:i+sequenceLength])\n",
    "    stackedLabels.append(labels[i:i+sequenceLength])\n",
    "    \n",
    "stackedData = np.array(stackedData)\n",
    "stackedLabels = np.array(stackedLabels)\n",
    "print(stackedData.shape, stackedLabels.shape)"
   ]
  },
  {
   "cell_type": "code",
   "execution_count": 33,
   "id": "96276a9a-21d0-4b42-8e1e-31211f9445a5",
   "metadata": {},
   "outputs": [
    {
     "name": "stdout",
     "output_type": "stream",
     "text": [
      "(1995, 25) (1995, 15)\n"
     ]
    }
   ],
   "source": [
    "stackedData = stackedData.reshape((stackedData.shape[0], stackedData.shape[1]*stackedData.shape[2]))\n",
    "stackedLabels = stackedLabels.reshape((stackedLabels.shape[0], stackedLabels.shape[1]*stackedLabels.shape[2]))\n",
    "print(stackedData.shape, stackedLabels.shape)"
   ]
  },
  {
   "cell_type": "markdown",
   "id": "b32d854d-1493-4ce9-b820-cb6d0e6dc1d2",
   "metadata": {},
   "source": [
    "# The Model"
   ]
  },
  {
   "cell_type": "code",
   "execution_count": 34,
   "id": "34852d29",
   "metadata": {},
   "outputs": [],
   "source": [
    "model = RandomForestRegressor(n_estimators=data.shape[0]//3, max_depth=50)"
   ]
  },
  {
   "cell_type": "code",
   "execution_count": 35,
   "id": "649017c6",
   "metadata": {},
   "outputs": [
    {
     "data": {
      "text/plain": [
       "RandomForestRegressor(bootstrap=True, ccp_alpha=0.0, criterion='mse',\n",
       "                      max_depth=50, max_features='auto', max_leaf_nodes=None,\n",
       "                      max_samples=None, min_impurity_decrease=0.0,\n",
       "                      min_impurity_split=None, min_samples_leaf=1,\n",
       "                      min_samples_split=2, min_weight_fraction_leaf=0.0,\n",
       "                      n_estimators=666, n_jobs=None, oob_score=False,\n",
       "                      random_state=None, verbose=0, warm_start=False)"
      ]
     },
     "execution_count": 35,
     "metadata": {},
     "output_type": "execute_result"
    }
   ],
   "source": [
    "model.fit(data, labels)"
   ]
  },
  {
   "cell_type": "markdown",
   "id": "8f0d4301-c5b6-4fdc-a51e-f501a2ab6478",
   "metadata": {},
   "source": [
    "# Results"
   ]
  },
  {
   "cell_type": "code",
   "execution_count": 36,
   "id": "353f0b57",
   "metadata": {},
   "outputs": [
    {
     "name": "stdout",
     "output_type": "stream",
     "text": [
      "[[ 1.60686725e+09  3.22956133e+01 -1.10824048e+02]\n",
      " [ 1.60686725e+09  3.22956133e+01 -1.10824048e+02]\n",
      " [ 1.60686725e+09  3.22956133e+01 -1.10824048e+02]\n",
      " ...\n",
      " [ 1.60686725e+09  3.22956133e+01 -1.10824048e+02]\n",
      " [ 1.60686725e+09  3.22956133e+01 -1.10824048e+02]\n",
      " [ 1.60686725e+09  3.22956133e+01 -1.10824048e+02]]\n",
      "[[ 1.60686725e+09  3.22956488e+01 -1.10824048e+02]\n",
      " [ 1.60686725e+09  3.22956488e+01 -1.10824048e+02]\n",
      " [ 1.60686725e+09  3.22956488e+01 -1.10824048e+02]\n",
      " ...\n",
      " [ 1.60686725e+09  3.22955852e+01 -1.10824049e+02]\n",
      " [ 1.60686725e+09  3.22955852e+01 -1.10824049e+02]\n",
      " [ 1.60686725e+09  3.22955852e+01 -1.10824049e+02]]\n"
     ]
    }
   ],
   "source": [
    "predictions = model.predict(data)\n",
    "print(predictions)\n",
    "# for i, p in enumerate(predictions[100:300]):\n",
    "#     print('Sample', i+1, '=='*27)\n",
    "#     print('Prediction:  ', p)\n",
    "#     print('Ground truth:', labels[i])\n",
    "print(labels)"
   ]
  },
  {
   "cell_type": "code",
   "execution_count": 37,
   "id": "6d5f95fc",
   "metadata": {},
   "outputs": [
    {
     "name": "stderr",
     "output_type": "stream",
     "text": [
      "/opt/anaconda3/envs/strym/lib/python3.7/site-packages/sklearn/base.py:434: FutureWarning:\n",
      "\n",
      "The default value of multioutput (not exposed in score method) will change from 'variance_weighted' to 'uniform_average' in 0.23 to keep consistent with 'metrics.r2_score'. To specify the default value manually and avoid the warning, please either call 'metrics.r2_score' directly or make a custom scorer with 'metrics.make_scorer' (the built-in scorer 'r2' uses multioutput='uniform_average').\n",
      "\n"
     ]
    },
    {
     "data": {
      "text/plain": [
       "-3.2520114464120584e-06"
      ]
     },
     "execution_count": 37,
     "metadata": {},
     "output_type": "execute_result"
    }
   ],
   "source": [
    "model.score(data, labels)"
   ]
  },
  {
   "cell_type": "code",
   "execution_count": 50,
   "id": "b93be2fe",
   "metadata": {},
   "outputs": [
    {
     "name": "stderr",
     "output_type": "stream",
     "text": [
      "/opt/anaconda3/envs/strym/lib/python3.7/site-packages/sklearn/base.py:434: FutureWarning:\n",
      "\n",
      "The default value of multioutput (not exposed in score method) will change from 'variance_weighted' to 'uniform_average' in 0.23 to keep consistent with 'metrics.r2_score'. To specify the default value manually and avoid the warning, please either call 'metrics.r2_score' directly or make a custom scorer with 'metrics.make_scorer' (the built-in scorer 'r2' uses multioutput='uniform_average').\n",
      "\n",
      "/opt/anaconda3/envs/strym/lib/python3.7/site-packages/sklearn/base.py:434: FutureWarning:\n",
      "\n",
      "The default value of multioutput (not exposed in score method) will change from 'variance_weighted' to 'uniform_average' in 0.23 to keep consistent with 'metrics.r2_score'. To specify the default value manually and avoid the warning, please either call 'metrics.r2_score' directly or make a custom scorer with 'metrics.make_scorer' (the built-in scorer 'r2' uses multioutput='uniform_average').\n",
      "\n",
      "/opt/anaconda3/envs/strym/lib/python3.7/site-packages/sklearn/base.py:434: FutureWarning:\n",
      "\n",
      "The default value of multioutput (not exposed in score method) will change from 'variance_weighted' to 'uniform_average' in 0.23 to keep consistent with 'metrics.r2_score'. To specify the default value manually and avoid the warning, please either call 'metrics.r2_score' directly or make a custom scorer with 'metrics.make_scorer' (the built-in scorer 'r2' uses multioutput='uniform_average').\n",
      "\n",
      "/opt/anaconda3/envs/strym/lib/python3.7/site-packages/sklearn/base.py:434: FutureWarning:\n",
      "\n",
      "The default value of multioutput (not exposed in score method) will change from 'variance_weighted' to 'uniform_average' in 0.23 to keep consistent with 'metrics.r2_score'. To specify the default value manually and avoid the warning, please either call 'metrics.r2_score' directly or make a custom scorer with 'metrics.make_scorer' (the built-in scorer 'r2' uses multioutput='uniform_average').\n",
      "\n"
     ]
    },
    {
     "name": "stdout",
     "output_type": "stream",
     "text": [
      "{'fit_time': array([0.84782505, 0.82456708, 0.80318308, 0.79720712, 0.87325907]), 'score_time': array([0.04675102, 0.04658103, 0.04719019, 0.04668689, 0.06040502]), 'test_score': array([-8.45646096e+01, -1.62660031e+01, -6.77400807e-03, -1.82105436e+01,\n",
      "       -8.41358301e+01])}\n"
     ]
    },
    {
     "name": "stderr",
     "output_type": "stream",
     "text": [
      "/opt/anaconda3/envs/strym/lib/python3.7/site-packages/sklearn/base.py:434: FutureWarning:\n",
      "\n",
      "The default value of multioutput (not exposed in score method) will change from 'variance_weighted' to 'uniform_average' in 0.23 to keep consistent with 'metrics.r2_score'. To specify the default value manually and avoid the warning, please either call 'metrics.r2_score' directly or make a custom scorer with 'metrics.make_scorer' (the built-in scorer 'r2' uses multioutput='uniform_average').\n",
      "\n"
     ]
    }
   ],
   "source": [
    "cv = cross_validate(model, data, labels)\n",
    "print(cv)"
   ]
  },
  {
   "cell_type": "code",
   "execution_count": null,
   "id": "a34e7a45",
   "metadata": {},
   "outputs": [],
   "source": []
  }
 ],
 "metadata": {
  "kernelspec": {
   "display_name": "Python 3",
   "language": "python",
   "name": "python3"
  },
  "language_info": {
   "codemirror_mode": {
    "name": "ipython",
    "version": 3
   },
   "file_extension": ".py",
   "mimetype": "text/x-python",
   "name": "python",
   "nbconvert_exporter": "python",
   "pygments_lexer": "ipython3",
   "version": "3.7.5"
  }
 },
 "nbformat": 4,
 "nbformat_minor": 5
}
