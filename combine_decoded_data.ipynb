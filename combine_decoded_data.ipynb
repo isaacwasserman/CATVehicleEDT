{
 "cells": [
  {
   "cell_type": "code",
   "execution_count": 89,
   "id": "25c736a1-982b-406a-b724-bbdbbbc341aa",
   "metadata": {},
   "outputs": [],
   "source": [
    "import pandas as pd\n",
    "import strym\n",
    "from strym import strymread\n",
    "from strym import strymmap\n",
    "import matplotlib.pyplot as plt\n",
    "from pylab import rcParams\n",
    "import strym.DBC_Read_Tools as dbc\n",
    "import numpy as np\n",
    "from pathlib import Path\n",
    "import ipywidgets as widgets\n",
    "import datetime\n",
    "import time"
   ]
  },
  {
   "cell_type": "code",
   "execution_count": 90,
   "id": "33f29532-7aa7-476d-a7a0-89a14521f0a2",
   "metadata": {},
   "outputs": [],
   "source": [
    "CAN_path = '../data/publishable-circles/2T3MWRFVXLW056972/libpanda/2021_03_09/2021-03-09-00-50-07_2T3MWRFVXLW056972_CAN_Messages.csv'\n",
    "GPS_path = '../data/publishable-circles/2T3MWRFVXLW056972/libpanda/2021_03_09/2021-03-09-00-50-07_2T3MWRFVXLW056972_GPS_Messages.csv'"
   ]
  },
  {
   "cell_type": "code",
   "execution_count": 208,
   "id": "b149890a-2ae7-4441-a507-5122c97f257c",
   "metadata": {},
   "outputs": [],
   "source": [
    "def interpolate(time, preTime, postTime, preValue, postValue):\n",
    "    # weighted average in terms of time\n",
    "    d1 = abs(time - preTime)\n",
    "    w1, w2 = 0, 0\n",
    "    if d1 != 0:\n",
    "        w1 = 1/d1\n",
    "    else:\n",
    "        w1 = 0\n",
    "    d2 = abs(time - postTime)\n",
    "    if d2 != 0:\n",
    "        w2 = 1/d2\n",
    "    else:\n",
    "        w2 = 0\n",
    "    wv1 = preValue * w1\n",
    "    wv2 = postValue * w2\n",
    "    weightedValueSum = wv1 + wv2\n",
    "    weightSum = w1 + w2\n",
    "    average = weightedValueSum / weightSum\n",
    "    return average"
   ]
  },
  {
   "cell_type": "code",
   "execution_count": 218,
   "id": "a82d4a20-ffbe-4915-a489-f4acf51a1f82",
   "metadata": {},
   "outputs": [],
   "source": [
    "def mostRelevantRecord(GPSrecords, referenceTime, CANrecords):\n",
    "    # records is GPS_records\n",
    "    # referenceTime is the current CAN time\n",
    "    mostRelevant = None\n",
    "    try:\n",
    "        avgLat, avgLong = GPSrecords.iloc[GPSrecords.index.get_loc(referenceTime)]\n",
    "    except:\n",
    "        earliestTime = GPSrecords['Systime'][0] # earliest GPS time\n",
    "        latestTime = GPSrecords['Systime'][-1] # last GPS time\n",
    "        #print(records)\n",
    "        if referenceTime < earliestTime:\n",
    "            # If the earliest CAN time is less than the earliest GPS time, the pre data is the first recorded and the \n",
    "            # time is the referenceTime.\n",
    "            preTime = referenceTime\n",
    "            preLat = GPSrecords['Lat'][0]\n",
    "            preLong = GPSrecords['Long'][0]\n",
    "            \n",
    "            post = pd.Index(GPSrecords['Systime']).get_loc(referenceTime, method=\"backfill\")\n",
    "            postTime = GPSrecords['Systime'][post]\n",
    "            postLat = GPSrecords['Lat'][post]\n",
    "            postLong = GPSrecords['Long'][post]\n",
    "            \n",
    "        elif referenceTime > latestTime:\n",
    "            pre = pd.Index(GPSrecords['Systime']).get_loc(referenceTime, method=\"pad\")\n",
    "            preTime = GPSRecords['Time']\n",
    "            preLat = GPSRecords['Lat']\n",
    "            preLong = GPSRecords['Long']\n",
    "            \n",
    "            postTime = referenceTime\n",
    "            postLat = GPSrecords['Lat'][-1]\n",
    "            postLong = GPSrecords['Long'][-1]\n",
    "        else:\n",
    "            # find previous latitude and longitude in GPS data if no exact match\n",
    "            pre = pd.Index(GPSrecords['Systime']).get_loc(referenceTime, method=\"pad\") # closest GPS indices\n",
    "            \n",
    "            # finds next latitude and longitude in GPS data if no exact match\n",
    "            post = pd.Index(GPSrecords['Systime']).get_loc(referenceTime, method=\"backfill\") # closest GPS indices\n",
    "            \n",
    "            preTime = GPSrecords['Systime'][pre]\n",
    "            preLat = GPSrecords['Lat'][pre]\n",
    "            preLong = GPSrecords['Long'][pre]\n",
    "            postTime = GPSrecords['Systime'][post]\n",
    "            postLat = GPSrecords['Lat'][post]\n",
    "            postLong = GPSrecords['Long'][post]\n",
    "\n",
    "        avgLat = interpolate(referenceTime, preTime, postTime, preLat, postLat)\n",
    "        avgLong = interpolate(referenceTime, preTime, postTime, preLong, postLong)\n",
    "        return avgLat, avgLong\n"
   ]
  },
  {
   "cell_type": "code",
   "execution_count": 183,
   "id": "2c790e90-8996-4564-929a-20c7a2451cb0",
   "metadata": {},
   "outputs": [
    {
     "name": "stdout",
     "output_type": "stream",
     "text": [
      "[2021_07_12_14_35_44] (root) INFO: Vehicle model infered is toyota-rav4-2020\n",
      "[2021_07_12_14_36_24] (cantools.database.can.database) WARNING: Overwriting message 'GAS_PEDAL' with 'GAS_PEDAL' in the name to message dictionary.\n",
      "[2021_07_12_14_36_24] (root) INFO: Reading GPS file ../data/publishable-circles/2T3MWRFVXLW056972/libpanda/2021_03_09/2021-03-09-00-50-07_2T3MWRFVXLW056972_GPS_Messages.csv\n",
      "GPS signal first acquired at 2021-03-08 19:50:19:300000\n"
     ]
    }
   ],
   "source": [
    "# There are more CAN messages than GPS coordinates so we want to estimate a coordinate pair for each message based on \n",
    "# previous and future GPS coordinates.\n",
    "r = strymread(csvfile=CAN_path)\n",
    "strymGPS = strymmap(csvfile=GPS_path)\n",
    "GPSRecords = strymGPS.dataframe\n",
    "GPSRecords = GPSRecords.sort_values(by=\"Systime\")"
   ]
  },
  {
   "cell_type": "code",
   "execution_count": null,
   "id": "deebd0ea-c5ac-4d91-aa8f-cca28760ab0d",
   "metadata": {},
   "outputs": [
    {
     "name": "stdout",
     "output_type": "stream",
     "text": [
      "Processed 0 samples.\n",
      "Processed 10000 samples.\n",
      "Processed 20000 samples.\n",
      "Processed 30000 samples.\n",
      "Processed 40000 samples.\n",
      "Processed 50000 samples.\n",
      "Processed 60000 samples.\n",
      "Processed 70000 samples.\n",
      "Processed 80000 samples.\n",
      "Processed 90000 samples.\n",
      "Processed 100000 samples.\n"
     ]
    }
   ],
   "source": [
    "# Test to be sure of overlap\n",
    "earliestGPS = float(GPSRecords['Systime'][0])\n",
    "latestGPS = float(GPSRecords['Systime'][-1])\n",
    "earliestCAN = float(r.dataframe['Time'][0])\n",
    "latestCAN = float(r.dataframe['Time'][-1])\n",
    "\n",
    "if not ((earliestGPS >= earliestCAN and earliestGPS <= latestCAN) or (latestGPS >= earliestCAN and latestGPS <= latestCAN)):\n",
    "    print(\"These files cannot be linked as there is no overlap\")\n",
    "\n",
    "columns = {\"Time\":[], \"Longitude\":[], \"Latitude\":[]}\n",
    "\n",
    "for i, message in enumerate(r.dataframe['Time']):\n",
    "    avgLat, avgLong = mostRelevantRecord(GPSRecords, float(message), r.dataframe)\n",
    "    columns['Latitude'].append(avgLat)\n",
    "    columns['Longitude'].append(avgLong)\n",
    "    if (i%10000) == 0:\n",
    "        print('Processed', i, 'samples.')\n",
    "r.dataframe['Latitude'] = columns['Latitude']\n",
    "r.dataframe['Longitude'] = columns['Longitude']\n"
   ]
  },
  {
   "cell_type": "code",
   "execution_count": 114,
   "id": "939e15cb-e154-4872-a75d-9b9d940221d8",
   "metadata": {},
   "outputs": [],
   "source": [
    "def updateTimer():\n",
    "    currentTime = time.time()\n",
    "    timeElapsed.value = \"Time elapsed: \" + datetime.timedelta(seconds=(currentTime - startTime))"
   ]
  },
  {
   "cell_type": "code",
   "execution_count": 103,
   "id": "53de6e77-563a-499e-b58f-1aea85fbf944",
   "metadata": {},
   "outputs": [],
   "source": [
    "drives_can = [str(PathObj) for PathObj in Path(\"./raw_data\").rglob(\"*_CAN_Messages.csv\")][:]\n",
    "\n",
    "\n",
    "driveCounter = 0\n",
    "driveTotal = len(drives_can)\n",
    "startTime = time.time()\n",
    "currentTime = time.time()\n",
    "\n",
    "existingFiles = [str(PathObj).split(\"/\")[-1] for PathObj in Path(\"./outputs\").rglob(\"dataByLocation_*.csv\")]\n",
    "\n",
    "for i, data_path in enumerate(drives_can):\n",
    "    filename = \"dataByLocation_\" + \"_\".join(data_path.split(\"/\")[-1].split(\"_\")[:2]) + \".csv\"\n",
    "    if filename not in existingFiles:\n",
    "        try:\n",
    "            createDataByLocationFile(data_path, drives_gps[i])\n",
    "            driveCounter += 1\n",
    "        except:\n",
    "            pass\n",
    "    else:\n",
    "        print(\"drive previously processed\")\n",
    "    finishedDriveCounter.value = \"Drives decoded: \" + str(driveCounter)"
   ]
  },
  {
   "cell_type": "code",
   "execution_count": null,
   "id": "2e2f54d7-e959-40f9-a5b2-cb69806f67c4",
   "metadata": {},
   "outputs": [],
   "source": []
  }
 ],
 "metadata": {
  "kernelspec": {
   "display_name": "Python 3",
   "language": "python",
   "name": "python3"
  },
  "language_info": {
   "codemirror_mode": {
    "name": "ipython",
    "version": 3
   },
   "file_extension": ".py",
   "mimetype": "text/x-python",
   "name": "python",
   "nbconvert_exporter": "python",
   "pygments_lexer": "ipython3",
   "version": "3.8.8"
  }
 },
 "nbformat": 4,
 "nbformat_minor": 5
}
