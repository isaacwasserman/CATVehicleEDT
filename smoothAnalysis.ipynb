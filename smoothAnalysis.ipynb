{
 "cells": [
  {
   "cell_type": "code",
   "execution_count": 2,
   "id": "ea27a965-cdb5-4c43-9fa2-17c909eeb091",
   "metadata": {},
   "outputs": [],
   "source": [
    "import numpy as np\n",
    "import tensorflow as tf\n",
    "import pandas as pd\n",
    "from ipywidgets import widgets\n",
    "from sklearn import preprocessing\n",
    "from tensorflow import keras \n",
    "from tensorflow.keras import layers, regularizers,Model, utils\n",
    "%matplotlib inline \n",
    "import matplotlib.pyplot as plt\n",
    "import sklearn\n",
    "from tensorflow.keras.callbacks import TensorBoard\n",
    "from datetime import time\n",
    "import plotly.express as px\n",
    "from sklearn.model_selection import train_test_split\n",
    "import plotly.express as px\n",
    "import plotly.graph_objects as go\n",
    "from pathlib import Path\n",
    "import plotly.express as px\n",
    "from scipy.ndimage.filters import gaussian_filter\n",
    "import plotly.graph_objects as go\n",
    "from sklearn.model_selection import train_test_split\n",
    "from livelossplot import PlotLossesKeras\n",
    "\n",
    "from os import listdir\n",
    "import os\n",
    "#thanks to https://stackoverflow.com/users/218681/bernhard-kausler\n",
    "def find_csv_filenames( path_to_dir, suffix=\".csv\" ):\n",
    "    filenames = listdir(path_to_dir)\n",
    "    return [ filename for filename in filenames if filename.endswith( suffix ) ]"
   ]
  },
  {
   "cell_type": "code",
   "execution_count": 23,
   "id": "f7db9e70-237c-44f4-8408-c9ee0f6f2674",
   "metadata": {},
   "outputs": [],
   "source": [
    "drivePaths = find_csv_filenames(\"outputs\")[0:1]\n",
    "subsamplingPeriod = 32\n",
    "sequenceLength = 16\n",
    "smoothingSigma = 2"
   ]
  },
  {
   "cell_type": "code",
   "execution_count": 24,
   "id": "9dc312bc-0600-41aa-a793-254041edf753",
   "metadata": {},
   "outputs": [
    {
     "name": "stdout",
     "output_type": "stream",
     "text": [
      "               Time   Longitude   Latitude      Speed  LatAcceleration  \\\n",
      "0      1.616265e+09 -111.051270  32.376080   0.000000         1.000000   \n",
      "1      1.616265e+09 -111.051262  32.376083   0.000000         0.082703   \n",
      "2      1.616265e+09 -111.051254  32.376083   0.000000         1.000000   \n",
      "3      1.616265e+09 -111.051254  32.376083   0.000000         1.000000   \n",
      "4      1.616265e+09 -111.051247  32.376083   0.000000         1.000000   \n",
      "...             ...         ...        ...        ...              ...   \n",
      "17793  1.616267e+09 -110.845238  32.308804  35.520804         5.215355   \n",
      "17794  1.616267e+09 -110.845222  32.308804  34.932791         5.683811   \n",
      "17795  1.616267e+09 -110.845215  32.308804  34.708273         4.006824   \n",
      "17796  1.616267e+09 -110.845200  32.308804  34.164935         7.000000   \n",
      "17797  1.616267e+09 -110.845192  32.308804  33.721619         4.038464   \n",
      "\n",
      "       LongAcceleration  ZAcceleration  YawRate  SteerTorque  SteerRate  \\\n",
      "0              0.000000      46.000000      0.0   -11.000000        0.0   \n",
      "1              0.000000      46.000000      0.0   -11.000000        0.0   \n",
      "2              0.000000      46.000000      0.0   -12.000000        0.0   \n",
      "3              0.000000      46.000000      0.0   -11.863719        0.0   \n",
      "4              0.000000      46.000000      0.0   -11.069770        0.0   \n",
      "...                 ...            ...      ...          ...        ...   \n",
      "17793         -1.180248      12.752368      0.0   -53.261548        0.0   \n",
      "17794         -1.172042      20.958239      0.0   -51.000000        0.0   \n",
      "17795         -1.171386      23.134566      0.0   -51.496588        0.0   \n",
      "17796         -1.296764     151.545533      0.0   -52.212229        0.0   \n",
      "17797         -1.189346       3.654126      0.0   -52.038464        0.0   \n",
      "\n",
      "       SteerAngle  SteerFraction  FLWheelSpeed  FRWheelSpeed  RRWheelSpeed  \\\n",
      "0             0.0            0.3      0.000000      0.000000      0.000000   \n",
      "1             0.0            0.3      0.000000      0.000000      0.000000   \n",
      "2             0.0            0.3      0.000000      0.000000      0.000000   \n",
      "3             0.0            0.3      0.000000      0.000000      0.000000   \n",
      "4             0.0            0.3      0.000000      0.000000      0.000000   \n",
      "...           ...            ...           ...           ...           ...   \n",
      "17793         0.0            0.6     35.517388     35.436959     35.449572   \n",
      "17794         0.0            0.6     34.979507     34.911973     34.970000   \n",
      "17795         0.0            0.6     34.609364     34.516184     34.517456   \n",
      "17796         0.0            0.6     34.109644     34.013630     34.210000   \n",
      "17797         0.0            0.6     33.703333     33.670476     33.611905   \n",
      "\n",
      "       RLWheelSpeed  \n",
      "0          0.000000  \n",
      "1          0.000000  \n",
      "2          0.000000  \n",
      "3          0.000000  \n",
      "4          0.000000  \n",
      "...             ...  \n",
      "17793     35.504347  \n",
      "17794     34.881973  \n",
      "17795     34.564912  \n",
      "17796     34.166904  \n",
      "17797     33.611429  \n",
      "\n",
      "[17798 rows x 16 columns]\n"
     ]
    }
   ],
   "source": [
    "drivesWithLocation = []\n",
    "drivesWithoutLocation = []\n",
    "for drivePath in drivePaths:\n",
    "    drive = pd.read_csv(\"outputs/\"+drivePath)\n",
    "    print(drive)\n",
    "    drive = drive.iloc[::subsamplingPeriod].copy(deep=True)\n",
    "    driveWithoutLocation = drive.drop(columns=[\"Time\", \"Longitude\", \"Latitude\"])\n",
    "    drivesWithLocation.append(drive)\n",
    "    drivesWithoutLocation.append(driveWithoutLocation)"
   ]
  },
  {
   "cell_type": "code",
   "execution_count": 25,
   "id": "b5e013c0-d555-45b5-be15-2cb5fc3c9fd5",
   "metadata": {},
   "outputs": [],
   "source": [
    "normalizedDrives = []\n",
    "for drive in drivesWithoutLocation:\n",
    "    standard_scaler = preprocessing.StandardScaler()\n",
    "    data_normalized = standard_scaler.fit_transform(drive)\n",
    "    data_normalized = pd.DataFrame(data_normalized)\n",
    "    normalizedDrives.append(data_normalized.to_numpy())"
   ]
  },
  {
   "cell_type": "code",
   "execution_count": 26,
   "id": "c982a3fb-748d-4ef6-b83f-665122fd5611",
   "metadata": {},
   "outputs": [
    {
     "data": {
      "text/plain": [
       "[array([[-1.47386292e+00, -1.79647769e-01, -6.51513530e-03, ...,\n",
       "         -1.47493146e+00, -1.47411348e+00, -1.47460123e+00],\n",
       "        [-1.47386292e+00, -1.79647769e-01, -6.51513530e-03, ...,\n",
       "         -1.47493146e+00, -1.47411348e+00, -1.47460123e+00],\n",
       "        [-1.47386292e+00, -1.79647769e-01, -6.51513530e-03, ...,\n",
       "         -1.47493146e+00, -1.47411348e+00, -1.47460123e+00],\n",
       "        ...,\n",
       "        [ 4.71883404e-01,  1.45991609e-01, -2.58078763e+00, ...,\n",
       "          4.66583077e-01,  4.64451014e-01,  4.61193621e-01],\n",
       "        [ 5.30947032e-02,  3.87382802e-01, -1.38808268e+00, ...,\n",
       "          4.98924770e-02,  5.49326454e-02,  4.97179716e-02],\n",
       "        [-2.85436619e-01, -2.59614325e-04, -2.22868045e+00, ...,\n",
       "         -2.89566279e-01, -2.85116812e-01, -2.89190940e-01]])]"
      ]
     },
     "execution_count": 26,
     "metadata": {},
     "output_type": "execute_result"
    }
   ],
   "source": [
    "normalizedDrives"
   ]
  },
  {
   "cell_type": "code",
   "execution_count": 27,
   "id": "d7de2e48-000b-4a04-abe2-e31315ed9e6a",
   "metadata": {},
   "outputs": [
    {
     "name": "stdout",
     "output_type": "stream",
     "text": [
      "(557, 13)\n"
     ]
    }
   ],
   "source": [
    "roughData = np.vstack(normalizedDrives[:])\n",
    "print(roughData.shape)"
   ]
  },
  {
   "cell_type": "markdown",
   "id": "0d7b7164-104a-41d3-93af-7cf44f9a6a02",
   "metadata": {},
   "source": [
    "for k in range(len(drivePaths)):\n",
    "    print(drivePath[k])\n",
    "    roughData = normalizedDrives[k]\n",
    "    smoothData = -1*np.ones(shape=roughData.shape)\n",
    "    features = range(roughData.shape[1])\n",
    "    for curFeature in features:\n",
    "        print(\"smoothing %s\"%curFeature)\n",
    "\n",
    "        smoothData[:,curFeature] = gaussian_filter(roughData[:,curFeature], sigma=smoothingSigma)#.rolling(window=sequenceLength, win_type='gaussian', center=True).mean(std=0.5)\n",
    "    #     ewmaSmoothData[curFeature] = pd.DataFrame.ewm(data_normalized[curFeature], span=sequenceLength)\n",
    "\n",
    "        #plot the original feature and the smoothed feature\n",
    "        scatterData = pd.DataFrame({\n",
    "        \"index\":range(roughData.shape[0]),\n",
    "        \"smoothData\": smoothData[:,curFeature],\n",
    "        #\"ewmaSmoothData\": ewmaSmoothData[curFeature],\n",
    "        \"originalData\": roughData[:,curFeature],\n",
    "        })\n",
    "        scatterData.describe()\n",
    "\n",
    "        fig1 = go.Figure()\n",
    "    #     fig1.add_trace(go.Scatter(x=scatterData.index, y=scatterData.ewmaSmoothData, name=\"ewma smoothed data\"))\n",
    "        fig1.add_trace(go.Scatter(x=scatterData.index, y=scatterData.smoothData, name=\"gaussian smoothed data\"))\n",
    "        fig1.add_trace(go.Scatter(x=scatterData.index, y=scatterData.originalData, name=\"original data\"))\n",
    "\n",
    "        fig1.show()\n",
    "    \n",
    "    \n",
    "#"
   ]
  },
  {
   "cell_type": "code",
   "execution_count": null,
   "id": "59cf06f8-537d-4f53-89a4-d9e3430ee633",
   "metadata": {},
   "outputs": [],
   "source": []
  }
 ],
 "metadata": {
  "kernelspec": {
   "display_name": "Python 3",
   "language": "python",
   "name": "python3"
  },
  "language_info": {
   "codemirror_mode": {
    "name": "ipython",
    "version": 3
   },
   "file_extension": ".py",
   "mimetype": "text/x-python",
   "name": "python",
   "nbconvert_exporter": "python",
   "pygments_lexer": "ipython3",
   "version": "3.8.10"
  }
 },
 "nbformat": 4,
 "nbformat_minor": 5
}
