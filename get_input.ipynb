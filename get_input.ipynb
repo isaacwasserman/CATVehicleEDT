{
 "cells": [
  {
   "cell_type": "code",
   "execution_count": 22,
   "id": "047e9a98-8c02-4524-981c-b1dbd2b371cc",
   "metadata": {},
   "outputs": [],
   "source": [
    "import tensorflow as tf\n",
    "import os\n",
    "import pandas as pd\n",
    "import strym\n",
    "from strym import strymread\n",
    "import matplotlib.pyplot as plt\n",
    "from pylab import rcParams\n",
    "import strym.DBC_Read_Tools as dbc\n",
    "import numpy as np\n",
    "from strym import strymmap\n",
    "import keras\n",
    "from keras import layers, Model"
   ]
  },
  {
   "cell_type": "code",
   "execution_count": 23,
   "id": "801c41c3-35e2-4287-b0b5-73d086b9e548",
   "metadata": {},
   "outputs": [],
   "source": [
    "data_path = '../dataset_v2.csv'\n",
    "dbcfile = '../data/toyota_rav4_2020.dbc'"
   ]
  },
  {
   "cell_type": "code",
   "execution_count": 25,
   "id": "70d52ab2-80e6-434b-a4bb-2b853ac0dd3b",
   "metadata": {},
   "outputs": [
    {
     "name": "stdout",
     "output_type": "stream",
     "text": [
      "warning: dataframe empty. no message in dataframe.\n"
     ]
    },
    {
     "data": {
      "text/html": [
       "<div>\n",
       "<style scoped>\n",
       "    .dataframe tbody tr th:only-of-type {\n",
       "        vertical-align: middle;\n",
       "    }\n",
       "\n",
       "    .dataframe tbody tr th {\n",
       "        vertical-align: top;\n",
       "    }\n",
       "\n",
       "    .dataframe thead th {\n",
       "        text-align: right;\n",
       "    }\n",
       "</style>\n",
       "<table border=\"1\" class=\"dataframe\">\n",
       "  <thead>\n",
       "    <tr style=\"text-align: right;\">\n",
       "      <th></th>\n",
       "      <th>Time</th>\n",
       "    </tr>\n",
       "  </thead>\n",
       "  <tbody>\n",
       "    <tr>\n",
       "      <th>count</th>\n",
       "      <td>0.0</td>\n",
       "    </tr>\n",
       "    <tr>\n",
       "      <th>mean</th>\n",
       "      <td>NaN</td>\n",
       "    </tr>\n",
       "    <tr>\n",
       "      <th>std</th>\n",
       "      <td>NaN</td>\n",
       "    </tr>\n",
       "    <tr>\n",
       "      <th>min</th>\n",
       "      <td>NaN</td>\n",
       "    </tr>\n",
       "    <tr>\n",
       "      <th>25%</th>\n",
       "      <td>NaN</td>\n",
       "    </tr>\n",
       "    <tr>\n",
       "      <th>50%</th>\n",
       "      <td>NaN</td>\n",
       "    </tr>\n",
       "    <tr>\n",
       "      <th>75%</th>\n",
       "      <td>NaN</td>\n",
       "    </tr>\n",
       "    <tr>\n",
       "      <th>max</th>\n",
       "      <td>NaN</td>\n",
       "    </tr>\n",
       "  </tbody>\n",
       "</table>\n",
       "</div>"
      ],
      "text/plain": [
       "       Time\n",
       "count   0.0\n",
       "mean    NaN\n",
       "std     NaN\n",
       "min     NaN\n",
       "25%     NaN\n",
       "50%     NaN\n",
       "75%     NaN\n",
       "max     NaN"
      ]
     },
     "execution_count": 25,
     "metadata": {},
     "output_type": "execute_result"
    }
   ],
   "source": [
    "data_csv = pd.read_csv(data_path)\n",
    "r =strymread(csvfile=data_path)\n",
    "r.speed().describe()\n",
    "# debug_num_samples = 100\n",
    "# r = r.dataframe[:debug_num_samples]"
   ]
  },
  {
   "cell_type": "code",
   "execution_count": 27,
   "id": "9cf97800-06a6-49cf-80d7-f4780e22c178",
   "metadata": {},
   "outputs": [
    {
     "name": "stdout",
     "output_type": "stream",
     "text": [
      "warning: dataframe empty. no message in dataframe.\n"
     ]
    },
    {
     "data": {
      "text/html": [
       "<div>\n",
       "<style scoped>\n",
       "    .dataframe tbody tr th:only-of-type {\n",
       "        vertical-align: middle;\n",
       "    }\n",
       "\n",
       "    .dataframe tbody tr th {\n",
       "        vertical-align: top;\n",
       "    }\n",
       "\n",
       "    .dataframe thead th {\n",
       "        text-align: right;\n",
       "    }\n",
       "</style>\n",
       "<table border=\"1\" class=\"dataframe\">\n",
       "  <thead>\n",
       "    <tr style=\"text-align: right;\">\n",
       "      <th></th>\n",
       "      <th>Time</th>\n",
       "      <th>Message</th>\n",
       "    </tr>\n",
       "    <tr>\n",
       "      <th>Clock</th>\n",
       "      <th></th>\n",
       "      <th></th>\n",
       "    </tr>\n",
       "  </thead>\n",
       "  <tbody>\n",
       "  </tbody>\n",
       "</table>\n",
       "</div>"
      ],
      "text/plain": [
       "Empty DataFrame\n",
       "Columns: [Time, Message]\n",
       "Index: []"
      ]
     },
     "execution_count": 27,
     "metadata": {},
     "output_type": "execute_result"
    }
   ],
   "source": [
    "r.speed()"
   ]
  },
  {
   "cell_type": "code",
   "execution_count": 8,
   "id": "cc895782-9794-4bbd-9796-99c224a4baa3",
   "metadata": {},
   "outputs": [],
   "source": [
    "total_num_samples = r.size\n",
    "num_train_samples = total_num_samples*9//10\n",
    "\n",
    "features = ['Time', 'Bus', 'MessageID', 'Message', 'MessageLength']\n",
    "labels = ['Time', 'Latitude', 'Longitude']\n",
    "x_train_df = r[features][:]\n",
    "y_train_df = r[labels][:]\n",
    "x_test_df = r[features][:]\n",
    "y_test_df = r[labels][:]"
   ]
  },
  {
   "cell_type": "code",
   "execution_count": 9,
   "id": "724450a5-8142-4283-8159-48446c0f0f0a",
   "metadata": {},
   "outputs": [],
   "source": [
    "x_train = x_train_df.to_numpy()\n",
    "y_train = y_train_df.to_numpy()\n",
    "x_test = x_test_df.to_numpy()\n",
    "y_test = y_test_df.to_numpy()"
   ]
  },
  {
   "cell_type": "code",
   "execution_count": 10,
   "id": "b17669f7-b5ad-447d-9ecb-fffbbdfc7be7",
   "metadata": {},
   "outputs": [
    {
     "name": "stdout",
     "output_type": "stream",
     "text": [
      "(100, 5)\n",
      "(100, 3)\n",
      "(100, 5)\n",
      "(100, 3)\n"
     ]
    }
   ],
   "source": [
    "print(x_train.shape)\n",
    "print(y_train.shape)\n",
    "print(x_test.shape)\n",
    "print(y_test.shape)"
   ]
  },
  {
   "cell_type": "code",
   "execution_count": 21,
   "id": "3a6112e7-cf94-4d36-becd-50f9496fd009",
   "metadata": {},
   "outputs": [
    {
     "name": "stdout",
     "output_type": "stream",
     "text": [
      "-110.824048\n"
     ]
    }
   ],
   "source": []
  },
  {
   "cell_type": "code",
   "execution_count": null,
   "id": "9b2a850a-329a-4db0-a17b-5f71411f78b6",
   "metadata": {},
   "outputs": [],
   "source": []
  }
 ],
 "metadata": {
  "kernelspec": {
   "display_name": "Python 3",
   "language": "python",
   "name": "python3"
  },
  "language_info": {
   "codemirror_mode": {
    "name": "ipython",
    "version": 3
   },
   "file_extension": ".py",
   "mimetype": "text/x-python",
   "name": "python",
   "nbconvert_exporter": "python",
   "pygments_lexer": "ipython3",
   "version": "3.7.5"
  }
 },
 "nbformat": 4,
 "nbformat_minor": 5
}
