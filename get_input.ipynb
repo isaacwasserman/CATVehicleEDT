{
 "cells": [
  {
   "cell_type": "code",
   "execution_count": 9,
   "id": "047e9a98-8c02-4524-981c-b1dbd2b371cc",
   "metadata": {},
   "outputs": [],
   "source": [
    "import tensorflow as tf\n",
    "import os\n",
    "import pandas as pd\n",
    "import strym\n",
    "from strym import strymread\n",
    "import matplotlib.pyplot as plt\n",
    "from pylab import rcParams\n",
    "import strym.DBC_Read_Tools as dbc\n",
    "import numpy as np\n",
    "from strym import strymmap\n",
    "import keras\n",
    "from keras import layers, Model"
   ]
  },
  {
   "cell_type": "code",
   "execution_count": 2,
   "id": "801c41c3-35e2-4287-b0b5-73d086b9e548",
   "metadata": {},
   "outputs": [],
   "source": [
    "data_path = 'dataset_v2.csv'\n",
    "dbcfile = './data/toyota_rav4_2020.dbc'"
   ]
  },
  {
   "cell_type": "code",
   "execution_count": 15,
   "id": "70d52ab2-80e6-434b-a4bb-2b853ac0dd3b",
   "metadata": {},
   "outputs": [
    {
     "name": "stdout",
     "output_type": "stream",
     "text": [
      "[2021_06_25_16_39_48] (cantools.database.can.database) WARNING: Overwriting message 'GAS_PEDAL' with 'GAS_PEDAL' in the name to message dictionary.\n"
     ]
    }
   ],
   "source": [
    "data_csv = pd.read_csv(data_path)\n",
    "r =strymread(csvfile=data_path, dbcfile=dbcfile)\n",
    "debug_num_samples = 100\n",
    "r = r.dataframe[:debug_num_samples]"
   ]
  },
  {
   "cell_type": "code",
   "execution_count": 16,
   "id": "cc895782-9794-4bbd-9796-99c224a4baa3",
   "metadata": {},
   "outputs": [],
   "source": [
    "total_num_samples = r.size\n",
    "num_train_samples = total_num_samples*9//10\n",
    "\n",
    "# index = [0, 1, 2, 3, 4, 5... num_train_samples - 1]\n",
    "features = ['Time', 'Bus', 'MessageID', 'Message', 'MessageLength']\n",
    "labels = ['Time', 'Latitude', 'Longitude']\n",
    "x_train_df = r[features][:]\n",
    "y_train_df = r[labels][:]\n",
    "x_test_df = r[features][:]\n",
    "y_test_df = r[labels][:]"
   ]
  },
  {
   "cell_type": "code",
   "execution_count": 7,
   "id": "724450a5-8142-4283-8159-48446c0f0f0a",
   "metadata": {},
   "outputs": [],
   "source": [
    "x_train_numpy = x_train_df.to_numpy()\n",
    "y_train_numpy = y_train_df.to_numpy()\n",
    "x_test_numpy = x_test_df.to_numpy()\n",
    "y_test_numpy = y_test_df.to_numpy()"
   ]
  },
  {
   "cell_type": "code",
   "execution_count": 8,
   "id": "b17669f7-b5ad-447d-9ecb-fffbbdfc7be7",
   "metadata": {},
   "outputs": [
    {
     "name": "stdout",
     "output_type": "stream",
     "text": [
      "(57199193, 5)\n",
      "(57199193, 2)\n",
      "(6355466, 5)\n",
      "(6355466, 2)\n"
     ]
    }
   ],
   "source": [
    "print(x_train_numpy.shape)\n",
    "print(y_train_numpy.shape)\n",
    "print(x_test_numpy.shape)\n",
    "print(y_test_numpy.shape)\n"
   ]
  },
  {
   "cell_type": "code",
   "execution_count": 17,
   "id": "efebe205-306f-4494-ac69-306d02f194a6",
   "metadata": {},
   "outputs": [
    {
     "data": {
      "text/plain": [
       "1606867249.9032"
      ]
     },
     "execution_count": 17,
     "metadata": {},
     "output_type": "execute_result"
    }
   ],
   "source": [
    "x_train_df['Time'][0]#.describe()"
   ]
  },
  {
   "cell_type": "code",
   "execution_count": null,
   "id": "f235c7c1-7ae9-4057-8263-969c21f7fc0c",
   "metadata": {},
   "outputs": [],
   "source": []
  }
 ],
 "metadata": {
  "kernelspec": {
   "display_name": "Python 3",
   "language": "python",
   "name": "python3"
  },
  "language_info": {
   "codemirror_mode": {
    "name": "ipython",
    "version": 3
   },
   "file_extension": ".py",
   "mimetype": "text/x-python",
   "name": "python",
   "nbconvert_exporter": "python",
   "pygments_lexer": "ipython3",
   "version": "3.7.5"
  }
 },
 "nbformat": 4,
 "nbformat_minor": 5
}
