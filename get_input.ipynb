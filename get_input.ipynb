{
 "cells": [
  {
   "cell_type": "code",
   "execution_count": 3,
   "id": "047e9a98-8c02-4524-981c-b1dbd2b371cc",
   "metadata": {},
   "outputs": [],
   "source": [
    "# import tensorflow as tf\n",
    "import os\n",
    "import pandas as pd\n",
    "import strym\n",
    "from strym import strymread\n",
    "import matplotlib.pyplot as plt\n",
    "from pylab import rcParams\n",
    "import strym.DBC_Read_Tools as dbc\n",
    "import numpy as np\n",
    "from strym import strymmap\n",
    "# import keras\n",
    "# from keras import layers, Model"
   ]
  },
  {
   "cell_type": "code",
   "execution_count": 14,
   "id": "801c41c3-35e2-4287-b0b5-73d086b9e548",
   "metadata": {},
   "outputs": [],
   "source": [
    "data_path = 'data/2020-12-02-00-00-49_5FNYF6H05HB089022_CAN_Messages.csv'"
   ]
  },
  {
   "cell_type": "code",
   "execution_count": 15,
   "id": "70d52ab2-80e6-434b-a4bb-2b853ac0dd3b",
   "metadata": {},
   "outputs": [
    {
     "name": "stdout",
     "output_type": "stream",
     "text": [
      "[2021_06_28_16_05_03] (root) INFO: Vehicle model infered is honda-pilot-2017\n"
     ]
    },
    {
     "data": {
      "text/html": [
       "<div>\n",
       "<style scoped>\n",
       "    .dataframe tbody tr th:only-of-type {\n",
       "        vertical-align: middle;\n",
       "    }\n",
       "\n",
       "    .dataframe tbody tr th {\n",
       "        vertical-align: top;\n",
       "    }\n",
       "\n",
       "    .dataframe thead th {\n",
       "        text-align: right;\n",
       "    }\n",
       "</style>\n",
       "<table border=\"1\" class=\"dataframe\">\n",
       "  <thead>\n",
       "    <tr style=\"text-align: right;\">\n",
       "      <th></th>\n",
       "      <th>Time</th>\n",
       "      <th>Message</th>\n",
       "    </tr>\n",
       "    <tr>\n",
       "      <th>Clock</th>\n",
       "      <th></th>\n",
       "      <th></th>\n",
       "    </tr>\n",
       "  </thead>\n",
       "  <tbody>\n",
       "    <tr>\n",
       "      <th>2020-12-02 00:00:49.909518080</th>\n",
       "      <td>1.606867e+09</td>\n",
       "      <td>62.12</td>\n",
       "    </tr>\n",
       "    <tr>\n",
       "      <th>2020-12-02 00:00:49.919707904</th>\n",
       "      <td>1.606867e+09</td>\n",
       "      <td>62.12</td>\n",
       "    </tr>\n",
       "    <tr>\n",
       "      <th>2020-12-02 00:00:49.929243136</th>\n",
       "      <td>1.606867e+09</td>\n",
       "      <td>62.12</td>\n",
       "    </tr>\n",
       "    <tr>\n",
       "      <th>2020-12-02 00:00:49.939488000</th>\n",
       "      <td>1.606867e+09</td>\n",
       "      <td>62.12</td>\n",
       "    </tr>\n",
       "    <tr>\n",
       "      <th>2020-12-02 00:00:49.949666048</th>\n",
       "      <td>1.606867e+09</td>\n",
       "      <td>62.06</td>\n",
       "    </tr>\n",
       "    <tr>\n",
       "      <th>...</th>\n",
       "      <td>...</td>\n",
       "      <td>...</td>\n",
       "    </tr>\n",
       "    <tr>\n",
       "      <th>2020-12-02 00:30:39.351697920</th>\n",
       "      <td>1.606869e+09</td>\n",
       "      <td>61.93</td>\n",
       "    </tr>\n",
       "    <tr>\n",
       "      <th>2020-12-02 00:30:39.361560064</th>\n",
       "      <td>1.606869e+09</td>\n",
       "      <td>61.93</td>\n",
       "    </tr>\n",
       "    <tr>\n",
       "      <th>2020-12-02 00:30:39.371644928</th>\n",
       "      <td>1.606869e+09</td>\n",
       "      <td>61.87</td>\n",
       "    </tr>\n",
       "    <tr>\n",
       "      <th>2020-12-02 00:30:39.381573888</th>\n",
       "      <td>1.606869e+09</td>\n",
       "      <td>61.87</td>\n",
       "    </tr>\n",
       "    <tr>\n",
       "      <th>2020-12-02 00:30:39.391308032</th>\n",
       "      <td>1.606869e+09</td>\n",
       "      <td>61.87</td>\n",
       "    </tr>\n",
       "  </tbody>\n",
       "</table>\n",
       "<p>187675 rows × 2 columns</p>\n",
       "</div>"
      ],
      "text/plain": [
       "                                       Time  Message\n",
       "Clock                                               \n",
       "2020-12-02 00:00:49.909518080  1.606867e+09    62.12\n",
       "2020-12-02 00:00:49.919707904  1.606867e+09    62.12\n",
       "2020-12-02 00:00:49.929243136  1.606867e+09    62.12\n",
       "2020-12-02 00:00:49.939488000  1.606867e+09    62.12\n",
       "2020-12-02 00:00:49.949666048  1.606867e+09    62.06\n",
       "...                                     ...      ...\n",
       "2020-12-02 00:30:39.351697920  1.606869e+09    61.93\n",
       "2020-12-02 00:30:39.361560064  1.606869e+09    61.93\n",
       "2020-12-02 00:30:39.371644928  1.606869e+09    61.87\n",
       "2020-12-02 00:30:39.381573888  1.606869e+09    61.87\n",
       "2020-12-02 00:30:39.391308032  1.606869e+09    61.87\n",
       "\n",
       "[187675 rows x 2 columns]"
      ]
     },
     "execution_count": 15,
     "metadata": {},
     "output_type": "execute_result"
    }
   ],
   "source": [
    "r =strymread(csvfile=data_path)\n",
    "r.speed()\n",
    "# debug_num_samples = 100\n",
    "# r = r.dataframe[:debug_num_samples]"
   ]
  },
  {
   "cell_type": "code",
   "execution_count": 11,
   "id": "3cab3304-6720-4ad7-b393-8ce9b23e8bf7",
   "metadata": {},
   "outputs": [
    {
     "data": {
      "text/html": [
       "<div>\n",
       "<style scoped>\n",
       "    .dataframe tbody tr th:only-of-type {\n",
       "        vertical-align: middle;\n",
       "    }\n",
       "\n",
       "    .dataframe tbody tr th {\n",
       "        vertical-align: top;\n",
       "    }\n",
       "\n",
       "    .dataframe thead th {\n",
       "        text-align: right;\n",
       "    }\n",
       "</style>\n",
       "<table border=\"1\" class=\"dataframe\">\n",
       "  <thead>\n",
       "    <tr style=\"text-align: right;\">\n",
       "      <th></th>\n",
       "      <th>Time</th>\n",
       "      <th>Bus</th>\n",
       "      <th>MessageID</th>\n",
       "      <th>MessageLength</th>\n",
       "    </tr>\n",
       "  </thead>\n",
       "  <tbody>\n",
       "    <tr>\n",
       "      <th>count</th>\n",
       "      <td>9.079239e+06</td>\n",
       "      <td>9.079239e+06</td>\n",
       "      <td>9.079239e+06</td>\n",
       "      <td>9.079239e+06</td>\n",
       "    </tr>\n",
       "    <tr>\n",
       "      <th>mean</th>\n",
       "      <td>1.606868e+09</td>\n",
       "      <td>1.000000e+00</td>\n",
       "      <td>5.267080e+02</td>\n",
       "      <td>6.842991e+00</td>\n",
       "    </tr>\n",
       "    <tr>\n",
       "      <th>std</th>\n",
       "      <td>5.165838e+02</td>\n",
       "      <td>9.263328e-01</td>\n",
       "      <td>2.962094e+02</td>\n",
       "      <td>1.823507e+00</td>\n",
       "    </tr>\n",
       "    <tr>\n",
       "      <th>min</th>\n",
       "      <td>1.606867e+09</td>\n",
       "      <td>0.000000e+00</td>\n",
       "      <td>5.700000e+01</td>\n",
       "      <td>1.000000e+00</td>\n",
       "    </tr>\n",
       "    <tr>\n",
       "      <th>25%</th>\n",
       "      <td>1.606868e+09</td>\n",
       "      <td>0.000000e+00</td>\n",
       "      <td>3.420000e+02</td>\n",
       "      <td>6.000000e+00</td>\n",
       "    </tr>\n",
       "    <tr>\n",
       "      <th>50%</th>\n",
       "      <td>1.606868e+09</td>\n",
       "      <td>1.000000e+00</td>\n",
       "      <td>4.220000e+02</td>\n",
       "      <td>8.000000e+00</td>\n",
       "    </tr>\n",
       "    <tr>\n",
       "      <th>75%</th>\n",
       "      <td>1.606869e+09</td>\n",
       "      <td>2.000000e+00</td>\n",
       "      <td>6.600000e+02</td>\n",
       "      <td>8.000000e+00</td>\n",
       "    </tr>\n",
       "    <tr>\n",
       "      <th>max</th>\n",
       "      <td>1.606869e+09</td>\n",
       "      <td>2.000000e+00</td>\n",
       "      <td>1.668000e+03</td>\n",
       "      <td>8.000000e+00</td>\n",
       "    </tr>\n",
       "  </tbody>\n",
       "</table>\n",
       "</div>"
      ],
      "text/plain": [
       "               Time           Bus     MessageID  MessageLength\n",
       "count  9.079239e+06  9.079239e+06  9.079239e+06   9.079239e+06\n",
       "mean   1.606868e+09  1.000000e+00  5.267080e+02   6.842991e+00\n",
       "std    5.165838e+02  9.263328e-01  2.962094e+02   1.823507e+00\n",
       "min    1.606867e+09  0.000000e+00  5.700000e+01   1.000000e+00\n",
       "25%    1.606868e+09  0.000000e+00  3.420000e+02   6.000000e+00\n",
       "50%    1.606868e+09  1.000000e+00  4.220000e+02   8.000000e+00\n",
       "75%    1.606869e+09  2.000000e+00  6.600000e+02   8.000000e+00\n",
       "max    1.606869e+09  2.000000e+00  1.668000e+03   8.000000e+00"
      ]
     },
     "execution_count": 11,
     "metadata": {},
     "output_type": "execute_result"
    }
   ],
   "source": [
    "r.dataframe.describe()"
   ]
  },
  {
   "cell_type": "code",
   "execution_count": 8,
   "id": "cc895782-9794-4bbd-9796-99c224a4baa3",
   "metadata": {},
   "outputs": [],
   "source": [
    "total_num_samples = r.size\n",
    "num_train_samples = total_num_samples*9//10\n",
    "\n",
    "features = ['Time', 'Bus', 'MessageID', 'Message', 'MessageLength']\n",
    "labels = ['Time', 'Latitude', 'Longitude']\n",
    "x_train_df = r[features][:]\n",
    "y_train_df = r[labels][:]\n",
    "x_test_df = r[features][:]\n",
    "y_test_df = r[labels][:]"
   ]
  },
  {
   "cell_type": "code",
   "execution_count": 9,
   "id": "724450a5-8142-4283-8159-48446c0f0f0a",
   "metadata": {},
   "outputs": [],
   "source": [
    "x_train = x_train_df.to_numpy()\n",
    "y_train = y_train_df.to_numpy()\n",
    "x_test = x_test_df.to_numpy()\n",
    "y_test = y_test_df.to_numpy()"
   ]
  },
  {
   "cell_type": "code",
   "execution_count": 10,
   "id": "b17669f7-b5ad-447d-9ecb-fffbbdfc7be7",
   "metadata": {},
   "outputs": [
    {
     "name": "stdout",
     "output_type": "stream",
     "text": [
      "(100, 5)\n",
      "(100, 3)\n",
      "(100, 5)\n",
      "(100, 3)\n"
     ]
    }
   ],
   "source": [
    "print(x_train.shape)\n",
    "print(y_train.shape)\n",
    "print(x_test.shape)\n",
    "print(y_test.shape)"
   ]
  },
  {
   "cell_type": "code",
   "execution_count": 21,
   "id": "3a6112e7-cf94-4d36-becd-50f9496fd009",
   "metadata": {},
   "outputs": [
    {
     "name": "stdout",
     "output_type": "stream",
     "text": [
      "-110.824048\n"
     ]
    }
   ],
   "source": []
  },
  {
   "cell_type": "code",
   "execution_count": null,
   "id": "9b2a850a-329a-4db0-a17b-5f71411f78b6",
   "metadata": {},
   "outputs": [],
   "source": []
  }
 ],
 "metadata": {
  "kernelspec": {
   "display_name": "Python 3",
   "language": "python",
   "name": "python3"
  },
  "language_info": {
   "codemirror_mode": {
    "name": "ipython",
    "version": 3
   },
   "file_extension": ".py",
   "mimetype": "text/x-python",
   "name": "python",
   "nbconvert_exporter": "python",
   "pygments_lexer": "ipython3",
   "version": "3.8.8"
  }
 },
 "nbformat": 4,
 "nbformat_minor": 5
}
