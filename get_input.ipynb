{
 "cells": [
  {
   "cell_type": "code",
   "execution_count": 17,
   "id": "047e9a98-8c02-4524-981c-b1dbd2b371cc",
   "metadata": {},
   "outputs": [],
   "source": [
    "import tensorflow as tf\n",
    "import os\n",
    "import pandas as pd\n",
    "import strym\n",
    "from strym import strymread\n",
    "import matplotlib.pyplot as plt\n",
    "from pylab import rcParams\n",
    "import strym.DBC_Read_Tools as dbc\n",
    "import numpy as np\n",
    "from strym import strymmap\n",
    "import keras\n",
    "from keras import layers, Model"
   ]
  },
  {
   "cell_type": "code",
   "execution_count": 4,
   "id": "801c41c3-35e2-4287-b0b5-73d086b9e548",
   "metadata": {},
   "outputs": [],
   "source": [
    "data_path = '../2020-12-02-00-00-49_5FNYF6H05HB089022_CAN_Messages.csv'\n",
    "dbcfile = '../data/honda_pilot_2017.dbc'"
   ]
  },
  {
   "cell_type": "code",
   "execution_count": 5,
   "id": "70d52ab2-80e6-434b-a4bb-2b853ac0dd3b",
   "metadata": {},
   "outputs": [
    {
     "name": "stdout",
     "output_type": "stream",
     "text": [
      "[2021_06_29_09_10_33] (root) INFO: Vehicle model infered is honda-pilot-2017\n"
     ]
    }
   ],
   "source": [
    "r =strymread(csvfile=data_path)"
   ]
  },
  {
   "cell_type": "code",
   "execution_count": 6,
   "id": "17515d1d-cad6-4f02-ab3b-2d5a55f14301",
   "metadata": {},
   "outputs": [
    {
     "data": {
      "text/html": [
       "<div>\n",
       "<style scoped>\n",
       "    .dataframe tbody tr th:only-of-type {\n",
       "        vertical-align: middle;\n",
       "    }\n",
       "\n",
       "    .dataframe tbody tr th {\n",
       "        vertical-align: top;\n",
       "    }\n",
       "\n",
       "    .dataframe thead th {\n",
       "        text-align: right;\n",
       "    }\n",
       "</style>\n",
       "<table border=\"1\" class=\"dataframe\">\n",
       "  <thead>\n",
       "    <tr style=\"text-align: right;\">\n",
       "      <th></th>\n",
       "      <th>Time</th>\n",
       "      <th>Message</th>\n",
       "    </tr>\n",
       "  </thead>\n",
       "  <tbody>\n",
       "    <tr>\n",
       "      <th>count</th>\n",
       "      <td>1.876750e+05</td>\n",
       "      <td>187675.000000</td>\n",
       "    </tr>\n",
       "    <tr>\n",
       "      <th>mean</th>\n",
       "      <td>1.606868e+09</td>\n",
       "      <td>27.581803</td>\n",
       "    </tr>\n",
       "    <tr>\n",
       "      <th>std</th>\n",
       "      <td>5.162042e+02</td>\n",
       "      <td>31.687866</td>\n",
       "    </tr>\n",
       "    <tr>\n",
       "      <th>min</th>\n",
       "      <td>1.606867e+09</td>\n",
       "      <td>0.000000</td>\n",
       "    </tr>\n",
       "    <tr>\n",
       "      <th>25%</th>\n",
       "      <td>1.606868e+09</td>\n",
       "      <td>0.000000</td>\n",
       "    </tr>\n",
       "    <tr>\n",
       "      <th>50%</th>\n",
       "      <td>1.606868e+09</td>\n",
       "      <td>5.810000</td>\n",
       "    </tr>\n",
       "    <tr>\n",
       "      <th>75%</th>\n",
       "      <td>1.606869e+09</td>\n",
       "      <td>64.370000</td>\n",
       "    </tr>\n",
       "    <tr>\n",
       "      <th>max</th>\n",
       "      <td>1.606869e+09</td>\n",
       "      <td>82.810000</td>\n",
       "    </tr>\n",
       "  </tbody>\n",
       "</table>\n",
       "</div>"
      ],
      "text/plain": [
       "               Time        Message\n",
       "count  1.876750e+05  187675.000000\n",
       "mean   1.606868e+09      27.581803\n",
       "std    5.162042e+02      31.687866\n",
       "min    1.606867e+09       0.000000\n",
       "25%    1.606868e+09       0.000000\n",
       "50%    1.606868e+09       5.810000\n",
       "75%    1.606869e+09      64.370000\n",
       "max    1.606869e+09      82.810000"
      ]
     },
     "execution_count": 6,
     "metadata": {},
     "output_type": "execute_result"
    }
   ],
   "source": [
    "r.speed().describe()"
   ]
  },
  {
   "cell_type": "code",
   "execution_count": 7,
   "id": "dd707491-dfa9-42a1-800d-104e78fcd03a",
   "metadata": {},
   "outputs": [
    {
     "data": {
      "text/plain": [
       "array([[<AxesSubplot:title={'center':'Time'}>,\n",
       "        <AxesSubplot:title={'center':'Message'}>]], dtype=object)"
      ]
     },
     "execution_count": 7,
     "metadata": {},
     "output_type": "execute_result"
    },
    {
     "data": {
      "image/png": "[encoded data removed]",
      "text/plain": [
       "<Figure size 1152x576 with 2 Axes>"
      ]
     },
     "metadata": {},
     "output_type": "display_data"
    }
   ],
   "source": [
    "r.speed().hist()"
   ]
  },
  {
   "cell_type": "code",
   "execution_count": 14,
   "id": "cc895782-9794-4bbd-9796-99c224a4baa3",
   "metadata": {},
   "outputs": [],
   "source": [
    "debug_num_samples = 100\n",
    "r_dataframe = r.dataframe[:debug_num_samples]\n",
    "\n",
    "# index = [0, 1, 2, 3, 4, 5... num_train_samples - 1]\n",
    "features = ['Time', 'Bus', 'MessageID', 'Message', 'MessageLength']\n",
    "labels = ['Time', 'Latitude', 'Longitude']\n",
    "can_data_df = r_dataframe[features][:]\n",
    "labels_df = r_dataframe[labels][:]"
   ]
  },
  {
   "cell_type": "code",
   "execution_count": 15,
   "id": "724450a5-8142-4283-8159-48446c0f0f0a",
   "metadata": {},
   "outputs": [],
   "source": [
    "can_data = can_data_df.to_numpy()\n",
    "labels = labels_df.to_numpy()"
   ]
  },
  {
   "cell_type": "code",
   "execution_count": 105,
   "id": "e6baefd2-b904-4518-99df-3075b52deab2",
   "metadata": {},
   "outputs": [],
   "source": [
    "signalLength = 5\n",
    "curLabel = 0\n",
    "stackedData, stackedLabels = np.array([]), np.array([])\n",
    "curData = np.chararray((debug_num_samples-signalLength, signalLength, len(features)))\n",
    "curLabels = np.chararray((debug_num_samples-signalLength, signalLength, len(labels)))\n",
    "#split signal into subsampled sequences\n",
    "for i in range(debug_num_samples-signalLength):\n",
    "    curData[i, :] = can_data_df[i:i+signalLength]\n",
    "    #stack the data\n",
    "    stackedData = np.concatenate((stackedData, curData), axis=0) if stackedData.size > 0 else curData  \n",
    "    stackedLabels = np.concatenate((stackedLabels, curLabels), axis=0) if stackedLabels.size > 0 else curLabels\n",
    "    \n",
    "    curLabel+=1"
   ]
  },
  {
   "cell_type": "code",
   "execution_count": null,
   "id": "903d6fb5-5bbd-4d51-a5d6-ec2d94a886b8",
   "metadata": {},
   "outputs": [],
   "source": []
  },
  {
   "cell_type": "code",
   "execution_count": null,
   "id": "46ba23f2-ae50-4a40-b373-3a181207a587",
   "metadata": {},
   "outputs": [],
   "source": []
  }
 ],
 "metadata": {
  "kernelspec": {
   "display_name": "Python 3",
   "language": "python",
   "name": "python3"
  },
  "language_info": {
   "codemirror_mode": {
    "name": "ipython",
    "version": 3
   },
   "file_extension": ".py",
   "mimetype": "text/x-python",
   "name": "python",
   "nbconvert_exporter": "python",
   "pygments_lexer": "ipython3",
   "version": "3.7.5"
  }
 },
 "nbformat": 4,
 "nbformat_minor": 5
}
